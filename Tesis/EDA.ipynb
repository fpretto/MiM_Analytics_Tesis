{
 "cells": [
  {
   "cell_type": "markdown",
   "metadata": {},
   "source": [
    "## Imports"
   ]
  },
  {
   "cell_type": "code",
   "execution_count": 36,
   "metadata": {},
   "outputs": [],
   "source": [
    "import pandas as pd\n",
    "import numpy as np\n",
    "#import psycopg2\n",
    "from sqlalchemy import create_engine\n",
    "import matplotlib.pyplot as plt\n",
    "import seaborn as sns\n",
    "import plotly.express as px\n",
    "\n",
    "pd.set_option('display.max_columns', 500)\n",
    "pd.set_option('display.max_rows', 500)\n",
    "\n",
    "#path='C:/Repo/MiM_Analytics_Tesis/Tesis/'\n",
    "path='C:/Users/E0662122/Repo/MiM_Analytics_Tesis/Tesis/'"
   ]
  },
  {
   "cell_type": "markdown",
   "metadata": {},
   "source": [
    "## PostgreSQL Connection"
   ]
  },
  {
   "cell_type": "code",
   "execution_count": 14,
   "metadata": {},
   "outputs": [],
   "source": [
    "postgreSQL = {\"host\": \"localhost\", \"port\": \"5432\", \"username\": \"postgres\", \n",
    "               \"password\": \"trivisono\", \"database\": \"SportsAnalytics\"}\n",
    "\n",
    "uri = 'postgresql+psycopg2://'+postgreSQL['username']+':'+postgreSQL['password']+'@'+postgreSQL['host']+':'+ postgreSQL['port']+'/'+postgreSQL['database']\n",
    "\n",
    "engine = create_engine(uri)\n",
    "conn = engine.raw_connection()\n",
    "cursor = conn.cursor()"
   ]
  },
  {
   "cell_type": "code",
   "execution_count": 15,
   "metadata": {},
   "outputs": [],
   "source": [
    "df = pd.read_sql_query(\"SELECT * FROM fdm.tesis_abt;\", conn)"
   ]
  },
  {
   "cell_type": "code",
   "execution_count": 16,
   "metadata": {},
   "outputs": [
    {
     "data": {
      "text/plain": [
       "(7244, 118)"
      ]
     },
     "execution_count": 16,
     "metadata": {},
     "output_type": "execute_result"
    }
   ],
   "source": [
    "df.shape"
   ]
  },
  {
   "cell_type": "code",
   "execution_count": 18,
   "metadata": {},
   "outputs": [],
   "source": [
    "df.to_csv(path+'tesis_data.csv', encoding='latin-1', decimal='.', sep='|', index=False)"
   ]
  },
  {
   "cell_type": "markdown",
   "metadata": {},
   "source": [
    "## Functions"
   ]
  },
  {
   "cell_type": "code",
   "execution_count": 216,
   "metadata": {},
   "outputs": [],
   "source": [
    "def plot_winrate_barplot(df, var_x, label_x):\n",
    "    df_plot = df[[var_x, 'target', 'fixture_id']].groupby([var_x, 'target']).count().unstack().fillna(0)\n",
    "    df_plot['Total'] = df_plot[('fixture_id', 'Home')]+df_plot[('fixture_id', 'Away')]+df_plot[('fixture_id','Draw')]\n",
    "    df_plot = df_plot.div(df_plot.iloc[:,-1], axis=0) * 100\n",
    "    df_plot.columns = ['Away', 'Draw', 'Home', 'Total']\n",
    "\n",
    "    fig = px.bar(df_plot.reset_index(), x=var_x, y=['Away', 'Draw', 'Home'], title=f\"Win Rate (%) by {label_x}\", \n",
    "                labels={var_x: label_x, \"value\": \"Win Rate (%)\", \"variable\": \"Match Result\"})\n",
    "\n",
    "    fig.show()"
   ]
  },
  {
   "cell_type": "markdown",
   "metadata": {},
   "source": [
    "## EDA"
   ]
  },
  {
   "cell_type": "code",
   "execution_count": 2,
   "metadata": {},
   "outputs": [],
   "source": [
    "df = pd.read_csv(path+'tesis_data.csv', encoding='latin-1', decimal='.', sep='|')"
   ]
  },
  {
   "cell_type": "code",
   "execution_count": 7,
   "metadata": {},
   "outputs": [
    {
     "data": {
      "text/html": [
       "<div>\n",
       "<style scoped>\n",
       "    .dataframe tbody tr th:only-of-type {\n",
       "        vertical-align: middle;\n",
       "    }\n",
       "\n",
       "    .dataframe tbody tr th {\n",
       "        vertical-align: top;\n",
       "    }\n",
       "\n",
       "    .dataframe thead th {\n",
       "        text-align: right;\n",
       "    }\n",
       "</style>\n",
       "<table border=\"1\" class=\"dataframe\">\n",
       "  <thead>\n",
       "    <tr style=\"text-align: right;\">\n",
       "      <th></th>\n",
       "      <th>league_id</th>\n",
       "      <th>league_season</th>\n",
       "      <th>league_round_number</th>\n",
       "      <th>league_progress</th>\n",
       "      <th>total_rounds</th>\n",
       "      <th>total_teams</th>\n",
       "      <th>fixture_id</th>\n",
       "      <th>venue_id</th>\n",
       "      <th>teams_home_id</th>\n",
       "      <th>teams_away_id</th>\n",
       "      <th>rank_last</th>\n",
       "      <th>rank_points_last</th>\n",
       "      <th>rank_points_leader</th>\n",
       "      <th>rank_points_top5</th>\n",
       "      <th>home_rank</th>\n",
       "      <th>home_rank_points</th>\n",
       "      <th>home_rank_goals_diff</th>\n",
       "      <th>away_rank</th>\n",
       "      <th>away_rank_points</th>\n",
       "      <th>away_rank_goals_diff</th>\n",
       "      <th>home_points_won_l5</th>\n",
       "      <th>away_form</th>\n",
       "      <th>away_points_won_l5</th>\n",
       "      <th>away_ha_points_won_l5</th>\n",
       "      <th>home_gk_rating_l5</th>\n",
       "      <th>home_df_rating_l5</th>\n",
       "      <th>home_mf_rating_l5</th>\n",
       "      <th>home_fw_rating_l5</th>\n",
       "      <th>home_team_rating_l5</th>\n",
       "      <th>away_gk_rating_l5</th>\n",
       "      <th>away_df_rating_l5</th>\n",
       "      <th>away_mf_rating_l5</th>\n",
       "      <th>away_fw_rating_l5</th>\n",
       "      <th>away_team_rating_l5</th>\n",
       "      <th>home_matches_cnt</th>\n",
       "      <th>away_matches_cnt</th>\n",
       "      <th>home_shots_on_goal_l5</th>\n",
       "      <th>home_shots_off_goal_l5</th>\n",
       "      <th>home_total_shots_l5</th>\n",
       "      <th>home_blocked_shots_l5</th>\n",
       "      <th>home_shots_insidebox_l5</th>\n",
       "      <th>home_shots_outsidebox_l5</th>\n",
       "      <th>home_fouls_l5</th>\n",
       "      <th>home_corner_kicks_l5</th>\n",
       "      <th>home_offsides_l5</th>\n",
       "      <th>home_ball_possesion_l5</th>\n",
       "      <th>home_yellow_cards_l5</th>\n",
       "      <th>home_red_cards_l5</th>\n",
       "      <th>home_gk_saves_l5</th>\n",
       "      <th>home_total_passes_l5</th>\n",
       "      <th>home_passes_acc_l5</th>\n",
       "      <th>home_passes_pct_l5</th>\n",
       "      <th>home_fouls_opp_l5</th>\n",
       "      <th>home_yellow_cards_opp_l5</th>\n",
       "      <th>home_red_cards_opp_l5</th>\n",
       "      <th>home_total_shots_opp_l5</th>\n",
       "      <th>home_shots_on_goal_opp_l5</th>\n",
       "      <th>home_shots_off_goal_opp_l5</th>\n",
       "      <th>home_shots_outsidebox_opp_l5</th>\n",
       "      <th>home_blocked_shots_opp_l5</th>\n",
       "      <th>home_corner_kicks_opp_l5</th>\n",
       "      <th>away_shots_on_goal_l5</th>\n",
       "      <th>away_shots_off_goal_l5</th>\n",
       "      <th>away_total_shots_l5</th>\n",
       "      <th>away_blocked_shots_l5</th>\n",
       "      <th>away_shots_insidebox_l5</th>\n",
       "      <th>away_shots_outsidebox_l5</th>\n",
       "      <th>away_fouls_l5</th>\n",
       "      <th>away_corner_kicks_l5</th>\n",
       "      <th>away_offsides_l5</th>\n",
       "      <th>away_ball_possesion_l5</th>\n",
       "      <th>away_yellow_cards_l5</th>\n",
       "      <th>away_red_cards_l5</th>\n",
       "      <th>away_gk_saves_l5</th>\n",
       "      <th>away_total_passes_l5</th>\n",
       "      <th>away_passes_acc_l5</th>\n",
       "      <th>away_passes_pct_l5</th>\n",
       "      <th>away_fouls_opp_l5</th>\n",
       "      <th>away_yellow_cards_opp_l5</th>\n",
       "      <th>away_red_cards_opp_l5</th>\n",
       "      <th>away_total_shots_opp_l5</th>\n",
       "      <th>away_shots_on_goal_opp_l5</th>\n",
       "      <th>away_shots_off_goal_opp_l5</th>\n",
       "      <th>away_shots_outsidebox_opp_l5</th>\n",
       "      <th>away_blocked_shots_opp_l5</th>\n",
       "      <th>away_corner_kicks_opp_l5</th>\n",
       "      <th>home_max_scorer</th>\n",
       "      <th>away_max_scorer</th>\n",
       "      <th>home_max_assister</th>\n",
       "      <th>away_max_assister</th>\n",
       "      <th>home_max_saver</th>\n",
       "      <th>away_max_saver</th>\n",
       "      <th>home_motivation_cup</th>\n",
       "      <th>home_motivation_leader</th>\n",
       "      <th>home_motivation_stay</th>\n",
       "      <th>away_motivation_cup</th>\n",
       "      <th>away_motivation_leader</th>\n",
       "      <th>away_motivation_stay</th>\n",
       "    </tr>\n",
       "  </thead>\n",
       "  <tbody>\n",
       "    <tr>\n",
       "      <th>count</th>\n",
       "      <td>7244.000000</td>\n",
       "      <td>7244.000000</td>\n",
       "      <td>7244.000000</td>\n",
       "      <td>7244.000000</td>\n",
       "      <td>7244.000000</td>\n",
       "      <td>7244.000000</td>\n",
       "      <td>7244.000000</td>\n",
       "      <td>7244.000000</td>\n",
       "      <td>7244.000000</td>\n",
       "      <td>7244.000000</td>\n",
       "      <td>7244.000000</td>\n",
       "      <td>7244.000000</td>\n",
       "      <td>7244.000000</td>\n",
       "      <td>6594.000000</td>\n",
       "      <td>7244.000000</td>\n",
       "      <td>7244.000000</td>\n",
       "      <td>7244.000000</td>\n",
       "      <td>7244.000000</td>\n",
       "      <td>7244.000000</td>\n",
       "      <td>7244.000000</td>\n",
       "      <td>7244.000000</td>\n",
       "      <td>7244.000000</td>\n",
       "      <td>7244.000000</td>\n",
       "      <td>7244.000000</td>\n",
       "      <td>6266.000000</td>\n",
       "      <td>6597.000000</td>\n",
       "      <td>6596.000000</td>\n",
       "      <td>6365.000000</td>\n",
       "      <td>6612.000000</td>\n",
       "      <td>6202.000000</td>\n",
       "      <td>6594.000000</td>\n",
       "      <td>6599.000000</td>\n",
       "      <td>6346.000000</td>\n",
       "      <td>6617.000000</td>\n",
       "      <td>7072.000000</td>\n",
       "      <td>7072.000000</td>\n",
       "      <td>7072.000000</td>\n",
       "      <td>7072.000000</td>\n",
       "      <td>7072.000000</td>\n",
       "      <td>7072.000000</td>\n",
       "      <td>7072.000000</td>\n",
       "      <td>7072.000000</td>\n",
       "      <td>7072.000000</td>\n",
       "      <td>7072.000000</td>\n",
       "      <td>7072.000000</td>\n",
       "      <td>7072.000000</td>\n",
       "      <td>7072.000000</td>\n",
       "      <td>7072.000000</td>\n",
       "      <td>7072.000000</td>\n",
       "      <td>7072.000000</td>\n",
       "      <td>7072.000000</td>\n",
       "      <td>7072.000000</td>\n",
       "      <td>7072.000000</td>\n",
       "      <td>7072.000000</td>\n",
       "      <td>7072.000000</td>\n",
       "      <td>7072.000000</td>\n",
       "      <td>7072.000000</td>\n",
       "      <td>7072.000000</td>\n",
       "      <td>7072.000000</td>\n",
       "      <td>7072.000000</td>\n",
       "      <td>7072.000000</td>\n",
       "      <td>7072.000000</td>\n",
       "      <td>7072.000000</td>\n",
       "      <td>7072.000000</td>\n",
       "      <td>7072.000000</td>\n",
       "      <td>7072.000000</td>\n",
       "      <td>7072.000000</td>\n",
       "      <td>7072.000000</td>\n",
       "      <td>7072.000000</td>\n",
       "      <td>7072.000000</td>\n",
       "      <td>7072.000000</td>\n",
       "      <td>7072.000000</td>\n",
       "      <td>7072.000000</td>\n",
       "      <td>7072.000000</td>\n",
       "      <td>7072.000000</td>\n",
       "      <td>7072.000000</td>\n",
       "      <td>7072.000000</td>\n",
       "      <td>7072.000000</td>\n",
       "      <td>7072.000000</td>\n",
       "      <td>7072.000000</td>\n",
       "      <td>7072.000000</td>\n",
       "      <td>7072.000000</td>\n",
       "      <td>7072.00000</td>\n",
       "      <td>7072.000000</td>\n",
       "      <td>7072.000000</td>\n",
       "      <td>7072.000000</td>\n",
       "      <td>7244.000000</td>\n",
       "      <td>7244.000000</td>\n",
       "      <td>7244.000000</td>\n",
       "      <td>7244.000000</td>\n",
       "      <td>7244.000000</td>\n",
       "      <td>7244.000000</td>\n",
       "      <td>7244.000000</td>\n",
       "      <td>7244.000000</td>\n",
       "      <td>7244.000000</td>\n",
       "      <td>7244.000000</td>\n",
       "      <td>7244.000000</td>\n",
       "      <td>7244.000000</td>\n",
       "    </tr>\n",
       "    <tr>\n",
       "      <th>mean</th>\n",
       "      <td>188.700856</td>\n",
       "      <td>2018.098288</td>\n",
       "      <td>15.877554</td>\n",
       "      <td>0.501580</td>\n",
       "      <td>31.610436</td>\n",
       "      <td>20.773330</td>\n",
       "      <td>152187.877278</td>\n",
       "      <td>435.573578</td>\n",
       "      <td>1226.955411</td>\n",
       "      <td>1226.936637</td>\n",
       "      <td>12.774296</td>\n",
       "      <td>12.268774</td>\n",
       "      <td>36.975014</td>\n",
       "      <td>28.136791</td>\n",
       "      <td>6.903782</td>\n",
       "      <td>23.811568</td>\n",
       "      <td>0.431806</td>\n",
       "      <td>6.858918</td>\n",
       "      <td>23.914826</td>\n",
       "      <td>0.566538</td>\n",
       "      <td>0.429341</td>\n",
       "      <td>0.325041</td>\n",
       "      <td>0.446606</td>\n",
       "      <td>0.325041</td>\n",
       "      <td>6.761253</td>\n",
       "      <td>6.661656</td>\n",
       "      <td>6.696349</td>\n",
       "      <td>6.729622</td>\n",
       "      <td>6.693762</td>\n",
       "      <td>6.770112</td>\n",
       "      <td>6.657471</td>\n",
       "      <td>6.676535</td>\n",
       "      <td>6.735381</td>\n",
       "      <td>6.685461</td>\n",
       "      <td>4.845305</td>\n",
       "      <td>4.842902</td>\n",
       "      <td>3.666572</td>\n",
       "      <td>5.089791</td>\n",
       "      <td>11.820136</td>\n",
       "      <td>2.296097</td>\n",
       "      <td>6.062783</td>\n",
       "      <td>5.223840</td>\n",
       "      <td>14.041714</td>\n",
       "      <td>4.368213</td>\n",
       "      <td>1.374717</td>\n",
       "      <td>0.486895</td>\n",
       "      <td>1.951499</td>\n",
       "      <td>0.003111</td>\n",
       "      <td>2.558541</td>\n",
       "      <td>373.895786</td>\n",
       "      <td>294.367223</td>\n",
       "      <td>0.746267</td>\n",
       "      <td>14.043552</td>\n",
       "      <td>2.075085</td>\n",
       "      <td>0.003252</td>\n",
       "      <td>12.088942</td>\n",
       "      <td>3.765554</td>\n",
       "      <td>5.205175</td>\n",
       "      <td>6.233032</td>\n",
       "      <td>2.344457</td>\n",
       "      <td>4.488264</td>\n",
       "      <td>3.752828</td>\n",
       "      <td>5.212387</td>\n",
       "      <td>12.089508</td>\n",
       "      <td>2.347285</td>\n",
       "      <td>6.246465</td>\n",
       "      <td>5.287613</td>\n",
       "      <td>14.048360</td>\n",
       "      <td>4.487415</td>\n",
       "      <td>1.387302</td>\n",
       "      <td>0.490278</td>\n",
       "      <td>1.914310</td>\n",
       "      <td>0.002262</td>\n",
       "      <td>2.469033</td>\n",
       "      <td>377.048925</td>\n",
       "      <td>297.666572</td>\n",
       "      <td>0.747952</td>\n",
       "      <td>14.033654</td>\n",
       "      <td>2.102517</td>\n",
       "      <td>0.003111</td>\n",
       "      <td>11.773473</td>\n",
       "      <td>3.642251</td>\n",
       "      <td>5.06957</td>\n",
       "      <td>6.039027</td>\n",
       "      <td>2.295249</td>\n",
       "      <td>4.362557</td>\n",
       "      <td>5.156681</td>\n",
       "      <td>5.248896</td>\n",
       "      <td>3.477637</td>\n",
       "      <td>3.509249</td>\n",
       "      <td>10.293898</td>\n",
       "      <td>10.341110</td>\n",
       "      <td>0.093733</td>\n",
       "      <td>0.037410</td>\n",
       "      <td>0.207620</td>\n",
       "      <td>0.094285</td>\n",
       "      <td>0.038239</td>\n",
       "      <td>0.202512</td>\n",
       "    </tr>\n",
       "    <tr>\n",
       "      <th>std</th>\n",
       "      <td>79.365493</td>\n",
       "      <td>1.319572</td>\n",
       "      <td>9.948954</td>\n",
       "      <td>0.282504</td>\n",
       "      <td>7.256039</td>\n",
       "      <td>3.671703</td>\n",
       "      <td>173741.465737</td>\n",
       "      <td>1367.155995</td>\n",
       "      <td>1084.667818</td>\n",
       "      <td>1084.694886</td>\n",
       "      <td>4.315463</td>\n",
       "      <td>11.301008</td>\n",
       "      <td>21.358994</td>\n",
       "      <td>16.424072</td>\n",
       "      <td>4.298633</td>\n",
       "      <td>17.285766</td>\n",
       "      <td>9.641691</td>\n",
       "      <td>4.335123</td>\n",
       "      <td>17.195767</td>\n",
       "      <td>9.620200</td>\n",
       "      <td>0.252473</td>\n",
       "      <td>0.280692</td>\n",
       "      <td>0.256707</td>\n",
       "      <td>0.280692</td>\n",
       "      <td>0.797509</td>\n",
       "      <td>0.586469</td>\n",
       "      <td>0.535882</td>\n",
       "      <td>0.690357</td>\n",
       "      <td>0.475063</td>\n",
       "      <td>0.771911</td>\n",
       "      <td>0.633841</td>\n",
       "      <td>0.575425</td>\n",
       "      <td>0.729823</td>\n",
       "      <td>0.498289</td>\n",
       "      <td>0.735273</td>\n",
       "      <td>0.744419</td>\n",
       "      <td>1.264809</td>\n",
       "      <td>1.476157</td>\n",
       "      <td>2.836945</td>\n",
       "      <td>1.070686</td>\n",
       "      <td>2.039565</td>\n",
       "      <td>1.770556</td>\n",
       "      <td>3.224690</td>\n",
       "      <td>1.436989</td>\n",
       "      <td>0.866495</td>\n",
       "      <td>0.085940</td>\n",
       "      <td>0.953773</td>\n",
       "      <td>0.055692</td>\n",
       "      <td>1.026434</td>\n",
       "      <td>89.938902</td>\n",
       "      <td>82.841353</td>\n",
       "      <td>0.139854</td>\n",
       "      <td>3.227362</td>\n",
       "      <td>0.852354</td>\n",
       "      <td>0.056940</td>\n",
       "      <td>2.928533</td>\n",
       "      <td>1.260077</td>\n",
       "      <td>1.533452</td>\n",
       "      <td>2.065124</td>\n",
       "      <td>1.086872</td>\n",
       "      <td>1.469870</td>\n",
       "      <td>1.289731</td>\n",
       "      <td>1.504765</td>\n",
       "      <td>2.900761</td>\n",
       "      <td>1.090779</td>\n",
       "      <td>2.081748</td>\n",
       "      <td>1.808581</td>\n",
       "      <td>3.252958</td>\n",
       "      <td>1.473323</td>\n",
       "      <td>0.871635</td>\n",
       "      <td>0.088362</td>\n",
       "      <td>0.955677</td>\n",
       "      <td>0.047515</td>\n",
       "      <td>1.010286</td>\n",
       "      <td>91.525821</td>\n",
       "      <td>84.254747</td>\n",
       "      <td>0.142010</td>\n",
       "      <td>3.243522</td>\n",
       "      <td>0.859421</td>\n",
       "      <td>0.055692</td>\n",
       "      <td>2.885431</td>\n",
       "      <td>1.231562</td>\n",
       "      <td>1.50940</td>\n",
       "      <td>2.029176</td>\n",
       "      <td>1.077240</td>\n",
       "      <td>1.445195</td>\n",
       "      <td>3.375550</td>\n",
       "      <td>3.475486</td>\n",
       "      <td>2.141462</td>\n",
       "      <td>2.180340</td>\n",
       "      <td>9.114527</td>\n",
       "      <td>9.282503</td>\n",
       "      <td>0.291477</td>\n",
       "      <td>0.189778</td>\n",
       "      <td>0.405631</td>\n",
       "      <td>0.292245</td>\n",
       "      <td>0.191785</td>\n",
       "      <td>0.401900</td>\n",
       "    </tr>\n",
       "    <tr>\n",
       "      <th>min</th>\n",
       "      <td>71.000000</td>\n",
       "      <td>2016.000000</td>\n",
       "      <td>1.000000</td>\n",
       "      <td>0.023810</td>\n",
       "      <td>12.000000</td>\n",
       "      <td>16.000000</td>\n",
       "      <td>7988.000000</td>\n",
       "      <td>-1.000000</td>\n",
       "      <td>118.000000</td>\n",
       "      <td>118.000000</td>\n",
       "      <td>0.000000</td>\n",
       "      <td>0.000000</td>\n",
       "      <td>0.000000</td>\n",
       "      <td>0.000000</td>\n",
       "      <td>0.000000</td>\n",
       "      <td>0.000000</td>\n",
       "      <td>-48.000000</td>\n",
       "      <td>0.000000</td>\n",
       "      <td>0.000000</td>\n",
       "      <td>-47.000000</td>\n",
       "      <td>-1.000000</td>\n",
       "      <td>-1.000000</td>\n",
       "      <td>-1.000000</td>\n",
       "      <td>-1.000000</td>\n",
       "      <td>1.140000</td>\n",
       "      <td>1.246667</td>\n",
       "      <td>-1.000000</td>\n",
       "      <td>-1.000000</td>\n",
       "      <td>-1.000000</td>\n",
       "      <td>1.040000</td>\n",
       "      <td>-1.000000</td>\n",
       "      <td>-1.000000</td>\n",
       "      <td>-1.000000</td>\n",
       "      <td>1.509697</td>\n",
       "      <td>0.000000</td>\n",
       "      <td>0.000000</td>\n",
       "      <td>0.000000</td>\n",
       "      <td>0.000000</td>\n",
       "      <td>0.000000</td>\n",
       "      <td>0.000000</td>\n",
       "      <td>0.000000</td>\n",
       "      <td>0.000000</td>\n",
       "      <td>0.000000</td>\n",
       "      <td>0.000000</td>\n",
       "      <td>0.000000</td>\n",
       "      <td>0.000000</td>\n",
       "      <td>0.000000</td>\n",
       "      <td>0.000000</td>\n",
       "      <td>0.000000</td>\n",
       "      <td>0.000000</td>\n",
       "      <td>0.000000</td>\n",
       "      <td>0.000000</td>\n",
       "      <td>0.000000</td>\n",
       "      <td>0.000000</td>\n",
       "      <td>0.000000</td>\n",
       "      <td>0.000000</td>\n",
       "      <td>0.000000</td>\n",
       "      <td>0.000000</td>\n",
       "      <td>0.000000</td>\n",
       "      <td>0.000000</td>\n",
       "      <td>0.000000</td>\n",
       "      <td>0.000000</td>\n",
       "      <td>0.000000</td>\n",
       "      <td>0.000000</td>\n",
       "      <td>0.000000</td>\n",
       "      <td>0.000000</td>\n",
       "      <td>0.000000</td>\n",
       "      <td>0.000000</td>\n",
       "      <td>0.000000</td>\n",
       "      <td>0.000000</td>\n",
       "      <td>0.000000</td>\n",
       "      <td>0.000000</td>\n",
       "      <td>0.000000</td>\n",
       "      <td>0.000000</td>\n",
       "      <td>0.000000</td>\n",
       "      <td>0.000000</td>\n",
       "      <td>0.000000</td>\n",
       "      <td>0.000000</td>\n",
       "      <td>0.000000</td>\n",
       "      <td>0.000000</td>\n",
       "      <td>0.000000</td>\n",
       "      <td>0.000000</td>\n",
       "      <td>0.00000</td>\n",
       "      <td>0.000000</td>\n",
       "      <td>0.000000</td>\n",
       "      <td>0.000000</td>\n",
       "      <td>0.000000</td>\n",
       "      <td>0.000000</td>\n",
       "      <td>0.000000</td>\n",
       "      <td>0.000000</td>\n",
       "      <td>0.000000</td>\n",
       "      <td>0.000000</td>\n",
       "      <td>0.000000</td>\n",
       "      <td>0.000000</td>\n",
       "      <td>0.000000</td>\n",
       "      <td>0.000000</td>\n",
       "      <td>0.000000</td>\n",
       "      <td>0.000000</td>\n",
       "    </tr>\n",
       "    <tr>\n",
       "      <th>25%</th>\n",
       "      <td>128.000000</td>\n",
       "      <td>2017.000000</td>\n",
       "      <td>8.000000</td>\n",
       "      <td>0.260467</td>\n",
       "      <td>25.000000</td>\n",
       "      <td>18.000000</td>\n",
       "      <td>41318.750000</td>\n",
       "      <td>-1.000000</td>\n",
       "      <td>440.000000</td>\n",
       "      <td>440.000000</td>\n",
       "      <td>11.000000</td>\n",
       "      <td>3.000000</td>\n",
       "      <td>19.000000</td>\n",
       "      <td>14.000000</td>\n",
       "      <td>3.000000</td>\n",
       "      <td>10.000000</td>\n",
       "      <td>-5.000000</td>\n",
       "      <td>3.000000</td>\n",
       "      <td>10.000000</td>\n",
       "      <td>-5.000000</td>\n",
       "      <td>0.266667</td>\n",
       "      <td>0.200000</td>\n",
       "      <td>0.333333</td>\n",
       "      <td>0.200000</td>\n",
       "      <td>6.640000</td>\n",
       "      <td>6.600000</td>\n",
       "      <td>6.631500</td>\n",
       "      <td>6.650000</td>\n",
       "      <td>6.636364</td>\n",
       "      <td>6.640000</td>\n",
       "      <td>6.600000</td>\n",
       "      <td>6.612917</td>\n",
       "      <td>6.650000</td>\n",
       "      <td>6.628333</td>\n",
       "      <td>5.000000</td>\n",
       "      <td>5.000000</td>\n",
       "      <td>3.000000</td>\n",
       "      <td>4.000000</td>\n",
       "      <td>10.000000</td>\n",
       "      <td>2.000000</td>\n",
       "      <td>5.000000</td>\n",
       "      <td>4.000000</td>\n",
       "      <td>12.000000</td>\n",
       "      <td>3.000000</td>\n",
       "      <td>1.000000</td>\n",
       "      <td>0.450000</td>\n",
       "      <td>1.000000</td>\n",
       "      <td>0.000000</td>\n",
       "      <td>2.000000</td>\n",
       "      <td>336.000000</td>\n",
       "      <td>252.000000</td>\n",
       "      <td>0.734000</td>\n",
       "      <td>12.000000</td>\n",
       "      <td>2.000000</td>\n",
       "      <td>0.000000</td>\n",
       "      <td>10.000000</td>\n",
       "      <td>3.000000</td>\n",
       "      <td>4.000000</td>\n",
       "      <td>5.000000</td>\n",
       "      <td>2.000000</td>\n",
       "      <td>4.000000</td>\n",
       "      <td>3.000000</td>\n",
       "      <td>4.000000</td>\n",
       "      <td>10.000000</td>\n",
       "      <td>2.000000</td>\n",
       "      <td>5.000000</td>\n",
       "      <td>4.000000</td>\n",
       "      <td>12.000000</td>\n",
       "      <td>4.000000</td>\n",
       "      <td>1.000000</td>\n",
       "      <td>0.454000</td>\n",
       "      <td>1.000000</td>\n",
       "      <td>0.000000</td>\n",
       "      <td>2.000000</td>\n",
       "      <td>339.000000</td>\n",
       "      <td>254.000000</td>\n",
       "      <td>0.736000</td>\n",
       "      <td>12.000000</td>\n",
       "      <td>2.000000</td>\n",
       "      <td>0.000000</td>\n",
       "      <td>10.000000</td>\n",
       "      <td>3.000000</td>\n",
       "      <td>4.00000</td>\n",
       "      <td>5.000000</td>\n",
       "      <td>2.000000</td>\n",
       "      <td>3.000000</td>\n",
       "      <td>3.000000</td>\n",
       "      <td>3.000000</td>\n",
       "      <td>2.000000</td>\n",
       "      <td>2.000000</td>\n",
       "      <td>3.000000</td>\n",
       "      <td>4.000000</td>\n",
       "      <td>0.000000</td>\n",
       "      <td>0.000000</td>\n",
       "      <td>0.000000</td>\n",
       "      <td>0.000000</td>\n",
       "      <td>0.000000</td>\n",
       "      <td>0.000000</td>\n",
       "    </tr>\n",
       "    <tr>\n",
       "      <th>50%</th>\n",
       "      <td>239.000000</td>\n",
       "      <td>2018.000000</td>\n",
       "      <td>15.000000</td>\n",
       "      <td>0.500000</td>\n",
       "      <td>30.000000</td>\n",
       "      <td>20.000000</td>\n",
       "      <td>88960.500000</td>\n",
       "      <td>-1.000000</td>\n",
       "      <td>1131.000000</td>\n",
       "      <td>1131.000000</td>\n",
       "      <td>14.000000</td>\n",
       "      <td>10.000000</td>\n",
       "      <td>36.000000</td>\n",
       "      <td>27.000000</td>\n",
       "      <td>6.000000</td>\n",
       "      <td>21.000000</td>\n",
       "      <td>0.000000</td>\n",
       "      <td>6.000000</td>\n",
       "      <td>21.000000</td>\n",
       "      <td>0.000000</td>\n",
       "      <td>0.466667</td>\n",
       "      <td>0.333333</td>\n",
       "      <td>0.466667</td>\n",
       "      <td>0.333333</td>\n",
       "      <td>6.877500</td>\n",
       "      <td>6.815000</td>\n",
       "      <td>6.813333</td>\n",
       "      <td>6.840000</td>\n",
       "      <td>6.800000</td>\n",
       "      <td>6.880000</td>\n",
       "      <td>6.820000</td>\n",
       "      <td>6.812500</td>\n",
       "      <td>6.860000</td>\n",
       "      <td>6.801818</td>\n",
       "      <td>5.000000</td>\n",
       "      <td>5.000000</td>\n",
       "      <td>4.000000</td>\n",
       "      <td>5.000000</td>\n",
       "      <td>12.000000</td>\n",
       "      <td>2.000000</td>\n",
       "      <td>6.000000</td>\n",
       "      <td>5.000000</td>\n",
       "      <td>14.000000</td>\n",
       "      <td>4.000000</td>\n",
       "      <td>1.000000</td>\n",
       "      <td>0.494000</td>\n",
       "      <td>2.000000</td>\n",
       "      <td>0.000000</td>\n",
       "      <td>3.000000</td>\n",
       "      <td>378.000000</td>\n",
       "      <td>297.000000</td>\n",
       "      <td>0.776667</td>\n",
       "      <td>14.000000</td>\n",
       "      <td>2.000000</td>\n",
       "      <td>0.000000</td>\n",
       "      <td>12.000000</td>\n",
       "      <td>4.000000</td>\n",
       "      <td>5.000000</td>\n",
       "      <td>6.000000</td>\n",
       "      <td>2.000000</td>\n",
       "      <td>4.000000</td>\n",
       "      <td>4.000000</td>\n",
       "      <td>5.000000</td>\n",
       "      <td>12.000000</td>\n",
       "      <td>2.000000</td>\n",
       "      <td>6.000000</td>\n",
       "      <td>5.000000</td>\n",
       "      <td>14.000000</td>\n",
       "      <td>4.000000</td>\n",
       "      <td>1.000000</td>\n",
       "      <td>0.498000</td>\n",
       "      <td>2.000000</td>\n",
       "      <td>0.000000</td>\n",
       "      <td>2.000000</td>\n",
       "      <td>382.000000</td>\n",
       "      <td>299.000000</td>\n",
       "      <td>0.780000</td>\n",
       "      <td>14.000000</td>\n",
       "      <td>2.000000</td>\n",
       "      <td>0.000000</td>\n",
       "      <td>12.000000</td>\n",
       "      <td>4.000000</td>\n",
       "      <td>5.00000</td>\n",
       "      <td>6.000000</td>\n",
       "      <td>2.000000</td>\n",
       "      <td>4.000000</td>\n",
       "      <td>5.000000</td>\n",
       "      <td>5.000000</td>\n",
       "      <td>3.000000</td>\n",
       "      <td>3.000000</td>\n",
       "      <td>8.000000</td>\n",
       "      <td>8.000000</td>\n",
       "      <td>0.000000</td>\n",
       "      <td>0.000000</td>\n",
       "      <td>0.000000</td>\n",
       "      <td>0.000000</td>\n",
       "      <td>0.000000</td>\n",
       "      <td>0.000000</td>\n",
       "    </tr>\n",
       "    <tr>\n",
       "      <th>75%</th>\n",
       "      <td>262.000000</td>\n",
       "      <td>2019.000000</td>\n",
       "      <td>23.000000</td>\n",
       "      <td>0.739130</td>\n",
       "      <td>38.000000</td>\n",
       "      <td>20.000000</td>\n",
       "      <td>169188.250000</td>\n",
       "      <td>366.000000</td>\n",
       "      <td>2286.000000</td>\n",
       "      <td>2286.000000</td>\n",
       "      <td>15.000000</td>\n",
       "      <td>19.000000</td>\n",
       "      <td>53.000000</td>\n",
       "      <td>41.000000</td>\n",
       "      <td>10.000000</td>\n",
       "      <td>35.000000</td>\n",
       "      <td>5.000000</td>\n",
       "      <td>10.000000</td>\n",
       "      <td>35.000000</td>\n",
       "      <td>5.000000</td>\n",
       "      <td>0.600000</td>\n",
       "      <td>0.466667</td>\n",
       "      <td>0.600000</td>\n",
       "      <td>0.466667</td>\n",
       "      <td>7.100000</td>\n",
       "      <td>6.956000</td>\n",
       "      <td>6.948000</td>\n",
       "      <td>7.046667</td>\n",
       "      <td>6.920000</td>\n",
       "      <td>7.100000</td>\n",
       "      <td>6.966563</td>\n",
       "      <td>6.950000</td>\n",
       "      <td>7.060000</td>\n",
       "      <td>6.925000</td>\n",
       "      <td>5.000000</td>\n",
       "      <td>5.000000</td>\n",
       "      <td>4.000000</td>\n",
       "      <td>6.000000</td>\n",
       "      <td>14.000000</td>\n",
       "      <td>3.000000</td>\n",
       "      <td>7.000000</td>\n",
       "      <td>6.000000</td>\n",
       "      <td>16.000000</td>\n",
       "      <td>5.000000</td>\n",
       "      <td>2.000000</td>\n",
       "      <td>0.536000</td>\n",
       "      <td>3.000000</td>\n",
       "      <td>0.000000</td>\n",
       "      <td>3.000000</td>\n",
       "      <td>424.000000</td>\n",
       "      <td>343.000000</td>\n",
       "      <td>0.810000</td>\n",
       "      <td>16.000000</td>\n",
       "      <td>3.000000</td>\n",
       "      <td>0.000000</td>\n",
       "      <td>14.000000</td>\n",
       "      <td>5.000000</td>\n",
       "      <td>6.000000</td>\n",
       "      <td>7.000000</td>\n",
       "      <td>3.000000</td>\n",
       "      <td>5.000000</td>\n",
       "      <td>4.000000</td>\n",
       "      <td>6.000000</td>\n",
       "      <td>14.000000</td>\n",
       "      <td>3.000000</td>\n",
       "      <td>8.000000</td>\n",
       "      <td>6.000000</td>\n",
       "      <td>16.000000</td>\n",
       "      <td>5.000000</td>\n",
       "      <td>2.000000</td>\n",
       "      <td>0.540000</td>\n",
       "      <td>3.000000</td>\n",
       "      <td>0.000000</td>\n",
       "      <td>3.000000</td>\n",
       "      <td>428.000000</td>\n",
       "      <td>348.000000</td>\n",
       "      <td>0.812000</td>\n",
       "      <td>16.000000</td>\n",
       "      <td>3.000000</td>\n",
       "      <td>0.000000</td>\n",
       "      <td>14.000000</td>\n",
       "      <td>4.000000</td>\n",
       "      <td>6.00000</td>\n",
       "      <td>7.000000</td>\n",
       "      <td>3.000000</td>\n",
       "      <td>5.000000</td>\n",
       "      <td>7.000000</td>\n",
       "      <td>8.000000</td>\n",
       "      <td>5.000000</td>\n",
       "      <td>5.000000</td>\n",
       "      <td>14.000000</td>\n",
       "      <td>14.000000</td>\n",
       "      <td>0.000000</td>\n",
       "      <td>0.000000</td>\n",
       "      <td>0.000000</td>\n",
       "      <td>0.000000</td>\n",
       "      <td>0.000000</td>\n",
       "      <td>0.000000</td>\n",
       "    </tr>\n",
       "    <tr>\n",
       "      <th>max</th>\n",
       "      <td>281.000000</td>\n",
       "      <td>2020.000000</td>\n",
       "      <td>42.000000</td>\n",
       "      <td>1.000000</td>\n",
       "      <td>42.000000</td>\n",
       "      <td>30.000000</td>\n",
       "      <td>705634.000000</td>\n",
       "      <td>11531.000000</td>\n",
       "      <td>14002.000000</td>\n",
       "      <td>14002.000000</td>\n",
       "      <td>24.000000</td>\n",
       "      <td>88.000000</td>\n",
       "      <td>93.000000</td>\n",
       "      <td>74.000000</td>\n",
       "      <td>23.000000</td>\n",
       "      <td>93.000000</td>\n",
       "      <td>48.000000</td>\n",
       "      <td>24.000000</td>\n",
       "      <td>93.000000</td>\n",
       "      <td>53.000000</td>\n",
       "      <td>1.000000</td>\n",
       "      <td>1.000000</td>\n",
       "      <td>1.000000</td>\n",
       "      <td>1.000000</td>\n",
       "      <td>9.100000</td>\n",
       "      <td>7.725000</td>\n",
       "      <td>9.900000</td>\n",
       "      <td>8.700000</td>\n",
       "      <td>8.000000</td>\n",
       "      <td>9.800000</td>\n",
       "      <td>8.000000</td>\n",
       "      <td>8.100000</td>\n",
       "      <td>9.200000</td>\n",
       "      <td>7.700000</td>\n",
       "      <td>5.000000</td>\n",
       "      <td>5.000000</td>\n",
       "      <td>9.000000</td>\n",
       "      <td>11.000000</td>\n",
       "      <td>23.000000</td>\n",
       "      <td>8.000000</td>\n",
       "      <td>13.000000</td>\n",
       "      <td>12.000000</td>\n",
       "      <td>29.000000</td>\n",
       "      <td>10.000000</td>\n",
       "      <td>7.000000</td>\n",
       "      <td>0.708000</td>\n",
       "      <td>6.000000</td>\n",
       "      <td>1.000000</td>\n",
       "      <td>8.000000</td>\n",
       "      <td>750.000000</td>\n",
       "      <td>676.000000</td>\n",
       "      <td>0.902000</td>\n",
       "      <td>35.000000</td>\n",
       "      <td>6.000000</td>\n",
       "      <td>1.000000</td>\n",
       "      <td>28.000000</td>\n",
       "      <td>10.000000</td>\n",
       "      <td>12.000000</td>\n",
       "      <td>17.000000</td>\n",
       "      <td>11.000000</td>\n",
       "      <td>14.000000</td>\n",
       "      <td>13.000000</td>\n",
       "      <td>12.000000</td>\n",
       "      <td>28.000000</td>\n",
       "      <td>11.000000</td>\n",
       "      <td>17.000000</td>\n",
       "      <td>15.000000</td>\n",
       "      <td>35.000000</td>\n",
       "      <td>14.000000</td>\n",
       "      <td>7.000000</td>\n",
       "      <td>0.736000</td>\n",
       "      <td>6.000000</td>\n",
       "      <td>1.000000</td>\n",
       "      <td>8.000000</td>\n",
       "      <td>768.000000</td>\n",
       "      <td>696.000000</td>\n",
       "      <td>0.908000</td>\n",
       "      <td>28.000000</td>\n",
       "      <td>6.000000</td>\n",
       "      <td>1.000000</td>\n",
       "      <td>22.000000</td>\n",
       "      <td>10.000000</td>\n",
       "      <td>11.00000</td>\n",
       "      <td>15.000000</td>\n",
       "      <td>8.000000</td>\n",
       "      <td>11.000000</td>\n",
       "      <td>18.000000</td>\n",
       "      <td>17.000000</td>\n",
       "      <td>12.000000</td>\n",
       "      <td>12.000000</td>\n",
       "      <td>57.000000</td>\n",
       "      <td>57.000000</td>\n",
       "      <td>1.000000</td>\n",
       "      <td>1.000000</td>\n",
       "      <td>1.000000</td>\n",
       "      <td>1.000000</td>\n",
       "      <td>1.000000</td>\n",
       "      <td>1.000000</td>\n",
       "    </tr>\n",
       "  </tbody>\n",
       "</table>\n",
       "</div>"
      ],
      "text/plain": [
       "         league_id  league_season  league_round_number  league_progress  \\\n",
       "count  7244.000000    7244.000000          7244.000000      7244.000000   \n",
       "mean    188.700856    2018.098288            15.877554         0.501580   \n",
       "std      79.365493       1.319572             9.948954         0.282504   \n",
       "min      71.000000    2016.000000             1.000000         0.023810   \n",
       "25%     128.000000    2017.000000             8.000000         0.260467   \n",
       "50%     239.000000    2018.000000            15.000000         0.500000   \n",
       "75%     262.000000    2019.000000            23.000000         0.739130   \n",
       "max     281.000000    2020.000000            42.000000         1.000000   \n",
       "\n",
       "       total_rounds  total_teams     fixture_id      venue_id  teams_home_id  \\\n",
       "count   7244.000000  7244.000000    7244.000000   7244.000000    7244.000000   \n",
       "mean      31.610436    20.773330  152187.877278    435.573578    1226.955411   \n",
       "std        7.256039     3.671703  173741.465737   1367.155995    1084.667818   \n",
       "min       12.000000    16.000000    7988.000000     -1.000000     118.000000   \n",
       "25%       25.000000    18.000000   41318.750000     -1.000000     440.000000   \n",
       "50%       30.000000    20.000000   88960.500000     -1.000000    1131.000000   \n",
       "75%       38.000000    20.000000  169188.250000    366.000000    2286.000000   \n",
       "max       42.000000    30.000000  705634.000000  11531.000000   14002.000000   \n",
       "\n",
       "       teams_away_id    rank_last  rank_points_last  rank_points_leader  \\\n",
       "count    7244.000000  7244.000000       7244.000000         7244.000000   \n",
       "mean     1226.936637    12.774296         12.268774           36.975014   \n",
       "std      1084.694886     4.315463         11.301008           21.358994   \n",
       "min       118.000000     0.000000          0.000000            0.000000   \n",
       "25%       440.000000    11.000000          3.000000           19.000000   \n",
       "50%      1131.000000    14.000000         10.000000           36.000000   \n",
       "75%      2286.000000    15.000000         19.000000           53.000000   \n",
       "max     14002.000000    24.000000         88.000000           93.000000   \n",
       "\n",
       "       rank_points_top5    home_rank  home_rank_points  home_rank_goals_diff  \\\n",
       "count       6594.000000  7244.000000       7244.000000           7244.000000   \n",
       "mean          28.136791     6.903782         23.811568              0.431806   \n",
       "std           16.424072     4.298633         17.285766              9.641691   \n",
       "min            0.000000     0.000000          0.000000            -48.000000   \n",
       "25%           14.000000     3.000000         10.000000             -5.000000   \n",
       "50%           27.000000     6.000000         21.000000              0.000000   \n",
       "75%           41.000000    10.000000         35.000000              5.000000   \n",
       "max           74.000000    23.000000         93.000000             48.000000   \n",
       "\n",
       "         away_rank  away_rank_points  away_rank_goals_diff  \\\n",
       "count  7244.000000       7244.000000           7244.000000   \n",
       "mean      6.858918         23.914826              0.566538   \n",
       "std       4.335123         17.195767              9.620200   \n",
       "min       0.000000          0.000000            -47.000000   \n",
       "25%       3.000000         10.000000             -5.000000   \n",
       "50%       6.000000         21.000000              0.000000   \n",
       "75%      10.000000         35.000000              5.000000   \n",
       "max      24.000000         93.000000             53.000000   \n",
       "\n",
       "       home_points_won_l5    away_form  away_points_won_l5  \\\n",
       "count         7244.000000  7244.000000         7244.000000   \n",
       "mean             0.429341     0.325041            0.446606   \n",
       "std              0.252473     0.280692            0.256707   \n",
       "min             -1.000000    -1.000000           -1.000000   \n",
       "25%              0.266667     0.200000            0.333333   \n",
       "50%              0.466667     0.333333            0.466667   \n",
       "75%              0.600000     0.466667            0.600000   \n",
       "max              1.000000     1.000000            1.000000   \n",
       "\n",
       "       away_ha_points_won_l5  home_gk_rating_l5  home_df_rating_l5  \\\n",
       "count            7244.000000        6266.000000        6597.000000   \n",
       "mean                0.325041           6.761253           6.661656   \n",
       "std                 0.280692           0.797509           0.586469   \n",
       "min                -1.000000           1.140000           1.246667   \n",
       "25%                 0.200000           6.640000           6.600000   \n",
       "50%                 0.333333           6.877500           6.815000   \n",
       "75%                 0.466667           7.100000           6.956000   \n",
       "max                 1.000000           9.100000           7.725000   \n",
       "\n",
       "       home_mf_rating_l5  home_fw_rating_l5  home_team_rating_l5  \\\n",
       "count        6596.000000        6365.000000          6612.000000   \n",
       "mean            6.696349           6.729622             6.693762   \n",
       "std             0.535882           0.690357             0.475063   \n",
       "min            -1.000000          -1.000000            -1.000000   \n",
       "25%             6.631500           6.650000             6.636364   \n",
       "50%             6.813333           6.840000             6.800000   \n",
       "75%             6.948000           7.046667             6.920000   \n",
       "max             9.900000           8.700000             8.000000   \n",
       "\n",
       "       away_gk_rating_l5  away_df_rating_l5  away_mf_rating_l5  \\\n",
       "count        6202.000000        6594.000000        6599.000000   \n",
       "mean            6.770112           6.657471           6.676535   \n",
       "std             0.771911           0.633841           0.575425   \n",
       "min             1.040000          -1.000000          -1.000000   \n",
       "25%             6.640000           6.600000           6.612917   \n",
       "50%             6.880000           6.820000           6.812500   \n",
       "75%             7.100000           6.966563           6.950000   \n",
       "max             9.800000           8.000000           8.100000   \n",
       "\n",
       "       away_fw_rating_l5  away_team_rating_l5  home_matches_cnt  \\\n",
       "count        6346.000000          6617.000000       7072.000000   \n",
       "mean            6.735381             6.685461          4.845305   \n",
       "std             0.729823             0.498289          0.735273   \n",
       "min            -1.000000             1.509697          0.000000   \n",
       "25%             6.650000             6.628333          5.000000   \n",
       "50%             6.860000             6.801818          5.000000   \n",
       "75%             7.060000             6.925000          5.000000   \n",
       "max             9.200000             7.700000          5.000000   \n",
       "\n",
       "       away_matches_cnt  home_shots_on_goal_l5  home_shots_off_goal_l5  \\\n",
       "count       7072.000000            7072.000000             7072.000000   \n",
       "mean           4.842902               3.666572                5.089791   \n",
       "std            0.744419               1.264809                1.476157   \n",
       "min            0.000000               0.000000                0.000000   \n",
       "25%            5.000000               3.000000                4.000000   \n",
       "50%            5.000000               4.000000                5.000000   \n",
       "75%            5.000000               4.000000                6.000000   \n",
       "max            5.000000               9.000000               11.000000   \n",
       "\n",
       "       home_total_shots_l5  home_blocked_shots_l5  home_shots_insidebox_l5  \\\n",
       "count          7072.000000            7072.000000              7072.000000   \n",
       "mean             11.820136               2.296097                 6.062783   \n",
       "std               2.836945               1.070686                 2.039565   \n",
       "min               0.000000               0.000000                 0.000000   \n",
       "25%              10.000000               2.000000                 5.000000   \n",
       "50%              12.000000               2.000000                 6.000000   \n",
       "75%              14.000000               3.000000                 7.000000   \n",
       "max              23.000000               8.000000                13.000000   \n",
       "\n",
       "       home_shots_outsidebox_l5  home_fouls_l5  home_corner_kicks_l5  \\\n",
       "count               7072.000000    7072.000000           7072.000000   \n",
       "mean                   5.223840      14.041714              4.368213   \n",
       "std                    1.770556       3.224690              1.436989   \n",
       "min                    0.000000       0.000000              0.000000   \n",
       "25%                    4.000000      12.000000              3.000000   \n",
       "50%                    5.000000      14.000000              4.000000   \n",
       "75%                    6.000000      16.000000              5.000000   \n",
       "max                   12.000000      29.000000             10.000000   \n",
       "\n",
       "       home_offsides_l5  home_ball_possesion_l5  home_yellow_cards_l5  \\\n",
       "count       7072.000000             7072.000000           7072.000000   \n",
       "mean           1.374717                0.486895              1.951499   \n",
       "std            0.866495                0.085940              0.953773   \n",
       "min            0.000000                0.000000              0.000000   \n",
       "25%            1.000000                0.450000              1.000000   \n",
       "50%            1.000000                0.494000              2.000000   \n",
       "75%            2.000000                0.536000              3.000000   \n",
       "max            7.000000                0.708000              6.000000   \n",
       "\n",
       "       home_red_cards_l5  home_gk_saves_l5  home_total_passes_l5  \\\n",
       "count        7072.000000       7072.000000           7072.000000   \n",
       "mean            0.003111          2.558541            373.895786   \n",
       "std             0.055692          1.026434             89.938902   \n",
       "min             0.000000          0.000000              0.000000   \n",
       "25%             0.000000          2.000000            336.000000   \n",
       "50%             0.000000          3.000000            378.000000   \n",
       "75%             0.000000          3.000000            424.000000   \n",
       "max             1.000000          8.000000            750.000000   \n",
       "\n",
       "       home_passes_acc_l5  home_passes_pct_l5  home_fouls_opp_l5  \\\n",
       "count         7072.000000         7072.000000        7072.000000   \n",
       "mean           294.367223            0.746267          14.043552   \n",
       "std             82.841353            0.139854           3.227362   \n",
       "min              0.000000            0.000000           0.000000   \n",
       "25%            252.000000            0.734000          12.000000   \n",
       "50%            297.000000            0.776667          14.000000   \n",
       "75%            343.000000            0.810000          16.000000   \n",
       "max            676.000000            0.902000          35.000000   \n",
       "\n",
       "       home_yellow_cards_opp_l5  home_red_cards_opp_l5  \\\n",
       "count               7072.000000            7072.000000   \n",
       "mean                   2.075085               0.003252   \n",
       "std                    0.852354               0.056940   \n",
       "min                    0.000000               0.000000   \n",
       "25%                    2.000000               0.000000   \n",
       "50%                    2.000000               0.000000   \n",
       "75%                    3.000000               0.000000   \n",
       "max                    6.000000               1.000000   \n",
       "\n",
       "       home_total_shots_opp_l5  home_shots_on_goal_opp_l5  \\\n",
       "count              7072.000000                7072.000000   \n",
       "mean                 12.088942                   3.765554   \n",
       "std                   2.928533                   1.260077   \n",
       "min                   0.000000                   0.000000   \n",
       "25%                  10.000000                   3.000000   \n",
       "50%                  12.000000                   4.000000   \n",
       "75%                  14.000000                   5.000000   \n",
       "max                  28.000000                  10.000000   \n",
       "\n",
       "       home_shots_off_goal_opp_l5  home_shots_outsidebox_opp_l5  \\\n",
       "count                 7072.000000                   7072.000000   \n",
       "mean                     5.205175                      6.233032   \n",
       "std                      1.533452                      2.065124   \n",
       "min                      0.000000                      0.000000   \n",
       "25%                      4.000000                      5.000000   \n",
       "50%                      5.000000                      6.000000   \n",
       "75%                      6.000000                      7.000000   \n",
       "max                     12.000000                     17.000000   \n",
       "\n",
       "       home_blocked_shots_opp_l5  home_corner_kicks_opp_l5  \\\n",
       "count                7072.000000               7072.000000   \n",
       "mean                    2.344457                  4.488264   \n",
       "std                     1.086872                  1.469870   \n",
       "min                     0.000000                  0.000000   \n",
       "25%                     2.000000                  4.000000   \n",
       "50%                     2.000000                  4.000000   \n",
       "75%                     3.000000                  5.000000   \n",
       "max                    11.000000                 14.000000   \n",
       "\n",
       "       away_shots_on_goal_l5  away_shots_off_goal_l5  away_total_shots_l5  \\\n",
       "count            7072.000000             7072.000000          7072.000000   \n",
       "mean                3.752828                5.212387            12.089508   \n",
       "std                 1.289731                1.504765             2.900761   \n",
       "min                 0.000000                0.000000             0.000000   \n",
       "25%                 3.000000                4.000000            10.000000   \n",
       "50%                 4.000000                5.000000            12.000000   \n",
       "75%                 4.000000                6.000000            14.000000   \n",
       "max                13.000000               12.000000            28.000000   \n",
       "\n",
       "       away_blocked_shots_l5  away_shots_insidebox_l5  \\\n",
       "count            7072.000000              7072.000000   \n",
       "mean                2.347285                 6.246465   \n",
       "std                 1.090779                 2.081748   \n",
       "min                 0.000000                 0.000000   \n",
       "25%                 2.000000                 5.000000   \n",
       "50%                 2.000000                 6.000000   \n",
       "75%                 3.000000                 8.000000   \n",
       "max                11.000000                17.000000   \n",
       "\n",
       "       away_shots_outsidebox_l5  away_fouls_l5  away_corner_kicks_l5  \\\n",
       "count               7072.000000    7072.000000           7072.000000   \n",
       "mean                   5.287613      14.048360              4.487415   \n",
       "std                    1.808581       3.252958              1.473323   \n",
       "min                    0.000000       0.000000              0.000000   \n",
       "25%                    4.000000      12.000000              4.000000   \n",
       "50%                    5.000000      14.000000              4.000000   \n",
       "75%                    6.000000      16.000000              5.000000   \n",
       "max                   15.000000      35.000000             14.000000   \n",
       "\n",
       "       away_offsides_l5  away_ball_possesion_l5  away_yellow_cards_l5  \\\n",
       "count       7072.000000             7072.000000           7072.000000   \n",
       "mean           1.387302                0.490278              1.914310   \n",
       "std            0.871635                0.088362              0.955677   \n",
       "min            0.000000                0.000000              0.000000   \n",
       "25%            1.000000                0.454000              1.000000   \n",
       "50%            1.000000                0.498000              2.000000   \n",
       "75%            2.000000                0.540000              3.000000   \n",
       "max            7.000000                0.736000              6.000000   \n",
       "\n",
       "       away_red_cards_l5  away_gk_saves_l5  away_total_passes_l5  \\\n",
       "count        7072.000000       7072.000000           7072.000000   \n",
       "mean            0.002262          2.469033            377.048925   \n",
       "std             0.047515          1.010286             91.525821   \n",
       "min             0.000000          0.000000              0.000000   \n",
       "25%             0.000000          2.000000            339.000000   \n",
       "50%             0.000000          2.000000            382.000000   \n",
       "75%             0.000000          3.000000            428.000000   \n",
       "max             1.000000          8.000000            768.000000   \n",
       "\n",
       "       away_passes_acc_l5  away_passes_pct_l5  away_fouls_opp_l5  \\\n",
       "count         7072.000000         7072.000000        7072.000000   \n",
       "mean           297.666572            0.747952          14.033654   \n",
       "std             84.254747            0.142010           3.243522   \n",
       "min              0.000000            0.000000           0.000000   \n",
       "25%            254.000000            0.736000          12.000000   \n",
       "50%            299.000000            0.780000          14.000000   \n",
       "75%            348.000000            0.812000          16.000000   \n",
       "max            696.000000            0.908000          28.000000   \n",
       "\n",
       "       away_yellow_cards_opp_l5  away_red_cards_opp_l5  \\\n",
       "count               7072.000000            7072.000000   \n",
       "mean                   2.102517               0.003111   \n",
       "std                    0.859421               0.055692   \n",
       "min                    0.000000               0.000000   \n",
       "25%                    2.000000               0.000000   \n",
       "50%                    2.000000               0.000000   \n",
       "75%                    3.000000               0.000000   \n",
       "max                    6.000000               1.000000   \n",
       "\n",
       "       away_total_shots_opp_l5  away_shots_on_goal_opp_l5  \\\n",
       "count              7072.000000                7072.000000   \n",
       "mean                 11.773473                   3.642251   \n",
       "std                   2.885431                   1.231562   \n",
       "min                   0.000000                   0.000000   \n",
       "25%                  10.000000                   3.000000   \n",
       "50%                  12.000000                   4.000000   \n",
       "75%                  14.000000                   4.000000   \n",
       "max                  22.000000                  10.000000   \n",
       "\n",
       "       away_shots_off_goal_opp_l5  away_shots_outsidebox_opp_l5  \\\n",
       "count                  7072.00000                   7072.000000   \n",
       "mean                      5.06957                      6.039027   \n",
       "std                       1.50940                      2.029176   \n",
       "min                       0.00000                      0.000000   \n",
       "25%                       4.00000                      5.000000   \n",
       "50%                       5.00000                      6.000000   \n",
       "75%                       6.00000                      7.000000   \n",
       "max                      11.00000                     15.000000   \n",
       "\n",
       "       away_blocked_shots_opp_l5  away_corner_kicks_opp_l5  home_max_scorer  \\\n",
       "count                7072.000000               7072.000000      7244.000000   \n",
       "mean                    2.295249                  4.362557         5.156681   \n",
       "std                     1.077240                  1.445195         3.375550   \n",
       "min                     0.000000                  0.000000         0.000000   \n",
       "25%                     2.000000                  3.000000         3.000000   \n",
       "50%                     2.000000                  4.000000         5.000000   \n",
       "75%                     3.000000                  5.000000         7.000000   \n",
       "max                     8.000000                 11.000000        18.000000   \n",
       "\n",
       "       away_max_scorer  home_max_assister  away_max_assister  home_max_saver  \\\n",
       "count      7244.000000        7244.000000        7244.000000     7244.000000   \n",
       "mean          5.248896           3.477637           3.509249       10.293898   \n",
       "std           3.475486           2.141462           2.180340        9.114527   \n",
       "min           0.000000           0.000000           0.000000        0.000000   \n",
       "25%           3.000000           2.000000           2.000000        3.000000   \n",
       "50%           5.000000           3.000000           3.000000        8.000000   \n",
       "75%           8.000000           5.000000           5.000000       14.000000   \n",
       "max          17.000000          12.000000          12.000000       57.000000   \n",
       "\n",
       "       away_max_saver  home_motivation_cup  home_motivation_leader  \\\n",
       "count     7244.000000          7244.000000             7244.000000   \n",
       "mean        10.341110             0.093733                0.037410   \n",
       "std          9.282503             0.291477                0.189778   \n",
       "min          0.000000             0.000000                0.000000   \n",
       "25%          4.000000             0.000000                0.000000   \n",
       "50%          8.000000             0.000000                0.000000   \n",
       "75%         14.000000             0.000000                0.000000   \n",
       "max         57.000000             1.000000                1.000000   \n",
       "\n",
       "       home_motivation_stay  away_motivation_cup  away_motivation_leader  \\\n",
       "count           7244.000000          7244.000000             7244.000000   \n",
       "mean               0.207620             0.094285                0.038239   \n",
       "std                0.405631             0.292245                0.191785   \n",
       "min                0.000000             0.000000                0.000000   \n",
       "25%                0.000000             0.000000                0.000000   \n",
       "50%                0.000000             0.000000                0.000000   \n",
       "75%                0.000000             0.000000                0.000000   \n",
       "max                1.000000             1.000000                1.000000   \n",
       "\n",
       "       away_motivation_stay  \n",
       "count           7244.000000  \n",
       "mean               0.202512  \n",
       "std                0.401900  \n",
       "min                0.000000  \n",
       "25%                0.000000  \n",
       "50%                0.000000  \n",
       "75%                0.000000  \n",
       "max                1.000000  "
      ]
     },
     "execution_count": 7,
     "metadata": {},
     "output_type": "execute_result"
    }
   ],
   "source": [
    "df.describe()"
   ]
  },
  {
   "cell_type": "code",
   "execution_count": 20,
   "metadata": {
    "code_folding": [
     1,
     7,
     10,
     16,
     30,
     33
    ]
   },
   "outputs": [],
   "source": [
    "# Feature Set\n",
    "cols_base = ['country_name', 'country_code', 'league_id', 'league_name', 'league_type', 'league_season', 'league_round',\n",
    "             'league_round_number', 'league_progress', 'total_rounds', 'total_teams', 'fixture_id', 'referee', 'venue_id',\n",
    "             'teams_home_id', 'teams_home_name', 'teams_away_id', 'teams_away_name', 'target']\n",
    "\n",
    "cols_date = ['date_tz', 'date_match', 'date_dow', 'time_match', 'date_day']\n",
    "\n",
    "cols_rank = ['rank_last', 'rank_points_last', 'rank_points_leader', 'rank_points_top5', 'home_rank', 'home_rank_points',\n",
    "              'home_rank_goals_diff', 'away_rank', 'away_rank_points', 'away_rank_goals_diff']\n",
    "\n",
    "cols_prematch = ['home_formation', 'away_formation', 'home_form', 'home_points_won_l5', 'home_ha_form', \n",
    "                 'home_ha_points_won_l5', 'away_form', 'away_points_won_l5', 'away_ha_form', 'away_ha_points_won_l5',\n",
    "                 'home_gk_rating_l5', 'home_df_rating_l5', 'home_mf_rating_l5', 'home_fw_rating_l5', \n",
    "                 'home_team_rating_l5', 'away_gk_rating_l5', 'away_df_rating_l5', 'away_mf_rating_l5',\n",
    "                 'away_fw_rating_l5', 'away_team_rating_l5']\n",
    "\n",
    "cols_stats = ['home_shots_on_goal_l5', 'home_shots_off_goal_l5', 'home_total_shots_l5', 'home_blocked_shots_l5', \n",
    "              'home_shots_insidebox_l5', 'home_shots_outsidebox_l5', 'home_fouls_l5', 'home_corner_kicks_l5',\n",
    "              'home_offsides_l5', 'home_ball_possesion_l5', 'home_yellow_cards_l5', 'home_red_cards_l5', \n",
    "              'home_gk_saves_l5', 'home_total_passes_l5', 'home_passes_acc_l5', 'home_passes_pct_l5', 'home_fouls_opp_l5',\n",
    "              'home_yellow_cards_opp_l5', 'home_red_cards_opp_l5', 'home_total_shots_opp_l5', 'home_shots_on_goal_opp_l5', \n",
    "              'home_shots_off_goal_opp_l5', 'home_shots_outsidebox_opp_l5', 'home_blocked_shots_opp_l5', \n",
    "              'home_corner_kicks_opp_l5', 'away_shots_on_goal_l5', 'away_shots_off_goal_l5', 'away_total_shots_l5',\n",
    "              'away_blocked_shots_l5', 'away_shots_insidebox_l5', 'away_shots_outsidebox_l5', 'away_fouls_l5',\n",
    "              'away_corner_kicks_l5', 'away_offsides_l5', 'away_ball_possesion_l5', 'away_yellow_cards_l5', \n",
    "              'away_red_cards_l5', 'away_gk_saves_l5', 'away_total_passes_l5', 'away_passes_acc_l5', 'away_passes_pct_l5',\n",
    "              'away_fouls_opp_l5', 'away_yellow_cards_opp_l5', 'away_red_cards_opp_l5', 'away_total_shots_opp_l5', \n",
    "              'away_shots_on_goal_opp_l5', 'away_shots_off_goal_opp_l5', 'away_shots_outsidebox_opp_l5', \n",
    "              'away_blocked_shots_opp_l5', 'away_corner_kicks_opp_l5']\n",
    "\n",
    "cols_key_players = ['home_max_scorer', 'away_max_scorer', 'home_max_assister', 'away_max_assister', 'home_max_saver',\n",
    "                    'away_max_saver']\n",
    "\n",
    "cols_motivation = ['home_motivation_cup', 'home_motivation_leader', 'home_motivation_stay', 'away_motivation_cup', \n",
    "                   'away_motivation_leader', 'away_motivation_stay']"
   ]
  },
  {
   "cell_type": "markdown",
   "metadata": {},
   "source": [
    "### Target"
   ]
  },
  {
   "cell_type": "code",
   "execution_count": 16,
   "metadata": {},
   "outputs": [
    {
     "data": {
      "text/html": [
       "<div>\n",
       "<style scoped>\n",
       "    .dataframe tbody tr th:only-of-type {\n",
       "        vertical-align: middle;\n",
       "    }\n",
       "\n",
       "    .dataframe tbody tr th {\n",
       "        vertical-align: top;\n",
       "    }\n",
       "\n",
       "    .dataframe thead tr th {\n",
       "        text-align: left;\n",
       "    }\n",
       "\n",
       "    .dataframe thead tr:last-of-type th {\n",
       "        text-align: right;\n",
       "    }\n",
       "</style>\n",
       "<table border=\"1\" class=\"dataframe\">\n",
       "  <thead>\n",
       "    <tr>\n",
       "      <th></th>\n",
       "      <th colspan=\"3\" halign=\"left\">fixture_id</th>\n",
       "      <th>Total</th>\n",
       "    </tr>\n",
       "    <tr>\n",
       "      <th>target</th>\n",
       "      <th>Away</th>\n",
       "      <th>Draw</th>\n",
       "      <th>Home</th>\n",
       "      <th></th>\n",
       "    </tr>\n",
       "    <tr>\n",
       "      <th>country_name</th>\n",
       "      <th></th>\n",
       "      <th></th>\n",
       "      <th></th>\n",
       "      <th></th>\n",
       "    </tr>\n",
       "  </thead>\n",
       "  <tbody>\n",
       "    <tr>\n",
       "      <th>Argentina</th>\n",
       "      <td>29.430582</td>\n",
       "      <td>27.831094</td>\n",
       "      <td>42.738324</td>\n",
       "      <td>100.0</td>\n",
       "    </tr>\n",
       "    <tr>\n",
       "      <th>Brazil</th>\n",
       "      <td>24.802632</td>\n",
       "      <td>27.565789</td>\n",
       "      <td>47.631579</td>\n",
       "      <td>100.0</td>\n",
       "    </tr>\n",
       "    <tr>\n",
       "      <th>Chile</th>\n",
       "      <td>25.412961</td>\n",
       "      <td>32.782719</td>\n",
       "      <td>41.804320</td>\n",
       "      <td>100.0</td>\n",
       "    </tr>\n",
       "    <tr>\n",
       "      <th>Colombia</th>\n",
       "      <td>23.193473</td>\n",
       "      <td>29.020979</td>\n",
       "      <td>47.785548</td>\n",
       "      <td>100.0</td>\n",
       "    </tr>\n",
       "    <tr>\n",
       "      <th>Mexico</th>\n",
       "      <td>26.706231</td>\n",
       "      <td>29.080119</td>\n",
       "      <td>44.213650</td>\n",
       "      <td>100.0</td>\n",
       "    </tr>\n",
       "    <tr>\n",
       "      <th>Peru</th>\n",
       "      <td>21.935484</td>\n",
       "      <td>29.677419</td>\n",
       "      <td>48.387097</td>\n",
       "      <td>100.0</td>\n",
       "    </tr>\n",
       "  </tbody>\n",
       "</table>\n",
       "</div>"
      ],
      "text/plain": [
       "             fixture_id                        Total\n",
       "target             Away       Draw       Home       \n",
       "country_name                                        \n",
       "Argentina     29.430582  27.831094  42.738324  100.0\n",
       "Brazil        24.802632  27.565789  47.631579  100.0\n",
       "Chile         25.412961  32.782719  41.804320  100.0\n",
       "Colombia      23.193473  29.020979  47.785548  100.0\n",
       "Mexico        26.706231  29.080119  44.213650  100.0\n",
       "Peru          21.935484  29.677419  48.387097  100.0"
      ]
     },
     "execution_count": 16,
     "metadata": {},
     "output_type": "execute_result"
    }
   ],
   "source": [
    "df_summary = df[['country_name', 'target', 'fixture_id']].groupby(['country_name', 'target']).count().unstack()\n",
    "df_summary['Total'] = df_summary[('fixture_id', 'Home')]+df_summary[('fixture_id', 'Away')]+df_summary[('fixture_id','Draw')]\n",
    "df_summary.div(df_summary.iloc[:,-1], axis=0) * 100"
   ]
  },
  {
   "cell_type": "code",
   "execution_count": 52,
   "metadata": {},
   "outputs": [],
   "source": [
    "df_plot = df[['country_name', 'league_season', 'target', 'fixture_id']].groupby(['country_name','league_season', 'target']).count().unstack().transpose()\n",
    "for season in df_plot.columns:\n",
    "    df_plot[season] = round(df_plot[season]/df_plot[season].sum()*100,2)"
   ]
  },
  {
   "cell_type": "code",
   "execution_count": 70,
   "metadata": {},
   "outputs": [],
   "source": [
    "df_lineplot = df_plot.transpose().reset_index()\n",
    "df_lineplot.columns = ['country_name', 'season', 'Away', 'Draw', 'Home']\n",
    "df_lineplot['season'] = df_lineplot['season'].astype(str)"
   ]
  },
  {
   "cell_type": "code",
   "execution_count": 253,
   "metadata": {},
   "outputs": [
    {
     "data": {
      "application/vnd.plotly.v1+json": {
       "config": {
        "plotlyServerURL": "https://plot.ly"
       },
       "data": [
        {
         "alignmentgroup": "True",
         "hovertemplate": "Match Result=Away<br>Season=%{x}<br>Win Rate (%)=%{y}<extra></extra>",
         "legendgroup": "Away",
         "marker": {
          "color": "#636efa"
         },
         "name": "Away",
         "offsetgroup": "Away",
         "orientation": "v",
         "showlegend": true,
         "textposition": "auto",
         "type": "bar",
         "x": [
          2016,
          2017,
          2018,
          2019,
          2020
         ],
         "xaxis": "x",
         "y": [
          26.48514851485149,
          26.138279932546375,
          23.829282750444577,
          24.749498997995993,
          28.890799656061912
         ],
         "yaxis": "y"
        },
        {
         "alignmentgroup": "True",
         "hovertemplate": "Match Result=Draw<br>Season=%{x}<br>Win Rate (%)=%{y}<extra></extra>",
         "legendgroup": "Draw",
         "marker": {
          "color": "#EF553B"
         },
         "name": "Draw",
         "offsetgroup": "Draw",
         "orientation": "v",
         "showlegend": true,
         "textposition": "auto",
         "type": "bar",
         "x": [
          2016,
          2017,
          2018,
          2019,
          2020
         ],
         "xaxis": "x",
         "y": [
          27.722772277227726,
          27.99325463743676,
          27.622999407231774,
          32.364729458917836,
          26.99914015477214
         ],
         "yaxis": "y"
        },
        {
         "alignmentgroup": "True",
         "hovertemplate": "Match Result=Home<br>Season=%{x}<br>Win Rate (%)=%{y}<extra></extra>",
         "legendgroup": "Home",
         "marker": {
          "color": "#00cc96"
         },
         "name": "Home",
         "offsetgroup": "Home",
         "orientation": "v",
         "showlegend": true,
         "textposition": "auto",
         "type": "bar",
         "x": [
          2016,
          2017,
          2018,
          2019,
          2020
         ],
         "xaxis": "x",
         "y": [
          45.79207920792079,
          45.86846543001686,
          48.54771784232365,
          42.88577154308617,
          44.11006018916595
         ],
         "yaxis": "y"
        }
       ],
       "layout": {
        "barmode": "relative",
        "legend": {
         "title": {
          "text": "Match Result"
         },
         "tracegroupgap": 0
        },
        "template": {
         "data": {
          "bar": [
           {
            "error_x": {
             "color": "#2a3f5f"
            },
            "error_y": {
             "color": "#2a3f5f"
            },
            "marker": {
             "line": {
              "color": "#E5ECF6",
              "width": 0.5
             }
            },
            "type": "bar"
           }
          ],
          "barpolar": [
           {
            "marker": {
             "line": {
              "color": "#E5ECF6",
              "width": 0.5
             }
            },
            "type": "barpolar"
           }
          ],
          "carpet": [
           {
            "aaxis": {
             "endlinecolor": "#2a3f5f",
             "gridcolor": "white",
             "linecolor": "white",
             "minorgridcolor": "white",
             "startlinecolor": "#2a3f5f"
            },
            "baxis": {
             "endlinecolor": "#2a3f5f",
             "gridcolor": "white",
             "linecolor": "white",
             "minorgridcolor": "white",
             "startlinecolor": "#2a3f5f"
            },
            "type": "carpet"
           }
          ],
          "choropleth": [
           {
            "colorbar": {
             "outlinewidth": 0,
             "ticks": ""
            },
            "type": "choropleth"
           }
          ],
          "contour": [
           {
            "colorbar": {
             "outlinewidth": 0,
             "ticks": ""
            },
            "colorscale": [
             [
              0,
              "#0d0887"
             ],
             [
              0.1111111111111111,
              "#46039f"
             ],
             [
              0.2222222222222222,
              "#7201a8"
             ],
             [
              0.3333333333333333,
              "#9c179e"
             ],
             [
              0.4444444444444444,
              "#bd3786"
             ],
             [
              0.5555555555555556,
              "#d8576b"
             ],
             [
              0.6666666666666666,
              "#ed7953"
             ],
             [
              0.7777777777777778,
              "#fb9f3a"
             ],
             [
              0.8888888888888888,
              "#fdca26"
             ],
             [
              1,
              "#f0f921"
             ]
            ],
            "type": "contour"
           }
          ],
          "contourcarpet": [
           {
            "colorbar": {
             "outlinewidth": 0,
             "ticks": ""
            },
            "type": "contourcarpet"
           }
          ],
          "heatmap": [
           {
            "colorbar": {
             "outlinewidth": 0,
             "ticks": ""
            },
            "colorscale": [
             [
              0,
              "#0d0887"
             ],
             [
              0.1111111111111111,
              "#46039f"
             ],
             [
              0.2222222222222222,
              "#7201a8"
             ],
             [
              0.3333333333333333,
              "#9c179e"
             ],
             [
              0.4444444444444444,
              "#bd3786"
             ],
             [
              0.5555555555555556,
              "#d8576b"
             ],
             [
              0.6666666666666666,
              "#ed7953"
             ],
             [
              0.7777777777777778,
              "#fb9f3a"
             ],
             [
              0.8888888888888888,
              "#fdca26"
             ],
             [
              1,
              "#f0f921"
             ]
            ],
            "type": "heatmap"
           }
          ],
          "heatmapgl": [
           {
            "colorbar": {
             "outlinewidth": 0,
             "ticks": ""
            },
            "colorscale": [
             [
              0,
              "#0d0887"
             ],
             [
              0.1111111111111111,
              "#46039f"
             ],
             [
              0.2222222222222222,
              "#7201a8"
             ],
             [
              0.3333333333333333,
              "#9c179e"
             ],
             [
              0.4444444444444444,
              "#bd3786"
             ],
             [
              0.5555555555555556,
              "#d8576b"
             ],
             [
              0.6666666666666666,
              "#ed7953"
             ],
             [
              0.7777777777777778,
              "#fb9f3a"
             ],
             [
              0.8888888888888888,
              "#fdca26"
             ],
             [
              1,
              "#f0f921"
             ]
            ],
            "type": "heatmapgl"
           }
          ],
          "histogram": [
           {
            "marker": {
             "colorbar": {
              "outlinewidth": 0,
              "ticks": ""
             }
            },
            "type": "histogram"
           }
          ],
          "histogram2d": [
           {
            "colorbar": {
             "outlinewidth": 0,
             "ticks": ""
            },
            "colorscale": [
             [
              0,
              "#0d0887"
             ],
             [
              0.1111111111111111,
              "#46039f"
             ],
             [
              0.2222222222222222,
              "#7201a8"
             ],
             [
              0.3333333333333333,
              "#9c179e"
             ],
             [
              0.4444444444444444,
              "#bd3786"
             ],
             [
              0.5555555555555556,
              "#d8576b"
             ],
             [
              0.6666666666666666,
              "#ed7953"
             ],
             [
              0.7777777777777778,
              "#fb9f3a"
             ],
             [
              0.8888888888888888,
              "#fdca26"
             ],
             [
              1,
              "#f0f921"
             ]
            ],
            "type": "histogram2d"
           }
          ],
          "histogram2dcontour": [
           {
            "colorbar": {
             "outlinewidth": 0,
             "ticks": ""
            },
            "colorscale": [
             [
              0,
              "#0d0887"
             ],
             [
              0.1111111111111111,
              "#46039f"
             ],
             [
              0.2222222222222222,
              "#7201a8"
             ],
             [
              0.3333333333333333,
              "#9c179e"
             ],
             [
              0.4444444444444444,
              "#bd3786"
             ],
             [
              0.5555555555555556,
              "#d8576b"
             ],
             [
              0.6666666666666666,
              "#ed7953"
             ],
             [
              0.7777777777777778,
              "#fb9f3a"
             ],
             [
              0.8888888888888888,
              "#fdca26"
             ],
             [
              1,
              "#f0f921"
             ]
            ],
            "type": "histogram2dcontour"
           }
          ],
          "mesh3d": [
           {
            "colorbar": {
             "outlinewidth": 0,
             "ticks": ""
            },
            "type": "mesh3d"
           }
          ],
          "parcoords": [
           {
            "line": {
             "colorbar": {
              "outlinewidth": 0,
              "ticks": ""
             }
            },
            "type": "parcoords"
           }
          ],
          "pie": [
           {
            "automargin": true,
            "type": "pie"
           }
          ],
          "scatter": [
           {
            "marker": {
             "colorbar": {
              "outlinewidth": 0,
              "ticks": ""
             }
            },
            "type": "scatter"
           }
          ],
          "scatter3d": [
           {
            "line": {
             "colorbar": {
              "outlinewidth": 0,
              "ticks": ""
             }
            },
            "marker": {
             "colorbar": {
              "outlinewidth": 0,
              "ticks": ""
             }
            },
            "type": "scatter3d"
           }
          ],
          "scattercarpet": [
           {
            "marker": {
             "colorbar": {
              "outlinewidth": 0,
              "ticks": ""
             }
            },
            "type": "scattercarpet"
           }
          ],
          "scattergeo": [
           {
            "marker": {
             "colorbar": {
              "outlinewidth": 0,
              "ticks": ""
             }
            },
            "type": "scattergeo"
           }
          ],
          "scattergl": [
           {
            "marker": {
             "colorbar": {
              "outlinewidth": 0,
              "ticks": ""
             }
            },
            "type": "scattergl"
           }
          ],
          "scattermapbox": [
           {
            "marker": {
             "colorbar": {
              "outlinewidth": 0,
              "ticks": ""
             }
            },
            "type": "scattermapbox"
           }
          ],
          "scatterpolar": [
           {
            "marker": {
             "colorbar": {
              "outlinewidth": 0,
              "ticks": ""
             }
            },
            "type": "scatterpolar"
           }
          ],
          "scatterpolargl": [
           {
            "marker": {
             "colorbar": {
              "outlinewidth": 0,
              "ticks": ""
             }
            },
            "type": "scatterpolargl"
           }
          ],
          "scatterternary": [
           {
            "marker": {
             "colorbar": {
              "outlinewidth": 0,
              "ticks": ""
             }
            },
            "type": "scatterternary"
           }
          ],
          "surface": [
           {
            "colorbar": {
             "outlinewidth": 0,
             "ticks": ""
            },
            "colorscale": [
             [
              0,
              "#0d0887"
             ],
             [
              0.1111111111111111,
              "#46039f"
             ],
             [
              0.2222222222222222,
              "#7201a8"
             ],
             [
              0.3333333333333333,
              "#9c179e"
             ],
             [
              0.4444444444444444,
              "#bd3786"
             ],
             [
              0.5555555555555556,
              "#d8576b"
             ],
             [
              0.6666666666666666,
              "#ed7953"
             ],
             [
              0.7777777777777778,
              "#fb9f3a"
             ],
             [
              0.8888888888888888,
              "#fdca26"
             ],
             [
              1,
              "#f0f921"
             ]
            ],
            "type": "surface"
           }
          ],
          "table": [
           {
            "cells": {
             "fill": {
              "color": "#EBF0F8"
             },
             "line": {
              "color": "white"
             }
            },
            "header": {
             "fill": {
              "color": "#C8D4E3"
             },
             "line": {
              "color": "white"
             }
            },
            "type": "table"
           }
          ]
         },
         "layout": {
          "annotationdefaults": {
           "arrowcolor": "#2a3f5f",
           "arrowhead": 0,
           "arrowwidth": 1
          },
          "autotypenumbers": "strict",
          "coloraxis": {
           "colorbar": {
            "outlinewidth": 0,
            "ticks": ""
           }
          },
          "colorscale": {
           "diverging": [
            [
             0,
             "#8e0152"
            ],
            [
             0.1,
             "#c51b7d"
            ],
            [
             0.2,
             "#de77ae"
            ],
            [
             0.3,
             "#f1b6da"
            ],
            [
             0.4,
             "#fde0ef"
            ],
            [
             0.5,
             "#f7f7f7"
            ],
            [
             0.6,
             "#e6f5d0"
            ],
            [
             0.7,
             "#b8e186"
            ],
            [
             0.8,
             "#7fbc41"
            ],
            [
             0.9,
             "#4d9221"
            ],
            [
             1,
             "#276419"
            ]
           ],
           "sequential": [
            [
             0,
             "#0d0887"
            ],
            [
             0.1111111111111111,
             "#46039f"
            ],
            [
             0.2222222222222222,
             "#7201a8"
            ],
            [
             0.3333333333333333,
             "#9c179e"
            ],
            [
             0.4444444444444444,
             "#bd3786"
            ],
            [
             0.5555555555555556,
             "#d8576b"
            ],
            [
             0.6666666666666666,
             "#ed7953"
            ],
            [
             0.7777777777777778,
             "#fb9f3a"
            ],
            [
             0.8888888888888888,
             "#fdca26"
            ],
            [
             1,
             "#f0f921"
            ]
           ],
           "sequentialminus": [
            [
             0,
             "#0d0887"
            ],
            [
             0.1111111111111111,
             "#46039f"
            ],
            [
             0.2222222222222222,
             "#7201a8"
            ],
            [
             0.3333333333333333,
             "#9c179e"
            ],
            [
             0.4444444444444444,
             "#bd3786"
            ],
            [
             0.5555555555555556,
             "#d8576b"
            ],
            [
             0.6666666666666666,
             "#ed7953"
            ],
            [
             0.7777777777777778,
             "#fb9f3a"
            ],
            [
             0.8888888888888888,
             "#fdca26"
            ],
            [
             1,
             "#f0f921"
            ]
           ]
          },
          "colorway": [
           "#636efa",
           "#EF553B",
           "#00cc96",
           "#ab63fa",
           "#FFA15A",
           "#19d3f3",
           "#FF6692",
           "#B6E880",
           "#FF97FF",
           "#FECB52"
          ],
          "font": {
           "color": "#2a3f5f"
          },
          "geo": {
           "bgcolor": "white",
           "lakecolor": "white",
           "landcolor": "#E5ECF6",
           "showlakes": true,
           "showland": true,
           "subunitcolor": "white"
          },
          "hoverlabel": {
           "align": "left"
          },
          "hovermode": "closest",
          "mapbox": {
           "style": "light"
          },
          "paper_bgcolor": "white",
          "plot_bgcolor": "#E5ECF6",
          "polar": {
           "angularaxis": {
            "gridcolor": "white",
            "linecolor": "white",
            "ticks": ""
           },
           "bgcolor": "#E5ECF6",
           "radialaxis": {
            "gridcolor": "white",
            "linecolor": "white",
            "ticks": ""
           }
          },
          "scene": {
           "xaxis": {
            "backgroundcolor": "#E5ECF6",
            "gridcolor": "white",
            "gridwidth": 2,
            "linecolor": "white",
            "showbackground": true,
            "ticks": "",
            "zerolinecolor": "white"
           },
           "yaxis": {
            "backgroundcolor": "#E5ECF6",
            "gridcolor": "white",
            "gridwidth": 2,
            "linecolor": "white",
            "showbackground": true,
            "ticks": "",
            "zerolinecolor": "white"
           },
           "zaxis": {
            "backgroundcolor": "#E5ECF6",
            "gridcolor": "white",
            "gridwidth": 2,
            "linecolor": "white",
            "showbackground": true,
            "ticks": "",
            "zerolinecolor": "white"
           }
          },
          "shapedefaults": {
           "line": {
            "color": "#2a3f5f"
           }
          },
          "ternary": {
           "aaxis": {
            "gridcolor": "white",
            "linecolor": "white",
            "ticks": ""
           },
           "baxis": {
            "gridcolor": "white",
            "linecolor": "white",
            "ticks": ""
           },
           "bgcolor": "#E5ECF6",
           "caxis": {
            "gridcolor": "white",
            "linecolor": "white",
            "ticks": ""
           }
          },
          "title": {
           "x": 0.05
          },
          "xaxis": {
           "automargin": true,
           "gridcolor": "white",
           "linecolor": "white",
           "ticks": "",
           "title": {
            "standoff": 15
           },
           "zerolinecolor": "white",
           "zerolinewidth": 2
          },
          "yaxis": {
           "automargin": true,
           "gridcolor": "white",
           "linecolor": "white",
           "ticks": "",
           "title": {
            "standoff": 15
           },
           "zerolinecolor": "white",
           "zerolinewidth": 2
          }
         }
        },
        "title": {
         "text": "Win Rate (%) by Season"
        },
        "xaxis": {
         "anchor": "y",
         "domain": [
          0,
          1
         ],
         "title": {
          "text": "Season"
         }
        },
        "yaxis": {
         "anchor": "x",
         "domain": [
          0,
          1
         ],
         "title": {
          "text": "Win Rate (%)"
         }
        }
       }
      },
      "text/html": [
       "<div>                            <div id=\"bb7a54b9-43a6-4a1a-a1ad-bf2409e9cc6e\" class=\"plotly-graph-div\" style=\"height:525px; width:100%;\"></div>            <script type=\"text/javascript\">                require([\"plotly\"], function(Plotly) {                    window.PLOTLYENV=window.PLOTLYENV || {};                                    if (document.getElementById(\"bb7a54b9-43a6-4a1a-a1ad-bf2409e9cc6e\")) {                    Plotly.newPlot(                        \"bb7a54b9-43a6-4a1a-a1ad-bf2409e9cc6e\",                        [{\"alignmentgroup\": \"True\", \"hovertemplate\": \"Match Result=Away<br>Season=%{x}<br>Win Rate (%)=%{y}<extra></extra>\", \"legendgroup\": \"Away\", \"marker\": {\"color\": \"#636efa\"}, \"name\": \"Away\", \"offsetgroup\": \"Away\", \"orientation\": \"v\", \"showlegend\": true, \"textposition\": \"auto\", \"type\": \"bar\", \"x\": [2016, 2017, 2018, 2019, 2020], \"xaxis\": \"x\", \"y\": [26.48514851485149, 26.138279932546375, 23.829282750444577, 24.749498997995993, 28.890799656061912], \"yaxis\": \"y\"}, {\"alignmentgroup\": \"True\", \"hovertemplate\": \"Match Result=Draw<br>Season=%{x}<br>Win Rate (%)=%{y}<extra></extra>\", \"legendgroup\": \"Draw\", \"marker\": {\"color\": \"#EF553B\"}, \"name\": \"Draw\", \"offsetgroup\": \"Draw\", \"orientation\": \"v\", \"showlegend\": true, \"textposition\": \"auto\", \"type\": \"bar\", \"x\": [2016, 2017, 2018, 2019, 2020], \"xaxis\": \"x\", \"y\": [27.722772277227726, 27.99325463743676, 27.622999407231774, 32.364729458917836, 26.99914015477214], \"yaxis\": \"y\"}, {\"alignmentgroup\": \"True\", \"hovertemplate\": \"Match Result=Home<br>Season=%{x}<br>Win Rate (%)=%{y}<extra></extra>\", \"legendgroup\": \"Home\", \"marker\": {\"color\": \"#00cc96\"}, \"name\": \"Home\", \"offsetgroup\": \"Home\", \"orientation\": \"v\", \"showlegend\": true, \"textposition\": \"auto\", \"type\": \"bar\", \"x\": [2016, 2017, 2018, 2019, 2020], \"xaxis\": \"x\", \"y\": [45.79207920792079, 45.86846543001686, 48.54771784232365, 42.88577154308617, 44.11006018916595], \"yaxis\": \"y\"}],                        {\"barmode\": \"relative\", \"legend\": {\"title\": {\"text\": \"Match Result\"}, \"tracegroupgap\": 0}, \"template\": {\"data\": {\"bar\": [{\"error_x\": {\"color\": \"#2a3f5f\"}, \"error_y\": {\"color\": \"#2a3f5f\"}, \"marker\": {\"line\": {\"color\": \"#E5ECF6\", \"width\": 0.5}}, \"type\": \"bar\"}], \"barpolar\": [{\"marker\": {\"line\": {\"color\": \"#E5ECF6\", \"width\": 0.5}}, \"type\": \"barpolar\"}], \"carpet\": [{\"aaxis\": {\"endlinecolor\": \"#2a3f5f\", \"gridcolor\": \"white\", \"linecolor\": \"white\", \"minorgridcolor\": \"white\", \"startlinecolor\": \"#2a3f5f\"}, \"baxis\": {\"endlinecolor\": \"#2a3f5f\", \"gridcolor\": \"white\", \"linecolor\": \"white\", \"minorgridcolor\": \"white\", \"startlinecolor\": \"#2a3f5f\"}, \"type\": \"carpet\"}], \"choropleth\": [{\"colorbar\": {\"outlinewidth\": 0, \"ticks\": \"\"}, \"type\": \"choropleth\"}], \"contour\": [{\"colorbar\": {\"outlinewidth\": 0, \"ticks\": \"\"}, \"colorscale\": [[0.0, \"#0d0887\"], [0.1111111111111111, \"#46039f\"], [0.2222222222222222, \"#7201a8\"], [0.3333333333333333, \"#9c179e\"], [0.4444444444444444, \"#bd3786\"], [0.5555555555555556, \"#d8576b\"], [0.6666666666666666, \"#ed7953\"], [0.7777777777777778, \"#fb9f3a\"], [0.8888888888888888, \"#fdca26\"], [1.0, \"#f0f921\"]], \"type\": \"contour\"}], \"contourcarpet\": [{\"colorbar\": {\"outlinewidth\": 0, \"ticks\": \"\"}, \"type\": \"contourcarpet\"}], \"heatmap\": [{\"colorbar\": {\"outlinewidth\": 0, \"ticks\": \"\"}, \"colorscale\": [[0.0, \"#0d0887\"], [0.1111111111111111, \"#46039f\"], [0.2222222222222222, \"#7201a8\"], [0.3333333333333333, \"#9c179e\"], [0.4444444444444444, \"#bd3786\"], [0.5555555555555556, \"#d8576b\"], [0.6666666666666666, \"#ed7953\"], [0.7777777777777778, \"#fb9f3a\"], [0.8888888888888888, \"#fdca26\"], [1.0, \"#f0f921\"]], \"type\": \"heatmap\"}], \"heatmapgl\": [{\"colorbar\": {\"outlinewidth\": 0, \"ticks\": \"\"}, \"colorscale\": [[0.0, \"#0d0887\"], [0.1111111111111111, \"#46039f\"], [0.2222222222222222, \"#7201a8\"], [0.3333333333333333, \"#9c179e\"], [0.4444444444444444, \"#bd3786\"], [0.5555555555555556, \"#d8576b\"], [0.6666666666666666, \"#ed7953\"], [0.7777777777777778, \"#fb9f3a\"], [0.8888888888888888, \"#fdca26\"], [1.0, \"#f0f921\"]], \"type\": \"heatmapgl\"}], \"histogram\": [{\"marker\": {\"colorbar\": {\"outlinewidth\": 0, \"ticks\": \"\"}}, \"type\": \"histogram\"}], \"histogram2d\": [{\"colorbar\": {\"outlinewidth\": 0, \"ticks\": \"\"}, \"colorscale\": [[0.0, \"#0d0887\"], [0.1111111111111111, \"#46039f\"], [0.2222222222222222, \"#7201a8\"], [0.3333333333333333, \"#9c179e\"], [0.4444444444444444, \"#bd3786\"], [0.5555555555555556, \"#d8576b\"], [0.6666666666666666, \"#ed7953\"], [0.7777777777777778, \"#fb9f3a\"], [0.8888888888888888, \"#fdca26\"], [1.0, \"#f0f921\"]], \"type\": \"histogram2d\"}], \"histogram2dcontour\": [{\"colorbar\": {\"outlinewidth\": 0, \"ticks\": \"\"}, \"colorscale\": [[0.0, \"#0d0887\"], [0.1111111111111111, \"#46039f\"], [0.2222222222222222, \"#7201a8\"], [0.3333333333333333, \"#9c179e\"], [0.4444444444444444, \"#bd3786\"], [0.5555555555555556, \"#d8576b\"], [0.6666666666666666, \"#ed7953\"], [0.7777777777777778, \"#fb9f3a\"], [0.8888888888888888, \"#fdca26\"], [1.0, \"#f0f921\"]], \"type\": \"histogram2dcontour\"}], \"mesh3d\": [{\"colorbar\": {\"outlinewidth\": 0, \"ticks\": \"\"}, \"type\": \"mesh3d\"}], \"parcoords\": [{\"line\": {\"colorbar\": {\"outlinewidth\": 0, \"ticks\": \"\"}}, \"type\": \"parcoords\"}], \"pie\": [{\"automargin\": true, \"type\": \"pie\"}], \"scatter\": [{\"marker\": {\"colorbar\": {\"outlinewidth\": 0, \"ticks\": \"\"}}, \"type\": \"scatter\"}], \"scatter3d\": [{\"line\": {\"colorbar\": {\"outlinewidth\": 0, \"ticks\": \"\"}}, \"marker\": {\"colorbar\": {\"outlinewidth\": 0, \"ticks\": \"\"}}, \"type\": \"scatter3d\"}], \"scattercarpet\": [{\"marker\": {\"colorbar\": {\"outlinewidth\": 0, \"ticks\": \"\"}}, \"type\": \"scattercarpet\"}], \"scattergeo\": [{\"marker\": {\"colorbar\": {\"outlinewidth\": 0, \"ticks\": \"\"}}, \"type\": \"scattergeo\"}], \"scattergl\": [{\"marker\": {\"colorbar\": {\"outlinewidth\": 0, \"ticks\": \"\"}}, \"type\": \"scattergl\"}], \"scattermapbox\": [{\"marker\": {\"colorbar\": {\"outlinewidth\": 0, \"ticks\": \"\"}}, \"type\": \"scattermapbox\"}], \"scatterpolar\": [{\"marker\": {\"colorbar\": {\"outlinewidth\": 0, \"ticks\": \"\"}}, \"type\": \"scatterpolar\"}], \"scatterpolargl\": [{\"marker\": {\"colorbar\": {\"outlinewidth\": 0, \"ticks\": \"\"}}, \"type\": \"scatterpolargl\"}], \"scatterternary\": [{\"marker\": {\"colorbar\": {\"outlinewidth\": 0, \"ticks\": \"\"}}, \"type\": \"scatterternary\"}], \"surface\": [{\"colorbar\": {\"outlinewidth\": 0, \"ticks\": \"\"}, \"colorscale\": [[0.0, \"#0d0887\"], [0.1111111111111111, \"#46039f\"], [0.2222222222222222, \"#7201a8\"], [0.3333333333333333, \"#9c179e\"], [0.4444444444444444, \"#bd3786\"], [0.5555555555555556, \"#d8576b\"], [0.6666666666666666, \"#ed7953\"], [0.7777777777777778, \"#fb9f3a\"], [0.8888888888888888, \"#fdca26\"], [1.0, \"#f0f921\"]], \"type\": \"surface\"}], \"table\": [{\"cells\": {\"fill\": {\"color\": \"#EBF0F8\"}, \"line\": {\"color\": \"white\"}}, \"header\": {\"fill\": {\"color\": \"#C8D4E3\"}, \"line\": {\"color\": \"white\"}}, \"type\": \"table\"}]}, \"layout\": {\"annotationdefaults\": {\"arrowcolor\": \"#2a3f5f\", \"arrowhead\": 0, \"arrowwidth\": 1}, \"autotypenumbers\": \"strict\", \"coloraxis\": {\"colorbar\": {\"outlinewidth\": 0, \"ticks\": \"\"}}, \"colorscale\": {\"diverging\": [[0, \"#8e0152\"], [0.1, \"#c51b7d\"], [0.2, \"#de77ae\"], [0.3, \"#f1b6da\"], [0.4, \"#fde0ef\"], [0.5, \"#f7f7f7\"], [0.6, \"#e6f5d0\"], [0.7, \"#b8e186\"], [0.8, \"#7fbc41\"], [0.9, \"#4d9221\"], [1, \"#276419\"]], \"sequential\": [[0.0, \"#0d0887\"], [0.1111111111111111, \"#46039f\"], [0.2222222222222222, \"#7201a8\"], [0.3333333333333333, \"#9c179e\"], [0.4444444444444444, \"#bd3786\"], [0.5555555555555556, \"#d8576b\"], [0.6666666666666666, \"#ed7953\"], [0.7777777777777778, \"#fb9f3a\"], [0.8888888888888888, \"#fdca26\"], [1.0, \"#f0f921\"]], \"sequentialminus\": [[0.0, \"#0d0887\"], [0.1111111111111111, \"#46039f\"], [0.2222222222222222, \"#7201a8\"], [0.3333333333333333, \"#9c179e\"], [0.4444444444444444, \"#bd3786\"], [0.5555555555555556, \"#d8576b\"], [0.6666666666666666, \"#ed7953\"], [0.7777777777777778, \"#fb9f3a\"], [0.8888888888888888, \"#fdca26\"], [1.0, \"#f0f921\"]]}, \"colorway\": [\"#636efa\", \"#EF553B\", \"#00cc96\", \"#ab63fa\", \"#FFA15A\", \"#19d3f3\", \"#FF6692\", \"#B6E880\", \"#FF97FF\", \"#FECB52\"], \"font\": {\"color\": \"#2a3f5f\"}, \"geo\": {\"bgcolor\": \"white\", \"lakecolor\": \"white\", \"landcolor\": \"#E5ECF6\", \"showlakes\": true, \"showland\": true, \"subunitcolor\": \"white\"}, \"hoverlabel\": {\"align\": \"left\"}, \"hovermode\": \"closest\", \"mapbox\": {\"style\": \"light\"}, \"paper_bgcolor\": \"white\", \"plot_bgcolor\": \"#E5ECF6\", \"polar\": {\"angularaxis\": {\"gridcolor\": \"white\", \"linecolor\": \"white\", \"ticks\": \"\"}, \"bgcolor\": \"#E5ECF6\", \"radialaxis\": {\"gridcolor\": \"white\", \"linecolor\": \"white\", \"ticks\": \"\"}}, \"scene\": {\"xaxis\": {\"backgroundcolor\": \"#E5ECF6\", \"gridcolor\": \"white\", \"gridwidth\": 2, \"linecolor\": \"white\", \"showbackground\": true, \"ticks\": \"\", \"zerolinecolor\": \"white\"}, \"yaxis\": {\"backgroundcolor\": \"#E5ECF6\", \"gridcolor\": \"white\", \"gridwidth\": 2, \"linecolor\": \"white\", \"showbackground\": true, \"ticks\": \"\", \"zerolinecolor\": \"white\"}, \"zaxis\": {\"backgroundcolor\": \"#E5ECF6\", \"gridcolor\": \"white\", \"gridwidth\": 2, \"linecolor\": \"white\", \"showbackground\": true, \"ticks\": \"\", \"zerolinecolor\": \"white\"}}, \"shapedefaults\": {\"line\": {\"color\": \"#2a3f5f\"}}, \"ternary\": {\"aaxis\": {\"gridcolor\": \"white\", \"linecolor\": \"white\", \"ticks\": \"\"}, \"baxis\": {\"gridcolor\": \"white\", \"linecolor\": \"white\", \"ticks\": \"\"}, \"bgcolor\": \"#E5ECF6\", \"caxis\": {\"gridcolor\": \"white\", \"linecolor\": \"white\", \"ticks\": \"\"}}, \"title\": {\"x\": 0.05}, \"xaxis\": {\"automargin\": true, \"gridcolor\": \"white\", \"linecolor\": \"white\", \"ticks\": \"\", \"title\": {\"standoff\": 15}, \"zerolinecolor\": \"white\", \"zerolinewidth\": 2}, \"yaxis\": {\"automargin\": true, \"gridcolor\": \"white\", \"linecolor\": \"white\", \"ticks\": \"\", \"title\": {\"standoff\": 15}, \"zerolinecolor\": \"white\", \"zerolinewidth\": 2}}}, \"title\": {\"text\": \"Win Rate (%) by Season\"}, \"xaxis\": {\"anchor\": \"y\", \"domain\": [0.0, 1.0], \"title\": {\"text\": \"Season\"}}, \"yaxis\": {\"anchor\": \"x\", \"domain\": [0.0, 1.0], \"title\": {\"text\": \"Win Rate (%)\"}}},                        {\"responsive\": true}                    ).then(function(){\n",
       "                            \n",
       "var gd = document.getElementById('bb7a54b9-43a6-4a1a-a1ad-bf2409e9cc6e');\n",
       "var x = new MutationObserver(function (mutations, observer) {{\n",
       "        var display = window.getComputedStyle(gd).display;\n",
       "        if (!display || display === 'none') {{\n",
       "            console.log([gd, 'removed!']);\n",
       "            Plotly.purge(gd);\n",
       "            observer.disconnect();\n",
       "        }}\n",
       "}});\n",
       "\n",
       "// Listen for the removal of the full notebook cells\n",
       "var notebookContainer = gd.closest('#notebook-container');\n",
       "if (notebookContainer) {{\n",
       "    x.observe(notebookContainer, {childList: true});\n",
       "}}\n",
       "\n",
       "// Listen for the clearing of the current output cell\n",
       "var outputEl = gd.closest('.output');\n",
       "if (outputEl) {{\n",
       "    x.observe(outputEl, {childList: true});\n",
       "}}\n",
       "\n",
       "                        })                };                });            </script>        </div>"
      ]
     },
     "metadata": {},
     "output_type": "display_data"
    }
   ],
   "source": [
    "plot_winrate_barplot(df, var_x=\"league_season\", label_x=\"Season\")"
   ]
  },
  {
   "cell_type": "code",
   "execution_count": 251,
   "metadata": {},
   "outputs": [
    {
     "data": {
      "application/vnd.plotly.v1+json": {
       "config": {
        "plotlyServerURL": "https://plot.ly"
       },
       "data": [
        {
         "alignmentgroup": "True",
         "hovertemplate": "Match Result=Away<br>Country=%{x}<br>Win Rate (%)=%{y}<extra></extra>",
         "legendgroup": "Away",
         "marker": {
          "color": "#636efa"
         },
         "name": "Away",
         "offsetgroup": "Away",
         "orientation": "v",
         "showlegend": true,
         "textposition": "auto",
         "type": "bar",
         "x": [
          "Argentina",
          "Brazil",
          "Chile",
          "Colombia",
          "Mexico",
          "Peru"
         ],
         "xaxis": "x",
         "y": [
          29.43058221369162,
          24.802631578947366,
          25.412960609911057,
          23.193473193473192,
          26.706231454005934,
          21.935483870967744
         ],
         "yaxis": "y"
        },
        {
         "alignmentgroup": "True",
         "hovertemplate": "Match Result=Draw<br>Country=%{x}<br>Win Rate (%)=%{y}<extra></extra>",
         "legendgroup": "Draw",
         "marker": {
          "color": "#EF553B"
         },
         "name": "Draw",
         "offsetgroup": "Draw",
         "orientation": "v",
         "showlegend": true,
         "textposition": "auto",
         "type": "bar",
         "x": [
          "Argentina",
          "Brazil",
          "Chile",
          "Colombia",
          "Mexico",
          "Peru"
         ],
         "xaxis": "x",
         "y": [
          27.83109404990403,
          27.56578947368421,
          32.78271918678526,
          29.02097902097902,
          29.080118694362017,
          29.677419354838708
         ],
         "yaxis": "y"
        },
        {
         "alignmentgroup": "True",
         "hovertemplate": "Match Result=Home<br>Country=%{x}<br>Win Rate (%)=%{y}<extra></extra>",
         "legendgroup": "Home",
         "marker": {
          "color": "#00cc96"
         },
         "name": "Home",
         "offsetgroup": "Home",
         "orientation": "v",
         "showlegend": true,
         "textposition": "auto",
         "type": "bar",
         "x": [
          "Argentina",
          "Brazil",
          "Chile",
          "Colombia",
          "Mexico",
          "Peru"
         ],
         "xaxis": "x",
         "y": [
          42.73832373640435,
          47.63157894736842,
          41.80432020330368,
          47.785547785547784,
          44.21364985163205,
          48.38709677419355
         ],
         "yaxis": "y"
        }
       ],
       "layout": {
        "barmode": "relative",
        "legend": {
         "title": {
          "text": "Match Result"
         },
         "tracegroupgap": 0
        },
        "template": {
         "data": {
          "bar": [
           {
            "error_x": {
             "color": "#2a3f5f"
            },
            "error_y": {
             "color": "#2a3f5f"
            },
            "marker": {
             "line": {
              "color": "#E5ECF6",
              "width": 0.5
             }
            },
            "type": "bar"
           }
          ],
          "barpolar": [
           {
            "marker": {
             "line": {
              "color": "#E5ECF6",
              "width": 0.5
             }
            },
            "type": "barpolar"
           }
          ],
          "carpet": [
           {
            "aaxis": {
             "endlinecolor": "#2a3f5f",
             "gridcolor": "white",
             "linecolor": "white",
             "minorgridcolor": "white",
             "startlinecolor": "#2a3f5f"
            },
            "baxis": {
             "endlinecolor": "#2a3f5f",
             "gridcolor": "white",
             "linecolor": "white",
             "minorgridcolor": "white",
             "startlinecolor": "#2a3f5f"
            },
            "type": "carpet"
           }
          ],
          "choropleth": [
           {
            "colorbar": {
             "outlinewidth": 0,
             "ticks": ""
            },
            "type": "choropleth"
           }
          ],
          "contour": [
           {
            "colorbar": {
             "outlinewidth": 0,
             "ticks": ""
            },
            "colorscale": [
             [
              0,
              "#0d0887"
             ],
             [
              0.1111111111111111,
              "#46039f"
             ],
             [
              0.2222222222222222,
              "#7201a8"
             ],
             [
              0.3333333333333333,
              "#9c179e"
             ],
             [
              0.4444444444444444,
              "#bd3786"
             ],
             [
              0.5555555555555556,
              "#d8576b"
             ],
             [
              0.6666666666666666,
              "#ed7953"
             ],
             [
              0.7777777777777778,
              "#fb9f3a"
             ],
             [
              0.8888888888888888,
              "#fdca26"
             ],
             [
              1,
              "#f0f921"
             ]
            ],
            "type": "contour"
           }
          ],
          "contourcarpet": [
           {
            "colorbar": {
             "outlinewidth": 0,
             "ticks": ""
            },
            "type": "contourcarpet"
           }
          ],
          "heatmap": [
           {
            "colorbar": {
             "outlinewidth": 0,
             "ticks": ""
            },
            "colorscale": [
             [
              0,
              "#0d0887"
             ],
             [
              0.1111111111111111,
              "#46039f"
             ],
             [
              0.2222222222222222,
              "#7201a8"
             ],
             [
              0.3333333333333333,
              "#9c179e"
             ],
             [
              0.4444444444444444,
              "#bd3786"
             ],
             [
              0.5555555555555556,
              "#d8576b"
             ],
             [
              0.6666666666666666,
              "#ed7953"
             ],
             [
              0.7777777777777778,
              "#fb9f3a"
             ],
             [
              0.8888888888888888,
              "#fdca26"
             ],
             [
              1,
              "#f0f921"
             ]
            ],
            "type": "heatmap"
           }
          ],
          "heatmapgl": [
           {
            "colorbar": {
             "outlinewidth": 0,
             "ticks": ""
            },
            "colorscale": [
             [
              0,
              "#0d0887"
             ],
             [
              0.1111111111111111,
              "#46039f"
             ],
             [
              0.2222222222222222,
              "#7201a8"
             ],
             [
              0.3333333333333333,
              "#9c179e"
             ],
             [
              0.4444444444444444,
              "#bd3786"
             ],
             [
              0.5555555555555556,
              "#d8576b"
             ],
             [
              0.6666666666666666,
              "#ed7953"
             ],
             [
              0.7777777777777778,
              "#fb9f3a"
             ],
             [
              0.8888888888888888,
              "#fdca26"
             ],
             [
              1,
              "#f0f921"
             ]
            ],
            "type": "heatmapgl"
           }
          ],
          "histogram": [
           {
            "marker": {
             "colorbar": {
              "outlinewidth": 0,
              "ticks": ""
             }
            },
            "type": "histogram"
           }
          ],
          "histogram2d": [
           {
            "colorbar": {
             "outlinewidth": 0,
             "ticks": ""
            },
            "colorscale": [
             [
              0,
              "#0d0887"
             ],
             [
              0.1111111111111111,
              "#46039f"
             ],
             [
              0.2222222222222222,
              "#7201a8"
             ],
             [
              0.3333333333333333,
              "#9c179e"
             ],
             [
              0.4444444444444444,
              "#bd3786"
             ],
             [
              0.5555555555555556,
              "#d8576b"
             ],
             [
              0.6666666666666666,
              "#ed7953"
             ],
             [
              0.7777777777777778,
              "#fb9f3a"
             ],
             [
              0.8888888888888888,
              "#fdca26"
             ],
             [
              1,
              "#f0f921"
             ]
            ],
            "type": "histogram2d"
           }
          ],
          "histogram2dcontour": [
           {
            "colorbar": {
             "outlinewidth": 0,
             "ticks": ""
            },
            "colorscale": [
             [
              0,
              "#0d0887"
             ],
             [
              0.1111111111111111,
              "#46039f"
             ],
             [
              0.2222222222222222,
              "#7201a8"
             ],
             [
              0.3333333333333333,
              "#9c179e"
             ],
             [
              0.4444444444444444,
              "#bd3786"
             ],
             [
              0.5555555555555556,
              "#d8576b"
             ],
             [
              0.6666666666666666,
              "#ed7953"
             ],
             [
              0.7777777777777778,
              "#fb9f3a"
             ],
             [
              0.8888888888888888,
              "#fdca26"
             ],
             [
              1,
              "#f0f921"
             ]
            ],
            "type": "histogram2dcontour"
           }
          ],
          "mesh3d": [
           {
            "colorbar": {
             "outlinewidth": 0,
             "ticks": ""
            },
            "type": "mesh3d"
           }
          ],
          "parcoords": [
           {
            "line": {
             "colorbar": {
              "outlinewidth": 0,
              "ticks": ""
             }
            },
            "type": "parcoords"
           }
          ],
          "pie": [
           {
            "automargin": true,
            "type": "pie"
           }
          ],
          "scatter": [
           {
            "marker": {
             "colorbar": {
              "outlinewidth": 0,
              "ticks": ""
             }
            },
            "type": "scatter"
           }
          ],
          "scatter3d": [
           {
            "line": {
             "colorbar": {
              "outlinewidth": 0,
              "ticks": ""
             }
            },
            "marker": {
             "colorbar": {
              "outlinewidth": 0,
              "ticks": ""
             }
            },
            "type": "scatter3d"
           }
          ],
          "scattercarpet": [
           {
            "marker": {
             "colorbar": {
              "outlinewidth": 0,
              "ticks": ""
             }
            },
            "type": "scattercarpet"
           }
          ],
          "scattergeo": [
           {
            "marker": {
             "colorbar": {
              "outlinewidth": 0,
              "ticks": ""
             }
            },
            "type": "scattergeo"
           }
          ],
          "scattergl": [
           {
            "marker": {
             "colorbar": {
              "outlinewidth": 0,
              "ticks": ""
             }
            },
            "type": "scattergl"
           }
          ],
          "scattermapbox": [
           {
            "marker": {
             "colorbar": {
              "outlinewidth": 0,
              "ticks": ""
             }
            },
            "type": "scattermapbox"
           }
          ],
          "scatterpolar": [
           {
            "marker": {
             "colorbar": {
              "outlinewidth": 0,
              "ticks": ""
             }
            },
            "type": "scatterpolar"
           }
          ],
          "scatterpolargl": [
           {
            "marker": {
             "colorbar": {
              "outlinewidth": 0,
              "ticks": ""
             }
            },
            "type": "scatterpolargl"
           }
          ],
          "scatterternary": [
           {
            "marker": {
             "colorbar": {
              "outlinewidth": 0,
              "ticks": ""
             }
            },
            "type": "scatterternary"
           }
          ],
          "surface": [
           {
            "colorbar": {
             "outlinewidth": 0,
             "ticks": ""
            },
            "colorscale": [
             [
              0,
              "#0d0887"
             ],
             [
              0.1111111111111111,
              "#46039f"
             ],
             [
              0.2222222222222222,
              "#7201a8"
             ],
             [
              0.3333333333333333,
              "#9c179e"
             ],
             [
              0.4444444444444444,
              "#bd3786"
             ],
             [
              0.5555555555555556,
              "#d8576b"
             ],
             [
              0.6666666666666666,
              "#ed7953"
             ],
             [
              0.7777777777777778,
              "#fb9f3a"
             ],
             [
              0.8888888888888888,
              "#fdca26"
             ],
             [
              1,
              "#f0f921"
             ]
            ],
            "type": "surface"
           }
          ],
          "table": [
           {
            "cells": {
             "fill": {
              "color": "#EBF0F8"
             },
             "line": {
              "color": "white"
             }
            },
            "header": {
             "fill": {
              "color": "#C8D4E3"
             },
             "line": {
              "color": "white"
             }
            },
            "type": "table"
           }
          ]
         },
         "layout": {
          "annotationdefaults": {
           "arrowcolor": "#2a3f5f",
           "arrowhead": 0,
           "arrowwidth": 1
          },
          "autotypenumbers": "strict",
          "coloraxis": {
           "colorbar": {
            "outlinewidth": 0,
            "ticks": ""
           }
          },
          "colorscale": {
           "diverging": [
            [
             0,
             "#8e0152"
            ],
            [
             0.1,
             "#c51b7d"
            ],
            [
             0.2,
             "#de77ae"
            ],
            [
             0.3,
             "#f1b6da"
            ],
            [
             0.4,
             "#fde0ef"
            ],
            [
             0.5,
             "#f7f7f7"
            ],
            [
             0.6,
             "#e6f5d0"
            ],
            [
             0.7,
             "#b8e186"
            ],
            [
             0.8,
             "#7fbc41"
            ],
            [
             0.9,
             "#4d9221"
            ],
            [
             1,
             "#276419"
            ]
           ],
           "sequential": [
            [
             0,
             "#0d0887"
            ],
            [
             0.1111111111111111,
             "#46039f"
            ],
            [
             0.2222222222222222,
             "#7201a8"
            ],
            [
             0.3333333333333333,
             "#9c179e"
            ],
            [
             0.4444444444444444,
             "#bd3786"
            ],
            [
             0.5555555555555556,
             "#d8576b"
            ],
            [
             0.6666666666666666,
             "#ed7953"
            ],
            [
             0.7777777777777778,
             "#fb9f3a"
            ],
            [
             0.8888888888888888,
             "#fdca26"
            ],
            [
             1,
             "#f0f921"
            ]
           ],
           "sequentialminus": [
            [
             0,
             "#0d0887"
            ],
            [
             0.1111111111111111,
             "#46039f"
            ],
            [
             0.2222222222222222,
             "#7201a8"
            ],
            [
             0.3333333333333333,
             "#9c179e"
            ],
            [
             0.4444444444444444,
             "#bd3786"
            ],
            [
             0.5555555555555556,
             "#d8576b"
            ],
            [
             0.6666666666666666,
             "#ed7953"
            ],
            [
             0.7777777777777778,
             "#fb9f3a"
            ],
            [
             0.8888888888888888,
             "#fdca26"
            ],
            [
             1,
             "#f0f921"
            ]
           ]
          },
          "colorway": [
           "#636efa",
           "#EF553B",
           "#00cc96",
           "#ab63fa",
           "#FFA15A",
           "#19d3f3",
           "#FF6692",
           "#B6E880",
           "#FF97FF",
           "#FECB52"
          ],
          "font": {
           "color": "#2a3f5f"
          },
          "geo": {
           "bgcolor": "white",
           "lakecolor": "white",
           "landcolor": "#E5ECF6",
           "showlakes": true,
           "showland": true,
           "subunitcolor": "white"
          },
          "hoverlabel": {
           "align": "left"
          },
          "hovermode": "closest",
          "mapbox": {
           "style": "light"
          },
          "paper_bgcolor": "white",
          "plot_bgcolor": "#E5ECF6",
          "polar": {
           "angularaxis": {
            "gridcolor": "white",
            "linecolor": "white",
            "ticks": ""
           },
           "bgcolor": "#E5ECF6",
           "radialaxis": {
            "gridcolor": "white",
            "linecolor": "white",
            "ticks": ""
           }
          },
          "scene": {
           "xaxis": {
            "backgroundcolor": "#E5ECF6",
            "gridcolor": "white",
            "gridwidth": 2,
            "linecolor": "white",
            "showbackground": true,
            "ticks": "",
            "zerolinecolor": "white"
           },
           "yaxis": {
            "backgroundcolor": "#E5ECF6",
            "gridcolor": "white",
            "gridwidth": 2,
            "linecolor": "white",
            "showbackground": true,
            "ticks": "",
            "zerolinecolor": "white"
           },
           "zaxis": {
            "backgroundcolor": "#E5ECF6",
            "gridcolor": "white",
            "gridwidth": 2,
            "linecolor": "white",
            "showbackground": true,
            "ticks": "",
            "zerolinecolor": "white"
           }
          },
          "shapedefaults": {
           "line": {
            "color": "#2a3f5f"
           }
          },
          "ternary": {
           "aaxis": {
            "gridcolor": "white",
            "linecolor": "white",
            "ticks": ""
           },
           "baxis": {
            "gridcolor": "white",
            "linecolor": "white",
            "ticks": ""
           },
           "bgcolor": "#E5ECF6",
           "caxis": {
            "gridcolor": "white",
            "linecolor": "white",
            "ticks": ""
           }
          },
          "title": {
           "x": 0.05
          },
          "xaxis": {
           "automargin": true,
           "gridcolor": "white",
           "linecolor": "white",
           "ticks": "",
           "title": {
            "standoff": 15
           },
           "zerolinecolor": "white",
           "zerolinewidth": 2
          },
          "yaxis": {
           "automargin": true,
           "gridcolor": "white",
           "linecolor": "white",
           "ticks": "",
           "title": {
            "standoff": 15
           },
           "zerolinecolor": "white",
           "zerolinewidth": 2
          }
         }
        },
        "title": {
         "text": "Win Rate (%) by Country"
        },
        "xaxis": {
         "anchor": "y",
         "domain": [
          0,
          1
         ],
         "title": {
          "text": "Country"
         }
        },
        "yaxis": {
         "anchor": "x",
         "domain": [
          0,
          1
         ],
         "title": {
          "text": "Win Rate (%)"
         }
        }
       }
      },
      "text/html": [
       "<div>                            <div id=\"a7b1542e-30c3-4220-a45b-6fb5ce3dd701\" class=\"plotly-graph-div\" style=\"height:525px; width:100%;\"></div>            <script type=\"text/javascript\">                require([\"plotly\"], function(Plotly) {                    window.PLOTLYENV=window.PLOTLYENV || {};                                    if (document.getElementById(\"a7b1542e-30c3-4220-a45b-6fb5ce3dd701\")) {                    Plotly.newPlot(                        \"a7b1542e-30c3-4220-a45b-6fb5ce3dd701\",                        [{\"alignmentgroup\": \"True\", \"hovertemplate\": \"Match Result=Away<br>Country=%{x}<br>Win Rate (%)=%{y}<extra></extra>\", \"legendgroup\": \"Away\", \"marker\": {\"color\": \"#636efa\"}, \"name\": \"Away\", \"offsetgroup\": \"Away\", \"orientation\": \"v\", \"showlegend\": true, \"textposition\": \"auto\", \"type\": \"bar\", \"x\": [\"Argentina\", \"Brazil\", \"Chile\", \"Colombia\", \"Mexico\", \"Peru\"], \"xaxis\": \"x\", \"y\": [29.43058221369162, 24.802631578947366, 25.412960609911057, 23.193473193473192, 26.706231454005934, 21.935483870967744], \"yaxis\": \"y\"}, {\"alignmentgroup\": \"True\", \"hovertemplate\": \"Match Result=Draw<br>Country=%{x}<br>Win Rate (%)=%{y}<extra></extra>\", \"legendgroup\": \"Draw\", \"marker\": {\"color\": \"#EF553B\"}, \"name\": \"Draw\", \"offsetgroup\": \"Draw\", \"orientation\": \"v\", \"showlegend\": true, \"textposition\": \"auto\", \"type\": \"bar\", \"x\": [\"Argentina\", \"Brazil\", \"Chile\", \"Colombia\", \"Mexico\", \"Peru\"], \"xaxis\": \"x\", \"y\": [27.83109404990403, 27.56578947368421, 32.78271918678526, 29.02097902097902, 29.080118694362017, 29.677419354838708], \"yaxis\": \"y\"}, {\"alignmentgroup\": \"True\", \"hovertemplate\": \"Match Result=Home<br>Country=%{x}<br>Win Rate (%)=%{y}<extra></extra>\", \"legendgroup\": \"Home\", \"marker\": {\"color\": \"#00cc96\"}, \"name\": \"Home\", \"offsetgroup\": \"Home\", \"orientation\": \"v\", \"showlegend\": true, \"textposition\": \"auto\", \"type\": \"bar\", \"x\": [\"Argentina\", \"Brazil\", \"Chile\", \"Colombia\", \"Mexico\", \"Peru\"], \"xaxis\": \"x\", \"y\": [42.73832373640435, 47.63157894736842, 41.80432020330368, 47.785547785547784, 44.21364985163205, 48.38709677419355], \"yaxis\": \"y\"}],                        {\"barmode\": \"relative\", \"legend\": {\"title\": {\"text\": \"Match Result\"}, \"tracegroupgap\": 0}, \"template\": {\"data\": {\"bar\": [{\"error_x\": {\"color\": \"#2a3f5f\"}, \"error_y\": {\"color\": \"#2a3f5f\"}, \"marker\": {\"line\": {\"color\": \"#E5ECF6\", \"width\": 0.5}}, \"type\": \"bar\"}], \"barpolar\": [{\"marker\": {\"line\": {\"color\": \"#E5ECF6\", \"width\": 0.5}}, \"type\": \"barpolar\"}], \"carpet\": [{\"aaxis\": {\"endlinecolor\": \"#2a3f5f\", \"gridcolor\": \"white\", \"linecolor\": \"white\", \"minorgridcolor\": \"white\", \"startlinecolor\": \"#2a3f5f\"}, \"baxis\": {\"endlinecolor\": \"#2a3f5f\", \"gridcolor\": \"white\", \"linecolor\": \"white\", \"minorgridcolor\": \"white\", \"startlinecolor\": \"#2a3f5f\"}, \"type\": \"carpet\"}], \"choropleth\": [{\"colorbar\": {\"outlinewidth\": 0, \"ticks\": \"\"}, \"type\": \"choropleth\"}], \"contour\": [{\"colorbar\": {\"outlinewidth\": 0, \"ticks\": \"\"}, \"colorscale\": [[0.0, \"#0d0887\"], [0.1111111111111111, \"#46039f\"], [0.2222222222222222, \"#7201a8\"], [0.3333333333333333, \"#9c179e\"], [0.4444444444444444, \"#bd3786\"], [0.5555555555555556, \"#d8576b\"], [0.6666666666666666, \"#ed7953\"], [0.7777777777777778, \"#fb9f3a\"], [0.8888888888888888, \"#fdca26\"], [1.0, \"#f0f921\"]], \"type\": \"contour\"}], \"contourcarpet\": [{\"colorbar\": {\"outlinewidth\": 0, \"ticks\": \"\"}, \"type\": \"contourcarpet\"}], \"heatmap\": [{\"colorbar\": {\"outlinewidth\": 0, \"ticks\": \"\"}, \"colorscale\": [[0.0, \"#0d0887\"], [0.1111111111111111, \"#46039f\"], [0.2222222222222222, \"#7201a8\"], [0.3333333333333333, \"#9c179e\"], [0.4444444444444444, \"#bd3786\"], [0.5555555555555556, \"#d8576b\"], [0.6666666666666666, \"#ed7953\"], [0.7777777777777778, \"#fb9f3a\"], [0.8888888888888888, \"#fdca26\"], [1.0, \"#f0f921\"]], \"type\": \"heatmap\"}], \"heatmapgl\": [{\"colorbar\": {\"outlinewidth\": 0, \"ticks\": \"\"}, \"colorscale\": [[0.0, \"#0d0887\"], [0.1111111111111111, \"#46039f\"], [0.2222222222222222, \"#7201a8\"], [0.3333333333333333, \"#9c179e\"], [0.4444444444444444, \"#bd3786\"], [0.5555555555555556, \"#d8576b\"], [0.6666666666666666, \"#ed7953\"], [0.7777777777777778, \"#fb9f3a\"], [0.8888888888888888, \"#fdca26\"], [1.0, \"#f0f921\"]], \"type\": \"heatmapgl\"}], \"histogram\": [{\"marker\": {\"colorbar\": {\"outlinewidth\": 0, \"ticks\": \"\"}}, \"type\": \"histogram\"}], \"histogram2d\": [{\"colorbar\": {\"outlinewidth\": 0, \"ticks\": \"\"}, \"colorscale\": [[0.0, \"#0d0887\"], [0.1111111111111111, \"#46039f\"], [0.2222222222222222, \"#7201a8\"], [0.3333333333333333, \"#9c179e\"], [0.4444444444444444, \"#bd3786\"], [0.5555555555555556, \"#d8576b\"], [0.6666666666666666, \"#ed7953\"], [0.7777777777777778, \"#fb9f3a\"], [0.8888888888888888, \"#fdca26\"], [1.0, \"#f0f921\"]], \"type\": \"histogram2d\"}], \"histogram2dcontour\": [{\"colorbar\": {\"outlinewidth\": 0, \"ticks\": \"\"}, \"colorscale\": [[0.0, \"#0d0887\"], [0.1111111111111111, \"#46039f\"], [0.2222222222222222, \"#7201a8\"], [0.3333333333333333, \"#9c179e\"], [0.4444444444444444, \"#bd3786\"], [0.5555555555555556, \"#d8576b\"], [0.6666666666666666, \"#ed7953\"], [0.7777777777777778, \"#fb9f3a\"], [0.8888888888888888, \"#fdca26\"], [1.0, \"#f0f921\"]], \"type\": \"histogram2dcontour\"}], \"mesh3d\": [{\"colorbar\": {\"outlinewidth\": 0, \"ticks\": \"\"}, \"type\": \"mesh3d\"}], \"parcoords\": [{\"line\": {\"colorbar\": {\"outlinewidth\": 0, \"ticks\": \"\"}}, \"type\": \"parcoords\"}], \"pie\": [{\"automargin\": true, \"type\": \"pie\"}], \"scatter\": [{\"marker\": {\"colorbar\": {\"outlinewidth\": 0, \"ticks\": \"\"}}, \"type\": \"scatter\"}], \"scatter3d\": [{\"line\": {\"colorbar\": {\"outlinewidth\": 0, \"ticks\": \"\"}}, \"marker\": {\"colorbar\": {\"outlinewidth\": 0, \"ticks\": \"\"}}, \"type\": \"scatter3d\"}], \"scattercarpet\": [{\"marker\": {\"colorbar\": {\"outlinewidth\": 0, \"ticks\": \"\"}}, \"type\": \"scattercarpet\"}], \"scattergeo\": [{\"marker\": {\"colorbar\": {\"outlinewidth\": 0, \"ticks\": \"\"}}, \"type\": \"scattergeo\"}], \"scattergl\": [{\"marker\": {\"colorbar\": {\"outlinewidth\": 0, \"ticks\": \"\"}}, \"type\": \"scattergl\"}], \"scattermapbox\": [{\"marker\": {\"colorbar\": {\"outlinewidth\": 0, \"ticks\": \"\"}}, \"type\": \"scattermapbox\"}], \"scatterpolar\": [{\"marker\": {\"colorbar\": {\"outlinewidth\": 0, \"ticks\": \"\"}}, \"type\": \"scatterpolar\"}], \"scatterpolargl\": [{\"marker\": {\"colorbar\": {\"outlinewidth\": 0, \"ticks\": \"\"}}, \"type\": \"scatterpolargl\"}], \"scatterternary\": [{\"marker\": {\"colorbar\": {\"outlinewidth\": 0, \"ticks\": \"\"}}, \"type\": \"scatterternary\"}], \"surface\": [{\"colorbar\": {\"outlinewidth\": 0, \"ticks\": \"\"}, \"colorscale\": [[0.0, \"#0d0887\"], [0.1111111111111111, \"#46039f\"], [0.2222222222222222, \"#7201a8\"], [0.3333333333333333, \"#9c179e\"], [0.4444444444444444, \"#bd3786\"], [0.5555555555555556, \"#d8576b\"], [0.6666666666666666, \"#ed7953\"], [0.7777777777777778, \"#fb9f3a\"], [0.8888888888888888, \"#fdca26\"], [1.0, \"#f0f921\"]], \"type\": \"surface\"}], \"table\": [{\"cells\": {\"fill\": {\"color\": \"#EBF0F8\"}, \"line\": {\"color\": \"white\"}}, \"header\": {\"fill\": {\"color\": \"#C8D4E3\"}, \"line\": {\"color\": \"white\"}}, \"type\": \"table\"}]}, \"layout\": {\"annotationdefaults\": {\"arrowcolor\": \"#2a3f5f\", \"arrowhead\": 0, \"arrowwidth\": 1}, \"autotypenumbers\": \"strict\", \"coloraxis\": {\"colorbar\": {\"outlinewidth\": 0, \"ticks\": \"\"}}, \"colorscale\": {\"diverging\": [[0, \"#8e0152\"], [0.1, \"#c51b7d\"], [0.2, \"#de77ae\"], [0.3, \"#f1b6da\"], [0.4, \"#fde0ef\"], [0.5, \"#f7f7f7\"], [0.6, \"#e6f5d0\"], [0.7, \"#b8e186\"], [0.8, \"#7fbc41\"], [0.9, \"#4d9221\"], [1, \"#276419\"]], \"sequential\": [[0.0, \"#0d0887\"], [0.1111111111111111, \"#46039f\"], [0.2222222222222222, \"#7201a8\"], [0.3333333333333333, \"#9c179e\"], [0.4444444444444444, \"#bd3786\"], [0.5555555555555556, \"#d8576b\"], [0.6666666666666666, \"#ed7953\"], [0.7777777777777778, \"#fb9f3a\"], [0.8888888888888888, \"#fdca26\"], [1.0, \"#f0f921\"]], \"sequentialminus\": [[0.0, \"#0d0887\"], [0.1111111111111111, \"#46039f\"], [0.2222222222222222, \"#7201a8\"], [0.3333333333333333, \"#9c179e\"], [0.4444444444444444, \"#bd3786\"], [0.5555555555555556, \"#d8576b\"], [0.6666666666666666, \"#ed7953\"], [0.7777777777777778, \"#fb9f3a\"], [0.8888888888888888, \"#fdca26\"], [1.0, \"#f0f921\"]]}, \"colorway\": [\"#636efa\", \"#EF553B\", \"#00cc96\", \"#ab63fa\", \"#FFA15A\", \"#19d3f3\", \"#FF6692\", \"#B6E880\", \"#FF97FF\", \"#FECB52\"], \"font\": {\"color\": \"#2a3f5f\"}, \"geo\": {\"bgcolor\": \"white\", \"lakecolor\": \"white\", \"landcolor\": \"#E5ECF6\", \"showlakes\": true, \"showland\": true, \"subunitcolor\": \"white\"}, \"hoverlabel\": {\"align\": \"left\"}, \"hovermode\": \"closest\", \"mapbox\": {\"style\": \"light\"}, \"paper_bgcolor\": \"white\", \"plot_bgcolor\": \"#E5ECF6\", \"polar\": {\"angularaxis\": {\"gridcolor\": \"white\", \"linecolor\": \"white\", \"ticks\": \"\"}, \"bgcolor\": \"#E5ECF6\", \"radialaxis\": {\"gridcolor\": \"white\", \"linecolor\": \"white\", \"ticks\": \"\"}}, \"scene\": {\"xaxis\": {\"backgroundcolor\": \"#E5ECF6\", \"gridcolor\": \"white\", \"gridwidth\": 2, \"linecolor\": \"white\", \"showbackground\": true, \"ticks\": \"\", \"zerolinecolor\": \"white\"}, \"yaxis\": {\"backgroundcolor\": \"#E5ECF6\", \"gridcolor\": \"white\", \"gridwidth\": 2, \"linecolor\": \"white\", \"showbackground\": true, \"ticks\": \"\", \"zerolinecolor\": \"white\"}, \"zaxis\": {\"backgroundcolor\": \"#E5ECF6\", \"gridcolor\": \"white\", \"gridwidth\": 2, \"linecolor\": \"white\", \"showbackground\": true, \"ticks\": \"\", \"zerolinecolor\": \"white\"}}, \"shapedefaults\": {\"line\": {\"color\": \"#2a3f5f\"}}, \"ternary\": {\"aaxis\": {\"gridcolor\": \"white\", \"linecolor\": \"white\", \"ticks\": \"\"}, \"baxis\": {\"gridcolor\": \"white\", \"linecolor\": \"white\", \"ticks\": \"\"}, \"bgcolor\": \"#E5ECF6\", \"caxis\": {\"gridcolor\": \"white\", \"linecolor\": \"white\", \"ticks\": \"\"}}, \"title\": {\"x\": 0.05}, \"xaxis\": {\"automargin\": true, \"gridcolor\": \"white\", \"linecolor\": \"white\", \"ticks\": \"\", \"title\": {\"standoff\": 15}, \"zerolinecolor\": \"white\", \"zerolinewidth\": 2}, \"yaxis\": {\"automargin\": true, \"gridcolor\": \"white\", \"linecolor\": \"white\", \"ticks\": \"\", \"title\": {\"standoff\": 15}, \"zerolinecolor\": \"white\", \"zerolinewidth\": 2}}}, \"title\": {\"text\": \"Win Rate (%) by Country\"}, \"xaxis\": {\"anchor\": \"y\", \"domain\": [0.0, 1.0], \"title\": {\"text\": \"Country\"}}, \"yaxis\": {\"anchor\": \"x\", \"domain\": [0.0, 1.0], \"title\": {\"text\": \"Win Rate (%)\"}}},                        {\"responsive\": true}                    ).then(function(){\n",
       "                            \n",
       "var gd = document.getElementById('a7b1542e-30c3-4220-a45b-6fb5ce3dd701');\n",
       "var x = new MutationObserver(function (mutations, observer) {{\n",
       "        var display = window.getComputedStyle(gd).display;\n",
       "        if (!display || display === 'none') {{\n",
       "            console.log([gd, 'removed!']);\n",
       "            Plotly.purge(gd);\n",
       "            observer.disconnect();\n",
       "        }}\n",
       "}});\n",
       "\n",
       "// Listen for the removal of the full notebook cells\n",
       "var notebookContainer = gd.closest('#notebook-container');\n",
       "if (notebookContainer) {{\n",
       "    x.observe(notebookContainer, {childList: true});\n",
       "}}\n",
       "\n",
       "// Listen for the clearing of the current output cell\n",
       "var outputEl = gd.closest('.output');\n",
       "if (outputEl) {{\n",
       "    x.observe(outputEl, {childList: true});\n",
       "}}\n",
       "\n",
       "                        })                };                });            </script>        </div>"
      ]
     },
     "metadata": {},
     "output_type": "display_data"
    }
   ],
   "source": [
    "plot_winrate_barplot(df, var_x=\"country_name\", label_x=\"Country\")"
   ]
  },
  {
   "cell_type": "code",
   "execution_count": 147,
   "metadata": {
    "code_folding": [
     0
    ]
   },
   "outputs": [],
   "source": [
    "df['league_progress_cat'] = np.select([df['league_progress']<=0.10, df['league_progress']<=0.20, \n",
    "                                       df['league_progress']<=0.30, df['league_progress']<=0.40,\n",
    "                                       df['league_progress']<=0.50, df['league_progress']<=0.60,\n",
    "                                       df['league_progress']<=0.70, df['league_progress']<=0.80, \n",
    "                                       df['league_progress']<=0.90, df['league_progress']<=1], \n",
    "                                      ['0-10', '10-20', '20-30', '30-40', '40-50', '50-60', \n",
    "                                       '60-70', '70-80', '80-90', '90-100'])"
   ]
  },
  {
   "cell_type": "code",
   "execution_count": 250,
   "metadata": {},
   "outputs": [
    {
     "data": {
      "application/vnd.plotly.v1+json": {
       "config": {
        "plotlyServerURL": "https://plot.ly"
       },
       "data": [
        {
         "alignmentgroup": "True",
         "hovertemplate": "Match Result=Away<br>League Progress=%{x}<br>Win Rate (%)=%{y}<extra></extra>",
         "legendgroup": "Away",
         "marker": {
          "color": "#636efa"
         },
         "name": "Away",
         "offsetgroup": "Away",
         "orientation": "v",
         "showlegend": true,
         "textposition": "auto",
         "type": "bar",
         "x": [
          "0-10",
          "10-20",
          "20-30",
          "30-40",
          "40-50",
          "50-60",
          "60-70",
          "70-80",
          "80-90",
          "90-100"
         ],
         "xaxis": "x",
         "y": [
          25.153374233128833,
          23.62924281984334,
          25.442176870748302,
          25.127551020408163,
          28.205128205128204,
          27.41477272727273,
          27.165354330708663,
          25.906040268456376,
          25.70621468926554,
          23.183925811437405
         ],
         "yaxis": "y"
        },
        {
         "alignmentgroup": "True",
         "hovertemplate": "Match Result=Draw<br>League Progress=%{x}<br>Win Rate (%)=%{y}<extra></extra>",
         "legendgroup": "Draw",
         "marker": {
          "color": "#EF553B"
         },
         "name": "Draw",
         "offsetgroup": "Draw",
         "orientation": "v",
         "showlegend": true,
         "textposition": "auto",
         "type": "bar",
         "x": [
          "0-10",
          "10-20",
          "20-30",
          "30-40",
          "40-50",
          "50-60",
          "60-70",
          "70-80",
          "80-90",
          "90-100"
         ],
         "xaxis": "x",
         "y": [
          27.914110429447852,
          28.459530026109658,
          29.115646258503403,
          28.188775510204085,
          25.506072874493928,
          26.84659090909091,
          28.608923884514436,
          27.516778523489933,
          34.03954802259887,
          33.53941267387944
         ],
         "yaxis": "y"
        },
        {
         "alignmentgroup": "True",
         "hovertemplate": "Match Result=Home<br>League Progress=%{x}<br>Win Rate (%)=%{y}<extra></extra>",
         "legendgroup": "Home",
         "marker": {
          "color": "#00cc96"
         },
         "name": "Home",
         "offsetgroup": "Home",
         "orientation": "v",
         "showlegend": true,
         "textposition": "auto",
         "type": "bar",
         "x": [
          "0-10",
          "10-20",
          "20-30",
          "30-40",
          "40-50",
          "50-60",
          "60-70",
          "70-80",
          "80-90",
          "90-100"
         ],
         "xaxis": "x",
         "y": [
          46.93251533742331,
          47.911227154047,
          45.442176870748305,
          46.683673469387756,
          46.288798920377864,
          45.73863636363637,
          44.2257217847769,
          46.577181208053695,
          40.25423728813559,
          43.27666151468315
         ],
         "yaxis": "y"
        }
       ],
       "layout": {
        "barmode": "relative",
        "legend": {
         "title": {
          "text": "Match Result"
         },
         "tracegroupgap": 0
        },
        "template": {
         "data": {
          "bar": [
           {
            "error_x": {
             "color": "#2a3f5f"
            },
            "error_y": {
             "color": "#2a3f5f"
            },
            "marker": {
             "line": {
              "color": "#E5ECF6",
              "width": 0.5
             }
            },
            "type": "bar"
           }
          ],
          "barpolar": [
           {
            "marker": {
             "line": {
              "color": "#E5ECF6",
              "width": 0.5
             }
            },
            "type": "barpolar"
           }
          ],
          "carpet": [
           {
            "aaxis": {
             "endlinecolor": "#2a3f5f",
             "gridcolor": "white",
             "linecolor": "white",
             "minorgridcolor": "white",
             "startlinecolor": "#2a3f5f"
            },
            "baxis": {
             "endlinecolor": "#2a3f5f",
             "gridcolor": "white",
             "linecolor": "white",
             "minorgridcolor": "white",
             "startlinecolor": "#2a3f5f"
            },
            "type": "carpet"
           }
          ],
          "choropleth": [
           {
            "colorbar": {
             "outlinewidth": 0,
             "ticks": ""
            },
            "type": "choropleth"
           }
          ],
          "contour": [
           {
            "colorbar": {
             "outlinewidth": 0,
             "ticks": ""
            },
            "colorscale": [
             [
              0,
              "#0d0887"
             ],
             [
              0.1111111111111111,
              "#46039f"
             ],
             [
              0.2222222222222222,
              "#7201a8"
             ],
             [
              0.3333333333333333,
              "#9c179e"
             ],
             [
              0.4444444444444444,
              "#bd3786"
             ],
             [
              0.5555555555555556,
              "#d8576b"
             ],
             [
              0.6666666666666666,
              "#ed7953"
             ],
             [
              0.7777777777777778,
              "#fb9f3a"
             ],
             [
              0.8888888888888888,
              "#fdca26"
             ],
             [
              1,
              "#f0f921"
             ]
            ],
            "type": "contour"
           }
          ],
          "contourcarpet": [
           {
            "colorbar": {
             "outlinewidth": 0,
             "ticks": ""
            },
            "type": "contourcarpet"
           }
          ],
          "heatmap": [
           {
            "colorbar": {
             "outlinewidth": 0,
             "ticks": ""
            },
            "colorscale": [
             [
              0,
              "#0d0887"
             ],
             [
              0.1111111111111111,
              "#46039f"
             ],
             [
              0.2222222222222222,
              "#7201a8"
             ],
             [
              0.3333333333333333,
              "#9c179e"
             ],
             [
              0.4444444444444444,
              "#bd3786"
             ],
             [
              0.5555555555555556,
              "#d8576b"
             ],
             [
              0.6666666666666666,
              "#ed7953"
             ],
             [
              0.7777777777777778,
              "#fb9f3a"
             ],
             [
              0.8888888888888888,
              "#fdca26"
             ],
             [
              1,
              "#f0f921"
             ]
            ],
            "type": "heatmap"
           }
          ],
          "heatmapgl": [
           {
            "colorbar": {
             "outlinewidth": 0,
             "ticks": ""
            },
            "colorscale": [
             [
              0,
              "#0d0887"
             ],
             [
              0.1111111111111111,
              "#46039f"
             ],
             [
              0.2222222222222222,
              "#7201a8"
             ],
             [
              0.3333333333333333,
              "#9c179e"
             ],
             [
              0.4444444444444444,
              "#bd3786"
             ],
             [
              0.5555555555555556,
              "#d8576b"
             ],
             [
              0.6666666666666666,
              "#ed7953"
             ],
             [
              0.7777777777777778,
              "#fb9f3a"
             ],
             [
              0.8888888888888888,
              "#fdca26"
             ],
             [
              1,
              "#f0f921"
             ]
            ],
            "type": "heatmapgl"
           }
          ],
          "histogram": [
           {
            "marker": {
             "colorbar": {
              "outlinewidth": 0,
              "ticks": ""
             }
            },
            "type": "histogram"
           }
          ],
          "histogram2d": [
           {
            "colorbar": {
             "outlinewidth": 0,
             "ticks": ""
            },
            "colorscale": [
             [
              0,
              "#0d0887"
             ],
             [
              0.1111111111111111,
              "#46039f"
             ],
             [
              0.2222222222222222,
              "#7201a8"
             ],
             [
              0.3333333333333333,
              "#9c179e"
             ],
             [
              0.4444444444444444,
              "#bd3786"
             ],
             [
              0.5555555555555556,
              "#d8576b"
             ],
             [
              0.6666666666666666,
              "#ed7953"
             ],
             [
              0.7777777777777778,
              "#fb9f3a"
             ],
             [
              0.8888888888888888,
              "#fdca26"
             ],
             [
              1,
              "#f0f921"
             ]
            ],
            "type": "histogram2d"
           }
          ],
          "histogram2dcontour": [
           {
            "colorbar": {
             "outlinewidth": 0,
             "ticks": ""
            },
            "colorscale": [
             [
              0,
              "#0d0887"
             ],
             [
              0.1111111111111111,
              "#46039f"
             ],
             [
              0.2222222222222222,
              "#7201a8"
             ],
             [
              0.3333333333333333,
              "#9c179e"
             ],
             [
              0.4444444444444444,
              "#bd3786"
             ],
             [
              0.5555555555555556,
              "#d8576b"
             ],
             [
              0.6666666666666666,
              "#ed7953"
             ],
             [
              0.7777777777777778,
              "#fb9f3a"
             ],
             [
              0.8888888888888888,
              "#fdca26"
             ],
             [
              1,
              "#f0f921"
             ]
            ],
            "type": "histogram2dcontour"
           }
          ],
          "mesh3d": [
           {
            "colorbar": {
             "outlinewidth": 0,
             "ticks": ""
            },
            "type": "mesh3d"
           }
          ],
          "parcoords": [
           {
            "line": {
             "colorbar": {
              "outlinewidth": 0,
              "ticks": ""
             }
            },
            "type": "parcoords"
           }
          ],
          "pie": [
           {
            "automargin": true,
            "type": "pie"
           }
          ],
          "scatter": [
           {
            "marker": {
             "colorbar": {
              "outlinewidth": 0,
              "ticks": ""
             }
            },
            "type": "scatter"
           }
          ],
          "scatter3d": [
           {
            "line": {
             "colorbar": {
              "outlinewidth": 0,
              "ticks": ""
             }
            },
            "marker": {
             "colorbar": {
              "outlinewidth": 0,
              "ticks": ""
             }
            },
            "type": "scatter3d"
           }
          ],
          "scattercarpet": [
           {
            "marker": {
             "colorbar": {
              "outlinewidth": 0,
              "ticks": ""
             }
            },
            "type": "scattercarpet"
           }
          ],
          "scattergeo": [
           {
            "marker": {
             "colorbar": {
              "outlinewidth": 0,
              "ticks": ""
             }
            },
            "type": "scattergeo"
           }
          ],
          "scattergl": [
           {
            "marker": {
             "colorbar": {
              "outlinewidth": 0,
              "ticks": ""
             }
            },
            "type": "scattergl"
           }
          ],
          "scattermapbox": [
           {
            "marker": {
             "colorbar": {
              "outlinewidth": 0,
              "ticks": ""
             }
            },
            "type": "scattermapbox"
           }
          ],
          "scatterpolar": [
           {
            "marker": {
             "colorbar": {
              "outlinewidth": 0,
              "ticks": ""
             }
            },
            "type": "scatterpolar"
           }
          ],
          "scatterpolargl": [
           {
            "marker": {
             "colorbar": {
              "outlinewidth": 0,
              "ticks": ""
             }
            },
            "type": "scatterpolargl"
           }
          ],
          "scatterternary": [
           {
            "marker": {
             "colorbar": {
              "outlinewidth": 0,
              "ticks": ""
             }
            },
            "type": "scatterternary"
           }
          ],
          "surface": [
           {
            "colorbar": {
             "outlinewidth": 0,
             "ticks": ""
            },
            "colorscale": [
             [
              0,
              "#0d0887"
             ],
             [
              0.1111111111111111,
              "#46039f"
             ],
             [
              0.2222222222222222,
              "#7201a8"
             ],
             [
              0.3333333333333333,
              "#9c179e"
             ],
             [
              0.4444444444444444,
              "#bd3786"
             ],
             [
              0.5555555555555556,
              "#d8576b"
             ],
             [
              0.6666666666666666,
              "#ed7953"
             ],
             [
              0.7777777777777778,
              "#fb9f3a"
             ],
             [
              0.8888888888888888,
              "#fdca26"
             ],
             [
              1,
              "#f0f921"
             ]
            ],
            "type": "surface"
           }
          ],
          "table": [
           {
            "cells": {
             "fill": {
              "color": "#EBF0F8"
             },
             "line": {
              "color": "white"
             }
            },
            "header": {
             "fill": {
              "color": "#C8D4E3"
             },
             "line": {
              "color": "white"
             }
            },
            "type": "table"
           }
          ]
         },
         "layout": {
          "annotationdefaults": {
           "arrowcolor": "#2a3f5f",
           "arrowhead": 0,
           "arrowwidth": 1
          },
          "autotypenumbers": "strict",
          "coloraxis": {
           "colorbar": {
            "outlinewidth": 0,
            "ticks": ""
           }
          },
          "colorscale": {
           "diverging": [
            [
             0,
             "#8e0152"
            ],
            [
             0.1,
             "#c51b7d"
            ],
            [
             0.2,
             "#de77ae"
            ],
            [
             0.3,
             "#f1b6da"
            ],
            [
             0.4,
             "#fde0ef"
            ],
            [
             0.5,
             "#f7f7f7"
            ],
            [
             0.6,
             "#e6f5d0"
            ],
            [
             0.7,
             "#b8e186"
            ],
            [
             0.8,
             "#7fbc41"
            ],
            [
             0.9,
             "#4d9221"
            ],
            [
             1,
             "#276419"
            ]
           ],
           "sequential": [
            [
             0,
             "#0d0887"
            ],
            [
             0.1111111111111111,
             "#46039f"
            ],
            [
             0.2222222222222222,
             "#7201a8"
            ],
            [
             0.3333333333333333,
             "#9c179e"
            ],
            [
             0.4444444444444444,
             "#bd3786"
            ],
            [
             0.5555555555555556,
             "#d8576b"
            ],
            [
             0.6666666666666666,
             "#ed7953"
            ],
            [
             0.7777777777777778,
             "#fb9f3a"
            ],
            [
             0.8888888888888888,
             "#fdca26"
            ],
            [
             1,
             "#f0f921"
            ]
           ],
           "sequentialminus": [
            [
             0,
             "#0d0887"
            ],
            [
             0.1111111111111111,
             "#46039f"
            ],
            [
             0.2222222222222222,
             "#7201a8"
            ],
            [
             0.3333333333333333,
             "#9c179e"
            ],
            [
             0.4444444444444444,
             "#bd3786"
            ],
            [
             0.5555555555555556,
             "#d8576b"
            ],
            [
             0.6666666666666666,
             "#ed7953"
            ],
            [
             0.7777777777777778,
             "#fb9f3a"
            ],
            [
             0.8888888888888888,
             "#fdca26"
            ],
            [
             1,
             "#f0f921"
            ]
           ]
          },
          "colorway": [
           "#636efa",
           "#EF553B",
           "#00cc96",
           "#ab63fa",
           "#FFA15A",
           "#19d3f3",
           "#FF6692",
           "#B6E880",
           "#FF97FF",
           "#FECB52"
          ],
          "font": {
           "color": "#2a3f5f"
          },
          "geo": {
           "bgcolor": "white",
           "lakecolor": "white",
           "landcolor": "#E5ECF6",
           "showlakes": true,
           "showland": true,
           "subunitcolor": "white"
          },
          "hoverlabel": {
           "align": "left"
          },
          "hovermode": "closest",
          "mapbox": {
           "style": "light"
          },
          "paper_bgcolor": "white",
          "plot_bgcolor": "#E5ECF6",
          "polar": {
           "angularaxis": {
            "gridcolor": "white",
            "linecolor": "white",
            "ticks": ""
           },
           "bgcolor": "#E5ECF6",
           "radialaxis": {
            "gridcolor": "white",
            "linecolor": "white",
            "ticks": ""
           }
          },
          "scene": {
           "xaxis": {
            "backgroundcolor": "#E5ECF6",
            "gridcolor": "white",
            "gridwidth": 2,
            "linecolor": "white",
            "showbackground": true,
            "ticks": "",
            "zerolinecolor": "white"
           },
           "yaxis": {
            "backgroundcolor": "#E5ECF6",
            "gridcolor": "white",
            "gridwidth": 2,
            "linecolor": "white",
            "showbackground": true,
            "ticks": "",
            "zerolinecolor": "white"
           },
           "zaxis": {
            "backgroundcolor": "#E5ECF6",
            "gridcolor": "white",
            "gridwidth": 2,
            "linecolor": "white",
            "showbackground": true,
            "ticks": "",
            "zerolinecolor": "white"
           }
          },
          "shapedefaults": {
           "line": {
            "color": "#2a3f5f"
           }
          },
          "ternary": {
           "aaxis": {
            "gridcolor": "white",
            "linecolor": "white",
            "ticks": ""
           },
           "baxis": {
            "gridcolor": "white",
            "linecolor": "white",
            "ticks": ""
           },
           "bgcolor": "#E5ECF6",
           "caxis": {
            "gridcolor": "white",
            "linecolor": "white",
            "ticks": ""
           }
          },
          "title": {
           "x": 0.05
          },
          "xaxis": {
           "automargin": true,
           "gridcolor": "white",
           "linecolor": "white",
           "ticks": "",
           "title": {
            "standoff": 15
           },
           "zerolinecolor": "white",
           "zerolinewidth": 2
          },
          "yaxis": {
           "automargin": true,
           "gridcolor": "white",
           "linecolor": "white",
           "ticks": "",
           "title": {
            "standoff": 15
           },
           "zerolinecolor": "white",
           "zerolinewidth": 2
          }
         }
        },
        "title": {
         "text": "Win Rate (%) by League Progress"
        },
        "xaxis": {
         "anchor": "y",
         "domain": [
          0,
          1
         ],
         "title": {
          "text": "League Progress"
         }
        },
        "yaxis": {
         "anchor": "x",
         "domain": [
          0,
          1
         ],
         "title": {
          "text": "Win Rate (%)"
         }
        }
       }
      },
      "text/html": [
       "<div>                            <div id=\"a0418d4b-b41f-446d-afbc-b10ba4b82f5a\" class=\"plotly-graph-div\" style=\"height:525px; width:100%;\"></div>            <script type=\"text/javascript\">                require([\"plotly\"], function(Plotly) {                    window.PLOTLYENV=window.PLOTLYENV || {};                                    if (document.getElementById(\"a0418d4b-b41f-446d-afbc-b10ba4b82f5a\")) {                    Plotly.newPlot(                        \"a0418d4b-b41f-446d-afbc-b10ba4b82f5a\",                        [{\"alignmentgroup\": \"True\", \"hovertemplate\": \"Match Result=Away<br>League Progress=%{x}<br>Win Rate (%)=%{y}<extra></extra>\", \"legendgroup\": \"Away\", \"marker\": {\"color\": \"#636efa\"}, \"name\": \"Away\", \"offsetgroup\": \"Away\", \"orientation\": \"v\", \"showlegend\": true, \"textposition\": \"auto\", \"type\": \"bar\", \"x\": [\"0-10\", \"10-20\", \"20-30\", \"30-40\", \"40-50\", \"50-60\", \"60-70\", \"70-80\", \"80-90\", \"90-100\"], \"xaxis\": \"x\", \"y\": [25.153374233128833, 23.62924281984334, 25.442176870748302, 25.127551020408163, 28.205128205128204, 27.41477272727273, 27.165354330708663, 25.906040268456376, 25.70621468926554, 23.183925811437405], \"yaxis\": \"y\"}, {\"alignmentgroup\": \"True\", \"hovertemplate\": \"Match Result=Draw<br>League Progress=%{x}<br>Win Rate (%)=%{y}<extra></extra>\", \"legendgroup\": \"Draw\", \"marker\": {\"color\": \"#EF553B\"}, \"name\": \"Draw\", \"offsetgroup\": \"Draw\", \"orientation\": \"v\", \"showlegend\": true, \"textposition\": \"auto\", \"type\": \"bar\", \"x\": [\"0-10\", \"10-20\", \"20-30\", \"30-40\", \"40-50\", \"50-60\", \"60-70\", \"70-80\", \"80-90\", \"90-100\"], \"xaxis\": \"x\", \"y\": [27.914110429447852, 28.459530026109658, 29.115646258503403, 28.188775510204085, 25.506072874493928, 26.84659090909091, 28.608923884514436, 27.516778523489933, 34.03954802259887, 33.53941267387944], \"yaxis\": \"y\"}, {\"alignmentgroup\": \"True\", \"hovertemplate\": \"Match Result=Home<br>League Progress=%{x}<br>Win Rate (%)=%{y}<extra></extra>\", \"legendgroup\": \"Home\", \"marker\": {\"color\": \"#00cc96\"}, \"name\": \"Home\", \"offsetgroup\": \"Home\", \"orientation\": \"v\", \"showlegend\": true, \"textposition\": \"auto\", \"type\": \"bar\", \"x\": [\"0-10\", \"10-20\", \"20-30\", \"30-40\", \"40-50\", \"50-60\", \"60-70\", \"70-80\", \"80-90\", \"90-100\"], \"xaxis\": \"x\", \"y\": [46.93251533742331, 47.911227154047, 45.442176870748305, 46.683673469387756, 46.288798920377864, 45.73863636363637, 44.2257217847769, 46.577181208053695, 40.25423728813559, 43.27666151468315], \"yaxis\": \"y\"}],                        {\"barmode\": \"relative\", \"legend\": {\"title\": {\"text\": \"Match Result\"}, \"tracegroupgap\": 0}, \"template\": {\"data\": {\"bar\": [{\"error_x\": {\"color\": \"#2a3f5f\"}, \"error_y\": {\"color\": \"#2a3f5f\"}, \"marker\": {\"line\": {\"color\": \"#E5ECF6\", \"width\": 0.5}}, \"type\": \"bar\"}], \"barpolar\": [{\"marker\": {\"line\": {\"color\": \"#E5ECF6\", \"width\": 0.5}}, \"type\": \"barpolar\"}], \"carpet\": [{\"aaxis\": {\"endlinecolor\": \"#2a3f5f\", \"gridcolor\": \"white\", \"linecolor\": \"white\", \"minorgridcolor\": \"white\", \"startlinecolor\": \"#2a3f5f\"}, \"baxis\": {\"endlinecolor\": \"#2a3f5f\", \"gridcolor\": \"white\", \"linecolor\": \"white\", \"minorgridcolor\": \"white\", \"startlinecolor\": \"#2a3f5f\"}, \"type\": \"carpet\"}], \"choropleth\": [{\"colorbar\": {\"outlinewidth\": 0, \"ticks\": \"\"}, \"type\": \"choropleth\"}], \"contour\": [{\"colorbar\": {\"outlinewidth\": 0, \"ticks\": \"\"}, \"colorscale\": [[0.0, \"#0d0887\"], [0.1111111111111111, \"#46039f\"], [0.2222222222222222, \"#7201a8\"], [0.3333333333333333, \"#9c179e\"], [0.4444444444444444, \"#bd3786\"], [0.5555555555555556, \"#d8576b\"], [0.6666666666666666, \"#ed7953\"], [0.7777777777777778, \"#fb9f3a\"], [0.8888888888888888, \"#fdca26\"], [1.0, \"#f0f921\"]], \"type\": \"contour\"}], \"contourcarpet\": [{\"colorbar\": {\"outlinewidth\": 0, \"ticks\": \"\"}, \"type\": \"contourcarpet\"}], \"heatmap\": [{\"colorbar\": {\"outlinewidth\": 0, \"ticks\": \"\"}, \"colorscale\": [[0.0, \"#0d0887\"], [0.1111111111111111, \"#46039f\"], [0.2222222222222222, \"#7201a8\"], [0.3333333333333333, \"#9c179e\"], [0.4444444444444444, \"#bd3786\"], [0.5555555555555556, \"#d8576b\"], [0.6666666666666666, \"#ed7953\"], [0.7777777777777778, \"#fb9f3a\"], [0.8888888888888888, \"#fdca26\"], [1.0, \"#f0f921\"]], \"type\": \"heatmap\"}], \"heatmapgl\": [{\"colorbar\": {\"outlinewidth\": 0, \"ticks\": \"\"}, \"colorscale\": [[0.0, \"#0d0887\"], [0.1111111111111111, \"#46039f\"], [0.2222222222222222, \"#7201a8\"], [0.3333333333333333, \"#9c179e\"], [0.4444444444444444, \"#bd3786\"], [0.5555555555555556, \"#d8576b\"], [0.6666666666666666, \"#ed7953\"], [0.7777777777777778, \"#fb9f3a\"], [0.8888888888888888, \"#fdca26\"], [1.0, \"#f0f921\"]], \"type\": \"heatmapgl\"}], \"histogram\": [{\"marker\": {\"colorbar\": {\"outlinewidth\": 0, \"ticks\": \"\"}}, \"type\": \"histogram\"}], \"histogram2d\": [{\"colorbar\": {\"outlinewidth\": 0, \"ticks\": \"\"}, \"colorscale\": [[0.0, \"#0d0887\"], [0.1111111111111111, \"#46039f\"], [0.2222222222222222, \"#7201a8\"], [0.3333333333333333, \"#9c179e\"], [0.4444444444444444, \"#bd3786\"], [0.5555555555555556, \"#d8576b\"], [0.6666666666666666, \"#ed7953\"], [0.7777777777777778, \"#fb9f3a\"], [0.8888888888888888, \"#fdca26\"], [1.0, \"#f0f921\"]], \"type\": \"histogram2d\"}], \"histogram2dcontour\": [{\"colorbar\": {\"outlinewidth\": 0, \"ticks\": \"\"}, \"colorscale\": [[0.0, \"#0d0887\"], [0.1111111111111111, \"#46039f\"], [0.2222222222222222, \"#7201a8\"], [0.3333333333333333, \"#9c179e\"], [0.4444444444444444, \"#bd3786\"], [0.5555555555555556, \"#d8576b\"], [0.6666666666666666, \"#ed7953\"], [0.7777777777777778, \"#fb9f3a\"], [0.8888888888888888, \"#fdca26\"], [1.0, \"#f0f921\"]], \"type\": \"histogram2dcontour\"}], \"mesh3d\": [{\"colorbar\": {\"outlinewidth\": 0, \"ticks\": \"\"}, \"type\": \"mesh3d\"}], \"parcoords\": [{\"line\": {\"colorbar\": {\"outlinewidth\": 0, \"ticks\": \"\"}}, \"type\": \"parcoords\"}], \"pie\": [{\"automargin\": true, \"type\": \"pie\"}], \"scatter\": [{\"marker\": {\"colorbar\": {\"outlinewidth\": 0, \"ticks\": \"\"}}, \"type\": \"scatter\"}], \"scatter3d\": [{\"line\": {\"colorbar\": {\"outlinewidth\": 0, \"ticks\": \"\"}}, \"marker\": {\"colorbar\": {\"outlinewidth\": 0, \"ticks\": \"\"}}, \"type\": \"scatter3d\"}], \"scattercarpet\": [{\"marker\": {\"colorbar\": {\"outlinewidth\": 0, \"ticks\": \"\"}}, \"type\": \"scattercarpet\"}], \"scattergeo\": [{\"marker\": {\"colorbar\": {\"outlinewidth\": 0, \"ticks\": \"\"}}, \"type\": \"scattergeo\"}], \"scattergl\": [{\"marker\": {\"colorbar\": {\"outlinewidth\": 0, \"ticks\": \"\"}}, \"type\": \"scattergl\"}], \"scattermapbox\": [{\"marker\": {\"colorbar\": {\"outlinewidth\": 0, \"ticks\": \"\"}}, \"type\": \"scattermapbox\"}], \"scatterpolar\": [{\"marker\": {\"colorbar\": {\"outlinewidth\": 0, \"ticks\": \"\"}}, \"type\": \"scatterpolar\"}], \"scatterpolargl\": [{\"marker\": {\"colorbar\": {\"outlinewidth\": 0, \"ticks\": \"\"}}, \"type\": \"scatterpolargl\"}], \"scatterternary\": [{\"marker\": {\"colorbar\": {\"outlinewidth\": 0, \"ticks\": \"\"}}, \"type\": \"scatterternary\"}], \"surface\": [{\"colorbar\": {\"outlinewidth\": 0, \"ticks\": \"\"}, \"colorscale\": [[0.0, \"#0d0887\"], [0.1111111111111111, \"#46039f\"], [0.2222222222222222, \"#7201a8\"], [0.3333333333333333, \"#9c179e\"], [0.4444444444444444, \"#bd3786\"], [0.5555555555555556, \"#d8576b\"], [0.6666666666666666, \"#ed7953\"], [0.7777777777777778, \"#fb9f3a\"], [0.8888888888888888, \"#fdca26\"], [1.0, \"#f0f921\"]], \"type\": \"surface\"}], \"table\": [{\"cells\": {\"fill\": {\"color\": \"#EBF0F8\"}, \"line\": {\"color\": \"white\"}}, \"header\": {\"fill\": {\"color\": \"#C8D4E3\"}, \"line\": {\"color\": \"white\"}}, \"type\": \"table\"}]}, \"layout\": {\"annotationdefaults\": {\"arrowcolor\": \"#2a3f5f\", \"arrowhead\": 0, \"arrowwidth\": 1}, \"autotypenumbers\": \"strict\", \"coloraxis\": {\"colorbar\": {\"outlinewidth\": 0, \"ticks\": \"\"}}, \"colorscale\": {\"diverging\": [[0, \"#8e0152\"], [0.1, \"#c51b7d\"], [0.2, \"#de77ae\"], [0.3, \"#f1b6da\"], [0.4, \"#fde0ef\"], [0.5, \"#f7f7f7\"], [0.6, \"#e6f5d0\"], [0.7, \"#b8e186\"], [0.8, \"#7fbc41\"], [0.9, \"#4d9221\"], [1, \"#276419\"]], \"sequential\": [[0.0, \"#0d0887\"], [0.1111111111111111, \"#46039f\"], [0.2222222222222222, \"#7201a8\"], [0.3333333333333333, \"#9c179e\"], [0.4444444444444444, \"#bd3786\"], [0.5555555555555556, \"#d8576b\"], [0.6666666666666666, \"#ed7953\"], [0.7777777777777778, \"#fb9f3a\"], [0.8888888888888888, \"#fdca26\"], [1.0, \"#f0f921\"]], \"sequentialminus\": [[0.0, \"#0d0887\"], [0.1111111111111111, \"#46039f\"], [0.2222222222222222, \"#7201a8\"], [0.3333333333333333, \"#9c179e\"], [0.4444444444444444, \"#bd3786\"], [0.5555555555555556, \"#d8576b\"], [0.6666666666666666, \"#ed7953\"], [0.7777777777777778, \"#fb9f3a\"], [0.8888888888888888, \"#fdca26\"], [1.0, \"#f0f921\"]]}, \"colorway\": [\"#636efa\", \"#EF553B\", \"#00cc96\", \"#ab63fa\", \"#FFA15A\", \"#19d3f3\", \"#FF6692\", \"#B6E880\", \"#FF97FF\", \"#FECB52\"], \"font\": {\"color\": \"#2a3f5f\"}, \"geo\": {\"bgcolor\": \"white\", \"lakecolor\": \"white\", \"landcolor\": \"#E5ECF6\", \"showlakes\": true, \"showland\": true, \"subunitcolor\": \"white\"}, \"hoverlabel\": {\"align\": \"left\"}, \"hovermode\": \"closest\", \"mapbox\": {\"style\": \"light\"}, \"paper_bgcolor\": \"white\", \"plot_bgcolor\": \"#E5ECF6\", \"polar\": {\"angularaxis\": {\"gridcolor\": \"white\", \"linecolor\": \"white\", \"ticks\": \"\"}, \"bgcolor\": \"#E5ECF6\", \"radialaxis\": {\"gridcolor\": \"white\", \"linecolor\": \"white\", \"ticks\": \"\"}}, \"scene\": {\"xaxis\": {\"backgroundcolor\": \"#E5ECF6\", \"gridcolor\": \"white\", \"gridwidth\": 2, \"linecolor\": \"white\", \"showbackground\": true, \"ticks\": \"\", \"zerolinecolor\": \"white\"}, \"yaxis\": {\"backgroundcolor\": \"#E5ECF6\", \"gridcolor\": \"white\", \"gridwidth\": 2, \"linecolor\": \"white\", \"showbackground\": true, \"ticks\": \"\", \"zerolinecolor\": \"white\"}, \"zaxis\": {\"backgroundcolor\": \"#E5ECF6\", \"gridcolor\": \"white\", \"gridwidth\": 2, \"linecolor\": \"white\", \"showbackground\": true, \"ticks\": \"\", \"zerolinecolor\": \"white\"}}, \"shapedefaults\": {\"line\": {\"color\": \"#2a3f5f\"}}, \"ternary\": {\"aaxis\": {\"gridcolor\": \"white\", \"linecolor\": \"white\", \"ticks\": \"\"}, \"baxis\": {\"gridcolor\": \"white\", \"linecolor\": \"white\", \"ticks\": \"\"}, \"bgcolor\": \"#E5ECF6\", \"caxis\": {\"gridcolor\": \"white\", \"linecolor\": \"white\", \"ticks\": \"\"}}, \"title\": {\"x\": 0.05}, \"xaxis\": {\"automargin\": true, \"gridcolor\": \"white\", \"linecolor\": \"white\", \"ticks\": \"\", \"title\": {\"standoff\": 15}, \"zerolinecolor\": \"white\", \"zerolinewidth\": 2}, \"yaxis\": {\"automargin\": true, \"gridcolor\": \"white\", \"linecolor\": \"white\", \"ticks\": \"\", \"title\": {\"standoff\": 15}, \"zerolinecolor\": \"white\", \"zerolinewidth\": 2}}}, \"title\": {\"text\": \"Win Rate (%) by League Progress\"}, \"xaxis\": {\"anchor\": \"y\", \"domain\": [0.0, 1.0], \"title\": {\"text\": \"League Progress\"}}, \"yaxis\": {\"anchor\": \"x\", \"domain\": [0.0, 1.0], \"title\": {\"text\": \"Win Rate (%)\"}}},                        {\"responsive\": true}                    ).then(function(){\n",
       "                            \n",
       "var gd = document.getElementById('a0418d4b-b41f-446d-afbc-b10ba4b82f5a');\n",
       "var x = new MutationObserver(function (mutations, observer) {{\n",
       "        var display = window.getComputedStyle(gd).display;\n",
       "        if (!display || display === 'none') {{\n",
       "            console.log([gd, 'removed!']);\n",
       "            Plotly.purge(gd);\n",
       "            observer.disconnect();\n",
       "        }}\n",
       "}});\n",
       "\n",
       "// Listen for the removal of the full notebook cells\n",
       "var notebookContainer = gd.closest('#notebook-container');\n",
       "if (notebookContainer) {{\n",
       "    x.observe(notebookContainer, {childList: true});\n",
       "}}\n",
       "\n",
       "// Listen for the clearing of the current output cell\n",
       "var outputEl = gd.closest('.output');\n",
       "if (outputEl) {{\n",
       "    x.observe(outputEl, {childList: true});\n",
       "}}\n",
       "\n",
       "                        })                };                });            </script>        </div>"
      ]
     },
     "metadata": {},
     "output_type": "display_data"
    }
   ],
   "source": [
    "plot_winrate_barplot(df, var_x=\"league_progress_cat\", label_x=\"League Progress\")"
   ]
  },
  {
   "cell_type": "markdown",
   "metadata": {},
   "source": [
    "### Date"
   ]
  },
  {
   "cell_type": "code",
   "execution_count": 167,
   "metadata": {},
   "outputs": [],
   "source": [
    "df_date = df[cols_base+cols_date].copy()"
   ]
  },
  {
   "cell_type": "code",
   "execution_count": 170,
   "metadata": {},
   "outputs": [
    {
     "data": {
      "text/html": [
       "<div>\n",
       "<style scoped>\n",
       "    .dataframe tbody tr th:only-of-type {\n",
       "        vertical-align: middle;\n",
       "    }\n",
       "\n",
       "    .dataframe tbody tr th {\n",
       "        vertical-align: top;\n",
       "    }\n",
       "\n",
       "    .dataframe thead th {\n",
       "        text-align: right;\n",
       "    }\n",
       "</style>\n",
       "<table border=\"1\" class=\"dataframe\">\n",
       "  <thead>\n",
       "    <tr style=\"text-align: right;\">\n",
       "      <th></th>\n",
       "      <th>country_name</th>\n",
       "      <th>country_code</th>\n",
       "      <th>league_id</th>\n",
       "      <th>league_name</th>\n",
       "      <th>league_type</th>\n",
       "      <th>league_season</th>\n",
       "      <th>league_round</th>\n",
       "      <th>league_round_number</th>\n",
       "      <th>league_progress</th>\n",
       "      <th>total_rounds</th>\n",
       "      <th>total_teams</th>\n",
       "      <th>fixture_id</th>\n",
       "      <th>referee</th>\n",
       "      <th>venue_id</th>\n",
       "      <th>teams_home_id</th>\n",
       "      <th>teams_home_name</th>\n",
       "      <th>teams_away_id</th>\n",
       "      <th>teams_away_name</th>\n",
       "      <th>target</th>\n",
       "      <th>date_tz</th>\n",
       "      <th>date_match</th>\n",
       "      <th>date_dow</th>\n",
       "      <th>time_match</th>\n",
       "      <th>date_day</th>\n",
       "    </tr>\n",
       "  </thead>\n",
       "  <tbody>\n",
       "    <tr>\n",
       "      <th>0</th>\n",
       "      <td>Brazil</td>\n",
       "      <td>BR</td>\n",
       "      <td>71</td>\n",
       "      <td>Serie A</td>\n",
       "      <td>League</td>\n",
       "      <td>2017</td>\n",
       "      <td>Regular Season - 1</td>\n",
       "      <td>1</td>\n",
       "      <td>0.026316</td>\n",
       "      <td>38</td>\n",
       "      <td>20</td>\n",
       "      <td>35468</td>\n",
       "      <td>Braulio Da Silva Machado, Brazil</td>\n",
       "      <td>-1</td>\n",
       "      <td>130</td>\n",
       "      <td>Gremio</td>\n",
       "      <td>120</td>\n",
       "      <td>Botafogo</td>\n",
       "      <td>Home</td>\n",
       "      <td>2017-05-14T22:00:00+00:00</td>\n",
       "      <td>2017-05-14</td>\n",
       "      <td>Sunday</td>\n",
       "      <td>17:00</td>\n",
       "      <td>Afternoon</td>\n",
       "    </tr>\n",
       "    <tr>\n",
       "      <th>1</th>\n",
       "      <td>Brazil</td>\n",
       "      <td>BR</td>\n",
       "      <td>71</td>\n",
       "      <td>Serie A</td>\n",
       "      <td>League</td>\n",
       "      <td>2017</td>\n",
       "      <td>Regular Season - 1</td>\n",
       "      <td>1</td>\n",
       "      <td>0.026316</td>\n",
       "      <td>38</td>\n",
       "      <td>20</td>\n",
       "      <td>35473</td>\n",
       "      <td>Marcos Mateus Pereira, Brazil</td>\n",
       "      <td>-1</td>\n",
       "      <td>139</td>\n",
       "      <td>Ponte Preta</td>\n",
       "      <td>123</td>\n",
       "      <td>Sport Recife</td>\n",
       "      <td>Home</td>\n",
       "      <td>2017-05-14T19:00:00+00:00</td>\n",
       "      <td>2017-05-14</td>\n",
       "      <td>Sunday</td>\n",
       "      <td>14:00</td>\n",
       "      <td>Afternoon</td>\n",
       "    </tr>\n",
       "    <tr>\n",
       "      <th>2</th>\n",
       "      <td>Brazil</td>\n",
       "      <td>BR</td>\n",
       "      <td>71</td>\n",
       "      <td>Serie A</td>\n",
       "      <td>League</td>\n",
       "      <td>2017</td>\n",
       "      <td>Regular Season - 1</td>\n",
       "      <td>1</td>\n",
       "      <td>0.026316</td>\n",
       "      <td>38</td>\n",
       "      <td>20</td>\n",
       "      <td>35471</td>\n",
       "      <td>Marcelo De Lima Henrique, Brazil</td>\n",
       "      <td>-1</td>\n",
       "      <td>135</td>\n",
       "      <td>Cruzeiro</td>\n",
       "      <td>126</td>\n",
       "      <td>Sao Paulo</td>\n",
       "      <td>Home</td>\n",
       "      <td>2017-05-14T19:00:00+00:00</td>\n",
       "      <td>2017-05-14</td>\n",
       "      <td>Sunday</td>\n",
       "      <td>14:00</td>\n",
       "      <td>Afternoon</td>\n",
       "    </tr>\n",
       "    <tr>\n",
       "      <th>3</th>\n",
       "      <td>Brazil</td>\n",
       "      <td>BR</td>\n",
       "      <td>71</td>\n",
       "      <td>Serie A</td>\n",
       "      <td>League</td>\n",
       "      <td>2017</td>\n",
       "      <td>Regular Season - 1</td>\n",
       "      <td>1</td>\n",
       "      <td>0.026316</td>\n",
       "      <td>38</td>\n",
       "      <td>20</td>\n",
       "      <td>35474</td>\n",
       "      <td>Reway Wagner, Brazil</td>\n",
       "      <td>-1</td>\n",
       "      <td>124</td>\n",
       "      <td>Fluminense</td>\n",
       "      <td>128</td>\n",
       "      <td>Santos</td>\n",
       "      <td>Home</td>\n",
       "      <td>2017-05-14T14:00:00+00:00</td>\n",
       "      <td>2017-05-14</td>\n",
       "      <td>Sunday</td>\n",
       "      <td>09:00</td>\n",
       "      <td>Morning</td>\n",
       "    </tr>\n",
       "    <tr>\n",
       "      <th>4</th>\n",
       "      <td>Brazil</td>\n",
       "      <td>BR</td>\n",
       "      <td>71</td>\n",
       "      <td>Serie A</td>\n",
       "      <td>League</td>\n",
       "      <td>2017</td>\n",
       "      <td>Regular Season - 1</td>\n",
       "      <td>1</td>\n",
       "      <td>0.026316</td>\n",
       "      <td>38</td>\n",
       "      <td>20</td>\n",
       "      <td>35475</td>\n",
       "      <td>Elmo Alves Resende Cunha, Brazil</td>\n",
       "      <td>-1</td>\n",
       "      <td>131</td>\n",
       "      <td>Corinthians</td>\n",
       "      <td>132</td>\n",
       "      <td>Chapecoense-sc</td>\n",
       "      <td>Draw</td>\n",
       "      <td>2017-05-13T22:00:00+00:00</td>\n",
       "      <td>2017-05-13</td>\n",
       "      <td>Saturday</td>\n",
       "      <td>17:00</td>\n",
       "      <td>Afternoon</td>\n",
       "    </tr>\n",
       "  </tbody>\n",
       "</table>\n",
       "</div>"
      ],
      "text/plain": [
       "  country_name country_code  league_id league_name league_type  league_season  \\\n",
       "0       Brazil           BR         71     Serie A      League           2017   \n",
       "1       Brazil           BR         71     Serie A      League           2017   \n",
       "2       Brazil           BR         71     Serie A      League           2017   \n",
       "3       Brazil           BR         71     Serie A      League           2017   \n",
       "4       Brazil           BR         71     Serie A      League           2017   \n",
       "\n",
       "         league_round  league_round_number  league_progress  total_rounds  \\\n",
       "0  Regular Season - 1                    1         0.026316            38   \n",
       "1  Regular Season - 1                    1         0.026316            38   \n",
       "2  Regular Season - 1                    1         0.026316            38   \n",
       "3  Regular Season - 1                    1         0.026316            38   \n",
       "4  Regular Season - 1                    1         0.026316            38   \n",
       "\n",
       "   total_teams  fixture_id                           referee  venue_id  \\\n",
       "0           20       35468  Braulio Da Silva Machado, Brazil        -1   \n",
       "1           20       35473     Marcos Mateus Pereira, Brazil        -1   \n",
       "2           20       35471  Marcelo De Lima Henrique, Brazil        -1   \n",
       "3           20       35474              Reway Wagner, Brazil        -1   \n",
       "4           20       35475  Elmo Alves Resende Cunha, Brazil        -1   \n",
       "\n",
       "   teams_home_id teams_home_name  teams_away_id teams_away_name target  \\\n",
       "0            130          Gremio            120        Botafogo   Home   \n",
       "1            139     Ponte Preta            123    Sport Recife   Home   \n",
       "2            135        Cruzeiro            126       Sao Paulo   Home   \n",
       "3            124      Fluminense            128          Santos   Home   \n",
       "4            131     Corinthians            132  Chapecoense-sc   Draw   \n",
       "\n",
       "                     date_tz  date_match   date_dow time_match   date_day  \n",
       "0  2017-05-14T22:00:00+00:00  2017-05-14  Sunday         17:00  Afternoon  \n",
       "1  2017-05-14T19:00:00+00:00  2017-05-14  Sunday         14:00  Afternoon  \n",
       "2  2017-05-14T19:00:00+00:00  2017-05-14  Sunday         14:00  Afternoon  \n",
       "3  2017-05-14T14:00:00+00:00  2017-05-14  Sunday         09:00    Morning  \n",
       "4  2017-05-13T22:00:00+00:00  2017-05-13  Saturday       17:00  Afternoon  "
      ]
     },
     "execution_count": 170,
     "metadata": {},
     "output_type": "execute_result"
    }
   ],
   "source": [
    "df_date.head()"
   ]
  },
  {
   "cell_type": "code",
   "execution_count": 175,
   "metadata": {},
   "outputs": [
    {
     "data": {
      "application/vnd.plotly.v1+json": {
       "config": {
        "plotlyServerURL": "https://plot.ly"
       },
       "data": [
        {
         "alignmentgroup": "True",
         "hovertemplate": "Match Result=Away<br>Day of Week=%{x}<br>Win Rate (%)=%{y}<extra></extra>",
         "legendgroup": "Away",
         "marker": {
          "color": "#636efa"
         },
         "name": "Away",
         "offsetgroup": "Away",
         "orientation": "v",
         "showlegend": true,
         "textposition": "auto",
         "type": "bar",
         "x": [
          "Friday   ",
          "Monday   ",
          "Saturday ",
          "Sunday   ",
          "Thursday ",
          "Tuesday  ",
          "Wednesday"
         ],
         "xaxis": "x",
         "y": [
          28.39335180055402,
          26.601941747572816,
          25.38860103626943,
          25.752773375594295,
          22.30769230769231,
          22.404371584699454,
          26.094276094276093
         ],
         "yaxis": "y"
        },
        {
         "alignmentgroup": "True",
         "hovertemplate": "Match Result=Draw<br>Day of Week=%{x}<br>Win Rate (%)=%{y}<extra></extra>",
         "legendgroup": "Draw",
         "marker": {
          "color": "#EF553B"
         },
         "name": "Draw",
         "offsetgroup": "Draw",
         "orientation": "v",
         "showlegend": true,
         "textposition": "auto",
         "type": "bar",
         "x": [
          "Friday   ",
          "Monday   ",
          "Saturday ",
          "Sunday   ",
          "Thursday ",
          "Tuesday  ",
          "Wednesday"
         ],
         "xaxis": "x",
         "y": [
          31.301939058171747,
          32.038834951456316,
          28.281519861830745,
          28.209191759112517,
          27.94871794871795,
          30.601092896174865,
          28.78787878787879
         ],
         "yaxis": "y"
        },
        {
         "alignmentgroup": "True",
         "hovertemplate": "Match Result=Home<br>Day of Week=%{x}<br>Win Rate (%)=%{y}<extra></extra>",
         "legendgroup": "Home",
         "marker": {
          "color": "#00cc96"
         },
         "name": "Home",
         "offsetgroup": "Home",
         "orientation": "v",
         "showlegend": true,
         "textposition": "auto",
         "type": "bar",
         "x": [
          "Friday   ",
          "Monday   ",
          "Saturday ",
          "Sunday   ",
          "Thursday ",
          "Tuesday  ",
          "Wednesday"
         ],
         "xaxis": "x",
         "y": [
          40.30470914127424,
          41.359223300970875,
          46.32987910189983,
          46.038034865293184,
          49.743589743589745,
          46.994535519125684,
          45.11784511784512
         ],
         "yaxis": "y"
        }
       ],
       "layout": {
        "barmode": "relative",
        "legend": {
         "title": {
          "text": "Match Result"
         },
         "tracegroupgap": 0
        },
        "template": {
         "data": {
          "bar": [
           {
            "error_x": {
             "color": "#2a3f5f"
            },
            "error_y": {
             "color": "#2a3f5f"
            },
            "marker": {
             "line": {
              "color": "#E5ECF6",
              "width": 0.5
             }
            },
            "type": "bar"
           }
          ],
          "barpolar": [
           {
            "marker": {
             "line": {
              "color": "#E5ECF6",
              "width": 0.5
             }
            },
            "type": "barpolar"
           }
          ],
          "carpet": [
           {
            "aaxis": {
             "endlinecolor": "#2a3f5f",
             "gridcolor": "white",
             "linecolor": "white",
             "minorgridcolor": "white",
             "startlinecolor": "#2a3f5f"
            },
            "baxis": {
             "endlinecolor": "#2a3f5f",
             "gridcolor": "white",
             "linecolor": "white",
             "minorgridcolor": "white",
             "startlinecolor": "#2a3f5f"
            },
            "type": "carpet"
           }
          ],
          "choropleth": [
           {
            "colorbar": {
             "outlinewidth": 0,
             "ticks": ""
            },
            "type": "choropleth"
           }
          ],
          "contour": [
           {
            "colorbar": {
             "outlinewidth": 0,
             "ticks": ""
            },
            "colorscale": [
             [
              0,
              "#0d0887"
             ],
             [
              0.1111111111111111,
              "#46039f"
             ],
             [
              0.2222222222222222,
              "#7201a8"
             ],
             [
              0.3333333333333333,
              "#9c179e"
             ],
             [
              0.4444444444444444,
              "#bd3786"
             ],
             [
              0.5555555555555556,
              "#d8576b"
             ],
             [
              0.6666666666666666,
              "#ed7953"
             ],
             [
              0.7777777777777778,
              "#fb9f3a"
             ],
             [
              0.8888888888888888,
              "#fdca26"
             ],
             [
              1,
              "#f0f921"
             ]
            ],
            "type": "contour"
           }
          ],
          "contourcarpet": [
           {
            "colorbar": {
             "outlinewidth": 0,
             "ticks": ""
            },
            "type": "contourcarpet"
           }
          ],
          "heatmap": [
           {
            "colorbar": {
             "outlinewidth": 0,
             "ticks": ""
            },
            "colorscale": [
             [
              0,
              "#0d0887"
             ],
             [
              0.1111111111111111,
              "#46039f"
             ],
             [
              0.2222222222222222,
              "#7201a8"
             ],
             [
              0.3333333333333333,
              "#9c179e"
             ],
             [
              0.4444444444444444,
              "#bd3786"
             ],
             [
              0.5555555555555556,
              "#d8576b"
             ],
             [
              0.6666666666666666,
              "#ed7953"
             ],
             [
              0.7777777777777778,
              "#fb9f3a"
             ],
             [
              0.8888888888888888,
              "#fdca26"
             ],
             [
              1,
              "#f0f921"
             ]
            ],
            "type": "heatmap"
           }
          ],
          "heatmapgl": [
           {
            "colorbar": {
             "outlinewidth": 0,
             "ticks": ""
            },
            "colorscale": [
             [
              0,
              "#0d0887"
             ],
             [
              0.1111111111111111,
              "#46039f"
             ],
             [
              0.2222222222222222,
              "#7201a8"
             ],
             [
              0.3333333333333333,
              "#9c179e"
             ],
             [
              0.4444444444444444,
              "#bd3786"
             ],
             [
              0.5555555555555556,
              "#d8576b"
             ],
             [
              0.6666666666666666,
              "#ed7953"
             ],
             [
              0.7777777777777778,
              "#fb9f3a"
             ],
             [
              0.8888888888888888,
              "#fdca26"
             ],
             [
              1,
              "#f0f921"
             ]
            ],
            "type": "heatmapgl"
           }
          ],
          "histogram": [
           {
            "marker": {
             "colorbar": {
              "outlinewidth": 0,
              "ticks": ""
             }
            },
            "type": "histogram"
           }
          ],
          "histogram2d": [
           {
            "colorbar": {
             "outlinewidth": 0,
             "ticks": ""
            },
            "colorscale": [
             [
              0,
              "#0d0887"
             ],
             [
              0.1111111111111111,
              "#46039f"
             ],
             [
              0.2222222222222222,
              "#7201a8"
             ],
             [
              0.3333333333333333,
              "#9c179e"
             ],
             [
              0.4444444444444444,
              "#bd3786"
             ],
             [
              0.5555555555555556,
              "#d8576b"
             ],
             [
              0.6666666666666666,
              "#ed7953"
             ],
             [
              0.7777777777777778,
              "#fb9f3a"
             ],
             [
              0.8888888888888888,
              "#fdca26"
             ],
             [
              1,
              "#f0f921"
             ]
            ],
            "type": "histogram2d"
           }
          ],
          "histogram2dcontour": [
           {
            "colorbar": {
             "outlinewidth": 0,
             "ticks": ""
            },
            "colorscale": [
             [
              0,
              "#0d0887"
             ],
             [
              0.1111111111111111,
              "#46039f"
             ],
             [
              0.2222222222222222,
              "#7201a8"
             ],
             [
              0.3333333333333333,
              "#9c179e"
             ],
             [
              0.4444444444444444,
              "#bd3786"
             ],
             [
              0.5555555555555556,
              "#d8576b"
             ],
             [
              0.6666666666666666,
              "#ed7953"
             ],
             [
              0.7777777777777778,
              "#fb9f3a"
             ],
             [
              0.8888888888888888,
              "#fdca26"
             ],
             [
              1,
              "#f0f921"
             ]
            ],
            "type": "histogram2dcontour"
           }
          ],
          "mesh3d": [
           {
            "colorbar": {
             "outlinewidth": 0,
             "ticks": ""
            },
            "type": "mesh3d"
           }
          ],
          "parcoords": [
           {
            "line": {
             "colorbar": {
              "outlinewidth": 0,
              "ticks": ""
             }
            },
            "type": "parcoords"
           }
          ],
          "pie": [
           {
            "automargin": true,
            "type": "pie"
           }
          ],
          "scatter": [
           {
            "marker": {
             "colorbar": {
              "outlinewidth": 0,
              "ticks": ""
             }
            },
            "type": "scatter"
           }
          ],
          "scatter3d": [
           {
            "line": {
             "colorbar": {
              "outlinewidth": 0,
              "ticks": ""
             }
            },
            "marker": {
             "colorbar": {
              "outlinewidth": 0,
              "ticks": ""
             }
            },
            "type": "scatter3d"
           }
          ],
          "scattercarpet": [
           {
            "marker": {
             "colorbar": {
              "outlinewidth": 0,
              "ticks": ""
             }
            },
            "type": "scattercarpet"
           }
          ],
          "scattergeo": [
           {
            "marker": {
             "colorbar": {
              "outlinewidth": 0,
              "ticks": ""
             }
            },
            "type": "scattergeo"
           }
          ],
          "scattergl": [
           {
            "marker": {
             "colorbar": {
              "outlinewidth": 0,
              "ticks": ""
             }
            },
            "type": "scattergl"
           }
          ],
          "scattermapbox": [
           {
            "marker": {
             "colorbar": {
              "outlinewidth": 0,
              "ticks": ""
             }
            },
            "type": "scattermapbox"
           }
          ],
          "scatterpolar": [
           {
            "marker": {
             "colorbar": {
              "outlinewidth": 0,
              "ticks": ""
             }
            },
            "type": "scatterpolar"
           }
          ],
          "scatterpolargl": [
           {
            "marker": {
             "colorbar": {
              "outlinewidth": 0,
              "ticks": ""
             }
            },
            "type": "scatterpolargl"
           }
          ],
          "scatterternary": [
           {
            "marker": {
             "colorbar": {
              "outlinewidth": 0,
              "ticks": ""
             }
            },
            "type": "scatterternary"
           }
          ],
          "surface": [
           {
            "colorbar": {
             "outlinewidth": 0,
             "ticks": ""
            },
            "colorscale": [
             [
              0,
              "#0d0887"
             ],
             [
              0.1111111111111111,
              "#46039f"
             ],
             [
              0.2222222222222222,
              "#7201a8"
             ],
             [
              0.3333333333333333,
              "#9c179e"
             ],
             [
              0.4444444444444444,
              "#bd3786"
             ],
             [
              0.5555555555555556,
              "#d8576b"
             ],
             [
              0.6666666666666666,
              "#ed7953"
             ],
             [
              0.7777777777777778,
              "#fb9f3a"
             ],
             [
              0.8888888888888888,
              "#fdca26"
             ],
             [
              1,
              "#f0f921"
             ]
            ],
            "type": "surface"
           }
          ],
          "table": [
           {
            "cells": {
             "fill": {
              "color": "#EBF0F8"
             },
             "line": {
              "color": "white"
             }
            },
            "header": {
             "fill": {
              "color": "#C8D4E3"
             },
             "line": {
              "color": "white"
             }
            },
            "type": "table"
           }
          ]
         },
         "layout": {
          "annotationdefaults": {
           "arrowcolor": "#2a3f5f",
           "arrowhead": 0,
           "arrowwidth": 1
          },
          "autotypenumbers": "strict",
          "coloraxis": {
           "colorbar": {
            "outlinewidth": 0,
            "ticks": ""
           }
          },
          "colorscale": {
           "diverging": [
            [
             0,
             "#8e0152"
            ],
            [
             0.1,
             "#c51b7d"
            ],
            [
             0.2,
             "#de77ae"
            ],
            [
             0.3,
             "#f1b6da"
            ],
            [
             0.4,
             "#fde0ef"
            ],
            [
             0.5,
             "#f7f7f7"
            ],
            [
             0.6,
             "#e6f5d0"
            ],
            [
             0.7,
             "#b8e186"
            ],
            [
             0.8,
             "#7fbc41"
            ],
            [
             0.9,
             "#4d9221"
            ],
            [
             1,
             "#276419"
            ]
           ],
           "sequential": [
            [
             0,
             "#0d0887"
            ],
            [
             0.1111111111111111,
             "#46039f"
            ],
            [
             0.2222222222222222,
             "#7201a8"
            ],
            [
             0.3333333333333333,
             "#9c179e"
            ],
            [
             0.4444444444444444,
             "#bd3786"
            ],
            [
             0.5555555555555556,
             "#d8576b"
            ],
            [
             0.6666666666666666,
             "#ed7953"
            ],
            [
             0.7777777777777778,
             "#fb9f3a"
            ],
            [
             0.8888888888888888,
             "#fdca26"
            ],
            [
             1,
             "#f0f921"
            ]
           ],
           "sequentialminus": [
            [
             0,
             "#0d0887"
            ],
            [
             0.1111111111111111,
             "#46039f"
            ],
            [
             0.2222222222222222,
             "#7201a8"
            ],
            [
             0.3333333333333333,
             "#9c179e"
            ],
            [
             0.4444444444444444,
             "#bd3786"
            ],
            [
             0.5555555555555556,
             "#d8576b"
            ],
            [
             0.6666666666666666,
             "#ed7953"
            ],
            [
             0.7777777777777778,
             "#fb9f3a"
            ],
            [
             0.8888888888888888,
             "#fdca26"
            ],
            [
             1,
             "#f0f921"
            ]
           ]
          },
          "colorway": [
           "#636efa",
           "#EF553B",
           "#00cc96",
           "#ab63fa",
           "#FFA15A",
           "#19d3f3",
           "#FF6692",
           "#B6E880",
           "#FF97FF",
           "#FECB52"
          ],
          "font": {
           "color": "#2a3f5f"
          },
          "geo": {
           "bgcolor": "white",
           "lakecolor": "white",
           "landcolor": "#E5ECF6",
           "showlakes": true,
           "showland": true,
           "subunitcolor": "white"
          },
          "hoverlabel": {
           "align": "left"
          },
          "hovermode": "closest",
          "mapbox": {
           "style": "light"
          },
          "paper_bgcolor": "white",
          "plot_bgcolor": "#E5ECF6",
          "polar": {
           "angularaxis": {
            "gridcolor": "white",
            "linecolor": "white",
            "ticks": ""
           },
           "bgcolor": "#E5ECF6",
           "radialaxis": {
            "gridcolor": "white",
            "linecolor": "white",
            "ticks": ""
           }
          },
          "scene": {
           "xaxis": {
            "backgroundcolor": "#E5ECF6",
            "gridcolor": "white",
            "gridwidth": 2,
            "linecolor": "white",
            "showbackground": true,
            "ticks": "",
            "zerolinecolor": "white"
           },
           "yaxis": {
            "backgroundcolor": "#E5ECF6",
            "gridcolor": "white",
            "gridwidth": 2,
            "linecolor": "white",
            "showbackground": true,
            "ticks": "",
            "zerolinecolor": "white"
           },
           "zaxis": {
            "backgroundcolor": "#E5ECF6",
            "gridcolor": "white",
            "gridwidth": 2,
            "linecolor": "white",
            "showbackground": true,
            "ticks": "",
            "zerolinecolor": "white"
           }
          },
          "shapedefaults": {
           "line": {
            "color": "#2a3f5f"
           }
          },
          "ternary": {
           "aaxis": {
            "gridcolor": "white",
            "linecolor": "white",
            "ticks": ""
           },
           "baxis": {
            "gridcolor": "white",
            "linecolor": "white",
            "ticks": ""
           },
           "bgcolor": "#E5ECF6",
           "caxis": {
            "gridcolor": "white",
            "linecolor": "white",
            "ticks": ""
           }
          },
          "title": {
           "x": 0.05
          },
          "xaxis": {
           "automargin": true,
           "gridcolor": "white",
           "linecolor": "white",
           "ticks": "",
           "title": {
            "standoff": 15
           },
           "zerolinecolor": "white",
           "zerolinewidth": 2
          },
          "yaxis": {
           "automargin": true,
           "gridcolor": "white",
           "linecolor": "white",
           "ticks": "",
           "title": {
            "standoff": 15
           },
           "zerolinecolor": "white",
           "zerolinewidth": 2
          }
         }
        },
        "title": {
         "text": "Win Rate (%) by Country"
        },
        "xaxis": {
         "anchor": "y",
         "domain": [
          0,
          1
         ],
         "title": {
          "text": "Day of Week"
         }
        },
        "yaxis": {
         "anchor": "x",
         "domain": [
          0,
          1
         ],
         "title": {
          "text": "Win Rate (%)"
         }
        }
       }
      },
      "text/html": [
       "<div>                            <div id=\"59b12fc9-60e8-46a2-aec4-8833914fbd9e\" class=\"plotly-graph-div\" style=\"height:525px; width:100%;\"></div>            <script type=\"text/javascript\">                require([\"plotly\"], function(Plotly) {                    window.PLOTLYENV=window.PLOTLYENV || {};                                    if (document.getElementById(\"59b12fc9-60e8-46a2-aec4-8833914fbd9e\")) {                    Plotly.newPlot(                        \"59b12fc9-60e8-46a2-aec4-8833914fbd9e\",                        [{\"alignmentgroup\": \"True\", \"hovertemplate\": \"Match Result=Away<br>Day of Week=%{x}<br>Win Rate (%)=%{y}<extra></extra>\", \"legendgroup\": \"Away\", \"marker\": {\"color\": \"#636efa\"}, \"name\": \"Away\", \"offsetgroup\": \"Away\", \"orientation\": \"v\", \"showlegend\": true, \"textposition\": \"auto\", \"type\": \"bar\", \"x\": [\"Friday   \", \"Monday   \", \"Saturday \", \"Sunday   \", \"Thursday \", \"Tuesday  \", \"Wednesday\"], \"xaxis\": \"x\", \"y\": [28.39335180055402, 26.601941747572816, 25.38860103626943, 25.752773375594295, 22.30769230769231, 22.404371584699454, 26.094276094276093], \"yaxis\": \"y\"}, {\"alignmentgroup\": \"True\", \"hovertemplate\": \"Match Result=Draw<br>Day of Week=%{x}<br>Win Rate (%)=%{y}<extra></extra>\", \"legendgroup\": \"Draw\", \"marker\": {\"color\": \"#EF553B\"}, \"name\": \"Draw\", \"offsetgroup\": \"Draw\", \"orientation\": \"v\", \"showlegend\": true, \"textposition\": \"auto\", \"type\": \"bar\", \"x\": [\"Friday   \", \"Monday   \", \"Saturday \", \"Sunday   \", \"Thursday \", \"Tuesday  \", \"Wednesday\"], \"xaxis\": \"x\", \"y\": [31.301939058171747, 32.038834951456316, 28.281519861830745, 28.209191759112517, 27.94871794871795, 30.601092896174865, 28.78787878787879], \"yaxis\": \"y\"}, {\"alignmentgroup\": \"True\", \"hovertemplate\": \"Match Result=Home<br>Day of Week=%{x}<br>Win Rate (%)=%{y}<extra></extra>\", \"legendgroup\": \"Home\", \"marker\": {\"color\": \"#00cc96\"}, \"name\": \"Home\", \"offsetgroup\": \"Home\", \"orientation\": \"v\", \"showlegend\": true, \"textposition\": \"auto\", \"type\": \"bar\", \"x\": [\"Friday   \", \"Monday   \", \"Saturday \", \"Sunday   \", \"Thursday \", \"Tuesday  \", \"Wednesday\"], \"xaxis\": \"x\", \"y\": [40.30470914127424, 41.359223300970875, 46.32987910189983, 46.038034865293184, 49.743589743589745, 46.994535519125684, 45.11784511784512], \"yaxis\": \"y\"}],                        {\"barmode\": \"relative\", \"legend\": {\"title\": {\"text\": \"Match Result\"}, \"tracegroupgap\": 0}, \"template\": {\"data\": {\"bar\": [{\"error_x\": {\"color\": \"#2a3f5f\"}, \"error_y\": {\"color\": \"#2a3f5f\"}, \"marker\": {\"line\": {\"color\": \"#E5ECF6\", \"width\": 0.5}}, \"type\": \"bar\"}], \"barpolar\": [{\"marker\": {\"line\": {\"color\": \"#E5ECF6\", \"width\": 0.5}}, \"type\": \"barpolar\"}], \"carpet\": [{\"aaxis\": {\"endlinecolor\": \"#2a3f5f\", \"gridcolor\": \"white\", \"linecolor\": \"white\", \"minorgridcolor\": \"white\", \"startlinecolor\": \"#2a3f5f\"}, \"baxis\": {\"endlinecolor\": \"#2a3f5f\", \"gridcolor\": \"white\", \"linecolor\": \"white\", \"minorgridcolor\": \"white\", \"startlinecolor\": \"#2a3f5f\"}, \"type\": \"carpet\"}], \"choropleth\": [{\"colorbar\": {\"outlinewidth\": 0, \"ticks\": \"\"}, \"type\": \"choropleth\"}], \"contour\": [{\"colorbar\": {\"outlinewidth\": 0, \"ticks\": \"\"}, \"colorscale\": [[0.0, \"#0d0887\"], [0.1111111111111111, \"#46039f\"], [0.2222222222222222, \"#7201a8\"], [0.3333333333333333, \"#9c179e\"], [0.4444444444444444, \"#bd3786\"], [0.5555555555555556, \"#d8576b\"], [0.6666666666666666, \"#ed7953\"], [0.7777777777777778, \"#fb9f3a\"], [0.8888888888888888, \"#fdca26\"], [1.0, \"#f0f921\"]], \"type\": \"contour\"}], \"contourcarpet\": [{\"colorbar\": {\"outlinewidth\": 0, \"ticks\": \"\"}, \"type\": \"contourcarpet\"}], \"heatmap\": [{\"colorbar\": {\"outlinewidth\": 0, \"ticks\": \"\"}, \"colorscale\": [[0.0, \"#0d0887\"], [0.1111111111111111, \"#46039f\"], [0.2222222222222222, \"#7201a8\"], [0.3333333333333333, \"#9c179e\"], [0.4444444444444444, \"#bd3786\"], [0.5555555555555556, \"#d8576b\"], [0.6666666666666666, \"#ed7953\"], [0.7777777777777778, \"#fb9f3a\"], [0.8888888888888888, \"#fdca26\"], [1.0, \"#f0f921\"]], \"type\": \"heatmap\"}], \"heatmapgl\": [{\"colorbar\": {\"outlinewidth\": 0, \"ticks\": \"\"}, \"colorscale\": [[0.0, \"#0d0887\"], [0.1111111111111111, \"#46039f\"], [0.2222222222222222, \"#7201a8\"], [0.3333333333333333, \"#9c179e\"], [0.4444444444444444, \"#bd3786\"], [0.5555555555555556, \"#d8576b\"], [0.6666666666666666, \"#ed7953\"], [0.7777777777777778, \"#fb9f3a\"], [0.8888888888888888, \"#fdca26\"], [1.0, \"#f0f921\"]], \"type\": \"heatmapgl\"}], \"histogram\": [{\"marker\": {\"colorbar\": {\"outlinewidth\": 0, \"ticks\": \"\"}}, \"type\": \"histogram\"}], \"histogram2d\": [{\"colorbar\": {\"outlinewidth\": 0, \"ticks\": \"\"}, \"colorscale\": [[0.0, \"#0d0887\"], [0.1111111111111111, \"#46039f\"], [0.2222222222222222, \"#7201a8\"], [0.3333333333333333, \"#9c179e\"], [0.4444444444444444, \"#bd3786\"], [0.5555555555555556, \"#d8576b\"], [0.6666666666666666, \"#ed7953\"], [0.7777777777777778, \"#fb9f3a\"], [0.8888888888888888, \"#fdca26\"], [1.0, \"#f0f921\"]], \"type\": \"histogram2d\"}], \"histogram2dcontour\": [{\"colorbar\": {\"outlinewidth\": 0, \"ticks\": \"\"}, \"colorscale\": [[0.0, \"#0d0887\"], [0.1111111111111111, \"#46039f\"], [0.2222222222222222, \"#7201a8\"], [0.3333333333333333, \"#9c179e\"], [0.4444444444444444, \"#bd3786\"], [0.5555555555555556, \"#d8576b\"], [0.6666666666666666, \"#ed7953\"], [0.7777777777777778, \"#fb9f3a\"], [0.8888888888888888, \"#fdca26\"], [1.0, \"#f0f921\"]], \"type\": \"histogram2dcontour\"}], \"mesh3d\": [{\"colorbar\": {\"outlinewidth\": 0, \"ticks\": \"\"}, \"type\": \"mesh3d\"}], \"parcoords\": [{\"line\": {\"colorbar\": {\"outlinewidth\": 0, \"ticks\": \"\"}}, \"type\": \"parcoords\"}], \"pie\": [{\"automargin\": true, \"type\": \"pie\"}], \"scatter\": [{\"marker\": {\"colorbar\": {\"outlinewidth\": 0, \"ticks\": \"\"}}, \"type\": \"scatter\"}], \"scatter3d\": [{\"line\": {\"colorbar\": {\"outlinewidth\": 0, \"ticks\": \"\"}}, \"marker\": {\"colorbar\": {\"outlinewidth\": 0, \"ticks\": \"\"}}, \"type\": \"scatter3d\"}], \"scattercarpet\": [{\"marker\": {\"colorbar\": {\"outlinewidth\": 0, \"ticks\": \"\"}}, \"type\": \"scattercarpet\"}], \"scattergeo\": [{\"marker\": {\"colorbar\": {\"outlinewidth\": 0, \"ticks\": \"\"}}, \"type\": \"scattergeo\"}], \"scattergl\": [{\"marker\": {\"colorbar\": {\"outlinewidth\": 0, \"ticks\": \"\"}}, \"type\": \"scattergl\"}], \"scattermapbox\": [{\"marker\": {\"colorbar\": {\"outlinewidth\": 0, \"ticks\": \"\"}}, \"type\": \"scattermapbox\"}], \"scatterpolar\": [{\"marker\": {\"colorbar\": {\"outlinewidth\": 0, \"ticks\": \"\"}}, \"type\": \"scatterpolar\"}], \"scatterpolargl\": [{\"marker\": {\"colorbar\": {\"outlinewidth\": 0, \"ticks\": \"\"}}, \"type\": \"scatterpolargl\"}], \"scatterternary\": [{\"marker\": {\"colorbar\": {\"outlinewidth\": 0, \"ticks\": \"\"}}, \"type\": \"scatterternary\"}], \"surface\": [{\"colorbar\": {\"outlinewidth\": 0, \"ticks\": \"\"}, \"colorscale\": [[0.0, \"#0d0887\"], [0.1111111111111111, \"#46039f\"], [0.2222222222222222, \"#7201a8\"], [0.3333333333333333, \"#9c179e\"], [0.4444444444444444, \"#bd3786\"], [0.5555555555555556, \"#d8576b\"], [0.6666666666666666, \"#ed7953\"], [0.7777777777777778, \"#fb9f3a\"], [0.8888888888888888, \"#fdca26\"], [1.0, \"#f0f921\"]], \"type\": \"surface\"}], \"table\": [{\"cells\": {\"fill\": {\"color\": \"#EBF0F8\"}, \"line\": {\"color\": \"white\"}}, \"header\": {\"fill\": {\"color\": \"#C8D4E3\"}, \"line\": {\"color\": \"white\"}}, \"type\": \"table\"}]}, \"layout\": {\"annotationdefaults\": {\"arrowcolor\": \"#2a3f5f\", \"arrowhead\": 0, \"arrowwidth\": 1}, \"autotypenumbers\": \"strict\", \"coloraxis\": {\"colorbar\": {\"outlinewidth\": 0, \"ticks\": \"\"}}, \"colorscale\": {\"diverging\": [[0, \"#8e0152\"], [0.1, \"#c51b7d\"], [0.2, \"#de77ae\"], [0.3, \"#f1b6da\"], [0.4, \"#fde0ef\"], [0.5, \"#f7f7f7\"], [0.6, \"#e6f5d0\"], [0.7, \"#b8e186\"], [0.8, \"#7fbc41\"], [0.9, \"#4d9221\"], [1, \"#276419\"]], \"sequential\": [[0.0, \"#0d0887\"], [0.1111111111111111, \"#46039f\"], [0.2222222222222222, \"#7201a8\"], [0.3333333333333333, \"#9c179e\"], [0.4444444444444444, \"#bd3786\"], [0.5555555555555556, \"#d8576b\"], [0.6666666666666666, \"#ed7953\"], [0.7777777777777778, \"#fb9f3a\"], [0.8888888888888888, \"#fdca26\"], [1.0, \"#f0f921\"]], \"sequentialminus\": [[0.0, \"#0d0887\"], [0.1111111111111111, \"#46039f\"], [0.2222222222222222, \"#7201a8\"], [0.3333333333333333, \"#9c179e\"], [0.4444444444444444, \"#bd3786\"], [0.5555555555555556, \"#d8576b\"], [0.6666666666666666, \"#ed7953\"], [0.7777777777777778, \"#fb9f3a\"], [0.8888888888888888, \"#fdca26\"], [1.0, \"#f0f921\"]]}, \"colorway\": [\"#636efa\", \"#EF553B\", \"#00cc96\", \"#ab63fa\", \"#FFA15A\", \"#19d3f3\", \"#FF6692\", \"#B6E880\", \"#FF97FF\", \"#FECB52\"], \"font\": {\"color\": \"#2a3f5f\"}, \"geo\": {\"bgcolor\": \"white\", \"lakecolor\": \"white\", \"landcolor\": \"#E5ECF6\", \"showlakes\": true, \"showland\": true, \"subunitcolor\": \"white\"}, \"hoverlabel\": {\"align\": \"left\"}, \"hovermode\": \"closest\", \"mapbox\": {\"style\": \"light\"}, \"paper_bgcolor\": \"white\", \"plot_bgcolor\": \"#E5ECF6\", \"polar\": {\"angularaxis\": {\"gridcolor\": \"white\", \"linecolor\": \"white\", \"ticks\": \"\"}, \"bgcolor\": \"#E5ECF6\", \"radialaxis\": {\"gridcolor\": \"white\", \"linecolor\": \"white\", \"ticks\": \"\"}}, \"scene\": {\"xaxis\": {\"backgroundcolor\": \"#E5ECF6\", \"gridcolor\": \"white\", \"gridwidth\": 2, \"linecolor\": \"white\", \"showbackground\": true, \"ticks\": \"\", \"zerolinecolor\": \"white\"}, \"yaxis\": {\"backgroundcolor\": \"#E5ECF6\", \"gridcolor\": \"white\", \"gridwidth\": 2, \"linecolor\": \"white\", \"showbackground\": true, \"ticks\": \"\", \"zerolinecolor\": \"white\"}, \"zaxis\": {\"backgroundcolor\": \"#E5ECF6\", \"gridcolor\": \"white\", \"gridwidth\": 2, \"linecolor\": \"white\", \"showbackground\": true, \"ticks\": \"\", \"zerolinecolor\": \"white\"}}, \"shapedefaults\": {\"line\": {\"color\": \"#2a3f5f\"}}, \"ternary\": {\"aaxis\": {\"gridcolor\": \"white\", \"linecolor\": \"white\", \"ticks\": \"\"}, \"baxis\": {\"gridcolor\": \"white\", \"linecolor\": \"white\", \"ticks\": \"\"}, \"bgcolor\": \"#E5ECF6\", \"caxis\": {\"gridcolor\": \"white\", \"linecolor\": \"white\", \"ticks\": \"\"}}, \"title\": {\"x\": 0.05}, \"xaxis\": {\"automargin\": true, \"gridcolor\": \"white\", \"linecolor\": \"white\", \"ticks\": \"\", \"title\": {\"standoff\": 15}, \"zerolinecolor\": \"white\", \"zerolinewidth\": 2}, \"yaxis\": {\"automargin\": true, \"gridcolor\": \"white\", \"linecolor\": \"white\", \"ticks\": \"\", \"title\": {\"standoff\": 15}, \"zerolinecolor\": \"white\", \"zerolinewidth\": 2}}}, \"title\": {\"text\": \"Win Rate (%) by Country\"}, \"xaxis\": {\"anchor\": \"y\", \"domain\": [0.0, 1.0], \"title\": {\"text\": \"Day of Week\"}}, \"yaxis\": {\"anchor\": \"x\", \"domain\": [0.0, 1.0], \"title\": {\"text\": \"Win Rate (%)\"}}},                        {\"responsive\": true}                    ).then(function(){\n",
       "                            \n",
       "var gd = document.getElementById('59b12fc9-60e8-46a2-aec4-8833914fbd9e');\n",
       "var x = new MutationObserver(function (mutations, observer) {{\n",
       "        var display = window.getComputedStyle(gd).display;\n",
       "        if (!display || display === 'none') {{\n",
       "            console.log([gd, 'removed!']);\n",
       "            Plotly.purge(gd);\n",
       "            observer.disconnect();\n",
       "        }}\n",
       "}});\n",
       "\n",
       "// Listen for the removal of the full notebook cells\n",
       "var notebookContainer = gd.closest('#notebook-container');\n",
       "if (notebookContainer) {{\n",
       "    x.observe(notebookContainer, {childList: true});\n",
       "}}\n",
       "\n",
       "// Listen for the clearing of the current output cell\n",
       "var outputEl = gd.closest('.output');\n",
       "if (outputEl) {{\n",
       "    x.observe(outputEl, {childList: true});\n",
       "}}\n",
       "\n",
       "                        })                };                });            </script>        </div>"
      ]
     },
     "metadata": {},
     "output_type": "display_data"
    }
   ],
   "source": [
    "plot_winrate_barplot(df_date, var_x=\"date_dow\", label_x=\"Day of Week\")"
   ]
  },
  {
   "cell_type": "code",
   "execution_count": 174,
   "metadata": {},
   "outputs": [
    {
     "data": {
      "application/vnd.plotly.v1+json": {
       "config": {
        "plotlyServerURL": "https://plot.ly"
       },
       "data": [
        {
         "alignmentgroup": "True",
         "hovertemplate": "Match Result=Away<br>Daytime=%{x}<br>Win Rate (%)=%{y}<extra></extra>",
         "legendgroup": "Away",
         "marker": {
          "color": "#636efa"
         },
         "name": "Away",
         "offsetgroup": "Away",
         "orientation": "v",
         "showlegend": true,
         "textposition": "auto",
         "type": "bar",
         "x": [
          "Afternoon",
          "Evening",
          "Morning"
         ],
         "xaxis": "x",
         "y": [
          25.311203319502074,
          25.56586270871985,
          28.57142857142857
         ],
         "yaxis": "y"
        },
        {
         "alignmentgroup": "True",
         "hovertemplate": "Match Result=Draw<br>Daytime=%{x}<br>Win Rate (%)=%{y}<extra></extra>",
         "legendgroup": "Draw",
         "marker": {
          "color": "#EF553B"
         },
         "name": "Draw",
         "offsetgroup": "Draw",
         "orientation": "v",
         "showlegend": true,
         "textposition": "auto",
         "type": "bar",
         "x": [
          "Afternoon",
          "Evening",
          "Morning"
         ],
         "xaxis": "x",
         "y": [
          28.890041493775932,
          29.35064935064935,
          27.27272727272727
         ],
         "yaxis": "y"
        },
        {
         "alignmentgroup": "True",
         "hovertemplate": "Match Result=Home<br>Daytime=%{x}<br>Win Rate (%)=%{y}<extra></extra>",
         "legendgroup": "Home",
         "marker": {
          "color": "#00cc96"
         },
         "name": "Home",
         "offsetgroup": "Home",
         "orientation": "v",
         "showlegend": true,
         "textposition": "auto",
         "type": "bar",
         "x": [
          "Afternoon",
          "Evening",
          "Morning"
         ],
         "xaxis": "x",
         "y": [
          45.79875518672199,
          45.083487940630796,
          44.15584415584416
         ],
         "yaxis": "y"
        }
       ],
       "layout": {
        "barmode": "relative",
        "legend": {
         "title": {
          "text": "Match Result"
         },
         "tracegroupgap": 0
        },
        "template": {
         "data": {
          "bar": [
           {
            "error_x": {
             "color": "#2a3f5f"
            },
            "error_y": {
             "color": "#2a3f5f"
            },
            "marker": {
             "line": {
              "color": "#E5ECF6",
              "width": 0.5
             }
            },
            "type": "bar"
           }
          ],
          "barpolar": [
           {
            "marker": {
             "line": {
              "color": "#E5ECF6",
              "width": 0.5
             }
            },
            "type": "barpolar"
           }
          ],
          "carpet": [
           {
            "aaxis": {
             "endlinecolor": "#2a3f5f",
             "gridcolor": "white",
             "linecolor": "white",
             "minorgridcolor": "white",
             "startlinecolor": "#2a3f5f"
            },
            "baxis": {
             "endlinecolor": "#2a3f5f",
             "gridcolor": "white",
             "linecolor": "white",
             "minorgridcolor": "white",
             "startlinecolor": "#2a3f5f"
            },
            "type": "carpet"
           }
          ],
          "choropleth": [
           {
            "colorbar": {
             "outlinewidth": 0,
             "ticks": ""
            },
            "type": "choropleth"
           }
          ],
          "contour": [
           {
            "colorbar": {
             "outlinewidth": 0,
             "ticks": ""
            },
            "colorscale": [
             [
              0,
              "#0d0887"
             ],
             [
              0.1111111111111111,
              "#46039f"
             ],
             [
              0.2222222222222222,
              "#7201a8"
             ],
             [
              0.3333333333333333,
              "#9c179e"
             ],
             [
              0.4444444444444444,
              "#bd3786"
             ],
             [
              0.5555555555555556,
              "#d8576b"
             ],
             [
              0.6666666666666666,
              "#ed7953"
             ],
             [
              0.7777777777777778,
              "#fb9f3a"
             ],
             [
              0.8888888888888888,
              "#fdca26"
             ],
             [
              1,
              "#f0f921"
             ]
            ],
            "type": "contour"
           }
          ],
          "contourcarpet": [
           {
            "colorbar": {
             "outlinewidth": 0,
             "ticks": ""
            },
            "type": "contourcarpet"
           }
          ],
          "heatmap": [
           {
            "colorbar": {
             "outlinewidth": 0,
             "ticks": ""
            },
            "colorscale": [
             [
              0,
              "#0d0887"
             ],
             [
              0.1111111111111111,
              "#46039f"
             ],
             [
              0.2222222222222222,
              "#7201a8"
             ],
             [
              0.3333333333333333,
              "#9c179e"
             ],
             [
              0.4444444444444444,
              "#bd3786"
             ],
             [
              0.5555555555555556,
              "#d8576b"
             ],
             [
              0.6666666666666666,
              "#ed7953"
             ],
             [
              0.7777777777777778,
              "#fb9f3a"
             ],
             [
              0.8888888888888888,
              "#fdca26"
             ],
             [
              1,
              "#f0f921"
             ]
            ],
            "type": "heatmap"
           }
          ],
          "heatmapgl": [
           {
            "colorbar": {
             "outlinewidth": 0,
             "ticks": ""
            },
            "colorscale": [
             [
              0,
              "#0d0887"
             ],
             [
              0.1111111111111111,
              "#46039f"
             ],
             [
              0.2222222222222222,
              "#7201a8"
             ],
             [
              0.3333333333333333,
              "#9c179e"
             ],
             [
              0.4444444444444444,
              "#bd3786"
             ],
             [
              0.5555555555555556,
              "#d8576b"
             ],
             [
              0.6666666666666666,
              "#ed7953"
             ],
             [
              0.7777777777777778,
              "#fb9f3a"
             ],
             [
              0.8888888888888888,
              "#fdca26"
             ],
             [
              1,
              "#f0f921"
             ]
            ],
            "type": "heatmapgl"
           }
          ],
          "histogram": [
           {
            "marker": {
             "colorbar": {
              "outlinewidth": 0,
              "ticks": ""
             }
            },
            "type": "histogram"
           }
          ],
          "histogram2d": [
           {
            "colorbar": {
             "outlinewidth": 0,
             "ticks": ""
            },
            "colorscale": [
             [
              0,
              "#0d0887"
             ],
             [
              0.1111111111111111,
              "#46039f"
             ],
             [
              0.2222222222222222,
              "#7201a8"
             ],
             [
              0.3333333333333333,
              "#9c179e"
             ],
             [
              0.4444444444444444,
              "#bd3786"
             ],
             [
              0.5555555555555556,
              "#d8576b"
             ],
             [
              0.6666666666666666,
              "#ed7953"
             ],
             [
              0.7777777777777778,
              "#fb9f3a"
             ],
             [
              0.8888888888888888,
              "#fdca26"
             ],
             [
              1,
              "#f0f921"
             ]
            ],
            "type": "histogram2d"
           }
          ],
          "histogram2dcontour": [
           {
            "colorbar": {
             "outlinewidth": 0,
             "ticks": ""
            },
            "colorscale": [
             [
              0,
              "#0d0887"
             ],
             [
              0.1111111111111111,
              "#46039f"
             ],
             [
              0.2222222222222222,
              "#7201a8"
             ],
             [
              0.3333333333333333,
              "#9c179e"
             ],
             [
              0.4444444444444444,
              "#bd3786"
             ],
             [
              0.5555555555555556,
              "#d8576b"
             ],
             [
              0.6666666666666666,
              "#ed7953"
             ],
             [
              0.7777777777777778,
              "#fb9f3a"
             ],
             [
              0.8888888888888888,
              "#fdca26"
             ],
             [
              1,
              "#f0f921"
             ]
            ],
            "type": "histogram2dcontour"
           }
          ],
          "mesh3d": [
           {
            "colorbar": {
             "outlinewidth": 0,
             "ticks": ""
            },
            "type": "mesh3d"
           }
          ],
          "parcoords": [
           {
            "line": {
             "colorbar": {
              "outlinewidth": 0,
              "ticks": ""
             }
            },
            "type": "parcoords"
           }
          ],
          "pie": [
           {
            "automargin": true,
            "type": "pie"
           }
          ],
          "scatter": [
           {
            "marker": {
             "colorbar": {
              "outlinewidth": 0,
              "ticks": ""
             }
            },
            "type": "scatter"
           }
          ],
          "scatter3d": [
           {
            "line": {
             "colorbar": {
              "outlinewidth": 0,
              "ticks": ""
             }
            },
            "marker": {
             "colorbar": {
              "outlinewidth": 0,
              "ticks": ""
             }
            },
            "type": "scatter3d"
           }
          ],
          "scattercarpet": [
           {
            "marker": {
             "colorbar": {
              "outlinewidth": 0,
              "ticks": ""
             }
            },
            "type": "scattercarpet"
           }
          ],
          "scattergeo": [
           {
            "marker": {
             "colorbar": {
              "outlinewidth": 0,
              "ticks": ""
             }
            },
            "type": "scattergeo"
           }
          ],
          "scattergl": [
           {
            "marker": {
             "colorbar": {
              "outlinewidth": 0,
              "ticks": ""
             }
            },
            "type": "scattergl"
           }
          ],
          "scattermapbox": [
           {
            "marker": {
             "colorbar": {
              "outlinewidth": 0,
              "ticks": ""
             }
            },
            "type": "scattermapbox"
           }
          ],
          "scatterpolar": [
           {
            "marker": {
             "colorbar": {
              "outlinewidth": 0,
              "ticks": ""
             }
            },
            "type": "scatterpolar"
           }
          ],
          "scatterpolargl": [
           {
            "marker": {
             "colorbar": {
              "outlinewidth": 0,
              "ticks": ""
             }
            },
            "type": "scatterpolargl"
           }
          ],
          "scatterternary": [
           {
            "marker": {
             "colorbar": {
              "outlinewidth": 0,
              "ticks": ""
             }
            },
            "type": "scatterternary"
           }
          ],
          "surface": [
           {
            "colorbar": {
             "outlinewidth": 0,
             "ticks": ""
            },
            "colorscale": [
             [
              0,
              "#0d0887"
             ],
             [
              0.1111111111111111,
              "#46039f"
             ],
             [
              0.2222222222222222,
              "#7201a8"
             ],
             [
              0.3333333333333333,
              "#9c179e"
             ],
             [
              0.4444444444444444,
              "#bd3786"
             ],
             [
              0.5555555555555556,
              "#d8576b"
             ],
             [
              0.6666666666666666,
              "#ed7953"
             ],
             [
              0.7777777777777778,
              "#fb9f3a"
             ],
             [
              0.8888888888888888,
              "#fdca26"
             ],
             [
              1,
              "#f0f921"
             ]
            ],
            "type": "surface"
           }
          ],
          "table": [
           {
            "cells": {
             "fill": {
              "color": "#EBF0F8"
             },
             "line": {
              "color": "white"
             }
            },
            "header": {
             "fill": {
              "color": "#C8D4E3"
             },
             "line": {
              "color": "white"
             }
            },
            "type": "table"
           }
          ]
         },
         "layout": {
          "annotationdefaults": {
           "arrowcolor": "#2a3f5f",
           "arrowhead": 0,
           "arrowwidth": 1
          },
          "autotypenumbers": "strict",
          "coloraxis": {
           "colorbar": {
            "outlinewidth": 0,
            "ticks": ""
           }
          },
          "colorscale": {
           "diverging": [
            [
             0,
             "#8e0152"
            ],
            [
             0.1,
             "#c51b7d"
            ],
            [
             0.2,
             "#de77ae"
            ],
            [
             0.3,
             "#f1b6da"
            ],
            [
             0.4,
             "#fde0ef"
            ],
            [
             0.5,
             "#f7f7f7"
            ],
            [
             0.6,
             "#e6f5d0"
            ],
            [
             0.7,
             "#b8e186"
            ],
            [
             0.8,
             "#7fbc41"
            ],
            [
             0.9,
             "#4d9221"
            ],
            [
             1,
             "#276419"
            ]
           ],
           "sequential": [
            [
             0,
             "#0d0887"
            ],
            [
             0.1111111111111111,
             "#46039f"
            ],
            [
             0.2222222222222222,
             "#7201a8"
            ],
            [
             0.3333333333333333,
             "#9c179e"
            ],
            [
             0.4444444444444444,
             "#bd3786"
            ],
            [
             0.5555555555555556,
             "#d8576b"
            ],
            [
             0.6666666666666666,
             "#ed7953"
            ],
            [
             0.7777777777777778,
             "#fb9f3a"
            ],
            [
             0.8888888888888888,
             "#fdca26"
            ],
            [
             1,
             "#f0f921"
            ]
           ],
           "sequentialminus": [
            [
             0,
             "#0d0887"
            ],
            [
             0.1111111111111111,
             "#46039f"
            ],
            [
             0.2222222222222222,
             "#7201a8"
            ],
            [
             0.3333333333333333,
             "#9c179e"
            ],
            [
             0.4444444444444444,
             "#bd3786"
            ],
            [
             0.5555555555555556,
             "#d8576b"
            ],
            [
             0.6666666666666666,
             "#ed7953"
            ],
            [
             0.7777777777777778,
             "#fb9f3a"
            ],
            [
             0.8888888888888888,
             "#fdca26"
            ],
            [
             1,
             "#f0f921"
            ]
           ]
          },
          "colorway": [
           "#636efa",
           "#EF553B",
           "#00cc96",
           "#ab63fa",
           "#FFA15A",
           "#19d3f3",
           "#FF6692",
           "#B6E880",
           "#FF97FF",
           "#FECB52"
          ],
          "font": {
           "color": "#2a3f5f"
          },
          "geo": {
           "bgcolor": "white",
           "lakecolor": "white",
           "landcolor": "#E5ECF6",
           "showlakes": true,
           "showland": true,
           "subunitcolor": "white"
          },
          "hoverlabel": {
           "align": "left"
          },
          "hovermode": "closest",
          "mapbox": {
           "style": "light"
          },
          "paper_bgcolor": "white",
          "plot_bgcolor": "#E5ECF6",
          "polar": {
           "angularaxis": {
            "gridcolor": "white",
            "linecolor": "white",
            "ticks": ""
           },
           "bgcolor": "#E5ECF6",
           "radialaxis": {
            "gridcolor": "white",
            "linecolor": "white",
            "ticks": ""
           }
          },
          "scene": {
           "xaxis": {
            "backgroundcolor": "#E5ECF6",
            "gridcolor": "white",
            "gridwidth": 2,
            "linecolor": "white",
            "showbackground": true,
            "ticks": "",
            "zerolinecolor": "white"
           },
           "yaxis": {
            "backgroundcolor": "#E5ECF6",
            "gridcolor": "white",
            "gridwidth": 2,
            "linecolor": "white",
            "showbackground": true,
            "ticks": "",
            "zerolinecolor": "white"
           },
           "zaxis": {
            "backgroundcolor": "#E5ECF6",
            "gridcolor": "white",
            "gridwidth": 2,
            "linecolor": "white",
            "showbackground": true,
            "ticks": "",
            "zerolinecolor": "white"
           }
          },
          "shapedefaults": {
           "line": {
            "color": "#2a3f5f"
           }
          },
          "ternary": {
           "aaxis": {
            "gridcolor": "white",
            "linecolor": "white",
            "ticks": ""
           },
           "baxis": {
            "gridcolor": "white",
            "linecolor": "white",
            "ticks": ""
           },
           "bgcolor": "#E5ECF6",
           "caxis": {
            "gridcolor": "white",
            "linecolor": "white",
            "ticks": ""
           }
          },
          "title": {
           "x": 0.05
          },
          "xaxis": {
           "automargin": true,
           "gridcolor": "white",
           "linecolor": "white",
           "ticks": "",
           "title": {
            "standoff": 15
           },
           "zerolinecolor": "white",
           "zerolinewidth": 2
          },
          "yaxis": {
           "automargin": true,
           "gridcolor": "white",
           "linecolor": "white",
           "ticks": "",
           "title": {
            "standoff": 15
           },
           "zerolinecolor": "white",
           "zerolinewidth": 2
          }
         }
        },
        "title": {
         "text": "Win Rate (%) by Country"
        },
        "xaxis": {
         "anchor": "y",
         "domain": [
          0,
          1
         ],
         "title": {
          "text": "Daytime"
         }
        },
        "yaxis": {
         "anchor": "x",
         "domain": [
          0,
          1
         ],
         "title": {
          "text": "Win Rate (%)"
         }
        }
       }
      },
      "text/html": [
       "<div>                            <div id=\"1182fb8c-a4ec-4408-b562-0e7c4441aa10\" class=\"plotly-graph-div\" style=\"height:525px; width:100%;\"></div>            <script type=\"text/javascript\">                require([\"plotly\"], function(Plotly) {                    window.PLOTLYENV=window.PLOTLYENV || {};                                    if (document.getElementById(\"1182fb8c-a4ec-4408-b562-0e7c4441aa10\")) {                    Plotly.newPlot(                        \"1182fb8c-a4ec-4408-b562-0e7c4441aa10\",                        [{\"alignmentgroup\": \"True\", \"hovertemplate\": \"Match Result=Away<br>Daytime=%{x}<br>Win Rate (%)=%{y}<extra></extra>\", \"legendgroup\": \"Away\", \"marker\": {\"color\": \"#636efa\"}, \"name\": \"Away\", \"offsetgroup\": \"Away\", \"orientation\": \"v\", \"showlegend\": true, \"textposition\": \"auto\", \"type\": \"bar\", \"x\": [\"Afternoon\", \"Evening\", \"Morning\"], \"xaxis\": \"x\", \"y\": [25.311203319502074, 25.56586270871985, 28.57142857142857], \"yaxis\": \"y\"}, {\"alignmentgroup\": \"True\", \"hovertemplate\": \"Match Result=Draw<br>Daytime=%{x}<br>Win Rate (%)=%{y}<extra></extra>\", \"legendgroup\": \"Draw\", \"marker\": {\"color\": \"#EF553B\"}, \"name\": \"Draw\", \"offsetgroup\": \"Draw\", \"orientation\": \"v\", \"showlegend\": true, \"textposition\": \"auto\", \"type\": \"bar\", \"x\": [\"Afternoon\", \"Evening\", \"Morning\"], \"xaxis\": \"x\", \"y\": [28.890041493775932, 29.35064935064935, 27.27272727272727], \"yaxis\": \"y\"}, {\"alignmentgroup\": \"True\", \"hovertemplate\": \"Match Result=Home<br>Daytime=%{x}<br>Win Rate (%)=%{y}<extra></extra>\", \"legendgroup\": \"Home\", \"marker\": {\"color\": \"#00cc96\"}, \"name\": \"Home\", \"offsetgroup\": \"Home\", \"orientation\": \"v\", \"showlegend\": true, \"textposition\": \"auto\", \"type\": \"bar\", \"x\": [\"Afternoon\", \"Evening\", \"Morning\"], \"xaxis\": \"x\", \"y\": [45.79875518672199, 45.083487940630796, 44.15584415584416], \"yaxis\": \"y\"}],                        {\"barmode\": \"relative\", \"legend\": {\"title\": {\"text\": \"Match Result\"}, \"tracegroupgap\": 0}, \"template\": {\"data\": {\"bar\": [{\"error_x\": {\"color\": \"#2a3f5f\"}, \"error_y\": {\"color\": \"#2a3f5f\"}, \"marker\": {\"line\": {\"color\": \"#E5ECF6\", \"width\": 0.5}}, \"type\": \"bar\"}], \"barpolar\": [{\"marker\": {\"line\": {\"color\": \"#E5ECF6\", \"width\": 0.5}}, \"type\": \"barpolar\"}], \"carpet\": [{\"aaxis\": {\"endlinecolor\": \"#2a3f5f\", \"gridcolor\": \"white\", \"linecolor\": \"white\", \"minorgridcolor\": \"white\", \"startlinecolor\": \"#2a3f5f\"}, \"baxis\": {\"endlinecolor\": \"#2a3f5f\", \"gridcolor\": \"white\", \"linecolor\": \"white\", \"minorgridcolor\": \"white\", \"startlinecolor\": \"#2a3f5f\"}, \"type\": \"carpet\"}], \"choropleth\": [{\"colorbar\": {\"outlinewidth\": 0, \"ticks\": \"\"}, \"type\": \"choropleth\"}], \"contour\": [{\"colorbar\": {\"outlinewidth\": 0, \"ticks\": \"\"}, \"colorscale\": [[0.0, \"#0d0887\"], [0.1111111111111111, \"#46039f\"], [0.2222222222222222, \"#7201a8\"], [0.3333333333333333, \"#9c179e\"], [0.4444444444444444, \"#bd3786\"], [0.5555555555555556, \"#d8576b\"], [0.6666666666666666, \"#ed7953\"], [0.7777777777777778, \"#fb9f3a\"], [0.8888888888888888, \"#fdca26\"], [1.0, \"#f0f921\"]], \"type\": \"contour\"}], \"contourcarpet\": [{\"colorbar\": {\"outlinewidth\": 0, \"ticks\": \"\"}, \"type\": \"contourcarpet\"}], \"heatmap\": [{\"colorbar\": {\"outlinewidth\": 0, \"ticks\": \"\"}, \"colorscale\": [[0.0, \"#0d0887\"], [0.1111111111111111, \"#46039f\"], [0.2222222222222222, \"#7201a8\"], [0.3333333333333333, \"#9c179e\"], [0.4444444444444444, \"#bd3786\"], [0.5555555555555556, \"#d8576b\"], [0.6666666666666666, \"#ed7953\"], [0.7777777777777778, \"#fb9f3a\"], [0.8888888888888888, \"#fdca26\"], [1.0, \"#f0f921\"]], \"type\": \"heatmap\"}], \"heatmapgl\": [{\"colorbar\": {\"outlinewidth\": 0, \"ticks\": \"\"}, \"colorscale\": [[0.0, \"#0d0887\"], [0.1111111111111111, \"#46039f\"], [0.2222222222222222, \"#7201a8\"], [0.3333333333333333, \"#9c179e\"], [0.4444444444444444, \"#bd3786\"], [0.5555555555555556, \"#d8576b\"], [0.6666666666666666, \"#ed7953\"], [0.7777777777777778, \"#fb9f3a\"], [0.8888888888888888, \"#fdca26\"], [1.0, \"#f0f921\"]], \"type\": \"heatmapgl\"}], \"histogram\": [{\"marker\": {\"colorbar\": {\"outlinewidth\": 0, \"ticks\": \"\"}}, \"type\": \"histogram\"}], \"histogram2d\": [{\"colorbar\": {\"outlinewidth\": 0, \"ticks\": \"\"}, \"colorscale\": [[0.0, \"#0d0887\"], [0.1111111111111111, \"#46039f\"], [0.2222222222222222, \"#7201a8\"], [0.3333333333333333, \"#9c179e\"], [0.4444444444444444, \"#bd3786\"], [0.5555555555555556, \"#d8576b\"], [0.6666666666666666, \"#ed7953\"], [0.7777777777777778, \"#fb9f3a\"], [0.8888888888888888, \"#fdca26\"], [1.0, \"#f0f921\"]], \"type\": \"histogram2d\"}], \"histogram2dcontour\": [{\"colorbar\": {\"outlinewidth\": 0, \"ticks\": \"\"}, \"colorscale\": [[0.0, \"#0d0887\"], [0.1111111111111111, \"#46039f\"], [0.2222222222222222, \"#7201a8\"], [0.3333333333333333, \"#9c179e\"], [0.4444444444444444, \"#bd3786\"], [0.5555555555555556, \"#d8576b\"], [0.6666666666666666, \"#ed7953\"], [0.7777777777777778, \"#fb9f3a\"], [0.8888888888888888, \"#fdca26\"], [1.0, \"#f0f921\"]], \"type\": \"histogram2dcontour\"}], \"mesh3d\": [{\"colorbar\": {\"outlinewidth\": 0, \"ticks\": \"\"}, \"type\": \"mesh3d\"}], \"parcoords\": [{\"line\": {\"colorbar\": {\"outlinewidth\": 0, \"ticks\": \"\"}}, \"type\": \"parcoords\"}], \"pie\": [{\"automargin\": true, \"type\": \"pie\"}], \"scatter\": [{\"marker\": {\"colorbar\": {\"outlinewidth\": 0, \"ticks\": \"\"}}, \"type\": \"scatter\"}], \"scatter3d\": [{\"line\": {\"colorbar\": {\"outlinewidth\": 0, \"ticks\": \"\"}}, \"marker\": {\"colorbar\": {\"outlinewidth\": 0, \"ticks\": \"\"}}, \"type\": \"scatter3d\"}], \"scattercarpet\": [{\"marker\": {\"colorbar\": {\"outlinewidth\": 0, \"ticks\": \"\"}}, \"type\": \"scattercarpet\"}], \"scattergeo\": [{\"marker\": {\"colorbar\": {\"outlinewidth\": 0, \"ticks\": \"\"}}, \"type\": \"scattergeo\"}], \"scattergl\": [{\"marker\": {\"colorbar\": {\"outlinewidth\": 0, \"ticks\": \"\"}}, \"type\": \"scattergl\"}], \"scattermapbox\": [{\"marker\": {\"colorbar\": {\"outlinewidth\": 0, \"ticks\": \"\"}}, \"type\": \"scattermapbox\"}], \"scatterpolar\": [{\"marker\": {\"colorbar\": {\"outlinewidth\": 0, \"ticks\": \"\"}}, \"type\": \"scatterpolar\"}], \"scatterpolargl\": [{\"marker\": {\"colorbar\": {\"outlinewidth\": 0, \"ticks\": \"\"}}, \"type\": \"scatterpolargl\"}], \"scatterternary\": [{\"marker\": {\"colorbar\": {\"outlinewidth\": 0, \"ticks\": \"\"}}, \"type\": \"scatterternary\"}], \"surface\": [{\"colorbar\": {\"outlinewidth\": 0, \"ticks\": \"\"}, \"colorscale\": [[0.0, \"#0d0887\"], [0.1111111111111111, \"#46039f\"], [0.2222222222222222, \"#7201a8\"], [0.3333333333333333, \"#9c179e\"], [0.4444444444444444, \"#bd3786\"], [0.5555555555555556, \"#d8576b\"], [0.6666666666666666, \"#ed7953\"], [0.7777777777777778, \"#fb9f3a\"], [0.8888888888888888, \"#fdca26\"], [1.0, \"#f0f921\"]], \"type\": \"surface\"}], \"table\": [{\"cells\": {\"fill\": {\"color\": \"#EBF0F8\"}, \"line\": {\"color\": \"white\"}}, \"header\": {\"fill\": {\"color\": \"#C8D4E3\"}, \"line\": {\"color\": \"white\"}}, \"type\": \"table\"}]}, \"layout\": {\"annotationdefaults\": {\"arrowcolor\": \"#2a3f5f\", \"arrowhead\": 0, \"arrowwidth\": 1}, \"autotypenumbers\": \"strict\", \"coloraxis\": {\"colorbar\": {\"outlinewidth\": 0, \"ticks\": \"\"}}, \"colorscale\": {\"diverging\": [[0, \"#8e0152\"], [0.1, \"#c51b7d\"], [0.2, \"#de77ae\"], [0.3, \"#f1b6da\"], [0.4, \"#fde0ef\"], [0.5, \"#f7f7f7\"], [0.6, \"#e6f5d0\"], [0.7, \"#b8e186\"], [0.8, \"#7fbc41\"], [0.9, \"#4d9221\"], [1, \"#276419\"]], \"sequential\": [[0.0, \"#0d0887\"], [0.1111111111111111, \"#46039f\"], [0.2222222222222222, \"#7201a8\"], [0.3333333333333333, \"#9c179e\"], [0.4444444444444444, \"#bd3786\"], [0.5555555555555556, \"#d8576b\"], [0.6666666666666666, \"#ed7953\"], [0.7777777777777778, \"#fb9f3a\"], [0.8888888888888888, \"#fdca26\"], [1.0, \"#f0f921\"]], \"sequentialminus\": [[0.0, \"#0d0887\"], [0.1111111111111111, \"#46039f\"], [0.2222222222222222, \"#7201a8\"], [0.3333333333333333, \"#9c179e\"], [0.4444444444444444, \"#bd3786\"], [0.5555555555555556, \"#d8576b\"], [0.6666666666666666, \"#ed7953\"], [0.7777777777777778, \"#fb9f3a\"], [0.8888888888888888, \"#fdca26\"], [1.0, \"#f0f921\"]]}, \"colorway\": [\"#636efa\", \"#EF553B\", \"#00cc96\", \"#ab63fa\", \"#FFA15A\", \"#19d3f3\", \"#FF6692\", \"#B6E880\", \"#FF97FF\", \"#FECB52\"], \"font\": {\"color\": \"#2a3f5f\"}, \"geo\": {\"bgcolor\": \"white\", \"lakecolor\": \"white\", \"landcolor\": \"#E5ECF6\", \"showlakes\": true, \"showland\": true, \"subunitcolor\": \"white\"}, \"hoverlabel\": {\"align\": \"left\"}, \"hovermode\": \"closest\", \"mapbox\": {\"style\": \"light\"}, \"paper_bgcolor\": \"white\", \"plot_bgcolor\": \"#E5ECF6\", \"polar\": {\"angularaxis\": {\"gridcolor\": \"white\", \"linecolor\": \"white\", \"ticks\": \"\"}, \"bgcolor\": \"#E5ECF6\", \"radialaxis\": {\"gridcolor\": \"white\", \"linecolor\": \"white\", \"ticks\": \"\"}}, \"scene\": {\"xaxis\": {\"backgroundcolor\": \"#E5ECF6\", \"gridcolor\": \"white\", \"gridwidth\": 2, \"linecolor\": \"white\", \"showbackground\": true, \"ticks\": \"\", \"zerolinecolor\": \"white\"}, \"yaxis\": {\"backgroundcolor\": \"#E5ECF6\", \"gridcolor\": \"white\", \"gridwidth\": 2, \"linecolor\": \"white\", \"showbackground\": true, \"ticks\": \"\", \"zerolinecolor\": \"white\"}, \"zaxis\": {\"backgroundcolor\": \"#E5ECF6\", \"gridcolor\": \"white\", \"gridwidth\": 2, \"linecolor\": \"white\", \"showbackground\": true, \"ticks\": \"\", \"zerolinecolor\": \"white\"}}, \"shapedefaults\": {\"line\": {\"color\": \"#2a3f5f\"}}, \"ternary\": {\"aaxis\": {\"gridcolor\": \"white\", \"linecolor\": \"white\", \"ticks\": \"\"}, \"baxis\": {\"gridcolor\": \"white\", \"linecolor\": \"white\", \"ticks\": \"\"}, \"bgcolor\": \"#E5ECF6\", \"caxis\": {\"gridcolor\": \"white\", \"linecolor\": \"white\", \"ticks\": \"\"}}, \"title\": {\"x\": 0.05}, \"xaxis\": {\"automargin\": true, \"gridcolor\": \"white\", \"linecolor\": \"white\", \"ticks\": \"\", \"title\": {\"standoff\": 15}, \"zerolinecolor\": \"white\", \"zerolinewidth\": 2}, \"yaxis\": {\"automargin\": true, \"gridcolor\": \"white\", \"linecolor\": \"white\", \"ticks\": \"\", \"title\": {\"standoff\": 15}, \"zerolinecolor\": \"white\", \"zerolinewidth\": 2}}}, \"title\": {\"text\": \"Win Rate (%) by Country\"}, \"xaxis\": {\"anchor\": \"y\", \"domain\": [0.0, 1.0], \"title\": {\"text\": \"Daytime\"}}, \"yaxis\": {\"anchor\": \"x\", \"domain\": [0.0, 1.0], \"title\": {\"text\": \"Win Rate (%)\"}}},                        {\"responsive\": true}                    ).then(function(){\n",
       "                            \n",
       "var gd = document.getElementById('1182fb8c-a4ec-4408-b562-0e7c4441aa10');\n",
       "var x = new MutationObserver(function (mutations, observer) {{\n",
       "        var display = window.getComputedStyle(gd).display;\n",
       "        if (!display || display === 'none') {{\n",
       "            console.log([gd, 'removed!']);\n",
       "            Plotly.purge(gd);\n",
       "            observer.disconnect();\n",
       "        }}\n",
       "}});\n",
       "\n",
       "// Listen for the removal of the full notebook cells\n",
       "var notebookContainer = gd.closest('#notebook-container');\n",
       "if (notebookContainer) {{\n",
       "    x.observe(notebookContainer, {childList: true});\n",
       "}}\n",
       "\n",
       "// Listen for the clearing of the current output cell\n",
       "var outputEl = gd.closest('.output');\n",
       "if (outputEl) {{\n",
       "    x.observe(outputEl, {childList: true});\n",
       "}}\n",
       "\n",
       "                        })                };                });            </script>        </div>"
      ]
     },
     "metadata": {},
     "output_type": "display_data"
    }
   ],
   "source": [
    "plot_winrate_barplot(df_date, var_x=\"date_day\", label_x=\"Daytime\")"
   ]
  },
  {
   "cell_type": "code",
   "execution_count": 114,
   "metadata": {},
   "outputs": [
    {
     "data": {
      "application/vnd.plotly.v1+json": {
       "config": {
        "plotlyServerURL": "https://plot.ly"
       },
       "data": [
        {
         "alignmentgroup": "True",
         "hovertemplate": "variable=Away<br>date_day=Morning<br>date_dow=Wednesday<br>country_name=%{x}<br>value=%{y}<extra></extra>",
         "legendgroup": "Away",
         "marker": {
          "color": "#636efa"
         },
         "name": "Away",
         "offsetgroup": "Away",
         "orientation": "v",
         "showlegend": true,
         "textposition": "auto",
         "type": "bar",
         "x": [
          "Chile",
          "Colombia"
         ],
         "xaxis": "x15",
         "y": [
          33.33333333333333,
          null
         ],
         "yaxis": "y15"
        },
        {
         "alignmentgroup": "True",
         "hovertemplate": "variable=Away<br>date_day=Morning<br>date_dow=Friday   <br>country_name=%{x}<br>value=%{y}<extra></extra>",
         "legendgroup": "Away",
         "marker": {
          "color": "#636efa"
         },
         "name": "Away",
         "offsetgroup": "Away",
         "orientation": "v",
         "showlegend": false,
         "textposition": "auto",
         "type": "bar",
         "x": [
          "Chile",
          "Peru"
         ],
         "xaxis": "x16",
         "y": [
          20,
          null
         ],
         "yaxis": "y16"
        },
        {
         "alignmentgroup": "True",
         "hovertemplate": "variable=Away<br>date_day=Morning<br>date_dow=Monday   <br>country_name=%{x}<br>value=%{y}<extra></extra>",
         "legendgroup": "Away",
         "marker": {
          "color": "#636efa"
         },
         "name": "Away",
         "offsetgroup": "Away",
         "orientation": "v",
         "showlegend": false,
         "textposition": "auto",
         "type": "bar",
         "x": [
          "Chile",
          "Colombia",
          "Peru"
         ],
         "xaxis": "x17",
         "y": [
          16.666666666666664,
          null,
          null
         ],
         "yaxis": "y17"
        },
        {
         "alignmentgroup": "True",
         "hovertemplate": "variable=Away<br>date_day=Morning<br>date_dow=Saturday <br>country_name=%{x}<br>value=%{y}<extra></extra>",
         "legendgroup": "Away",
         "marker": {
          "color": "#636efa"
         },
         "name": "Away",
         "offsetgroup": "Away",
         "orientation": "v",
         "showlegend": false,
         "textposition": "auto",
         "type": "bar",
         "x": [
          "Argentina",
          "Brazil",
          "Chile",
          "Colombia",
          "Peru"
         ],
         "xaxis": "x18",
         "y": [
          31.343283582089555,
          50,
          36.92307692307693,
          31.57894736842105,
          33.33333333333333
         ],
         "yaxis": "y18"
        },
        {
         "alignmentgroup": "True",
         "hovertemplate": "variable=Away<br>date_day=Morning<br>date_dow=Sunday   <br>country_name=%{x}<br>value=%{y}<extra></extra>",
         "legendgroup": "Away",
         "marker": {
          "color": "#636efa"
         },
         "name": "Away",
         "offsetgroup": "Away",
         "orientation": "v",
         "showlegend": false,
         "textposition": "auto",
         "type": "bar",
         "x": [
          "Argentina",
          "Brazil",
          "Chile",
          "Colombia",
          "Mexico",
          "Peru"
         ],
         "xaxis": "x19",
         "y": [
          32.323232323232325,
          22.413793103448278,
          33.33333333333333,
          23.809523809523807,
          25.454545454545453,
          19.148936170212767
         ],
         "yaxis": "y19"
        },
        {
         "alignmentgroup": "True",
         "hovertemplate": "variable=Away<br>date_day=Morning<br>date_dow=Thursday <br>country_name=%{x}<br>value=%{y}<extra></extra>",
         "legendgroup": "Away",
         "marker": {
          "color": "#636efa"
         },
         "name": "Away",
         "offsetgroup": "Away",
         "orientation": "v",
         "showlegend": false,
         "textposition": "auto",
         "type": "bar",
         "x": [
          "Chile",
          "Colombia"
         ],
         "xaxis": "x20",
         "y": [
          37.5,
          null
         ],
         "yaxis": "y20"
        },
        {
         "alignmentgroup": "True",
         "hovertemplate": "variable=Away<br>date_day=Morning<br>date_dow=Tuesday  <br>country_name=%{x}<br>value=%{y}<extra></extra>",
         "legendgroup": "Away",
         "marker": {
          "color": "#636efa"
         },
         "name": "Away",
         "offsetgroup": "Away",
         "orientation": "v",
         "showlegend": false,
         "textposition": "auto",
         "type": "bar",
         "x": [
          "Chile",
          "Colombia"
         ],
         "xaxis": "x21",
         "y": [
          9.090909090909092,
          null
         ],
         "yaxis": "y21"
        },
        {
         "alignmentgroup": "True",
         "hovertemplate": "variable=Away<br>date_day=Afternoon<br>date_dow=Wednesday<br>country_name=%{x}<br>value=%{y}<extra></extra>",
         "legendgroup": "Away",
         "marker": {
          "color": "#636efa"
         },
         "name": "Away",
         "offsetgroup": "Away",
         "orientation": "v",
         "showlegend": false,
         "textposition": "auto",
         "type": "bar",
         "x": [
          "Argentina",
          "Brazil",
          "Chile",
          "Colombia",
          "Mexico",
          "Peru"
         ],
         "xaxis": "x8",
         "y": [
          27.27272727272727,
          28.37837837837838,
          30,
          24.778761061946902,
          22.727272727272727,
          null
         ],
         "yaxis": "y8"
        },
        {
         "alignmentgroup": "True",
         "hovertemplate": "variable=Away<br>date_day=Afternoon<br>date_dow=Friday   <br>country_name=%{x}<br>value=%{y}<extra></extra>",
         "legendgroup": "Away",
         "marker": {
          "color": "#636efa"
         },
         "name": "Away",
         "offsetgroup": "Away",
         "orientation": "v",
         "showlegend": false,
         "textposition": "auto",
         "type": "bar",
         "x": [
          "Argentina",
          "Brazil",
          "Chile",
          "Colombia",
          "Mexico",
          "Peru"
         ],
         "xaxis": "x9",
         "y": [
          34.54545454545455,
          null,
          21.21212121212121,
          28.947368421052634,
          32.35294117647059,
          16
         ],
         "yaxis": "y9"
        },
        {
         "alignmentgroup": "True",
         "hovertemplate": "variable=Away<br>date_day=Afternoon<br>date_dow=Monday   <br>country_name=%{x}<br>value=%{y}<extra></extra>",
         "legendgroup": "Away",
         "marker": {
          "color": "#636efa"
         },
         "name": "Away",
         "offsetgroup": "Away",
         "orientation": "v",
         "showlegend": false,
         "textposition": "auto",
         "type": "bar",
         "x": [
          "Argentina",
          "Brazil",
          "Chile",
          "Colombia",
          "Mexico",
          "Peru"
         ],
         "xaxis": "x10",
         "y": [
          30.508474576271187,
          50,
          16.666666666666664,
          34.285714285714285,
          null,
          16.666666666666664
         ],
         "yaxis": "y10"
        },
        {
         "alignmentgroup": "True",
         "hovertemplate": "variable=Away<br>date_day=Afternoon<br>date_dow=Saturday <br>country_name=%{x}<br>value=%{y}<extra></extra>",
         "legendgroup": "Away",
         "marker": {
          "color": "#636efa"
         },
         "name": "Away",
         "offsetgroup": "Away",
         "orientation": "v",
         "showlegend": false,
         "textposition": "auto",
         "type": "bar",
         "x": [
          "Argentina",
          "Brazil",
          "Chile",
          "Colombia",
          "Mexico",
          "Peru"
         ],
         "xaxis": "x11",
         "y": [
          28.225806451612907,
          28.205128205128204,
          24.545454545454547,
          24.541284403669724,
          21.070234113712374,
          21.052631578947366
         ],
         "yaxis": "y11"
        },
        {
         "alignmentgroup": "True",
         "hovertemplate": "variable=Away<br>date_day=Afternoon<br>date_dow=Sunday   <br>country_name=%{x}<br>value=%{y}<extra></extra>",
         "legendgroup": "Away",
         "marker": {
          "color": "#636efa"
         },
         "name": "Away",
         "offsetgroup": "Away",
         "orientation": "v",
         "showlegend": false,
         "textposition": "auto",
         "type": "bar",
         "x": [
          "Argentina",
          "Brazil",
          "Chile",
          "Colombia",
          "Mexico",
          "Peru"
         ],
         "xaxis": "x12",
         "y": [
          27.376425855513308,
          24.59016393442623,
          28.799999999999997,
          22.403258655804482,
          27.56756756756757,
          25
         ],
         "yaxis": "y12"
        },
        {
         "alignmentgroup": "True",
         "hovertemplate": "variable=Away<br>date_day=Afternoon<br>date_dow=Thursday <br>country_name=%{x}<br>value=%{y}<extra></extra>",
         "legendgroup": "Away",
         "marker": {
          "color": "#636efa"
         },
         "name": "Away",
         "offsetgroup": "Away",
         "orientation": "v",
         "showlegend": false,
         "textposition": "auto",
         "type": "bar",
         "x": [
          "Argentina",
          "Brazil",
          "Chile",
          "Colombia",
          "Mexico"
         ],
         "xaxis": "x13",
         "y": [
          40,
          20,
          5.88235294117647,
          23.18840579710145,
          9.090909090909092
         ],
         "yaxis": "y13"
        },
        {
         "alignmentgroup": "True",
         "hovertemplate": "variable=Away<br>date_day=Afternoon<br>date_dow=Tuesday  <br>country_name=%{x}<br>value=%{y}<extra></extra>",
         "legendgroup": "Away",
         "marker": {
          "color": "#636efa"
         },
         "name": "Away",
         "offsetgroup": "Away",
         "orientation": "v",
         "showlegend": false,
         "textposition": "auto",
         "type": "bar",
         "x": [
          "Argentina",
          "Brazil",
          "Chile",
          "Colombia",
          "Mexico",
          "Peru"
         ],
         "xaxis": "x14",
         "y": [
          null,
          null,
          18.181818181818183,
          21.428571428571427,
          50,
          null
         ],
         "yaxis": "y14"
        },
        {
         "alignmentgroup": "True",
         "hovertemplate": "variable=Away<br>date_day=Evening<br>date_dow=Wednesday<br>country_name=%{x}<br>value=%{y}<extra></extra>",
         "legendgroup": "Away",
         "marker": {
          "color": "#636efa"
         },
         "name": "Away",
         "offsetgroup": "Away",
         "orientation": "v",
         "showlegend": false,
         "textposition": "auto",
         "type": "bar",
         "x": [
          "Argentina",
          "Brazil",
          "Chile",
          "Colombia",
          "Mexico",
          "Peru"
         ],
         "xaxis": "x",
         "y": [
          50,
          27.31958762886598,
          33.33333333333333,
          18.055555555555554,
          26.82926829268293,
          null
         ],
         "yaxis": "y"
        },
        {
         "alignmentgroup": "True",
         "hovertemplate": "variable=Away<br>date_day=Evening<br>date_dow=Friday   <br>country_name=%{x}<br>value=%{y}<extra></extra>",
         "legendgroup": "Away",
         "marker": {
          "color": "#636efa"
         },
         "name": "Away",
         "offsetgroup": "Away",
         "orientation": "v",
         "showlegend": false,
         "textposition": "auto",
         "type": "bar",
         "x": [
          "Argentina",
          "Brazil",
          "Chile",
          "Colombia",
          "Mexico",
          "Peru"
         ],
         "xaxis": "x2",
         "y": [
          27.54491017964072,
          33.33333333333333,
          19.27710843373494,
          18.181818181818183,
          38.2716049382716,
          16
         ],
         "yaxis": "y2"
        },
        {
         "alignmentgroup": "True",
         "hovertemplate": "variable=Away<br>date_day=Evening<br>date_dow=Monday   <br>country_name=%{x}<br>value=%{y}<extra></extra>",
         "legendgroup": "Away",
         "marker": {
          "color": "#636efa"
         },
         "name": "Away",
         "offsetgroup": "Away",
         "orientation": "v",
         "showlegend": false,
         "textposition": "auto",
         "type": "bar",
         "x": [
          "Argentina",
          "Brazil",
          "Chile",
          "Colombia",
          "Mexico",
          "Peru"
         ],
         "xaxis": "x3",
         "y": [
          23.783783783783786,
          22.22222222222222,
          28.125,
          43.333333333333336,
          25,
          28.57142857142857
         ],
         "yaxis": "y3"
        },
        {
         "alignmentgroup": "True",
         "hovertemplate": "variable=Away<br>date_day=Evening<br>date_dow=Saturday <br>country_name=%{x}<br>value=%{y}<extra></extra>",
         "legendgroup": "Away",
         "marker": {
          "color": "#636efa"
         },
         "name": "Away",
         "offsetgroup": "Away",
         "orientation": "v",
         "showlegend": false,
         "textposition": "auto",
         "type": "bar",
         "x": [
          "Argentina",
          "Brazil",
          "Chile",
          "Colombia",
          "Mexico",
          "Peru"
         ],
         "xaxis": "x4",
         "y": [
          30.28571428571429,
          21.875,
          17.46031746031746,
          17.97752808988764,
          24.647887323943664,
          25
         ],
         "yaxis": "y4"
        },
        {
         "alignmentgroup": "True",
         "hovertemplate": "variable=Away<br>date_day=Evening<br>date_dow=Sunday   <br>country_name=%{x}<br>value=%{y}<extra></extra>",
         "legendgroup": "Away",
         "marker": {
          "color": "#636efa"
         },
         "name": "Away",
         "offsetgroup": "Away",
         "orientation": "v",
         "showlegend": false,
         "textposition": "auto",
         "type": "bar",
         "x": [
          "Argentina",
          "Brazil",
          "Chile",
          "Colombia",
          "Mexico"
         ],
         "xaxis": "x5",
         "y": [
          34.30232558139535,
          20,
          25.423728813559322,
          18.29268292682927,
          29.166666666666668
         ],
         "yaxis": "y5"
        },
        {
         "alignmentgroup": "True",
         "hovertemplate": "variable=Away<br>date_day=Evening<br>date_dow=Thursday <br>country_name=%{x}<br>value=%{y}<extra></extra>",
         "legendgroup": "Away",
         "marker": {
          "color": "#636efa"
         },
         "name": "Away",
         "offsetgroup": "Away",
         "orientation": "v",
         "showlegend": false,
         "textposition": "auto",
         "type": "bar",
         "x": [
          "Argentina",
          "Brazil",
          "Chile",
          "Colombia",
          "Mexico"
         ],
         "xaxis": "x6",
         "y": [
          21.428571428571427,
          21.428571428571427,
          20,
          29.411764705882355,
          19.148936170212767
         ],
         "yaxis": "y6"
        },
        {
         "alignmentgroup": "True",
         "hovertemplate": "variable=Away<br>date_day=Evening<br>date_dow=Tuesday  <br>country_name=%{x}<br>value=%{y}<extra></extra>",
         "legendgroup": "Away",
         "marker": {
          "color": "#636efa"
         },
         "name": "Away",
         "offsetgroup": "Away",
         "orientation": "v",
         "showlegend": false,
         "textposition": "auto",
         "type": "bar",
         "x": [
          "Argentina",
          "Brazil",
          "Chile",
          "Colombia",
          "Mexico"
         ],
         "xaxis": "x7",
         "y": [
          37.5,
          null,
          11.11111111111111,
          9.090909090909092,
          30.434782608695656
         ],
         "yaxis": "y7"
        },
        {
         "alignmentgroup": "True",
         "hovertemplate": "variable=Draw<br>date_day=Morning<br>date_dow=Wednesday<br>country_name=%{x}<br>value=%{y}<extra></extra>",
         "legendgroup": "Draw",
         "marker": {
          "color": "#EF553B"
         },
         "name": "Draw",
         "offsetgroup": "Draw",
         "orientation": "v",
         "showlegend": true,
         "textposition": "auto",
         "type": "bar",
         "x": [
          "Chile",
          "Colombia"
         ],
         "xaxis": "x15",
         "y": [
          13.333333333333334,
          null
         ],
         "yaxis": "y15"
        },
        {
         "alignmentgroup": "True",
         "hovertemplate": "variable=Draw<br>date_day=Morning<br>date_dow=Friday   <br>country_name=%{x}<br>value=%{y}<extra></extra>",
         "legendgroup": "Draw",
         "marker": {
          "color": "#EF553B"
         },
         "name": "Draw",
         "offsetgroup": "Draw",
         "orientation": "v",
         "showlegend": false,
         "textposition": "auto",
         "type": "bar",
         "x": [
          "Chile",
          "Peru"
         ],
         "xaxis": "x16",
         "y": [
          40,
          null
         ],
         "yaxis": "y16"
        },
        {
         "alignmentgroup": "True",
         "hovertemplate": "variable=Draw<br>date_day=Morning<br>date_dow=Monday   <br>country_name=%{x}<br>value=%{y}<extra></extra>",
         "legendgroup": "Draw",
         "marker": {
          "color": "#EF553B"
         },
         "name": "Draw",
         "offsetgroup": "Draw",
         "orientation": "v",
         "showlegend": false,
         "textposition": "auto",
         "type": "bar",
         "x": [
          "Chile",
          "Colombia",
          "Peru"
         ],
         "xaxis": "x17",
         "y": [
          16.666666666666664,
          null,
          null
         ],
         "yaxis": "y17"
        },
        {
         "alignmentgroup": "True",
         "hovertemplate": "variable=Draw<br>date_day=Morning<br>date_dow=Saturday <br>country_name=%{x}<br>value=%{y}<extra></extra>",
         "legendgroup": "Draw",
         "marker": {
          "color": "#EF553B"
         },
         "name": "Draw",
         "offsetgroup": "Draw",
         "orientation": "v",
         "showlegend": false,
         "textposition": "auto",
         "type": "bar",
         "x": [
          "Argentina",
          "Brazil",
          "Chile",
          "Colombia",
          "Peru"
         ],
         "xaxis": "x18",
         "y": [
          25.37313432835821,
          33.33333333333333,
          26.153846153846157,
          23.684210526315788,
          29.166666666666668
         ],
         "yaxis": "y18"
        },
        {
         "alignmentgroup": "True",
         "hovertemplate": "variable=Draw<br>date_day=Morning<br>date_dow=Sunday   <br>country_name=%{x}<br>value=%{y}<extra></extra>",
         "legendgroup": "Draw",
         "marker": {
          "color": "#EF553B"
         },
         "name": "Draw",
         "offsetgroup": "Draw",
         "orientation": "v",
         "showlegend": false,
         "textposition": "auto",
         "type": "bar",
         "x": [
          "Argentina",
          "Brazil",
          "Chile",
          "Colombia",
          "Mexico",
          "Peru"
         ],
         "xaxis": "x19",
         "y": [
          24.242424242424242,
          32.758620689655174,
          25.757575757575758,
          35.714285714285715,
          26.36363636363636,
          38.297872340425535
         ],
         "yaxis": "y19"
        },
        {
         "alignmentgroup": "True",
         "hovertemplate": "variable=Draw<br>date_day=Morning<br>date_dow=Thursday <br>country_name=%{x}<br>value=%{y}<extra></extra>",
         "legendgroup": "Draw",
         "marker": {
          "color": "#EF553B"
         },
         "name": "Draw",
         "offsetgroup": "Draw",
         "orientation": "v",
         "showlegend": false,
         "textposition": "auto",
         "type": "bar",
         "x": [
          "Chile",
          "Colombia"
         ],
         "xaxis": "x20",
         "y": [
          12.5,
          null
         ],
         "yaxis": "y20"
        },
        {
         "alignmentgroup": "True",
         "hovertemplate": "variable=Draw<br>date_day=Morning<br>date_dow=Tuesday  <br>country_name=%{x}<br>value=%{y}<extra></extra>",
         "legendgroup": "Draw",
         "marker": {
          "color": "#EF553B"
         },
         "name": "Draw",
         "offsetgroup": "Draw",
         "orientation": "v",
         "showlegend": false,
         "textposition": "auto",
         "type": "bar",
         "x": [
          "Chile",
          "Colombia"
         ],
         "xaxis": "x21",
         "y": [
          18.181818181818183,
          null
         ],
         "yaxis": "y21"
        },
        {
         "alignmentgroup": "True",
         "hovertemplate": "variable=Draw<br>date_day=Afternoon<br>date_dow=Wednesday<br>country_name=%{x}<br>value=%{y}<extra></extra>",
         "legendgroup": "Draw",
         "marker": {
          "color": "#EF553B"
         },
         "name": "Draw",
         "offsetgroup": "Draw",
         "orientation": "v",
         "showlegend": false,
         "textposition": "auto",
         "type": "bar",
         "x": [
          "Argentina",
          "Brazil",
          "Chile",
          "Colombia",
          "Mexico",
          "Peru"
         ],
         "xaxis": "x8",
         "y": [
          27.27272727272727,
          31.08108108108108,
          35,
          38.93805309734513,
          31.818181818181817,
          null
         ],
         "yaxis": "y8"
        },
        {
         "alignmentgroup": "True",
         "hovertemplate": "variable=Draw<br>date_day=Afternoon<br>date_dow=Friday   <br>country_name=%{x}<br>value=%{y}<extra></extra>",
         "legendgroup": "Draw",
         "marker": {
          "color": "#EF553B"
         },
         "name": "Draw",
         "offsetgroup": "Draw",
         "orientation": "v",
         "showlegend": false,
         "textposition": "auto",
         "type": "bar",
         "x": [
          "Argentina",
          "Brazil",
          "Chile",
          "Colombia",
          "Mexico",
          "Peru"
         ],
         "xaxis": "x9",
         "y": [
          23.636363636363637,
          null,
          24.242424242424242,
          28.947368421052634,
          36.76470588235294,
          28.000000000000004
         ],
         "yaxis": "y9"
        },
        {
         "alignmentgroup": "True",
         "hovertemplate": "variable=Draw<br>date_day=Afternoon<br>date_dow=Monday   <br>country_name=%{x}<br>value=%{y}<extra></extra>",
         "legendgroup": "Draw",
         "marker": {
          "color": "#EF553B"
         },
         "name": "Draw",
         "offsetgroup": "Draw",
         "orientation": "v",
         "showlegend": false,
         "textposition": "auto",
         "type": "bar",
         "x": [
          "Argentina",
          "Brazil",
          "Chile",
          "Colombia",
          "Mexico",
          "Peru"
         ],
         "xaxis": "x10",
         "y": [
          27.11864406779661,
          12.5,
          41.66666666666667,
          45.714285714285715,
          null,
          16.666666666666664
         ],
         "yaxis": "y10"
        },
        {
         "alignmentgroup": "True",
         "hovertemplate": "variable=Draw<br>date_day=Afternoon<br>date_dow=Saturday <br>country_name=%{x}<br>value=%{y}<extra></extra>",
         "legendgroup": "Draw",
         "marker": {
          "color": "#EF553B"
         },
         "name": "Draw",
         "offsetgroup": "Draw",
         "orientation": "v",
         "showlegend": false,
         "textposition": "auto",
         "type": "bar",
         "x": [
          "Argentina",
          "Brazil",
          "Chile",
          "Colombia",
          "Mexico",
          "Peru"
         ],
         "xaxis": "x11",
         "y": [
          25.806451612903224,
          22.564102564102566,
          30.909090909090907,
          24.31192660550459,
          35.45150501672241,
          29.82456140350877
         ],
         "yaxis": "y11"
        },
        {
         "alignmentgroup": "True",
         "hovertemplate": "variable=Draw<br>date_day=Afternoon<br>date_dow=Sunday   <br>country_name=%{x}<br>value=%{y}<extra></extra>",
         "legendgroup": "Draw",
         "marker": {
          "color": "#EF553B"
         },
         "name": "Draw",
         "offsetgroup": "Draw",
         "orientation": "v",
         "showlegend": false,
         "textposition": "auto",
         "type": "bar",
         "x": [
          "Argentina",
          "Brazil",
          "Chile",
          "Colombia",
          "Mexico",
          "Peru"
         ],
         "xaxis": "x12",
         "y": [
          27.376425855513308,
          28.051001821493628,
          28.799999999999997,
          29.327902240325866,
          30.270270270270274,
          20.588235294117645
         ],
         "yaxis": "y12"
        },
        {
         "alignmentgroup": "True",
         "hovertemplate": "variable=Draw<br>date_day=Afternoon<br>date_dow=Thursday <br>country_name=%{x}<br>value=%{y}<extra></extra>",
         "legendgroup": "Draw",
         "marker": {
          "color": "#EF553B"
         },
         "name": "Draw",
         "offsetgroup": "Draw",
         "orientation": "v",
         "showlegend": false,
         "textposition": "auto",
         "type": "bar",
         "x": [
          "Argentina",
          "Brazil",
          "Chile",
          "Colombia",
          "Mexico"
         ],
         "xaxis": "x13",
         "y": [
          20,
          25,
          47.05882352941176,
          33.33333333333333,
          36.36363636363637
         ],
         "yaxis": "y13"
        },
        {
         "alignmentgroup": "True",
         "hovertemplate": "variable=Draw<br>date_day=Afternoon<br>date_dow=Tuesday  <br>country_name=%{x}<br>value=%{y}<extra></extra>",
         "legendgroup": "Draw",
         "marker": {
          "color": "#EF553B"
         },
         "name": "Draw",
         "offsetgroup": "Draw",
         "orientation": "v",
         "showlegend": false,
         "textposition": "auto",
         "type": "bar",
         "x": [
          "Argentina",
          "Brazil",
          "Chile",
          "Colombia",
          "Mexico",
          "Peru"
         ],
         "xaxis": "x14",
         "y": [
          null,
          null,
          27.27272727272727,
          40.476190476190474,
          27.77777777777778,
          null
         ],
         "yaxis": "y14"
        },
        {
         "alignmentgroup": "True",
         "hovertemplate": "variable=Draw<br>date_day=Evening<br>date_dow=Wednesday<br>country_name=%{x}<br>value=%{y}<extra></extra>",
         "legendgroup": "Draw",
         "marker": {
          "color": "#EF553B"
         },
         "name": "Draw",
         "offsetgroup": "Draw",
         "orientation": "v",
         "showlegend": false,
         "textposition": "auto",
         "type": "bar",
         "x": [
          "Argentina",
          "Brazil",
          "Chile",
          "Colombia",
          "Mexico",
          "Peru"
         ],
         "xaxis": "x",
         "y": [
          21.428571428571427,
          22.164948453608247,
          44.44444444444444,
          26.38888888888889,
          29.268292682926827,
          null
         ],
         "yaxis": "y"
        },
        {
         "alignmentgroup": "True",
         "hovertemplate": "variable=Draw<br>date_day=Evening<br>date_dow=Friday   <br>country_name=%{x}<br>value=%{y}<extra></extra>",
         "legendgroup": "Draw",
         "marker": {
          "color": "#EF553B"
         },
         "name": "Draw",
         "offsetgroup": "Draw",
         "orientation": "v",
         "showlegend": false,
         "textposition": "auto",
         "type": "bar",
         "x": [
          "Argentina",
          "Brazil",
          "Chile",
          "Colombia",
          "Mexico",
          "Peru"
         ],
         "xaxis": "x2",
         "y": [
          27.54491017964072,
          44.44444444444444,
          53.01204819277109,
          29.545454545454547,
          25.308641975308642,
          36
         ],
         "yaxis": "y2"
        },
        {
         "alignmentgroup": "True",
         "hovertemplate": "variable=Draw<br>date_day=Evening<br>date_dow=Monday   <br>country_name=%{x}<br>value=%{y}<extra></extra>",
         "legendgroup": "Draw",
         "marker": {
          "color": "#EF553B"
         },
         "name": "Draw",
         "offsetgroup": "Draw",
         "orientation": "v",
         "showlegend": false,
         "textposition": "auto",
         "type": "bar",
         "x": [
          "Argentina",
          "Brazil",
          "Chile",
          "Colombia",
          "Mexico",
          "Peru"
         ],
         "xaxis": "x3",
         "y": [
          32.432432432432435,
          32.22222222222222,
          43.75,
          23.333333333333332,
          20.833333333333336,
          42.857142857142854
         ],
         "yaxis": "y3"
        },
        {
         "alignmentgroup": "True",
         "hovertemplate": "variable=Draw<br>date_day=Evening<br>date_dow=Saturday <br>country_name=%{x}<br>value=%{y}<extra></extra>",
         "legendgroup": "Draw",
         "marker": {
          "color": "#EF553B"
         },
         "name": "Draw",
         "offsetgroup": "Draw",
         "orientation": "v",
         "showlegend": false,
         "textposition": "auto",
         "type": "bar",
         "x": [
          "Argentina",
          "Brazil",
          "Chile",
          "Colombia",
          "Mexico",
          "Peru"
         ],
         "xaxis": "x4",
         "y": [
          36,
          32.8125,
          34.92063492063492,
          28.08988764044944,
          24.647887323943664,
          31.25
         ],
         "yaxis": "y4"
        },
        {
         "alignmentgroup": "True",
         "hovertemplate": "variable=Draw<br>date_day=Evening<br>date_dow=Sunday   <br>country_name=%{x}<br>value=%{y}<extra></extra>",
         "legendgroup": "Draw",
         "marker": {
          "color": "#EF553B"
         },
         "name": "Draw",
         "offsetgroup": "Draw",
         "orientation": "v",
         "showlegend": false,
         "textposition": "auto",
         "type": "bar",
         "x": [
          "Argentina",
          "Brazil",
          "Chile",
          "Colombia",
          "Mexico"
         ],
         "xaxis": "x5",
         "y": [
          25,
          30,
          32.20338983050847,
          30.48780487804878,
          18.75
         ],
         "yaxis": "y5"
        },
        {
         "alignmentgroup": "True",
         "hovertemplate": "variable=Draw<br>date_day=Evening<br>date_dow=Thursday <br>country_name=%{x}<br>value=%{y}<extra></extra>",
         "legendgroup": "Draw",
         "marker": {
          "color": "#EF553B"
         },
         "name": "Draw",
         "offsetgroup": "Draw",
         "orientation": "v",
         "showlegend": false,
         "textposition": "auto",
         "type": "bar",
         "x": [
          "Argentina",
          "Brazil",
          "Chile",
          "Colombia",
          "Mexico"
         ],
         "xaxis": "x6",
         "y": [
          35.714285714285715,
          25.510204081632654,
          33.33333333333333,
          19.607843137254903,
          29.78723404255319
         ],
         "yaxis": "y6"
        },
        {
         "alignmentgroup": "True",
         "hovertemplate": "variable=Draw<br>date_day=Evening<br>date_dow=Tuesday  <br>country_name=%{x}<br>value=%{y}<extra></extra>",
         "legendgroup": "Draw",
         "marker": {
          "color": "#EF553B"
         },
         "name": "Draw",
         "offsetgroup": "Draw",
         "orientation": "v",
         "showlegend": false,
         "textposition": "auto",
         "type": "bar",
         "x": [
          "Argentina",
          "Brazil",
          "Chile",
          "Colombia",
          "Mexico"
         ],
         "xaxis": "x7",
         "y": [
          25,
          null,
          44.44444444444444,
          33.33333333333333,
          21.73913043478261
         ],
         "yaxis": "y7"
        },
        {
         "alignmentgroup": "True",
         "hovertemplate": "variable=Home<br>date_day=Morning<br>date_dow=Wednesday<br>country_name=%{x}<br>value=%{y}<extra></extra>",
         "legendgroup": "Home",
         "marker": {
          "color": "#00cc96"
         },
         "name": "Home",
         "offsetgroup": "Home",
         "orientation": "v",
         "showlegend": true,
         "textposition": "auto",
         "type": "bar",
         "x": [
          "Chile",
          "Colombia"
         ],
         "xaxis": "x15",
         "y": [
          53.333333333333336,
          null
         ],
         "yaxis": "y15"
        },
        {
         "alignmentgroup": "True",
         "hovertemplate": "variable=Home<br>date_day=Morning<br>date_dow=Friday   <br>country_name=%{x}<br>value=%{y}<extra></extra>",
         "legendgroup": "Home",
         "marker": {
          "color": "#00cc96"
         },
         "name": "Home",
         "offsetgroup": "Home",
         "orientation": "v",
         "showlegend": false,
         "textposition": "auto",
         "type": "bar",
         "x": [
          "Chile",
          "Peru"
         ],
         "xaxis": "x16",
         "y": [
          40,
          null
         ],
         "yaxis": "y16"
        },
        {
         "alignmentgroup": "True",
         "hovertemplate": "variable=Home<br>date_day=Morning<br>date_dow=Monday   <br>country_name=%{x}<br>value=%{y}<extra></extra>",
         "legendgroup": "Home",
         "marker": {
          "color": "#00cc96"
         },
         "name": "Home",
         "offsetgroup": "Home",
         "orientation": "v",
         "showlegend": false,
         "textposition": "auto",
         "type": "bar",
         "x": [
          "Chile",
          "Colombia",
          "Peru"
         ],
         "xaxis": "x17",
         "y": [
          66.66666666666666,
          null,
          null
         ],
         "yaxis": "y17"
        },
        {
         "alignmentgroup": "True",
         "hovertemplate": "variable=Home<br>date_day=Morning<br>date_dow=Saturday <br>country_name=%{x}<br>value=%{y}<extra></extra>",
         "legendgroup": "Home",
         "marker": {
          "color": "#00cc96"
         },
         "name": "Home",
         "offsetgroup": "Home",
         "orientation": "v",
         "showlegend": false,
         "textposition": "auto",
         "type": "bar",
         "x": [
          "Argentina",
          "Brazil",
          "Chile",
          "Colombia",
          "Peru"
         ],
         "xaxis": "x18",
         "y": [
          43.28358208955223,
          16.666666666666664,
          36.92307692307693,
          44.73684210526316,
          37.5
         ],
         "yaxis": "y18"
        },
        {
         "alignmentgroup": "True",
         "hovertemplate": "variable=Home<br>date_day=Morning<br>date_dow=Sunday   <br>country_name=%{x}<br>value=%{y}<extra></extra>",
         "legendgroup": "Home",
         "marker": {
          "color": "#00cc96"
         },
         "name": "Home",
         "offsetgroup": "Home",
         "orientation": "v",
         "showlegend": false,
         "textposition": "auto",
         "type": "bar",
         "x": [
          "Argentina",
          "Brazil",
          "Chile",
          "Colombia",
          "Mexico",
          "Peru"
         ],
         "xaxis": "x19",
         "y": [
          43.43434343434344,
          44.827586206896555,
          40.909090909090914,
          40.476190476190474,
          48.18181818181818,
          42.5531914893617
         ],
         "yaxis": "y19"
        },
        {
         "alignmentgroup": "True",
         "hovertemplate": "variable=Home<br>date_day=Morning<br>date_dow=Thursday <br>country_name=%{x}<br>value=%{y}<extra></extra>",
         "legendgroup": "Home",
         "marker": {
          "color": "#00cc96"
         },
         "name": "Home",
         "offsetgroup": "Home",
         "orientation": "v",
         "showlegend": false,
         "textposition": "auto",
         "type": "bar",
         "x": [
          "Chile",
          "Colombia"
         ],
         "xaxis": "x20",
         "y": [
          50,
          null
         ],
         "yaxis": "y20"
        },
        {
         "alignmentgroup": "True",
         "hovertemplate": "variable=Home<br>date_day=Morning<br>date_dow=Tuesday  <br>country_name=%{x}<br>value=%{y}<extra></extra>",
         "legendgroup": "Home",
         "marker": {
          "color": "#00cc96"
         },
         "name": "Home",
         "offsetgroup": "Home",
         "orientation": "v",
         "showlegend": false,
         "textposition": "auto",
         "type": "bar",
         "x": [
          "Chile",
          "Colombia"
         ],
         "xaxis": "x21",
         "y": [
          72.72727272727273,
          null
         ],
         "yaxis": "y21"
        },
        {
         "alignmentgroup": "True",
         "hovertemplate": "variable=Home<br>date_day=Afternoon<br>date_dow=Wednesday<br>country_name=%{x}<br>value=%{y}<extra></extra>",
         "legendgroup": "Home",
         "marker": {
          "color": "#00cc96"
         },
         "name": "Home",
         "offsetgroup": "Home",
         "orientation": "v",
         "showlegend": false,
         "textposition": "auto",
         "type": "bar",
         "x": [
          "Argentina",
          "Brazil",
          "Chile",
          "Colombia",
          "Mexico",
          "Peru"
         ],
         "xaxis": "x8",
         "y": [
          45.45454545454545,
          40.54054054054054,
          35,
          36.283185840707965,
          45.45454545454545,
          null
         ],
         "yaxis": "y8"
        },
        {
         "alignmentgroup": "True",
         "hovertemplate": "variable=Home<br>date_day=Afternoon<br>date_dow=Friday   <br>country_name=%{x}<br>value=%{y}<extra></extra>",
         "legendgroup": "Home",
         "marker": {
          "color": "#00cc96"
         },
         "name": "Home",
         "offsetgroup": "Home",
         "orientation": "v",
         "showlegend": false,
         "textposition": "auto",
         "type": "bar",
         "x": [
          "Argentina",
          "Brazil",
          "Chile",
          "Colombia",
          "Mexico",
          "Peru"
         ],
         "xaxis": "x9",
         "y": [
          41.81818181818181,
          null,
          54.54545454545454,
          42.10526315789473,
          30.88235294117647,
          56.00000000000001
         ],
         "yaxis": "y9"
        },
        {
         "alignmentgroup": "True",
         "hovertemplate": "variable=Home<br>date_day=Afternoon<br>date_dow=Monday   <br>country_name=%{x}<br>value=%{y}<extra></extra>",
         "legendgroup": "Home",
         "marker": {
          "color": "#00cc96"
         },
         "name": "Home",
         "offsetgroup": "Home",
         "orientation": "v",
         "showlegend": false,
         "textposition": "auto",
         "type": "bar",
         "x": [
          "Argentina",
          "Brazil",
          "Chile",
          "Colombia",
          "Mexico",
          "Peru"
         ],
         "xaxis": "x10",
         "y": [
          42.3728813559322,
          37.5,
          41.66666666666667,
          20,
          null,
          66.66666666666666
         ],
         "yaxis": "y10"
        },
        {
         "alignmentgroup": "True",
         "hovertemplate": "variable=Home<br>date_day=Afternoon<br>date_dow=Saturday <br>country_name=%{x}<br>value=%{y}<extra></extra>",
         "legendgroup": "Home",
         "marker": {
          "color": "#00cc96"
         },
         "name": "Home",
         "offsetgroup": "Home",
         "orientation": "v",
         "showlegend": false,
         "textposition": "auto",
         "type": "bar",
         "x": [
          "Argentina",
          "Brazil",
          "Chile",
          "Colombia",
          "Mexico",
          "Peru"
         ],
         "xaxis": "x11",
         "y": [
          45.96774193548387,
          49.23076923076923,
          44.54545454545455,
          51.146788990825684,
          43.47826086956522,
          49.122807017543856
         ],
         "yaxis": "y11"
        },
        {
         "alignmentgroup": "True",
         "hovertemplate": "variable=Home<br>date_day=Afternoon<br>date_dow=Sunday   <br>country_name=%{x}<br>value=%{y}<extra></extra>",
         "legendgroup": "Home",
         "marker": {
          "color": "#00cc96"
         },
         "name": "Home",
         "offsetgroup": "Home",
         "orientation": "v",
         "showlegend": false,
         "textposition": "auto",
         "type": "bar",
         "x": [
          "Argentina",
          "Brazil",
          "Chile",
          "Colombia",
          "Mexico",
          "Peru"
         ],
         "xaxis": "x12",
         "y": [
          45.247148288973385,
          47.35883424408014,
          42.4,
          48.26883910386965,
          42.16216216216216,
          54.41176470588235
         ],
         "yaxis": "y12"
        },
        {
         "alignmentgroup": "True",
         "hovertemplate": "variable=Home<br>date_day=Afternoon<br>date_dow=Thursday <br>country_name=%{x}<br>value=%{y}<extra></extra>",
         "legendgroup": "Home",
         "marker": {
          "color": "#00cc96"
         },
         "name": "Home",
         "offsetgroup": "Home",
         "orientation": "v",
         "showlegend": false,
         "textposition": "auto",
         "type": "bar",
         "x": [
          "Argentina",
          "Brazil",
          "Chile",
          "Colombia",
          "Mexico"
         ],
         "xaxis": "x13",
         "y": [
          40,
          55.00000000000001,
          47.05882352941176,
          43.47826086956522,
          54.54545454545454
         ],
         "yaxis": "y13"
        },
        {
         "alignmentgroup": "True",
         "hovertemplate": "variable=Home<br>date_day=Afternoon<br>date_dow=Tuesday  <br>country_name=%{x}<br>value=%{y}<extra></extra>",
         "legendgroup": "Home",
         "marker": {
          "color": "#00cc96"
         },
         "name": "Home",
         "offsetgroup": "Home",
         "orientation": "v",
         "showlegend": false,
         "textposition": "auto",
         "type": "bar",
         "x": [
          "Argentina",
          "Brazil",
          "Chile",
          "Colombia",
          "Mexico",
          "Peru"
         ],
         "xaxis": "x14",
         "y": [
          null,
          null,
          54.54545454545454,
          38.095238095238095,
          22.22222222222222,
          null
         ],
         "yaxis": "y14"
        },
        {
         "alignmentgroup": "True",
         "hovertemplate": "variable=Home<br>date_day=Evening<br>date_dow=Wednesday<br>country_name=%{x}<br>value=%{y}<extra></extra>",
         "legendgroup": "Home",
         "marker": {
          "color": "#00cc96"
         },
         "name": "Home",
         "offsetgroup": "Home",
         "orientation": "v",
         "showlegend": false,
         "textposition": "auto",
         "type": "bar",
         "x": [
          "Argentina",
          "Brazil",
          "Chile",
          "Colombia",
          "Mexico",
          "Peru"
         ],
         "xaxis": "x",
         "y": [
          28.57142857142857,
          50.51546391752577,
          22.22222222222222,
          55.55555555555556,
          43.90243902439025,
          null
         ],
         "yaxis": "y"
        },
        {
         "alignmentgroup": "True",
         "hovertemplate": "variable=Home<br>date_day=Evening<br>date_dow=Friday   <br>country_name=%{x}<br>value=%{y}<extra></extra>",
         "legendgroup": "Home",
         "marker": {
          "color": "#00cc96"
         },
         "name": "Home",
         "offsetgroup": "Home",
         "orientation": "v",
         "showlegend": false,
         "textposition": "auto",
         "type": "bar",
         "x": [
          "Argentina",
          "Brazil",
          "Chile",
          "Colombia",
          "Mexico",
          "Peru"
         ],
         "xaxis": "x2",
         "y": [
          44.91017964071856,
          22.22222222222222,
          27.710843373493976,
          52.27272727272727,
          36.41975308641975,
          48
         ],
         "yaxis": "y2"
        },
        {
         "alignmentgroup": "True",
         "hovertemplate": "variable=Home<br>date_day=Evening<br>date_dow=Monday   <br>country_name=%{x}<br>value=%{y}<extra></extra>",
         "legendgroup": "Home",
         "marker": {
          "color": "#00cc96"
         },
         "name": "Home",
         "offsetgroup": "Home",
         "orientation": "v",
         "showlegend": false,
         "textposition": "auto",
         "type": "bar",
         "x": [
          "Argentina",
          "Brazil",
          "Chile",
          "Colombia",
          "Mexico",
          "Peru"
         ],
         "xaxis": "x3",
         "y": [
          43.78378378378379,
          45.55555555555556,
          28.125,
          33.33333333333333,
          54.166666666666664,
          28.57142857142857
         ],
         "yaxis": "y3"
        },
        {
         "alignmentgroup": "True",
         "hovertemplate": "variable=Home<br>date_day=Evening<br>date_dow=Saturday <br>country_name=%{x}<br>value=%{y}<extra></extra>",
         "legendgroup": "Home",
         "marker": {
          "color": "#00cc96"
         },
         "name": "Home",
         "offsetgroup": "Home",
         "orientation": "v",
         "showlegend": false,
         "textposition": "auto",
         "type": "bar",
         "x": [
          "Argentina",
          "Brazil",
          "Chile",
          "Colombia",
          "Mexico",
          "Peru"
         ],
         "xaxis": "x4",
         "y": [
          33.714285714285715,
          45.3125,
          47.61904761904761,
          53.93258426966292,
          50.70422535211267,
          43.75
         ],
         "yaxis": "y4"
        },
        {
         "alignmentgroup": "True",
         "hovertemplate": "variable=Home<br>date_day=Evening<br>date_dow=Sunday   <br>country_name=%{x}<br>value=%{y}<extra></extra>",
         "legendgroup": "Home",
         "marker": {
          "color": "#00cc96"
         },
         "name": "Home",
         "offsetgroup": "Home",
         "orientation": "v",
         "showlegend": false,
         "textposition": "auto",
         "type": "bar",
         "x": [
          "Argentina",
          "Brazil",
          "Chile",
          "Colombia",
          "Mexico"
         ],
         "xaxis": "x5",
         "y": [
          40.69767441860465,
          50,
          42.3728813559322,
          51.21951219512195,
          52.083333333333336
         ],
         "yaxis": "y5"
        },
        {
         "alignmentgroup": "True",
         "hovertemplate": "variable=Home<br>date_day=Evening<br>date_dow=Thursday <br>country_name=%{x}<br>value=%{y}<extra></extra>",
         "legendgroup": "Home",
         "marker": {
          "color": "#00cc96"
         },
         "name": "Home",
         "offsetgroup": "Home",
         "orientation": "v",
         "showlegend": false,
         "textposition": "auto",
         "type": "bar",
         "x": [
          "Argentina",
          "Brazil",
          "Chile",
          "Colombia",
          "Mexico"
         ],
         "xaxis": "x6",
         "y": [
          42.857142857142854,
          53.06122448979592,
          46.666666666666664,
          50.98039215686274,
          51.06382978723404
         ],
         "yaxis": "y6"
        },
        {
         "alignmentgroup": "True",
         "hovertemplate": "variable=Home<br>date_day=Evening<br>date_dow=Tuesday  <br>country_name=%{x}<br>value=%{y}<extra></extra>",
         "legendgroup": "Home",
         "marker": {
          "color": "#00cc96"
         },
         "name": "Home",
         "offsetgroup": "Home",
         "orientation": "v",
         "showlegend": false,
         "textposition": "auto",
         "type": "bar",
         "x": [
          "Argentina",
          "Brazil",
          "Chile",
          "Colombia",
          "Mexico"
         ],
         "xaxis": "x7",
         "y": [
          37.5,
          null,
          44.44444444444444,
          57.57575757575758,
          47.82608695652174
         ],
         "yaxis": "y7"
        }
       ],
       "layout": {
        "annotations": [
         {
          "font": {},
          "showarrow": false,
          "text": "date_dow=Wednesday",
          "x": 0.06142857142857142,
          "xanchor": "center",
          "xref": "paper",
          "y": 0.9999999999999998,
          "yanchor": "bottom",
          "yref": "paper"
         },
         {
          "font": {},
          "showarrow": false,
          "text": "date_dow=Friday   ",
          "x": 0.20428571428571426,
          "xanchor": "center",
          "xref": "paper",
          "y": 0.9999999999999998,
          "yanchor": "bottom",
          "yref": "paper"
         },
         {
          "font": {},
          "showarrow": false,
          "text": "date_dow=Monday   ",
          "x": 0.3471428571428571,
          "xanchor": "center",
          "xref": "paper",
          "y": 0.9999999999999998,
          "yanchor": "bottom",
          "yref": "paper"
         },
         {
          "font": {},
          "showarrow": false,
          "text": "date_dow=Saturday ",
          "x": 0.49,
          "xanchor": "center",
          "xref": "paper",
          "y": 0.9999999999999998,
          "yanchor": "bottom",
          "yref": "paper"
         },
         {
          "font": {},
          "showarrow": false,
          "text": "date_dow=Sunday   ",
          "x": 0.6328571428571428,
          "xanchor": "center",
          "xref": "paper",
          "y": 0.9999999999999998,
          "yanchor": "bottom",
          "yref": "paper"
         },
         {
          "font": {},
          "showarrow": false,
          "text": "date_dow=Thursday ",
          "x": 0.7757142857142856,
          "xanchor": "center",
          "xref": "paper",
          "y": 0.9999999999999998,
          "yanchor": "bottom",
          "yref": "paper"
         },
         {
          "font": {},
          "showarrow": false,
          "text": "date_dow=Tuesday  ",
          "x": 0.9185714285714286,
          "xanchor": "center",
          "xref": "paper",
          "y": 0.9999999999999998,
          "yanchor": "bottom",
          "yref": "paper"
         },
         {
          "font": {},
          "showarrow": false,
          "text": "date_day=Evening",
          "textangle": 90,
          "x": 0.98,
          "xanchor": "left",
          "xref": "paper",
          "y": 0.15666666666666665,
          "yanchor": "middle",
          "yref": "paper"
         },
         {
          "font": {},
          "showarrow": false,
          "text": "date_day=Afternoon",
          "textangle": 90,
          "x": 0.98,
          "xanchor": "left",
          "xref": "paper",
          "y": 0.4999999999999999,
          "yanchor": "middle",
          "yref": "paper"
         },
         {
          "font": {},
          "showarrow": false,
          "text": "date_day=Morning",
          "textangle": 90,
          "x": 0.98,
          "xanchor": "left",
          "xref": "paper",
          "y": 0.8433333333333332,
          "yanchor": "middle",
          "yref": "paper"
         }
        ],
        "barmode": "relative",
        "legend": {
         "title": {
          "text": "variable"
         },
         "tracegroupgap": 0
        },
        "template": {
         "data": {
          "bar": [
           {
            "error_x": {
             "color": "#2a3f5f"
            },
            "error_y": {
             "color": "#2a3f5f"
            },
            "marker": {
             "line": {
              "color": "#E5ECF6",
              "width": 0.5
             }
            },
            "type": "bar"
           }
          ],
          "barpolar": [
           {
            "marker": {
             "line": {
              "color": "#E5ECF6",
              "width": 0.5
             }
            },
            "type": "barpolar"
           }
          ],
          "carpet": [
           {
            "aaxis": {
             "endlinecolor": "#2a3f5f",
             "gridcolor": "white",
             "linecolor": "white",
             "minorgridcolor": "white",
             "startlinecolor": "#2a3f5f"
            },
            "baxis": {
             "endlinecolor": "#2a3f5f",
             "gridcolor": "white",
             "linecolor": "white",
             "minorgridcolor": "white",
             "startlinecolor": "#2a3f5f"
            },
            "type": "carpet"
           }
          ],
          "choropleth": [
           {
            "colorbar": {
             "outlinewidth": 0,
             "ticks": ""
            },
            "type": "choropleth"
           }
          ],
          "contour": [
           {
            "colorbar": {
             "outlinewidth": 0,
             "ticks": ""
            },
            "colorscale": [
             [
              0,
              "#0d0887"
             ],
             [
              0.1111111111111111,
              "#46039f"
             ],
             [
              0.2222222222222222,
              "#7201a8"
             ],
             [
              0.3333333333333333,
              "#9c179e"
             ],
             [
              0.4444444444444444,
              "#bd3786"
             ],
             [
              0.5555555555555556,
              "#d8576b"
             ],
             [
              0.6666666666666666,
              "#ed7953"
             ],
             [
              0.7777777777777778,
              "#fb9f3a"
             ],
             [
              0.8888888888888888,
              "#fdca26"
             ],
             [
              1,
              "#f0f921"
             ]
            ],
            "type": "contour"
           }
          ],
          "contourcarpet": [
           {
            "colorbar": {
             "outlinewidth": 0,
             "ticks": ""
            },
            "type": "contourcarpet"
           }
          ],
          "heatmap": [
           {
            "colorbar": {
             "outlinewidth": 0,
             "ticks": ""
            },
            "colorscale": [
             [
              0,
              "#0d0887"
             ],
             [
              0.1111111111111111,
              "#46039f"
             ],
             [
              0.2222222222222222,
              "#7201a8"
             ],
             [
              0.3333333333333333,
              "#9c179e"
             ],
             [
              0.4444444444444444,
              "#bd3786"
             ],
             [
              0.5555555555555556,
              "#d8576b"
             ],
             [
              0.6666666666666666,
              "#ed7953"
             ],
             [
              0.7777777777777778,
              "#fb9f3a"
             ],
             [
              0.8888888888888888,
              "#fdca26"
             ],
             [
              1,
              "#f0f921"
             ]
            ],
            "type": "heatmap"
           }
          ],
          "heatmapgl": [
           {
            "colorbar": {
             "outlinewidth": 0,
             "ticks": ""
            },
            "colorscale": [
             [
              0,
              "#0d0887"
             ],
             [
              0.1111111111111111,
              "#46039f"
             ],
             [
              0.2222222222222222,
              "#7201a8"
             ],
             [
              0.3333333333333333,
              "#9c179e"
             ],
             [
              0.4444444444444444,
              "#bd3786"
             ],
             [
              0.5555555555555556,
              "#d8576b"
             ],
             [
              0.6666666666666666,
              "#ed7953"
             ],
             [
              0.7777777777777778,
              "#fb9f3a"
             ],
             [
              0.8888888888888888,
              "#fdca26"
             ],
             [
              1,
              "#f0f921"
             ]
            ],
            "type": "heatmapgl"
           }
          ],
          "histogram": [
           {
            "marker": {
             "colorbar": {
              "outlinewidth": 0,
              "ticks": ""
             }
            },
            "type": "histogram"
           }
          ],
          "histogram2d": [
           {
            "colorbar": {
             "outlinewidth": 0,
             "ticks": ""
            },
            "colorscale": [
             [
              0,
              "#0d0887"
             ],
             [
              0.1111111111111111,
              "#46039f"
             ],
             [
              0.2222222222222222,
              "#7201a8"
             ],
             [
              0.3333333333333333,
              "#9c179e"
             ],
             [
              0.4444444444444444,
              "#bd3786"
             ],
             [
              0.5555555555555556,
              "#d8576b"
             ],
             [
              0.6666666666666666,
              "#ed7953"
             ],
             [
              0.7777777777777778,
              "#fb9f3a"
             ],
             [
              0.8888888888888888,
              "#fdca26"
             ],
             [
              1,
              "#f0f921"
             ]
            ],
            "type": "histogram2d"
           }
          ],
          "histogram2dcontour": [
           {
            "colorbar": {
             "outlinewidth": 0,
             "ticks": ""
            },
            "colorscale": [
             [
              0,
              "#0d0887"
             ],
             [
              0.1111111111111111,
              "#46039f"
             ],
             [
              0.2222222222222222,
              "#7201a8"
             ],
             [
              0.3333333333333333,
              "#9c179e"
             ],
             [
              0.4444444444444444,
              "#bd3786"
             ],
             [
              0.5555555555555556,
              "#d8576b"
             ],
             [
              0.6666666666666666,
              "#ed7953"
             ],
             [
              0.7777777777777778,
              "#fb9f3a"
             ],
             [
              0.8888888888888888,
              "#fdca26"
             ],
             [
              1,
              "#f0f921"
             ]
            ],
            "type": "histogram2dcontour"
           }
          ],
          "mesh3d": [
           {
            "colorbar": {
             "outlinewidth": 0,
             "ticks": ""
            },
            "type": "mesh3d"
           }
          ],
          "parcoords": [
           {
            "line": {
             "colorbar": {
              "outlinewidth": 0,
              "ticks": ""
             }
            },
            "type": "parcoords"
           }
          ],
          "pie": [
           {
            "automargin": true,
            "type": "pie"
           }
          ],
          "scatter": [
           {
            "marker": {
             "colorbar": {
              "outlinewidth": 0,
              "ticks": ""
             }
            },
            "type": "scatter"
           }
          ],
          "scatter3d": [
           {
            "line": {
             "colorbar": {
              "outlinewidth": 0,
              "ticks": ""
             }
            },
            "marker": {
             "colorbar": {
              "outlinewidth": 0,
              "ticks": ""
             }
            },
            "type": "scatter3d"
           }
          ],
          "scattercarpet": [
           {
            "marker": {
             "colorbar": {
              "outlinewidth": 0,
              "ticks": ""
             }
            },
            "type": "scattercarpet"
           }
          ],
          "scattergeo": [
           {
            "marker": {
             "colorbar": {
              "outlinewidth": 0,
              "ticks": ""
             }
            },
            "type": "scattergeo"
           }
          ],
          "scattergl": [
           {
            "marker": {
             "colorbar": {
              "outlinewidth": 0,
              "ticks": ""
             }
            },
            "type": "scattergl"
           }
          ],
          "scattermapbox": [
           {
            "marker": {
             "colorbar": {
              "outlinewidth": 0,
              "ticks": ""
             }
            },
            "type": "scattermapbox"
           }
          ],
          "scatterpolar": [
           {
            "marker": {
             "colorbar": {
              "outlinewidth": 0,
              "ticks": ""
             }
            },
            "type": "scatterpolar"
           }
          ],
          "scatterpolargl": [
           {
            "marker": {
             "colorbar": {
              "outlinewidth": 0,
              "ticks": ""
             }
            },
            "type": "scatterpolargl"
           }
          ],
          "scatterternary": [
           {
            "marker": {
             "colorbar": {
              "outlinewidth": 0,
              "ticks": ""
             }
            },
            "type": "scatterternary"
           }
          ],
          "surface": [
           {
            "colorbar": {
             "outlinewidth": 0,
             "ticks": ""
            },
            "colorscale": [
             [
              0,
              "#0d0887"
             ],
             [
              0.1111111111111111,
              "#46039f"
             ],
             [
              0.2222222222222222,
              "#7201a8"
             ],
             [
              0.3333333333333333,
              "#9c179e"
             ],
             [
              0.4444444444444444,
              "#bd3786"
             ],
             [
              0.5555555555555556,
              "#d8576b"
             ],
             [
              0.6666666666666666,
              "#ed7953"
             ],
             [
              0.7777777777777778,
              "#fb9f3a"
             ],
             [
              0.8888888888888888,
              "#fdca26"
             ],
             [
              1,
              "#f0f921"
             ]
            ],
            "type": "surface"
           }
          ],
          "table": [
           {
            "cells": {
             "fill": {
              "color": "#EBF0F8"
             },
             "line": {
              "color": "white"
             }
            },
            "header": {
             "fill": {
              "color": "#C8D4E3"
             },
             "line": {
              "color": "white"
             }
            },
            "type": "table"
           }
          ]
         },
         "layout": {
          "annotationdefaults": {
           "arrowcolor": "#2a3f5f",
           "arrowhead": 0,
           "arrowwidth": 1
          },
          "autotypenumbers": "strict",
          "coloraxis": {
           "colorbar": {
            "outlinewidth": 0,
            "ticks": ""
           }
          },
          "colorscale": {
           "diverging": [
            [
             0,
             "#8e0152"
            ],
            [
             0.1,
             "#c51b7d"
            ],
            [
             0.2,
             "#de77ae"
            ],
            [
             0.3,
             "#f1b6da"
            ],
            [
             0.4,
             "#fde0ef"
            ],
            [
             0.5,
             "#f7f7f7"
            ],
            [
             0.6,
             "#e6f5d0"
            ],
            [
             0.7,
             "#b8e186"
            ],
            [
             0.8,
             "#7fbc41"
            ],
            [
             0.9,
             "#4d9221"
            ],
            [
             1,
             "#276419"
            ]
           ],
           "sequential": [
            [
             0,
             "#0d0887"
            ],
            [
             0.1111111111111111,
             "#46039f"
            ],
            [
             0.2222222222222222,
             "#7201a8"
            ],
            [
             0.3333333333333333,
             "#9c179e"
            ],
            [
             0.4444444444444444,
             "#bd3786"
            ],
            [
             0.5555555555555556,
             "#d8576b"
            ],
            [
             0.6666666666666666,
             "#ed7953"
            ],
            [
             0.7777777777777778,
             "#fb9f3a"
            ],
            [
             0.8888888888888888,
             "#fdca26"
            ],
            [
             1,
             "#f0f921"
            ]
           ],
           "sequentialminus": [
            [
             0,
             "#0d0887"
            ],
            [
             0.1111111111111111,
             "#46039f"
            ],
            [
             0.2222222222222222,
             "#7201a8"
            ],
            [
             0.3333333333333333,
             "#9c179e"
            ],
            [
             0.4444444444444444,
             "#bd3786"
            ],
            [
             0.5555555555555556,
             "#d8576b"
            ],
            [
             0.6666666666666666,
             "#ed7953"
            ],
            [
             0.7777777777777778,
             "#fb9f3a"
            ],
            [
             0.8888888888888888,
             "#fdca26"
            ],
            [
             1,
             "#f0f921"
            ]
           ]
          },
          "colorway": [
           "#636efa",
           "#EF553B",
           "#00cc96",
           "#ab63fa",
           "#FFA15A",
           "#19d3f3",
           "#FF6692",
           "#B6E880",
           "#FF97FF",
           "#FECB52"
          ],
          "font": {
           "color": "#2a3f5f"
          },
          "geo": {
           "bgcolor": "white",
           "lakecolor": "white",
           "landcolor": "#E5ECF6",
           "showlakes": true,
           "showland": true,
           "subunitcolor": "white"
          },
          "hoverlabel": {
           "align": "left"
          },
          "hovermode": "closest",
          "mapbox": {
           "style": "light"
          },
          "paper_bgcolor": "white",
          "plot_bgcolor": "#E5ECF6",
          "polar": {
           "angularaxis": {
            "gridcolor": "white",
            "linecolor": "white",
            "ticks": ""
           },
           "bgcolor": "#E5ECF6",
           "radialaxis": {
            "gridcolor": "white",
            "linecolor": "white",
            "ticks": ""
           }
          },
          "scene": {
           "xaxis": {
            "backgroundcolor": "#E5ECF6",
            "gridcolor": "white",
            "gridwidth": 2,
            "linecolor": "white",
            "showbackground": true,
            "ticks": "",
            "zerolinecolor": "white"
           },
           "yaxis": {
            "backgroundcolor": "#E5ECF6",
            "gridcolor": "white",
            "gridwidth": 2,
            "linecolor": "white",
            "showbackground": true,
            "ticks": "",
            "zerolinecolor": "white"
           },
           "zaxis": {
            "backgroundcolor": "#E5ECF6",
            "gridcolor": "white",
            "gridwidth": 2,
            "linecolor": "white",
            "showbackground": true,
            "ticks": "",
            "zerolinecolor": "white"
           }
          },
          "shapedefaults": {
           "line": {
            "color": "#2a3f5f"
           }
          },
          "ternary": {
           "aaxis": {
            "gridcolor": "white",
            "linecolor": "white",
            "ticks": ""
           },
           "baxis": {
            "gridcolor": "white",
            "linecolor": "white",
            "ticks": ""
           },
           "bgcolor": "#E5ECF6",
           "caxis": {
            "gridcolor": "white",
            "linecolor": "white",
            "ticks": ""
           }
          },
          "title": {
           "x": 0.05
          },
          "xaxis": {
           "automargin": true,
           "gridcolor": "white",
           "linecolor": "white",
           "ticks": "",
           "title": {
            "standoff": 15
           },
           "zerolinecolor": "white",
           "zerolinewidth": 2
          },
          "yaxis": {
           "automargin": true,
           "gridcolor": "white",
           "linecolor": "white",
           "ticks": "",
           "title": {
            "standoff": 15
           },
           "zerolinecolor": "white",
           "zerolinewidth": 2
          }
         }
        },
        "title": {
         "text": "Long-Form Input"
        },
        "xaxis": {
         "anchor": "y",
         "domain": [
          0,
          0.12285714285714285
         ],
         "title": {
          "text": "country_name"
         }
        },
        "xaxis10": {
         "anchor": "y10",
         "domain": [
          0.2857142857142857,
          0.40857142857142853
         ],
         "matches": "x",
         "showticklabels": false
        },
        "xaxis11": {
         "anchor": "y11",
         "domain": [
          0.42857142857142855,
          0.5514285714285714
         ],
         "matches": "x",
         "showticklabels": false
        },
        "xaxis12": {
         "anchor": "y12",
         "domain": [
          0.5714285714285714,
          0.6942857142857143
         ],
         "matches": "x",
         "showticklabels": false
        },
        "xaxis13": {
         "anchor": "y13",
         "domain": [
          0.7142857142857142,
          0.8371428571428571
         ],
         "matches": "x",
         "showticklabels": false
        },
        "xaxis14": {
         "anchor": "y14",
         "domain": [
          0.8571428571428571,
          0.98
         ],
         "matches": "x",
         "showticklabels": false
        },
        "xaxis15": {
         "anchor": "y15",
         "domain": [
          0,
          0.12285714285714285
         ],
         "matches": "x",
         "showticklabels": false
        },
        "xaxis16": {
         "anchor": "y16",
         "domain": [
          0.14285714285714285,
          0.2657142857142857
         ],
         "matches": "x",
         "showticklabels": false
        },
        "xaxis17": {
         "anchor": "y17",
         "domain": [
          0.2857142857142857,
          0.40857142857142853
         ],
         "matches": "x",
         "showticklabels": false
        },
        "xaxis18": {
         "anchor": "y18",
         "domain": [
          0.42857142857142855,
          0.5514285714285714
         ],
         "matches": "x",
         "showticklabels": false
        },
        "xaxis19": {
         "anchor": "y19",
         "domain": [
          0.5714285714285714,
          0.6942857142857143
         ],
         "matches": "x",
         "showticklabels": false
        },
        "xaxis2": {
         "anchor": "y2",
         "domain": [
          0.14285714285714285,
          0.2657142857142857
         ],
         "matches": "x",
         "title": {
          "text": "country_name"
         }
        },
        "xaxis20": {
         "anchor": "y20",
         "domain": [
          0.7142857142857142,
          0.8371428571428571
         ],
         "matches": "x",
         "showticklabels": false
        },
        "xaxis21": {
         "anchor": "y21",
         "domain": [
          0.8571428571428571,
          0.98
         ],
         "matches": "x",
         "showticklabels": false
        },
        "xaxis3": {
         "anchor": "y3",
         "domain": [
          0.2857142857142857,
          0.40857142857142853
         ],
         "matches": "x",
         "title": {
          "text": "country_name"
         }
        },
        "xaxis4": {
         "anchor": "y4",
         "domain": [
          0.42857142857142855,
          0.5514285714285714
         ],
         "matches": "x",
         "title": {
          "text": "country_name"
         }
        },
        "xaxis5": {
         "anchor": "y5",
         "domain": [
          0.5714285714285714,
          0.6942857142857143
         ],
         "matches": "x",
         "title": {
          "text": "country_name"
         }
        },
        "xaxis6": {
         "anchor": "y6",
         "domain": [
          0.7142857142857142,
          0.8371428571428571
         ],
         "matches": "x",
         "title": {
          "text": "country_name"
         }
        },
        "xaxis7": {
         "anchor": "y7",
         "domain": [
          0.8571428571428571,
          0.98
         ],
         "matches": "x",
         "title": {
          "text": "country_name"
         }
        },
        "xaxis8": {
         "anchor": "y8",
         "domain": [
          0,
          0.12285714285714285
         ],
         "matches": "x",
         "showticklabels": false
        },
        "xaxis9": {
         "anchor": "y9",
         "domain": [
          0.14285714285714285,
          0.2657142857142857
         ],
         "matches": "x",
         "showticklabels": false
        },
        "yaxis": {
         "anchor": "x",
         "domain": [
          0,
          0.3133333333333333
         ],
         "title": {
          "text": "value"
         }
        },
        "yaxis10": {
         "anchor": "x10",
         "domain": [
          0.34333333333333327,
          0.6566666666666665
         ],
         "matches": "y",
         "showticklabels": false
        },
        "yaxis11": {
         "anchor": "x11",
         "domain": [
          0.34333333333333327,
          0.6566666666666665
         ],
         "matches": "y",
         "showticklabels": false
        },
        "yaxis12": {
         "anchor": "x12",
         "domain": [
          0.34333333333333327,
          0.6566666666666665
         ],
         "matches": "y",
         "showticklabels": false
        },
        "yaxis13": {
         "anchor": "x13",
         "domain": [
          0.34333333333333327,
          0.6566666666666665
         ],
         "matches": "y",
         "showticklabels": false
        },
        "yaxis14": {
         "anchor": "x14",
         "domain": [
          0.34333333333333327,
          0.6566666666666665
         ],
         "matches": "y",
         "showticklabels": false
        },
        "yaxis15": {
         "anchor": "x15",
         "domain": [
          0.6866666666666665,
          0.9999999999999998
         ],
         "matches": "y",
         "title": {
          "text": "value"
         }
        },
        "yaxis16": {
         "anchor": "x16",
         "domain": [
          0.6866666666666665,
          0.9999999999999998
         ],
         "matches": "y",
         "showticklabels": false
        },
        "yaxis17": {
         "anchor": "x17",
         "domain": [
          0.6866666666666665,
          0.9999999999999998
         ],
         "matches": "y",
         "showticklabels": false
        },
        "yaxis18": {
         "anchor": "x18",
         "domain": [
          0.6866666666666665,
          0.9999999999999998
         ],
         "matches": "y",
         "showticklabels": false
        },
        "yaxis19": {
         "anchor": "x19",
         "domain": [
          0.6866666666666665,
          0.9999999999999998
         ],
         "matches": "y",
         "showticklabels": false
        },
        "yaxis2": {
         "anchor": "x2",
         "domain": [
          0,
          0.3133333333333333
         ],
         "matches": "y",
         "showticklabels": false
        },
        "yaxis20": {
         "anchor": "x20",
         "domain": [
          0.6866666666666665,
          0.9999999999999998
         ],
         "matches": "y",
         "showticklabels": false
        },
        "yaxis21": {
         "anchor": "x21",
         "domain": [
          0.6866666666666665,
          0.9999999999999998
         ],
         "matches": "y",
         "showticklabels": false
        },
        "yaxis3": {
         "anchor": "x3",
         "domain": [
          0,
          0.3133333333333333
         ],
         "matches": "y",
         "showticklabels": false
        },
        "yaxis4": {
         "anchor": "x4",
         "domain": [
          0,
          0.3133333333333333
         ],
         "matches": "y",
         "showticklabels": false
        },
        "yaxis5": {
         "anchor": "x5",
         "domain": [
          0,
          0.3133333333333333
         ],
         "matches": "y",
         "showticklabels": false
        },
        "yaxis6": {
         "anchor": "x6",
         "domain": [
          0,
          0.3133333333333333
         ],
         "matches": "y",
         "showticklabels": false
        },
        "yaxis7": {
         "anchor": "x7",
         "domain": [
          0,
          0.3133333333333333
         ],
         "matches": "y",
         "showticklabels": false
        },
        "yaxis8": {
         "anchor": "x8",
         "domain": [
          0.34333333333333327,
          0.6566666666666665
         ],
         "matches": "y",
         "title": {
          "text": "value"
         }
        },
        "yaxis9": {
         "anchor": "x9",
         "domain": [
          0.34333333333333327,
          0.6566666666666665
         ],
         "matches": "y",
         "showticklabels": false
        }
       }
      },
      "text/html": [
       "<div>                            <div id=\"7e0800c0-d5d2-42dd-ba4a-fbd44d686929\" class=\"plotly-graph-div\" style=\"height:525px; width:100%;\"></div>            <script type=\"text/javascript\">                require([\"plotly\"], function(Plotly) {                    window.PLOTLYENV=window.PLOTLYENV || {};                                    if (document.getElementById(\"7e0800c0-d5d2-42dd-ba4a-fbd44d686929\")) {                    Plotly.newPlot(                        \"7e0800c0-d5d2-42dd-ba4a-fbd44d686929\",                        [{\"alignmentgroup\": \"True\", \"hovertemplate\": \"variable=Away<br>date_day=Morning<br>date_dow=Wednesday<br>country_name=%{x}<br>value=%{y}<extra></extra>\", \"legendgroup\": \"Away\", \"marker\": {\"color\": \"#636efa\"}, \"name\": \"Away\", \"offsetgroup\": \"Away\", \"orientation\": \"v\", \"showlegend\": true, \"textposition\": \"auto\", \"type\": \"bar\", \"x\": [\"Chile\", \"Colombia\"], \"xaxis\": \"x15\", \"y\": [33.33333333333333, null], \"yaxis\": \"y15\"}, {\"alignmentgroup\": \"True\", \"hovertemplate\": \"variable=Away<br>date_day=Morning<br>date_dow=Friday   <br>country_name=%{x}<br>value=%{y}<extra></extra>\", \"legendgroup\": \"Away\", \"marker\": {\"color\": \"#636efa\"}, \"name\": \"Away\", \"offsetgroup\": \"Away\", \"orientation\": \"v\", \"showlegend\": false, \"textposition\": \"auto\", \"type\": \"bar\", \"x\": [\"Chile\", \"Peru\"], \"xaxis\": \"x16\", \"y\": [20.0, null], \"yaxis\": \"y16\"}, {\"alignmentgroup\": \"True\", \"hovertemplate\": \"variable=Away<br>date_day=Morning<br>date_dow=Monday   <br>country_name=%{x}<br>value=%{y}<extra></extra>\", \"legendgroup\": \"Away\", \"marker\": {\"color\": \"#636efa\"}, \"name\": \"Away\", \"offsetgroup\": \"Away\", \"orientation\": \"v\", \"showlegend\": false, \"textposition\": \"auto\", \"type\": \"bar\", \"x\": [\"Chile\", \"Colombia\", \"Peru\"], \"xaxis\": \"x17\", \"y\": [16.666666666666664, null, null], \"yaxis\": \"y17\"}, {\"alignmentgroup\": \"True\", \"hovertemplate\": \"variable=Away<br>date_day=Morning<br>date_dow=Saturday <br>country_name=%{x}<br>value=%{y}<extra></extra>\", \"legendgroup\": \"Away\", \"marker\": {\"color\": \"#636efa\"}, \"name\": \"Away\", \"offsetgroup\": \"Away\", \"orientation\": \"v\", \"showlegend\": false, \"textposition\": \"auto\", \"type\": \"bar\", \"x\": [\"Argentina\", \"Brazil\", \"Chile\", \"Colombia\", \"Peru\"], \"xaxis\": \"x18\", \"y\": [31.343283582089555, 50.0, 36.92307692307693, 31.57894736842105, 33.33333333333333], \"yaxis\": \"y18\"}, {\"alignmentgroup\": \"True\", \"hovertemplate\": \"variable=Away<br>date_day=Morning<br>date_dow=Sunday   <br>country_name=%{x}<br>value=%{y}<extra></extra>\", \"legendgroup\": \"Away\", \"marker\": {\"color\": \"#636efa\"}, \"name\": \"Away\", \"offsetgroup\": \"Away\", \"orientation\": \"v\", \"showlegend\": false, \"textposition\": \"auto\", \"type\": \"bar\", \"x\": [\"Argentina\", \"Brazil\", \"Chile\", \"Colombia\", \"Mexico\", \"Peru\"], \"xaxis\": \"x19\", \"y\": [32.323232323232325, 22.413793103448278, 33.33333333333333, 23.809523809523807, 25.454545454545453, 19.148936170212767], \"yaxis\": \"y19\"}, {\"alignmentgroup\": \"True\", \"hovertemplate\": \"variable=Away<br>date_day=Morning<br>date_dow=Thursday <br>country_name=%{x}<br>value=%{y}<extra></extra>\", \"legendgroup\": \"Away\", \"marker\": {\"color\": \"#636efa\"}, \"name\": \"Away\", \"offsetgroup\": \"Away\", \"orientation\": \"v\", \"showlegend\": false, \"textposition\": \"auto\", \"type\": \"bar\", \"x\": [\"Chile\", \"Colombia\"], \"xaxis\": \"x20\", \"y\": [37.5, null], \"yaxis\": \"y20\"}, {\"alignmentgroup\": \"True\", \"hovertemplate\": \"variable=Away<br>date_day=Morning<br>date_dow=Tuesday  <br>country_name=%{x}<br>value=%{y}<extra></extra>\", \"legendgroup\": \"Away\", \"marker\": {\"color\": \"#636efa\"}, \"name\": \"Away\", \"offsetgroup\": \"Away\", \"orientation\": \"v\", \"showlegend\": false, \"textposition\": \"auto\", \"type\": \"bar\", \"x\": [\"Chile\", \"Colombia\"], \"xaxis\": \"x21\", \"y\": [9.090909090909092, null], \"yaxis\": \"y21\"}, {\"alignmentgroup\": \"True\", \"hovertemplate\": \"variable=Away<br>date_day=Afternoon<br>date_dow=Wednesday<br>country_name=%{x}<br>value=%{y}<extra></extra>\", \"legendgroup\": \"Away\", \"marker\": {\"color\": \"#636efa\"}, \"name\": \"Away\", \"offsetgroup\": \"Away\", \"orientation\": \"v\", \"showlegend\": false, \"textposition\": \"auto\", \"type\": \"bar\", \"x\": [\"Argentina\", \"Brazil\", \"Chile\", \"Colombia\", \"Mexico\", \"Peru\"], \"xaxis\": \"x8\", \"y\": [27.27272727272727, 28.37837837837838, 30.0, 24.778761061946902, 22.727272727272727, null], \"yaxis\": \"y8\"}, {\"alignmentgroup\": \"True\", \"hovertemplate\": \"variable=Away<br>date_day=Afternoon<br>date_dow=Friday   <br>country_name=%{x}<br>value=%{y}<extra></extra>\", \"legendgroup\": \"Away\", \"marker\": {\"color\": \"#636efa\"}, \"name\": \"Away\", \"offsetgroup\": \"Away\", \"orientation\": \"v\", \"showlegend\": false, \"textposition\": \"auto\", \"type\": \"bar\", \"x\": [\"Argentina\", \"Brazil\", \"Chile\", \"Colombia\", \"Mexico\", \"Peru\"], \"xaxis\": \"x9\", \"y\": [34.54545454545455, null, 21.21212121212121, 28.947368421052634, 32.35294117647059, 16.0], \"yaxis\": \"y9\"}, {\"alignmentgroup\": \"True\", \"hovertemplate\": \"variable=Away<br>date_day=Afternoon<br>date_dow=Monday   <br>country_name=%{x}<br>value=%{y}<extra></extra>\", \"legendgroup\": \"Away\", \"marker\": {\"color\": \"#636efa\"}, \"name\": \"Away\", \"offsetgroup\": \"Away\", \"orientation\": \"v\", \"showlegend\": false, \"textposition\": \"auto\", \"type\": \"bar\", \"x\": [\"Argentina\", \"Brazil\", \"Chile\", \"Colombia\", \"Mexico\", \"Peru\"], \"xaxis\": \"x10\", \"y\": [30.508474576271187, 50.0, 16.666666666666664, 34.285714285714285, null, 16.666666666666664], \"yaxis\": \"y10\"}, {\"alignmentgroup\": \"True\", \"hovertemplate\": \"variable=Away<br>date_day=Afternoon<br>date_dow=Saturday <br>country_name=%{x}<br>value=%{y}<extra></extra>\", \"legendgroup\": \"Away\", \"marker\": {\"color\": \"#636efa\"}, \"name\": \"Away\", \"offsetgroup\": \"Away\", \"orientation\": \"v\", \"showlegend\": false, \"textposition\": \"auto\", \"type\": \"bar\", \"x\": [\"Argentina\", \"Brazil\", \"Chile\", \"Colombia\", \"Mexico\", \"Peru\"], \"xaxis\": \"x11\", \"y\": [28.225806451612907, 28.205128205128204, 24.545454545454547, 24.541284403669724, 21.070234113712374, 21.052631578947366], \"yaxis\": \"y11\"}, {\"alignmentgroup\": \"True\", \"hovertemplate\": \"variable=Away<br>date_day=Afternoon<br>date_dow=Sunday   <br>country_name=%{x}<br>value=%{y}<extra></extra>\", \"legendgroup\": \"Away\", \"marker\": {\"color\": \"#636efa\"}, \"name\": \"Away\", \"offsetgroup\": \"Away\", \"orientation\": \"v\", \"showlegend\": false, \"textposition\": \"auto\", \"type\": \"bar\", \"x\": [\"Argentina\", \"Brazil\", \"Chile\", \"Colombia\", \"Mexico\", \"Peru\"], \"xaxis\": \"x12\", \"y\": [27.376425855513308, 24.59016393442623, 28.799999999999997, 22.403258655804482, 27.56756756756757, 25.0], \"yaxis\": \"y12\"}, {\"alignmentgroup\": \"True\", \"hovertemplate\": \"variable=Away<br>date_day=Afternoon<br>date_dow=Thursday <br>country_name=%{x}<br>value=%{y}<extra></extra>\", \"legendgroup\": \"Away\", \"marker\": {\"color\": \"#636efa\"}, \"name\": \"Away\", \"offsetgroup\": \"Away\", \"orientation\": \"v\", \"showlegend\": false, \"textposition\": \"auto\", \"type\": \"bar\", \"x\": [\"Argentina\", \"Brazil\", \"Chile\", \"Colombia\", \"Mexico\"], \"xaxis\": \"x13\", \"y\": [40.0, 20.0, 5.88235294117647, 23.18840579710145, 9.090909090909092], \"yaxis\": \"y13\"}, {\"alignmentgroup\": \"True\", \"hovertemplate\": \"variable=Away<br>date_day=Afternoon<br>date_dow=Tuesday  <br>country_name=%{x}<br>value=%{y}<extra></extra>\", \"legendgroup\": \"Away\", \"marker\": {\"color\": \"#636efa\"}, \"name\": \"Away\", \"offsetgroup\": \"Away\", \"orientation\": \"v\", \"showlegend\": false, \"textposition\": \"auto\", \"type\": \"bar\", \"x\": [\"Argentina\", \"Brazil\", \"Chile\", \"Colombia\", \"Mexico\", \"Peru\"], \"xaxis\": \"x14\", \"y\": [null, null, 18.181818181818183, 21.428571428571427, 50.0, null], \"yaxis\": \"y14\"}, {\"alignmentgroup\": \"True\", \"hovertemplate\": \"variable=Away<br>date_day=Evening<br>date_dow=Wednesday<br>country_name=%{x}<br>value=%{y}<extra></extra>\", \"legendgroup\": \"Away\", \"marker\": {\"color\": \"#636efa\"}, \"name\": \"Away\", \"offsetgroup\": \"Away\", \"orientation\": \"v\", \"showlegend\": false, \"textposition\": \"auto\", \"type\": \"bar\", \"x\": [\"Argentina\", \"Brazil\", \"Chile\", \"Colombia\", \"Mexico\", \"Peru\"], \"xaxis\": \"x\", \"y\": [50.0, 27.31958762886598, 33.33333333333333, 18.055555555555554, 26.82926829268293, null], \"yaxis\": \"y\"}, {\"alignmentgroup\": \"True\", \"hovertemplate\": \"variable=Away<br>date_day=Evening<br>date_dow=Friday   <br>country_name=%{x}<br>value=%{y}<extra></extra>\", \"legendgroup\": \"Away\", \"marker\": {\"color\": \"#636efa\"}, \"name\": \"Away\", \"offsetgroup\": \"Away\", \"orientation\": \"v\", \"showlegend\": false, \"textposition\": \"auto\", \"type\": \"bar\", \"x\": [\"Argentina\", \"Brazil\", \"Chile\", \"Colombia\", \"Mexico\", \"Peru\"], \"xaxis\": \"x2\", \"y\": [27.54491017964072, 33.33333333333333, 19.27710843373494, 18.181818181818183, 38.2716049382716, 16.0], \"yaxis\": \"y2\"}, {\"alignmentgroup\": \"True\", \"hovertemplate\": \"variable=Away<br>date_day=Evening<br>date_dow=Monday   <br>country_name=%{x}<br>value=%{y}<extra></extra>\", \"legendgroup\": \"Away\", \"marker\": {\"color\": \"#636efa\"}, \"name\": \"Away\", \"offsetgroup\": \"Away\", \"orientation\": \"v\", \"showlegend\": false, \"textposition\": \"auto\", \"type\": \"bar\", \"x\": [\"Argentina\", \"Brazil\", \"Chile\", \"Colombia\", \"Mexico\", \"Peru\"], \"xaxis\": \"x3\", \"y\": [23.783783783783786, 22.22222222222222, 28.125, 43.333333333333336, 25.0, 28.57142857142857], \"yaxis\": \"y3\"}, {\"alignmentgroup\": \"True\", \"hovertemplate\": \"variable=Away<br>date_day=Evening<br>date_dow=Saturday <br>country_name=%{x}<br>value=%{y}<extra></extra>\", \"legendgroup\": \"Away\", \"marker\": {\"color\": \"#636efa\"}, \"name\": \"Away\", \"offsetgroup\": \"Away\", \"orientation\": \"v\", \"showlegend\": false, \"textposition\": \"auto\", \"type\": \"bar\", \"x\": [\"Argentina\", \"Brazil\", \"Chile\", \"Colombia\", \"Mexico\", \"Peru\"], \"xaxis\": \"x4\", \"y\": [30.28571428571429, 21.875, 17.46031746031746, 17.97752808988764, 24.647887323943664, 25.0], \"yaxis\": \"y4\"}, {\"alignmentgroup\": \"True\", \"hovertemplate\": \"variable=Away<br>date_day=Evening<br>date_dow=Sunday   <br>country_name=%{x}<br>value=%{y}<extra></extra>\", \"legendgroup\": \"Away\", \"marker\": {\"color\": \"#636efa\"}, \"name\": \"Away\", \"offsetgroup\": \"Away\", \"orientation\": \"v\", \"showlegend\": false, \"textposition\": \"auto\", \"type\": \"bar\", \"x\": [\"Argentina\", \"Brazil\", \"Chile\", \"Colombia\", \"Mexico\"], \"xaxis\": \"x5\", \"y\": [34.30232558139535, 20.0, 25.423728813559322, 18.29268292682927, 29.166666666666668], \"yaxis\": \"y5\"}, {\"alignmentgroup\": \"True\", \"hovertemplate\": \"variable=Away<br>date_day=Evening<br>date_dow=Thursday <br>country_name=%{x}<br>value=%{y}<extra></extra>\", \"legendgroup\": \"Away\", \"marker\": {\"color\": \"#636efa\"}, \"name\": \"Away\", \"offsetgroup\": \"Away\", \"orientation\": \"v\", \"showlegend\": false, \"textposition\": \"auto\", \"type\": \"bar\", \"x\": [\"Argentina\", \"Brazil\", \"Chile\", \"Colombia\", \"Mexico\"], \"xaxis\": \"x6\", \"y\": [21.428571428571427, 21.428571428571427, 20.0, 29.411764705882355, 19.148936170212767], \"yaxis\": \"y6\"}, {\"alignmentgroup\": \"True\", \"hovertemplate\": \"variable=Away<br>date_day=Evening<br>date_dow=Tuesday  <br>country_name=%{x}<br>value=%{y}<extra></extra>\", \"legendgroup\": \"Away\", \"marker\": {\"color\": \"#636efa\"}, \"name\": \"Away\", \"offsetgroup\": \"Away\", \"orientation\": \"v\", \"showlegend\": false, \"textposition\": \"auto\", \"type\": \"bar\", \"x\": [\"Argentina\", \"Brazil\", \"Chile\", \"Colombia\", \"Mexico\"], \"xaxis\": \"x7\", \"y\": [37.5, null, 11.11111111111111, 9.090909090909092, 30.434782608695656], \"yaxis\": \"y7\"}, {\"alignmentgroup\": \"True\", \"hovertemplate\": \"variable=Draw<br>date_day=Morning<br>date_dow=Wednesday<br>country_name=%{x}<br>value=%{y}<extra></extra>\", \"legendgroup\": \"Draw\", \"marker\": {\"color\": \"#EF553B\"}, \"name\": \"Draw\", \"offsetgroup\": \"Draw\", \"orientation\": \"v\", \"showlegend\": true, \"textposition\": \"auto\", \"type\": \"bar\", \"x\": [\"Chile\", \"Colombia\"], \"xaxis\": \"x15\", \"y\": [13.333333333333334, null], \"yaxis\": \"y15\"}, {\"alignmentgroup\": \"True\", \"hovertemplate\": \"variable=Draw<br>date_day=Morning<br>date_dow=Friday   <br>country_name=%{x}<br>value=%{y}<extra></extra>\", \"legendgroup\": \"Draw\", \"marker\": {\"color\": \"#EF553B\"}, \"name\": \"Draw\", \"offsetgroup\": \"Draw\", \"orientation\": \"v\", \"showlegend\": false, \"textposition\": \"auto\", \"type\": \"bar\", \"x\": [\"Chile\", \"Peru\"], \"xaxis\": \"x16\", \"y\": [40.0, null], \"yaxis\": \"y16\"}, {\"alignmentgroup\": \"True\", \"hovertemplate\": \"variable=Draw<br>date_day=Morning<br>date_dow=Monday   <br>country_name=%{x}<br>value=%{y}<extra></extra>\", \"legendgroup\": \"Draw\", \"marker\": {\"color\": \"#EF553B\"}, \"name\": \"Draw\", \"offsetgroup\": \"Draw\", \"orientation\": \"v\", \"showlegend\": false, \"textposition\": \"auto\", \"type\": \"bar\", \"x\": [\"Chile\", \"Colombia\", \"Peru\"], \"xaxis\": \"x17\", \"y\": [16.666666666666664, null, null], \"yaxis\": \"y17\"}, {\"alignmentgroup\": \"True\", \"hovertemplate\": \"variable=Draw<br>date_day=Morning<br>date_dow=Saturday <br>country_name=%{x}<br>value=%{y}<extra></extra>\", \"legendgroup\": \"Draw\", \"marker\": {\"color\": \"#EF553B\"}, \"name\": \"Draw\", \"offsetgroup\": \"Draw\", \"orientation\": \"v\", \"showlegend\": false, \"textposition\": \"auto\", \"type\": \"bar\", \"x\": [\"Argentina\", \"Brazil\", \"Chile\", \"Colombia\", \"Peru\"], \"xaxis\": \"x18\", \"y\": [25.37313432835821, 33.33333333333333, 26.153846153846157, 23.684210526315788, 29.166666666666668], \"yaxis\": \"y18\"}, {\"alignmentgroup\": \"True\", \"hovertemplate\": \"variable=Draw<br>date_day=Morning<br>date_dow=Sunday   <br>country_name=%{x}<br>value=%{y}<extra></extra>\", \"legendgroup\": \"Draw\", \"marker\": {\"color\": \"#EF553B\"}, \"name\": \"Draw\", \"offsetgroup\": \"Draw\", \"orientation\": \"v\", \"showlegend\": false, \"textposition\": \"auto\", \"type\": \"bar\", \"x\": [\"Argentina\", \"Brazil\", \"Chile\", \"Colombia\", \"Mexico\", \"Peru\"], \"xaxis\": \"x19\", \"y\": [24.242424242424242, 32.758620689655174, 25.757575757575758, 35.714285714285715, 26.36363636363636, 38.297872340425535], \"yaxis\": \"y19\"}, {\"alignmentgroup\": \"True\", \"hovertemplate\": \"variable=Draw<br>date_day=Morning<br>date_dow=Thursday <br>country_name=%{x}<br>value=%{y}<extra></extra>\", \"legendgroup\": \"Draw\", \"marker\": {\"color\": \"#EF553B\"}, \"name\": \"Draw\", \"offsetgroup\": \"Draw\", \"orientation\": \"v\", \"showlegend\": false, \"textposition\": \"auto\", \"type\": \"bar\", \"x\": [\"Chile\", \"Colombia\"], \"xaxis\": \"x20\", \"y\": [12.5, null], \"yaxis\": \"y20\"}, {\"alignmentgroup\": \"True\", \"hovertemplate\": \"variable=Draw<br>date_day=Morning<br>date_dow=Tuesday  <br>country_name=%{x}<br>value=%{y}<extra></extra>\", \"legendgroup\": \"Draw\", \"marker\": {\"color\": \"#EF553B\"}, \"name\": \"Draw\", \"offsetgroup\": \"Draw\", \"orientation\": \"v\", \"showlegend\": false, \"textposition\": \"auto\", \"type\": \"bar\", \"x\": [\"Chile\", \"Colombia\"], \"xaxis\": \"x21\", \"y\": [18.181818181818183, null], \"yaxis\": \"y21\"}, {\"alignmentgroup\": \"True\", \"hovertemplate\": \"variable=Draw<br>date_day=Afternoon<br>date_dow=Wednesday<br>country_name=%{x}<br>value=%{y}<extra></extra>\", \"legendgroup\": \"Draw\", \"marker\": {\"color\": \"#EF553B\"}, \"name\": \"Draw\", \"offsetgroup\": \"Draw\", \"orientation\": \"v\", \"showlegend\": false, \"textposition\": \"auto\", \"type\": \"bar\", \"x\": [\"Argentina\", \"Brazil\", \"Chile\", \"Colombia\", \"Mexico\", \"Peru\"], \"xaxis\": \"x8\", \"y\": [27.27272727272727, 31.08108108108108, 35.0, 38.93805309734513, 31.818181818181817, null], \"yaxis\": \"y8\"}, {\"alignmentgroup\": \"True\", \"hovertemplate\": \"variable=Draw<br>date_day=Afternoon<br>date_dow=Friday   <br>country_name=%{x}<br>value=%{y}<extra></extra>\", \"legendgroup\": \"Draw\", \"marker\": {\"color\": \"#EF553B\"}, \"name\": \"Draw\", \"offsetgroup\": \"Draw\", \"orientation\": \"v\", \"showlegend\": false, \"textposition\": \"auto\", \"type\": \"bar\", \"x\": [\"Argentina\", \"Brazil\", \"Chile\", \"Colombia\", \"Mexico\", \"Peru\"], \"xaxis\": \"x9\", \"y\": [23.636363636363637, null, 24.242424242424242, 28.947368421052634, 36.76470588235294, 28.000000000000004], \"yaxis\": \"y9\"}, {\"alignmentgroup\": \"True\", \"hovertemplate\": \"variable=Draw<br>date_day=Afternoon<br>date_dow=Monday   <br>country_name=%{x}<br>value=%{y}<extra></extra>\", \"legendgroup\": \"Draw\", \"marker\": {\"color\": \"#EF553B\"}, \"name\": \"Draw\", \"offsetgroup\": \"Draw\", \"orientation\": \"v\", \"showlegend\": false, \"textposition\": \"auto\", \"type\": \"bar\", \"x\": [\"Argentina\", \"Brazil\", \"Chile\", \"Colombia\", \"Mexico\", \"Peru\"], \"xaxis\": \"x10\", \"y\": [27.11864406779661, 12.5, 41.66666666666667, 45.714285714285715, null, 16.666666666666664], \"yaxis\": \"y10\"}, {\"alignmentgroup\": \"True\", \"hovertemplate\": \"variable=Draw<br>date_day=Afternoon<br>date_dow=Saturday <br>country_name=%{x}<br>value=%{y}<extra></extra>\", \"legendgroup\": \"Draw\", \"marker\": {\"color\": \"#EF553B\"}, \"name\": \"Draw\", \"offsetgroup\": \"Draw\", \"orientation\": \"v\", \"showlegend\": false, \"textposition\": \"auto\", \"type\": \"bar\", \"x\": [\"Argentina\", \"Brazil\", \"Chile\", \"Colombia\", \"Mexico\", \"Peru\"], \"xaxis\": \"x11\", \"y\": [25.806451612903224, 22.564102564102566, 30.909090909090907, 24.31192660550459, 35.45150501672241, 29.82456140350877], \"yaxis\": \"y11\"}, {\"alignmentgroup\": \"True\", \"hovertemplate\": \"variable=Draw<br>date_day=Afternoon<br>date_dow=Sunday   <br>country_name=%{x}<br>value=%{y}<extra></extra>\", \"legendgroup\": \"Draw\", \"marker\": {\"color\": \"#EF553B\"}, \"name\": \"Draw\", \"offsetgroup\": \"Draw\", \"orientation\": \"v\", \"showlegend\": false, \"textposition\": \"auto\", \"type\": \"bar\", \"x\": [\"Argentina\", \"Brazil\", \"Chile\", \"Colombia\", \"Mexico\", \"Peru\"], \"xaxis\": \"x12\", \"y\": [27.376425855513308, 28.051001821493628, 28.799999999999997, 29.327902240325866, 30.270270270270274, 20.588235294117645], \"yaxis\": \"y12\"}, {\"alignmentgroup\": \"True\", \"hovertemplate\": \"variable=Draw<br>date_day=Afternoon<br>date_dow=Thursday <br>country_name=%{x}<br>value=%{y}<extra></extra>\", \"legendgroup\": \"Draw\", \"marker\": {\"color\": \"#EF553B\"}, \"name\": \"Draw\", \"offsetgroup\": \"Draw\", \"orientation\": \"v\", \"showlegend\": false, \"textposition\": \"auto\", \"type\": \"bar\", \"x\": [\"Argentina\", \"Brazil\", \"Chile\", \"Colombia\", \"Mexico\"], \"xaxis\": \"x13\", \"y\": [20.0, 25.0, 47.05882352941176, 33.33333333333333, 36.36363636363637], \"yaxis\": \"y13\"}, {\"alignmentgroup\": \"True\", \"hovertemplate\": \"variable=Draw<br>date_day=Afternoon<br>date_dow=Tuesday  <br>country_name=%{x}<br>value=%{y}<extra></extra>\", \"legendgroup\": \"Draw\", \"marker\": {\"color\": \"#EF553B\"}, \"name\": \"Draw\", \"offsetgroup\": \"Draw\", \"orientation\": \"v\", \"showlegend\": false, \"textposition\": \"auto\", \"type\": \"bar\", \"x\": [\"Argentina\", \"Brazil\", \"Chile\", \"Colombia\", \"Mexico\", \"Peru\"], \"xaxis\": \"x14\", \"y\": [null, null, 27.27272727272727, 40.476190476190474, 27.77777777777778, null], \"yaxis\": \"y14\"}, {\"alignmentgroup\": \"True\", \"hovertemplate\": \"variable=Draw<br>date_day=Evening<br>date_dow=Wednesday<br>country_name=%{x}<br>value=%{y}<extra></extra>\", \"legendgroup\": \"Draw\", \"marker\": {\"color\": \"#EF553B\"}, \"name\": \"Draw\", \"offsetgroup\": \"Draw\", \"orientation\": \"v\", \"showlegend\": false, \"textposition\": \"auto\", \"type\": \"bar\", \"x\": [\"Argentina\", \"Brazil\", \"Chile\", \"Colombia\", \"Mexico\", \"Peru\"], \"xaxis\": \"x\", \"y\": [21.428571428571427, 22.164948453608247, 44.44444444444444, 26.38888888888889, 29.268292682926827, null], \"yaxis\": \"y\"}, {\"alignmentgroup\": \"True\", \"hovertemplate\": \"variable=Draw<br>date_day=Evening<br>date_dow=Friday   <br>country_name=%{x}<br>value=%{y}<extra></extra>\", \"legendgroup\": \"Draw\", \"marker\": {\"color\": \"#EF553B\"}, \"name\": \"Draw\", \"offsetgroup\": \"Draw\", \"orientation\": \"v\", \"showlegend\": false, \"textposition\": \"auto\", \"type\": \"bar\", \"x\": [\"Argentina\", \"Brazil\", \"Chile\", \"Colombia\", \"Mexico\", \"Peru\"], \"xaxis\": \"x2\", \"y\": [27.54491017964072, 44.44444444444444, 53.01204819277109, 29.545454545454547, 25.308641975308642, 36.0], \"yaxis\": \"y2\"}, {\"alignmentgroup\": \"True\", \"hovertemplate\": \"variable=Draw<br>date_day=Evening<br>date_dow=Monday   <br>country_name=%{x}<br>value=%{y}<extra></extra>\", \"legendgroup\": \"Draw\", \"marker\": {\"color\": \"#EF553B\"}, \"name\": \"Draw\", \"offsetgroup\": \"Draw\", \"orientation\": \"v\", \"showlegend\": false, \"textposition\": \"auto\", \"type\": \"bar\", \"x\": [\"Argentina\", \"Brazil\", \"Chile\", \"Colombia\", \"Mexico\", \"Peru\"], \"xaxis\": \"x3\", \"y\": [32.432432432432435, 32.22222222222222, 43.75, 23.333333333333332, 20.833333333333336, 42.857142857142854], \"yaxis\": \"y3\"}, {\"alignmentgroup\": \"True\", \"hovertemplate\": \"variable=Draw<br>date_day=Evening<br>date_dow=Saturday <br>country_name=%{x}<br>value=%{y}<extra></extra>\", \"legendgroup\": \"Draw\", \"marker\": {\"color\": \"#EF553B\"}, \"name\": \"Draw\", \"offsetgroup\": \"Draw\", \"orientation\": \"v\", \"showlegend\": false, \"textposition\": \"auto\", \"type\": \"bar\", \"x\": [\"Argentina\", \"Brazil\", \"Chile\", \"Colombia\", \"Mexico\", \"Peru\"], \"xaxis\": \"x4\", \"y\": [36.0, 32.8125, 34.92063492063492, 28.08988764044944, 24.647887323943664, 31.25], \"yaxis\": \"y4\"}, {\"alignmentgroup\": \"True\", \"hovertemplate\": \"variable=Draw<br>date_day=Evening<br>date_dow=Sunday   <br>country_name=%{x}<br>value=%{y}<extra></extra>\", \"legendgroup\": \"Draw\", \"marker\": {\"color\": \"#EF553B\"}, \"name\": \"Draw\", \"offsetgroup\": \"Draw\", \"orientation\": \"v\", \"showlegend\": false, \"textposition\": \"auto\", \"type\": \"bar\", \"x\": [\"Argentina\", \"Brazil\", \"Chile\", \"Colombia\", \"Mexico\"], \"xaxis\": \"x5\", \"y\": [25.0, 30.0, 32.20338983050847, 30.48780487804878, 18.75], \"yaxis\": \"y5\"}, {\"alignmentgroup\": \"True\", \"hovertemplate\": \"variable=Draw<br>date_day=Evening<br>date_dow=Thursday <br>country_name=%{x}<br>value=%{y}<extra></extra>\", \"legendgroup\": \"Draw\", \"marker\": {\"color\": \"#EF553B\"}, \"name\": \"Draw\", \"offsetgroup\": \"Draw\", \"orientation\": \"v\", \"showlegend\": false, \"textposition\": \"auto\", \"type\": \"bar\", \"x\": [\"Argentina\", \"Brazil\", \"Chile\", \"Colombia\", \"Mexico\"], \"xaxis\": \"x6\", \"y\": [35.714285714285715, 25.510204081632654, 33.33333333333333, 19.607843137254903, 29.78723404255319], \"yaxis\": \"y6\"}, {\"alignmentgroup\": \"True\", \"hovertemplate\": \"variable=Draw<br>date_day=Evening<br>date_dow=Tuesday  <br>country_name=%{x}<br>value=%{y}<extra></extra>\", \"legendgroup\": \"Draw\", \"marker\": {\"color\": \"#EF553B\"}, \"name\": \"Draw\", \"offsetgroup\": \"Draw\", \"orientation\": \"v\", \"showlegend\": false, \"textposition\": \"auto\", \"type\": \"bar\", \"x\": [\"Argentina\", \"Brazil\", \"Chile\", \"Colombia\", \"Mexico\"], \"xaxis\": \"x7\", \"y\": [25.0, null, 44.44444444444444, 33.33333333333333, 21.73913043478261], \"yaxis\": \"y7\"}, {\"alignmentgroup\": \"True\", \"hovertemplate\": \"variable=Home<br>date_day=Morning<br>date_dow=Wednesday<br>country_name=%{x}<br>value=%{y}<extra></extra>\", \"legendgroup\": \"Home\", \"marker\": {\"color\": \"#00cc96\"}, \"name\": \"Home\", \"offsetgroup\": \"Home\", \"orientation\": \"v\", \"showlegend\": true, \"textposition\": \"auto\", \"type\": \"bar\", \"x\": [\"Chile\", \"Colombia\"], \"xaxis\": \"x15\", \"y\": [53.333333333333336, null], \"yaxis\": \"y15\"}, {\"alignmentgroup\": \"True\", \"hovertemplate\": \"variable=Home<br>date_day=Morning<br>date_dow=Friday   <br>country_name=%{x}<br>value=%{y}<extra></extra>\", \"legendgroup\": \"Home\", \"marker\": {\"color\": \"#00cc96\"}, \"name\": \"Home\", \"offsetgroup\": \"Home\", \"orientation\": \"v\", \"showlegend\": false, \"textposition\": \"auto\", \"type\": \"bar\", \"x\": [\"Chile\", \"Peru\"], \"xaxis\": \"x16\", \"y\": [40.0, null], \"yaxis\": \"y16\"}, {\"alignmentgroup\": \"True\", \"hovertemplate\": \"variable=Home<br>date_day=Morning<br>date_dow=Monday   <br>country_name=%{x}<br>value=%{y}<extra></extra>\", \"legendgroup\": \"Home\", \"marker\": {\"color\": \"#00cc96\"}, \"name\": \"Home\", \"offsetgroup\": \"Home\", \"orientation\": \"v\", \"showlegend\": false, \"textposition\": \"auto\", \"type\": \"bar\", \"x\": [\"Chile\", \"Colombia\", \"Peru\"], \"xaxis\": \"x17\", \"y\": [66.66666666666666, null, null], \"yaxis\": \"y17\"}, {\"alignmentgroup\": \"True\", \"hovertemplate\": \"variable=Home<br>date_day=Morning<br>date_dow=Saturday <br>country_name=%{x}<br>value=%{y}<extra></extra>\", \"legendgroup\": \"Home\", \"marker\": {\"color\": \"#00cc96\"}, \"name\": \"Home\", \"offsetgroup\": \"Home\", \"orientation\": \"v\", \"showlegend\": false, \"textposition\": \"auto\", \"type\": \"bar\", \"x\": [\"Argentina\", \"Brazil\", \"Chile\", \"Colombia\", \"Peru\"], \"xaxis\": \"x18\", \"y\": [43.28358208955223, 16.666666666666664, 36.92307692307693, 44.73684210526316, 37.5], \"yaxis\": \"y18\"}, {\"alignmentgroup\": \"True\", \"hovertemplate\": \"variable=Home<br>date_day=Morning<br>date_dow=Sunday   <br>country_name=%{x}<br>value=%{y}<extra></extra>\", \"legendgroup\": \"Home\", \"marker\": {\"color\": \"#00cc96\"}, \"name\": \"Home\", \"offsetgroup\": \"Home\", \"orientation\": \"v\", \"showlegend\": false, \"textposition\": \"auto\", \"type\": \"bar\", \"x\": [\"Argentina\", \"Brazil\", \"Chile\", \"Colombia\", \"Mexico\", \"Peru\"], \"xaxis\": \"x19\", \"y\": [43.43434343434344, 44.827586206896555, 40.909090909090914, 40.476190476190474, 48.18181818181818, 42.5531914893617], \"yaxis\": \"y19\"}, {\"alignmentgroup\": \"True\", \"hovertemplate\": \"variable=Home<br>date_day=Morning<br>date_dow=Thursday <br>country_name=%{x}<br>value=%{y}<extra></extra>\", \"legendgroup\": \"Home\", \"marker\": {\"color\": \"#00cc96\"}, \"name\": \"Home\", \"offsetgroup\": \"Home\", \"orientation\": \"v\", \"showlegend\": false, \"textposition\": \"auto\", \"type\": \"bar\", \"x\": [\"Chile\", \"Colombia\"], \"xaxis\": \"x20\", \"y\": [50.0, null], \"yaxis\": \"y20\"}, {\"alignmentgroup\": \"True\", \"hovertemplate\": \"variable=Home<br>date_day=Morning<br>date_dow=Tuesday  <br>country_name=%{x}<br>value=%{y}<extra></extra>\", \"legendgroup\": \"Home\", \"marker\": {\"color\": \"#00cc96\"}, \"name\": \"Home\", \"offsetgroup\": \"Home\", \"orientation\": \"v\", \"showlegend\": false, \"textposition\": \"auto\", \"type\": \"bar\", \"x\": [\"Chile\", \"Colombia\"], \"xaxis\": \"x21\", \"y\": [72.72727272727273, null], \"yaxis\": \"y21\"}, {\"alignmentgroup\": \"True\", \"hovertemplate\": \"variable=Home<br>date_day=Afternoon<br>date_dow=Wednesday<br>country_name=%{x}<br>value=%{y}<extra></extra>\", \"legendgroup\": \"Home\", \"marker\": {\"color\": \"#00cc96\"}, \"name\": \"Home\", \"offsetgroup\": \"Home\", \"orientation\": \"v\", \"showlegend\": false, \"textposition\": \"auto\", \"type\": \"bar\", \"x\": [\"Argentina\", \"Brazil\", \"Chile\", \"Colombia\", \"Mexico\", \"Peru\"], \"xaxis\": \"x8\", \"y\": [45.45454545454545, 40.54054054054054, 35.0, 36.283185840707965, 45.45454545454545, null], \"yaxis\": \"y8\"}, {\"alignmentgroup\": \"True\", \"hovertemplate\": \"variable=Home<br>date_day=Afternoon<br>date_dow=Friday   <br>country_name=%{x}<br>value=%{y}<extra></extra>\", \"legendgroup\": \"Home\", \"marker\": {\"color\": \"#00cc96\"}, \"name\": \"Home\", \"offsetgroup\": \"Home\", \"orientation\": \"v\", \"showlegend\": false, \"textposition\": \"auto\", \"type\": \"bar\", \"x\": [\"Argentina\", \"Brazil\", \"Chile\", \"Colombia\", \"Mexico\", \"Peru\"], \"xaxis\": \"x9\", \"y\": [41.81818181818181, null, 54.54545454545454, 42.10526315789473, 30.88235294117647, 56.00000000000001], \"yaxis\": \"y9\"}, {\"alignmentgroup\": \"True\", \"hovertemplate\": \"variable=Home<br>date_day=Afternoon<br>date_dow=Monday   <br>country_name=%{x}<br>value=%{y}<extra></extra>\", \"legendgroup\": \"Home\", \"marker\": {\"color\": \"#00cc96\"}, \"name\": \"Home\", \"offsetgroup\": \"Home\", \"orientation\": \"v\", \"showlegend\": false, \"textposition\": \"auto\", \"type\": \"bar\", \"x\": [\"Argentina\", \"Brazil\", \"Chile\", \"Colombia\", \"Mexico\", \"Peru\"], \"xaxis\": \"x10\", \"y\": [42.3728813559322, 37.5, 41.66666666666667, 20.0, null, 66.66666666666666], \"yaxis\": \"y10\"}, {\"alignmentgroup\": \"True\", \"hovertemplate\": \"variable=Home<br>date_day=Afternoon<br>date_dow=Saturday <br>country_name=%{x}<br>value=%{y}<extra></extra>\", \"legendgroup\": \"Home\", \"marker\": {\"color\": \"#00cc96\"}, \"name\": \"Home\", \"offsetgroup\": \"Home\", \"orientation\": \"v\", \"showlegend\": false, \"textposition\": \"auto\", \"type\": \"bar\", \"x\": [\"Argentina\", \"Brazil\", \"Chile\", \"Colombia\", \"Mexico\", \"Peru\"], \"xaxis\": \"x11\", \"y\": [45.96774193548387, 49.23076923076923, 44.54545454545455, 51.146788990825684, 43.47826086956522, 49.122807017543856], \"yaxis\": \"y11\"}, {\"alignmentgroup\": \"True\", \"hovertemplate\": \"variable=Home<br>date_day=Afternoon<br>date_dow=Sunday   <br>country_name=%{x}<br>value=%{y}<extra></extra>\", \"legendgroup\": \"Home\", \"marker\": {\"color\": \"#00cc96\"}, \"name\": \"Home\", \"offsetgroup\": \"Home\", \"orientation\": \"v\", \"showlegend\": false, \"textposition\": \"auto\", \"type\": \"bar\", \"x\": [\"Argentina\", \"Brazil\", \"Chile\", \"Colombia\", \"Mexico\", \"Peru\"], \"xaxis\": \"x12\", \"y\": [45.247148288973385, 47.35883424408014, 42.4, 48.26883910386965, 42.16216216216216, 54.41176470588235], \"yaxis\": \"y12\"}, {\"alignmentgroup\": \"True\", \"hovertemplate\": \"variable=Home<br>date_day=Afternoon<br>date_dow=Thursday <br>country_name=%{x}<br>value=%{y}<extra></extra>\", \"legendgroup\": \"Home\", \"marker\": {\"color\": \"#00cc96\"}, \"name\": \"Home\", \"offsetgroup\": \"Home\", \"orientation\": \"v\", \"showlegend\": false, \"textposition\": \"auto\", \"type\": \"bar\", \"x\": [\"Argentina\", \"Brazil\", \"Chile\", \"Colombia\", \"Mexico\"], \"xaxis\": \"x13\", \"y\": [40.0, 55.00000000000001, 47.05882352941176, 43.47826086956522, 54.54545454545454], \"yaxis\": \"y13\"}, {\"alignmentgroup\": \"True\", \"hovertemplate\": \"variable=Home<br>date_day=Afternoon<br>date_dow=Tuesday  <br>country_name=%{x}<br>value=%{y}<extra></extra>\", \"legendgroup\": \"Home\", \"marker\": {\"color\": \"#00cc96\"}, \"name\": \"Home\", \"offsetgroup\": \"Home\", \"orientation\": \"v\", \"showlegend\": false, \"textposition\": \"auto\", \"type\": \"bar\", \"x\": [\"Argentina\", \"Brazil\", \"Chile\", \"Colombia\", \"Mexico\", \"Peru\"], \"xaxis\": \"x14\", \"y\": [null, null, 54.54545454545454, 38.095238095238095, 22.22222222222222, null], \"yaxis\": \"y14\"}, {\"alignmentgroup\": \"True\", \"hovertemplate\": \"variable=Home<br>date_day=Evening<br>date_dow=Wednesday<br>country_name=%{x}<br>value=%{y}<extra></extra>\", \"legendgroup\": \"Home\", \"marker\": {\"color\": \"#00cc96\"}, \"name\": \"Home\", \"offsetgroup\": \"Home\", \"orientation\": \"v\", \"showlegend\": false, \"textposition\": \"auto\", \"type\": \"bar\", \"x\": [\"Argentina\", \"Brazil\", \"Chile\", \"Colombia\", \"Mexico\", \"Peru\"], \"xaxis\": \"x\", \"y\": [28.57142857142857, 50.51546391752577, 22.22222222222222, 55.55555555555556, 43.90243902439025, null], \"yaxis\": \"y\"}, {\"alignmentgroup\": \"True\", \"hovertemplate\": \"variable=Home<br>date_day=Evening<br>date_dow=Friday   <br>country_name=%{x}<br>value=%{y}<extra></extra>\", \"legendgroup\": \"Home\", \"marker\": {\"color\": \"#00cc96\"}, \"name\": \"Home\", \"offsetgroup\": \"Home\", \"orientation\": \"v\", \"showlegend\": false, \"textposition\": \"auto\", \"type\": \"bar\", \"x\": [\"Argentina\", \"Brazil\", \"Chile\", \"Colombia\", \"Mexico\", \"Peru\"], \"xaxis\": \"x2\", \"y\": [44.91017964071856, 22.22222222222222, 27.710843373493976, 52.27272727272727, 36.41975308641975, 48.0], \"yaxis\": \"y2\"}, {\"alignmentgroup\": \"True\", \"hovertemplate\": \"variable=Home<br>date_day=Evening<br>date_dow=Monday   <br>country_name=%{x}<br>value=%{y}<extra></extra>\", \"legendgroup\": \"Home\", \"marker\": {\"color\": \"#00cc96\"}, \"name\": \"Home\", \"offsetgroup\": \"Home\", \"orientation\": \"v\", \"showlegend\": false, \"textposition\": \"auto\", \"type\": \"bar\", \"x\": [\"Argentina\", \"Brazil\", \"Chile\", \"Colombia\", \"Mexico\", \"Peru\"], \"xaxis\": \"x3\", \"y\": [43.78378378378379, 45.55555555555556, 28.125, 33.33333333333333, 54.166666666666664, 28.57142857142857], \"yaxis\": \"y3\"}, {\"alignmentgroup\": \"True\", \"hovertemplate\": \"variable=Home<br>date_day=Evening<br>date_dow=Saturday <br>country_name=%{x}<br>value=%{y}<extra></extra>\", \"legendgroup\": \"Home\", \"marker\": {\"color\": \"#00cc96\"}, \"name\": \"Home\", \"offsetgroup\": \"Home\", \"orientation\": \"v\", \"showlegend\": false, \"textposition\": \"auto\", \"type\": \"bar\", \"x\": [\"Argentina\", \"Brazil\", \"Chile\", \"Colombia\", \"Mexico\", \"Peru\"], \"xaxis\": \"x4\", \"y\": [33.714285714285715, 45.3125, 47.61904761904761, 53.93258426966292, 50.70422535211267, 43.75], \"yaxis\": \"y4\"}, {\"alignmentgroup\": \"True\", \"hovertemplate\": \"variable=Home<br>date_day=Evening<br>date_dow=Sunday   <br>country_name=%{x}<br>value=%{y}<extra></extra>\", \"legendgroup\": \"Home\", \"marker\": {\"color\": \"#00cc96\"}, \"name\": \"Home\", \"offsetgroup\": \"Home\", \"orientation\": \"v\", \"showlegend\": false, \"textposition\": \"auto\", \"type\": \"bar\", \"x\": [\"Argentina\", \"Brazil\", \"Chile\", \"Colombia\", \"Mexico\"], \"xaxis\": \"x5\", \"y\": [40.69767441860465, 50.0, 42.3728813559322, 51.21951219512195, 52.083333333333336], \"yaxis\": \"y5\"}, {\"alignmentgroup\": \"True\", \"hovertemplate\": \"variable=Home<br>date_day=Evening<br>date_dow=Thursday <br>country_name=%{x}<br>value=%{y}<extra></extra>\", \"legendgroup\": \"Home\", \"marker\": {\"color\": \"#00cc96\"}, \"name\": \"Home\", \"offsetgroup\": \"Home\", \"orientation\": \"v\", \"showlegend\": false, \"textposition\": \"auto\", \"type\": \"bar\", \"x\": [\"Argentina\", \"Brazil\", \"Chile\", \"Colombia\", \"Mexico\"], \"xaxis\": \"x6\", \"y\": [42.857142857142854, 53.06122448979592, 46.666666666666664, 50.98039215686274, 51.06382978723404], \"yaxis\": \"y6\"}, {\"alignmentgroup\": \"True\", \"hovertemplate\": \"variable=Home<br>date_day=Evening<br>date_dow=Tuesday  <br>country_name=%{x}<br>value=%{y}<extra></extra>\", \"legendgroup\": \"Home\", \"marker\": {\"color\": \"#00cc96\"}, \"name\": \"Home\", \"offsetgroup\": \"Home\", \"orientation\": \"v\", \"showlegend\": false, \"textposition\": \"auto\", \"type\": \"bar\", \"x\": [\"Argentina\", \"Brazil\", \"Chile\", \"Colombia\", \"Mexico\"], \"xaxis\": \"x7\", \"y\": [37.5, null, 44.44444444444444, 57.57575757575758, 47.82608695652174], \"yaxis\": \"y7\"}],                        {\"annotations\": [{\"font\": {}, \"showarrow\": false, \"text\": \"date_dow=Wednesday\", \"x\": 0.06142857142857142, \"xanchor\": \"center\", \"xref\": \"paper\", \"y\": 0.9999999999999998, \"yanchor\": \"bottom\", \"yref\": \"paper\"}, {\"font\": {}, \"showarrow\": false, \"text\": \"date_dow=Friday   \", \"x\": 0.20428571428571426, \"xanchor\": \"center\", \"xref\": \"paper\", \"y\": 0.9999999999999998, \"yanchor\": \"bottom\", \"yref\": \"paper\"}, {\"font\": {}, \"showarrow\": false, \"text\": \"date_dow=Monday   \", \"x\": 0.3471428571428571, \"xanchor\": \"center\", \"xref\": \"paper\", \"y\": 0.9999999999999998, \"yanchor\": \"bottom\", \"yref\": \"paper\"}, {\"font\": {}, \"showarrow\": false, \"text\": \"date_dow=Saturday \", \"x\": 0.49, \"xanchor\": \"center\", \"xref\": \"paper\", \"y\": 0.9999999999999998, \"yanchor\": \"bottom\", \"yref\": \"paper\"}, {\"font\": {}, \"showarrow\": false, \"text\": \"date_dow=Sunday   \", \"x\": 0.6328571428571428, \"xanchor\": \"center\", \"xref\": \"paper\", \"y\": 0.9999999999999998, \"yanchor\": \"bottom\", \"yref\": \"paper\"}, {\"font\": {}, \"showarrow\": false, \"text\": \"date_dow=Thursday \", \"x\": 0.7757142857142856, \"xanchor\": \"center\", \"xref\": \"paper\", \"y\": 0.9999999999999998, \"yanchor\": \"bottom\", \"yref\": \"paper\"}, {\"font\": {}, \"showarrow\": false, \"text\": \"date_dow=Tuesday  \", \"x\": 0.9185714285714286, \"xanchor\": \"center\", \"xref\": \"paper\", \"y\": 0.9999999999999998, \"yanchor\": \"bottom\", \"yref\": \"paper\"}, {\"font\": {}, \"showarrow\": false, \"text\": \"date_day=Evening\", \"textangle\": 90, \"x\": 0.98, \"xanchor\": \"left\", \"xref\": \"paper\", \"y\": 0.15666666666666665, \"yanchor\": \"middle\", \"yref\": \"paper\"}, {\"font\": {}, \"showarrow\": false, \"text\": \"date_day=Afternoon\", \"textangle\": 90, \"x\": 0.98, \"xanchor\": \"left\", \"xref\": \"paper\", \"y\": 0.4999999999999999, \"yanchor\": \"middle\", \"yref\": \"paper\"}, {\"font\": {}, \"showarrow\": false, \"text\": \"date_day=Morning\", \"textangle\": 90, \"x\": 0.98, \"xanchor\": \"left\", \"xref\": \"paper\", \"y\": 0.8433333333333332, \"yanchor\": \"middle\", \"yref\": \"paper\"}], \"barmode\": \"relative\", \"legend\": {\"title\": {\"text\": \"variable\"}, \"tracegroupgap\": 0}, \"template\": {\"data\": {\"bar\": [{\"error_x\": {\"color\": \"#2a3f5f\"}, \"error_y\": {\"color\": \"#2a3f5f\"}, \"marker\": {\"line\": {\"color\": \"#E5ECF6\", \"width\": 0.5}}, \"type\": \"bar\"}], \"barpolar\": [{\"marker\": {\"line\": {\"color\": \"#E5ECF6\", \"width\": 0.5}}, \"type\": \"barpolar\"}], \"carpet\": [{\"aaxis\": {\"endlinecolor\": \"#2a3f5f\", \"gridcolor\": \"white\", \"linecolor\": \"white\", \"minorgridcolor\": \"white\", \"startlinecolor\": \"#2a3f5f\"}, \"baxis\": {\"endlinecolor\": \"#2a3f5f\", \"gridcolor\": \"white\", \"linecolor\": \"white\", \"minorgridcolor\": \"white\", \"startlinecolor\": \"#2a3f5f\"}, \"type\": \"carpet\"}], \"choropleth\": [{\"colorbar\": {\"outlinewidth\": 0, \"ticks\": \"\"}, \"type\": \"choropleth\"}], \"contour\": [{\"colorbar\": {\"outlinewidth\": 0, \"ticks\": \"\"}, \"colorscale\": [[0.0, \"#0d0887\"], [0.1111111111111111, \"#46039f\"], [0.2222222222222222, \"#7201a8\"], [0.3333333333333333, \"#9c179e\"], [0.4444444444444444, \"#bd3786\"], [0.5555555555555556, \"#d8576b\"], [0.6666666666666666, \"#ed7953\"], [0.7777777777777778, \"#fb9f3a\"], [0.8888888888888888, \"#fdca26\"], [1.0, \"#f0f921\"]], \"type\": \"contour\"}], \"contourcarpet\": [{\"colorbar\": {\"outlinewidth\": 0, \"ticks\": \"\"}, \"type\": \"contourcarpet\"}], \"heatmap\": [{\"colorbar\": {\"outlinewidth\": 0, \"ticks\": \"\"}, \"colorscale\": [[0.0, \"#0d0887\"], [0.1111111111111111, \"#46039f\"], [0.2222222222222222, \"#7201a8\"], [0.3333333333333333, \"#9c179e\"], [0.4444444444444444, \"#bd3786\"], [0.5555555555555556, \"#d8576b\"], [0.6666666666666666, \"#ed7953\"], [0.7777777777777778, \"#fb9f3a\"], [0.8888888888888888, \"#fdca26\"], [1.0, \"#f0f921\"]], \"type\": \"heatmap\"}], \"heatmapgl\": [{\"colorbar\": {\"outlinewidth\": 0, \"ticks\": \"\"}, \"colorscale\": [[0.0, \"#0d0887\"], [0.1111111111111111, \"#46039f\"], [0.2222222222222222, \"#7201a8\"], [0.3333333333333333, \"#9c179e\"], [0.4444444444444444, \"#bd3786\"], [0.5555555555555556, \"#d8576b\"], [0.6666666666666666, \"#ed7953\"], [0.7777777777777778, \"#fb9f3a\"], [0.8888888888888888, \"#fdca26\"], [1.0, \"#f0f921\"]], \"type\": \"heatmapgl\"}], \"histogram\": [{\"marker\": {\"colorbar\": {\"outlinewidth\": 0, \"ticks\": \"\"}}, \"type\": \"histogram\"}], \"histogram2d\": [{\"colorbar\": {\"outlinewidth\": 0, \"ticks\": \"\"}, \"colorscale\": [[0.0, \"#0d0887\"], [0.1111111111111111, \"#46039f\"], [0.2222222222222222, \"#7201a8\"], [0.3333333333333333, \"#9c179e\"], [0.4444444444444444, \"#bd3786\"], [0.5555555555555556, \"#d8576b\"], [0.6666666666666666, \"#ed7953\"], [0.7777777777777778, \"#fb9f3a\"], [0.8888888888888888, \"#fdca26\"], [1.0, \"#f0f921\"]], \"type\": \"histogram2d\"}], \"histogram2dcontour\": [{\"colorbar\": {\"outlinewidth\": 0, \"ticks\": \"\"}, \"colorscale\": [[0.0, \"#0d0887\"], [0.1111111111111111, \"#46039f\"], [0.2222222222222222, \"#7201a8\"], [0.3333333333333333, \"#9c179e\"], [0.4444444444444444, \"#bd3786\"], [0.5555555555555556, \"#d8576b\"], [0.6666666666666666, \"#ed7953\"], [0.7777777777777778, \"#fb9f3a\"], [0.8888888888888888, \"#fdca26\"], [1.0, \"#f0f921\"]], \"type\": \"histogram2dcontour\"}], \"mesh3d\": [{\"colorbar\": {\"outlinewidth\": 0, \"ticks\": \"\"}, \"type\": \"mesh3d\"}], \"parcoords\": [{\"line\": {\"colorbar\": {\"outlinewidth\": 0, \"ticks\": \"\"}}, \"type\": \"parcoords\"}], \"pie\": [{\"automargin\": true, \"type\": \"pie\"}], \"scatter\": [{\"marker\": {\"colorbar\": {\"outlinewidth\": 0, \"ticks\": \"\"}}, \"type\": \"scatter\"}], \"scatter3d\": [{\"line\": {\"colorbar\": {\"outlinewidth\": 0, \"ticks\": \"\"}}, \"marker\": {\"colorbar\": {\"outlinewidth\": 0, \"ticks\": \"\"}}, \"type\": \"scatter3d\"}], \"scattercarpet\": [{\"marker\": {\"colorbar\": {\"outlinewidth\": 0, \"ticks\": \"\"}}, \"type\": \"scattercarpet\"}], \"scattergeo\": [{\"marker\": {\"colorbar\": {\"outlinewidth\": 0, \"ticks\": \"\"}}, \"type\": \"scattergeo\"}], \"scattergl\": [{\"marker\": {\"colorbar\": {\"outlinewidth\": 0, \"ticks\": \"\"}}, \"type\": \"scattergl\"}], \"scattermapbox\": [{\"marker\": {\"colorbar\": {\"outlinewidth\": 0, \"ticks\": \"\"}}, \"type\": \"scattermapbox\"}], \"scatterpolar\": [{\"marker\": {\"colorbar\": {\"outlinewidth\": 0, \"ticks\": \"\"}}, \"type\": \"scatterpolar\"}], \"scatterpolargl\": [{\"marker\": {\"colorbar\": {\"outlinewidth\": 0, \"ticks\": \"\"}}, \"type\": \"scatterpolargl\"}], \"scatterternary\": [{\"marker\": {\"colorbar\": {\"outlinewidth\": 0, \"ticks\": \"\"}}, \"type\": \"scatterternary\"}], \"surface\": [{\"colorbar\": {\"outlinewidth\": 0, \"ticks\": \"\"}, \"colorscale\": [[0.0, \"#0d0887\"], [0.1111111111111111, \"#46039f\"], [0.2222222222222222, \"#7201a8\"], [0.3333333333333333, \"#9c179e\"], [0.4444444444444444, \"#bd3786\"], [0.5555555555555556, \"#d8576b\"], [0.6666666666666666, \"#ed7953\"], [0.7777777777777778, \"#fb9f3a\"], [0.8888888888888888, \"#fdca26\"], [1.0, \"#f0f921\"]], \"type\": \"surface\"}], \"table\": [{\"cells\": {\"fill\": {\"color\": \"#EBF0F8\"}, \"line\": {\"color\": \"white\"}}, \"header\": {\"fill\": {\"color\": \"#C8D4E3\"}, \"line\": {\"color\": \"white\"}}, \"type\": \"table\"}]}, \"layout\": {\"annotationdefaults\": {\"arrowcolor\": \"#2a3f5f\", \"arrowhead\": 0, \"arrowwidth\": 1}, \"autotypenumbers\": \"strict\", \"coloraxis\": {\"colorbar\": {\"outlinewidth\": 0, \"ticks\": \"\"}}, \"colorscale\": {\"diverging\": [[0, \"#8e0152\"], [0.1, \"#c51b7d\"], [0.2, \"#de77ae\"], [0.3, \"#f1b6da\"], [0.4, \"#fde0ef\"], [0.5, \"#f7f7f7\"], [0.6, \"#e6f5d0\"], [0.7, \"#b8e186\"], [0.8, \"#7fbc41\"], [0.9, \"#4d9221\"], [1, \"#276419\"]], \"sequential\": [[0.0, \"#0d0887\"], [0.1111111111111111, \"#46039f\"], [0.2222222222222222, \"#7201a8\"], [0.3333333333333333, \"#9c179e\"], [0.4444444444444444, \"#bd3786\"], [0.5555555555555556, \"#d8576b\"], [0.6666666666666666, \"#ed7953\"], [0.7777777777777778, \"#fb9f3a\"], [0.8888888888888888, \"#fdca26\"], [1.0, \"#f0f921\"]], \"sequentialminus\": [[0.0, \"#0d0887\"], [0.1111111111111111, \"#46039f\"], [0.2222222222222222, \"#7201a8\"], [0.3333333333333333, \"#9c179e\"], [0.4444444444444444, \"#bd3786\"], [0.5555555555555556, \"#d8576b\"], [0.6666666666666666, \"#ed7953\"], [0.7777777777777778, \"#fb9f3a\"], [0.8888888888888888, \"#fdca26\"], [1.0, \"#f0f921\"]]}, \"colorway\": [\"#636efa\", \"#EF553B\", \"#00cc96\", \"#ab63fa\", \"#FFA15A\", \"#19d3f3\", \"#FF6692\", \"#B6E880\", \"#FF97FF\", \"#FECB52\"], \"font\": {\"color\": \"#2a3f5f\"}, \"geo\": {\"bgcolor\": \"white\", \"lakecolor\": \"white\", \"landcolor\": \"#E5ECF6\", \"showlakes\": true, \"showland\": true, \"subunitcolor\": \"white\"}, \"hoverlabel\": {\"align\": \"left\"}, \"hovermode\": \"closest\", \"mapbox\": {\"style\": \"light\"}, \"paper_bgcolor\": \"white\", \"plot_bgcolor\": \"#E5ECF6\", \"polar\": {\"angularaxis\": {\"gridcolor\": \"white\", \"linecolor\": \"white\", \"ticks\": \"\"}, \"bgcolor\": \"#E5ECF6\", \"radialaxis\": {\"gridcolor\": \"white\", \"linecolor\": \"white\", \"ticks\": \"\"}}, \"scene\": {\"xaxis\": {\"backgroundcolor\": \"#E5ECF6\", \"gridcolor\": \"white\", \"gridwidth\": 2, \"linecolor\": \"white\", \"showbackground\": true, \"ticks\": \"\", \"zerolinecolor\": \"white\"}, \"yaxis\": {\"backgroundcolor\": \"#E5ECF6\", \"gridcolor\": \"white\", \"gridwidth\": 2, \"linecolor\": \"white\", \"showbackground\": true, \"ticks\": \"\", \"zerolinecolor\": \"white\"}, \"zaxis\": {\"backgroundcolor\": \"#E5ECF6\", \"gridcolor\": \"white\", \"gridwidth\": 2, \"linecolor\": \"white\", \"showbackground\": true, \"ticks\": \"\", \"zerolinecolor\": \"white\"}}, \"shapedefaults\": {\"line\": {\"color\": \"#2a3f5f\"}}, \"ternary\": {\"aaxis\": {\"gridcolor\": \"white\", \"linecolor\": \"white\", \"ticks\": \"\"}, \"baxis\": {\"gridcolor\": \"white\", \"linecolor\": \"white\", \"ticks\": \"\"}, \"bgcolor\": \"#E5ECF6\", \"caxis\": {\"gridcolor\": \"white\", \"linecolor\": \"white\", \"ticks\": \"\"}}, \"title\": {\"x\": 0.05}, \"xaxis\": {\"automargin\": true, \"gridcolor\": \"white\", \"linecolor\": \"white\", \"ticks\": \"\", \"title\": {\"standoff\": 15}, \"zerolinecolor\": \"white\", \"zerolinewidth\": 2}, \"yaxis\": {\"automargin\": true, \"gridcolor\": \"white\", \"linecolor\": \"white\", \"ticks\": \"\", \"title\": {\"standoff\": 15}, \"zerolinecolor\": \"white\", \"zerolinewidth\": 2}}}, \"title\": {\"text\": \"Long-Form Input\"}, \"xaxis\": {\"anchor\": \"y\", \"domain\": [0.0, 0.12285714285714285], \"title\": {\"text\": \"country_name\"}}, \"xaxis10\": {\"anchor\": \"y10\", \"domain\": [0.2857142857142857, 0.40857142857142853], \"matches\": \"x\", \"showticklabels\": false}, \"xaxis11\": {\"anchor\": \"y11\", \"domain\": [0.42857142857142855, 0.5514285714285714], \"matches\": \"x\", \"showticklabels\": false}, \"xaxis12\": {\"anchor\": \"y12\", \"domain\": [0.5714285714285714, 0.6942857142857143], \"matches\": \"x\", \"showticklabels\": false}, \"xaxis13\": {\"anchor\": \"y13\", \"domain\": [0.7142857142857142, 0.8371428571428571], \"matches\": \"x\", \"showticklabels\": false}, \"xaxis14\": {\"anchor\": \"y14\", \"domain\": [0.8571428571428571, 0.98], \"matches\": \"x\", \"showticklabels\": false}, \"xaxis15\": {\"anchor\": \"y15\", \"domain\": [0.0, 0.12285714285714285], \"matches\": \"x\", \"showticklabels\": false}, \"xaxis16\": {\"anchor\": \"y16\", \"domain\": [0.14285714285714285, 0.2657142857142857], \"matches\": \"x\", \"showticklabels\": false}, \"xaxis17\": {\"anchor\": \"y17\", \"domain\": [0.2857142857142857, 0.40857142857142853], \"matches\": \"x\", \"showticklabels\": false}, \"xaxis18\": {\"anchor\": \"y18\", \"domain\": [0.42857142857142855, 0.5514285714285714], \"matches\": \"x\", \"showticklabels\": false}, \"xaxis19\": {\"anchor\": \"y19\", \"domain\": [0.5714285714285714, 0.6942857142857143], \"matches\": \"x\", \"showticklabels\": false}, \"xaxis2\": {\"anchor\": \"y2\", \"domain\": [0.14285714285714285, 0.2657142857142857], \"matches\": \"x\", \"title\": {\"text\": \"country_name\"}}, \"xaxis20\": {\"anchor\": \"y20\", \"domain\": [0.7142857142857142, 0.8371428571428571], \"matches\": \"x\", \"showticklabels\": false}, \"xaxis21\": {\"anchor\": \"y21\", \"domain\": [0.8571428571428571, 0.98], \"matches\": \"x\", \"showticklabels\": false}, \"xaxis3\": {\"anchor\": \"y3\", \"domain\": [0.2857142857142857, 0.40857142857142853], \"matches\": \"x\", \"title\": {\"text\": \"country_name\"}}, \"xaxis4\": {\"anchor\": \"y4\", \"domain\": [0.42857142857142855, 0.5514285714285714], \"matches\": \"x\", \"title\": {\"text\": \"country_name\"}}, \"xaxis5\": {\"anchor\": \"y5\", \"domain\": [0.5714285714285714, 0.6942857142857143], \"matches\": \"x\", \"title\": {\"text\": \"country_name\"}}, \"xaxis6\": {\"anchor\": \"y6\", \"domain\": [0.7142857142857142, 0.8371428571428571], \"matches\": \"x\", \"title\": {\"text\": \"country_name\"}}, \"xaxis7\": {\"anchor\": \"y7\", \"domain\": [0.8571428571428571, 0.98], \"matches\": \"x\", \"title\": {\"text\": \"country_name\"}}, \"xaxis8\": {\"anchor\": \"y8\", \"domain\": [0.0, 0.12285714285714285], \"matches\": \"x\", \"showticklabels\": false}, \"xaxis9\": {\"anchor\": \"y9\", \"domain\": [0.14285714285714285, 0.2657142857142857], \"matches\": \"x\", \"showticklabels\": false}, \"yaxis\": {\"anchor\": \"x\", \"domain\": [0.0, 0.3133333333333333], \"title\": {\"text\": \"value\"}}, \"yaxis10\": {\"anchor\": \"x10\", \"domain\": [0.34333333333333327, 0.6566666666666665], \"matches\": \"y\", \"showticklabels\": false}, \"yaxis11\": {\"anchor\": \"x11\", \"domain\": [0.34333333333333327, 0.6566666666666665], \"matches\": \"y\", \"showticklabels\": false}, \"yaxis12\": {\"anchor\": \"x12\", \"domain\": [0.34333333333333327, 0.6566666666666665], \"matches\": \"y\", \"showticklabels\": false}, \"yaxis13\": {\"anchor\": \"x13\", \"domain\": [0.34333333333333327, 0.6566666666666665], \"matches\": \"y\", \"showticklabels\": false}, \"yaxis14\": {\"anchor\": \"x14\", \"domain\": [0.34333333333333327, 0.6566666666666665], \"matches\": \"y\", \"showticklabels\": false}, \"yaxis15\": {\"anchor\": \"x15\", \"domain\": [0.6866666666666665, 0.9999999999999998], \"matches\": \"y\", \"title\": {\"text\": \"value\"}}, \"yaxis16\": {\"anchor\": \"x16\", \"domain\": [0.6866666666666665, 0.9999999999999998], \"matches\": \"y\", \"showticklabels\": false}, \"yaxis17\": {\"anchor\": \"x17\", \"domain\": [0.6866666666666665, 0.9999999999999998], \"matches\": \"y\", \"showticklabels\": false}, \"yaxis18\": {\"anchor\": \"x18\", \"domain\": [0.6866666666666665, 0.9999999999999998], \"matches\": \"y\", \"showticklabels\": false}, \"yaxis19\": {\"anchor\": \"x19\", \"domain\": [0.6866666666666665, 0.9999999999999998], \"matches\": \"y\", \"showticklabels\": false}, \"yaxis2\": {\"anchor\": \"x2\", \"domain\": [0.0, 0.3133333333333333], \"matches\": \"y\", \"showticklabels\": false}, \"yaxis20\": {\"anchor\": \"x20\", \"domain\": [0.6866666666666665, 0.9999999999999998], \"matches\": \"y\", \"showticklabels\": false}, \"yaxis21\": {\"anchor\": \"x21\", \"domain\": [0.6866666666666665, 0.9999999999999998], \"matches\": \"y\", \"showticklabels\": false}, \"yaxis3\": {\"anchor\": \"x3\", \"domain\": [0.0, 0.3133333333333333], \"matches\": \"y\", \"showticklabels\": false}, \"yaxis4\": {\"anchor\": \"x4\", \"domain\": [0.0, 0.3133333333333333], \"matches\": \"y\", \"showticklabels\": false}, \"yaxis5\": {\"anchor\": \"x5\", \"domain\": [0.0, 0.3133333333333333], \"matches\": \"y\", \"showticklabels\": false}, \"yaxis6\": {\"anchor\": \"x6\", \"domain\": [0.0, 0.3133333333333333], \"matches\": \"y\", \"showticklabels\": false}, \"yaxis7\": {\"anchor\": \"x7\", \"domain\": [0.0, 0.3133333333333333], \"matches\": \"y\", \"showticklabels\": false}, \"yaxis8\": {\"anchor\": \"x8\", \"domain\": [0.34333333333333327, 0.6566666666666665], \"matches\": \"y\", \"title\": {\"text\": \"value\"}}, \"yaxis9\": {\"anchor\": \"x9\", \"domain\": [0.34333333333333327, 0.6566666666666665], \"matches\": \"y\", \"showticklabels\": false}},                        {\"responsive\": true}                    ).then(function(){\n",
       "                            \n",
       "var gd = document.getElementById('7e0800c0-d5d2-42dd-ba4a-fbd44d686929');\n",
       "var x = new MutationObserver(function (mutations, observer) {{\n",
       "        var display = window.getComputedStyle(gd).display;\n",
       "        if (!display || display === 'none') {{\n",
       "            console.log([gd, 'removed!']);\n",
       "            Plotly.purge(gd);\n",
       "            observer.disconnect();\n",
       "        }}\n",
       "}});\n",
       "\n",
       "// Listen for the removal of the full notebook cells\n",
       "var notebookContainer = gd.closest('#notebook-container');\n",
       "if (notebookContainer) {{\n",
       "    x.observe(notebookContainer, {childList: true});\n",
       "}}\n",
       "\n",
       "// Listen for the clearing of the current output cell\n",
       "var outputEl = gd.closest('.output');\n",
       "if (outputEl) {{\n",
       "    x.observe(outputEl, {childList: true});\n",
       "}}\n",
       "\n",
       "                        })                };                });            </script>        </div>"
      ]
     },
     "metadata": {},
     "output_type": "display_data"
    }
   ],
   "source": [
    "df_plot = df_date[['country_name', 'date_dow', 'date_day', 'target', 'fixture_id']].groupby(\n",
    "    ['country_name', 'date_dow', 'date_day','target']).count().unstack()\n",
    "\n",
    "df_plot['Total'] = df_plot[('fixture_id', 'Home')]+df_plot[('fixture_id', 'Away')]+df_plot[('fixture_id','Draw')]\n",
    "df_plot = df_plot.div(df_plot.iloc[:,-1], axis=0) * 100\n",
    "df_plot.columns = ['Away', 'Draw', 'Home', 'Total']\n",
    "\n",
    "fig = px.bar(df_plot.reset_index(), x=\"country_name\", y=['Away', 'Draw', 'Home'], title=\"Long-Form Input\",\n",
    "             facet_row=\"date_day\", facet_col=\"date_dow\",\n",
    "             category_orders={\"date_dow\": [\"Monday\", \"Tuesday\", \"Wednesday\", \"Thursday\", \"Friday\", \"Saturday\", \"Sunday\"],\n",
    "                              \"date_day\": [\"Morning\", \"Afternoon\", \"Evening\"]})\n",
    "fig.show()"
   ]
  },
  {
   "cell_type": "markdown",
   "metadata": {},
   "source": [
    "### Ranking"
   ]
  },
  {
   "cell_type": "code",
   "execution_count": 142,
   "metadata": {},
   "outputs": [],
   "source": [
    "df_rank = df[cols_base+cols_rank].copy()"
   ]
  },
  {
   "cell_type": "code",
   "execution_count": 254,
   "metadata": {},
   "outputs": [
    {
     "data": {
      "text/html": [
       "<div>\n",
       "<style scoped>\n",
       "    .dataframe tbody tr th:only-of-type {\n",
       "        vertical-align: middle;\n",
       "    }\n",
       "\n",
       "    .dataframe tbody tr th {\n",
       "        vertical-align: top;\n",
       "    }\n",
       "\n",
       "    .dataframe thead th {\n",
       "        text-align: right;\n",
       "    }\n",
       "</style>\n",
       "<table border=\"1\" class=\"dataframe\">\n",
       "  <thead>\n",
       "    <tr style=\"text-align: right;\">\n",
       "      <th></th>\n",
       "      <th>country_name</th>\n",
       "      <th>country_code</th>\n",
       "      <th>league_id</th>\n",
       "      <th>league_name</th>\n",
       "      <th>league_type</th>\n",
       "      <th>league_season</th>\n",
       "      <th>league_round</th>\n",
       "      <th>league_round_number</th>\n",
       "      <th>league_progress</th>\n",
       "      <th>total_rounds</th>\n",
       "      <th>total_teams</th>\n",
       "      <th>fixture_id</th>\n",
       "      <th>referee</th>\n",
       "      <th>venue_id</th>\n",
       "      <th>teams_home_id</th>\n",
       "      <th>teams_home_name</th>\n",
       "      <th>teams_away_id</th>\n",
       "      <th>teams_away_name</th>\n",
       "      <th>target</th>\n",
       "      <th>rank_last</th>\n",
       "      <th>rank_points_last</th>\n",
       "      <th>rank_points_leader</th>\n",
       "      <th>rank_points_top5</th>\n",
       "      <th>home_rank</th>\n",
       "      <th>home_rank_points</th>\n",
       "      <th>home_rank_goals_diff</th>\n",
       "      <th>away_rank</th>\n",
       "      <th>away_rank_points</th>\n",
       "      <th>away_rank_goals_diff</th>\n",
       "      <th>rank_diff</th>\n",
       "      <th>rank_points_diff</th>\n",
       "      <th>rank_diff_cat</th>\n",
       "      <th>rank_points_diff_cat</th>\n",
       "    </tr>\n",
       "  </thead>\n",
       "  <tbody>\n",
       "    <tr>\n",
       "      <th>0</th>\n",
       "      <td>Brazil</td>\n",
       "      <td>BR</td>\n",
       "      <td>71</td>\n",
       "      <td>Serie A</td>\n",
       "      <td>League</td>\n",
       "      <td>2017</td>\n",
       "      <td>Regular Season - 1</td>\n",
       "      <td>1</td>\n",
       "      <td>0.026316</td>\n",
       "      <td>38</td>\n",
       "      <td>20</td>\n",
       "      <td>35468</td>\n",
       "      <td>Braulio Da Silva Machado, Brazil</td>\n",
       "      <td>-1</td>\n",
       "      <td>130</td>\n",
       "      <td>Gremio</td>\n",
       "      <td>120</td>\n",
       "      <td>Botafogo</td>\n",
       "      <td>Home</td>\n",
       "      <td>0</td>\n",
       "      <td>0</td>\n",
       "      <td>0</td>\n",
       "      <td>NaN</td>\n",
       "      <td>0</td>\n",
       "      <td>0</td>\n",
       "      <td>0</td>\n",
       "      <td>0</td>\n",
       "      <td>0</td>\n",
       "      <td>0</td>\n",
       "      <td>0.0</td>\n",
       "      <td>0.0</td>\n",
       "      <td>5. 0</td>\n",
       "      <td>5. 0</td>\n",
       "    </tr>\n",
       "    <tr>\n",
       "      <th>1</th>\n",
       "      <td>Brazil</td>\n",
       "      <td>BR</td>\n",
       "      <td>71</td>\n",
       "      <td>Serie A</td>\n",
       "      <td>League</td>\n",
       "      <td>2017</td>\n",
       "      <td>Regular Season - 1</td>\n",
       "      <td>1</td>\n",
       "      <td>0.026316</td>\n",
       "      <td>38</td>\n",
       "      <td>20</td>\n",
       "      <td>35473</td>\n",
       "      <td>Marcos Mateus Pereira, Brazil</td>\n",
       "      <td>-1</td>\n",
       "      <td>139</td>\n",
       "      <td>Ponte Preta</td>\n",
       "      <td>123</td>\n",
       "      <td>Sport Recife</td>\n",
       "      <td>Home</td>\n",
       "      <td>0</td>\n",
       "      <td>0</td>\n",
       "      <td>0</td>\n",
       "      <td>NaN</td>\n",
       "      <td>0</td>\n",
       "      <td>0</td>\n",
       "      <td>0</td>\n",
       "      <td>0</td>\n",
       "      <td>0</td>\n",
       "      <td>0</td>\n",
       "      <td>0.0</td>\n",
       "      <td>0.0</td>\n",
       "      <td>5. 0</td>\n",
       "      <td>5. 0</td>\n",
       "    </tr>\n",
       "    <tr>\n",
       "      <th>2</th>\n",
       "      <td>Brazil</td>\n",
       "      <td>BR</td>\n",
       "      <td>71</td>\n",
       "      <td>Serie A</td>\n",
       "      <td>League</td>\n",
       "      <td>2017</td>\n",
       "      <td>Regular Season - 1</td>\n",
       "      <td>1</td>\n",
       "      <td>0.026316</td>\n",
       "      <td>38</td>\n",
       "      <td>20</td>\n",
       "      <td>35471</td>\n",
       "      <td>Marcelo De Lima Henrique, Brazil</td>\n",
       "      <td>-1</td>\n",
       "      <td>135</td>\n",
       "      <td>Cruzeiro</td>\n",
       "      <td>126</td>\n",
       "      <td>Sao Paulo</td>\n",
       "      <td>Home</td>\n",
       "      <td>0</td>\n",
       "      <td>0</td>\n",
       "      <td>0</td>\n",
       "      <td>NaN</td>\n",
       "      <td>0</td>\n",
       "      <td>0</td>\n",
       "      <td>0</td>\n",
       "      <td>0</td>\n",
       "      <td>0</td>\n",
       "      <td>0</td>\n",
       "      <td>0.0</td>\n",
       "      <td>0.0</td>\n",
       "      <td>5. 0</td>\n",
       "      <td>5. 0</td>\n",
       "    </tr>\n",
       "    <tr>\n",
       "      <th>3</th>\n",
       "      <td>Brazil</td>\n",
       "      <td>BR</td>\n",
       "      <td>71</td>\n",
       "      <td>Serie A</td>\n",
       "      <td>League</td>\n",
       "      <td>2017</td>\n",
       "      <td>Regular Season - 1</td>\n",
       "      <td>1</td>\n",
       "      <td>0.026316</td>\n",
       "      <td>38</td>\n",
       "      <td>20</td>\n",
       "      <td>35474</td>\n",
       "      <td>Reway Wagner, Brazil</td>\n",
       "      <td>-1</td>\n",
       "      <td>124</td>\n",
       "      <td>Fluminense</td>\n",
       "      <td>128</td>\n",
       "      <td>Santos</td>\n",
       "      <td>Home</td>\n",
       "      <td>0</td>\n",
       "      <td>0</td>\n",
       "      <td>0</td>\n",
       "      <td>NaN</td>\n",
       "      <td>0</td>\n",
       "      <td>0</td>\n",
       "      <td>0</td>\n",
       "      <td>0</td>\n",
       "      <td>0</td>\n",
       "      <td>0</td>\n",
       "      <td>0.0</td>\n",
       "      <td>0.0</td>\n",
       "      <td>5. 0</td>\n",
       "      <td>5. 0</td>\n",
       "    </tr>\n",
       "    <tr>\n",
       "      <th>4</th>\n",
       "      <td>Brazil</td>\n",
       "      <td>BR</td>\n",
       "      <td>71</td>\n",
       "      <td>Serie A</td>\n",
       "      <td>League</td>\n",
       "      <td>2017</td>\n",
       "      <td>Regular Season - 1</td>\n",
       "      <td>1</td>\n",
       "      <td>0.026316</td>\n",
       "      <td>38</td>\n",
       "      <td>20</td>\n",
       "      <td>35475</td>\n",
       "      <td>Elmo Alves Resende Cunha, Brazil</td>\n",
       "      <td>-1</td>\n",
       "      <td>131</td>\n",
       "      <td>Corinthians</td>\n",
       "      <td>132</td>\n",
       "      <td>Chapecoense-sc</td>\n",
       "      <td>Draw</td>\n",
       "      <td>0</td>\n",
       "      <td>0</td>\n",
       "      <td>0</td>\n",
       "      <td>NaN</td>\n",
       "      <td>0</td>\n",
       "      <td>0</td>\n",
       "      <td>0</td>\n",
       "      <td>0</td>\n",
       "      <td>0</td>\n",
       "      <td>0</td>\n",
       "      <td>0.0</td>\n",
       "      <td>0.0</td>\n",
       "      <td>5. 0</td>\n",
       "      <td>5. 0</td>\n",
       "    </tr>\n",
       "  </tbody>\n",
       "</table>\n",
       "</div>"
      ],
      "text/plain": [
       "  country_name country_code  league_id league_name league_type  league_season  \\\n",
       "0       Brazil           BR         71     Serie A      League           2017   \n",
       "1       Brazil           BR         71     Serie A      League           2017   \n",
       "2       Brazil           BR         71     Serie A      League           2017   \n",
       "3       Brazil           BR         71     Serie A      League           2017   \n",
       "4       Brazil           BR         71     Serie A      League           2017   \n",
       "\n",
       "         league_round  league_round_number  league_progress  total_rounds  \\\n",
       "0  Regular Season - 1                    1         0.026316            38   \n",
       "1  Regular Season - 1                    1         0.026316            38   \n",
       "2  Regular Season - 1                    1         0.026316            38   \n",
       "3  Regular Season - 1                    1         0.026316            38   \n",
       "4  Regular Season - 1                    1         0.026316            38   \n",
       "\n",
       "   total_teams  fixture_id                           referee  venue_id  \\\n",
       "0           20       35468  Braulio Da Silva Machado, Brazil        -1   \n",
       "1           20       35473     Marcos Mateus Pereira, Brazil        -1   \n",
       "2           20       35471  Marcelo De Lima Henrique, Brazil        -1   \n",
       "3           20       35474              Reway Wagner, Brazil        -1   \n",
       "4           20       35475  Elmo Alves Resende Cunha, Brazil        -1   \n",
       "\n",
       "   teams_home_id teams_home_name  teams_away_id teams_away_name target  \\\n",
       "0            130          Gremio            120        Botafogo   Home   \n",
       "1            139     Ponte Preta            123    Sport Recife   Home   \n",
       "2            135        Cruzeiro            126       Sao Paulo   Home   \n",
       "3            124      Fluminense            128          Santos   Home   \n",
       "4            131     Corinthians            132  Chapecoense-sc   Draw   \n",
       "\n",
       "   rank_last  rank_points_last  rank_points_leader  rank_points_top5  \\\n",
       "0          0                 0                   0               NaN   \n",
       "1          0                 0                   0               NaN   \n",
       "2          0                 0                   0               NaN   \n",
       "3          0                 0                   0               NaN   \n",
       "4          0                 0                   0               NaN   \n",
       "\n",
       "   home_rank  home_rank_points  home_rank_goals_diff  away_rank  \\\n",
       "0          0                 0                     0          0   \n",
       "1          0                 0                     0          0   \n",
       "2          0                 0                     0          0   \n",
       "3          0                 0                     0          0   \n",
       "4          0                 0                     0          0   \n",
       "\n",
       "   away_rank_points  away_rank_goals_diff  rank_diff  rank_points_diff  \\\n",
       "0                 0                     0        0.0               0.0   \n",
       "1                 0                     0        0.0               0.0   \n",
       "2                 0                     0        0.0               0.0   \n",
       "3                 0                     0        0.0               0.0   \n",
       "4                 0                     0        0.0               0.0   \n",
       "\n",
       "  rank_diff_cat rank_points_diff_cat  \n",
       "0          5. 0                 5. 0  \n",
       "1          5. 0                 5. 0  \n",
       "2          5. 0                 5. 0  \n",
       "3          5. 0                 5. 0  \n",
       "4          5. 0                 5. 0  "
      ]
     },
     "execution_count": 254,
     "metadata": {},
     "output_type": "execute_result"
    }
   ],
   "source": [
    "df_rank.head()"
   ]
  },
  {
   "cell_type": "code",
   "execution_count": 238,
   "metadata": {},
   "outputs": [],
   "source": [
    "df_rank['rank_diff'] = ((df_rank['home_rank']-df_rank['away_rank'])/df_rank['rank_last']).fillna(0)\n",
    "df_rank['rank_points_diff'] = ((df_rank['home_rank_points']-df_rank['away_rank_points'])/df_rank['rank_points_leader']).fillna(0)"
   ]
  },
  {
   "cell_type": "code",
   "execution_count": 239,
   "metadata": {},
   "outputs": [
    {
     "data": {
      "text/html": [
       "<div>\n",
       "<style scoped>\n",
       "    .dataframe tbody tr th:only-of-type {\n",
       "        vertical-align: middle;\n",
       "    }\n",
       "\n",
       "    .dataframe tbody tr th {\n",
       "        vertical-align: top;\n",
       "    }\n",
       "\n",
       "    .dataframe thead th {\n",
       "        text-align: right;\n",
       "    }\n",
       "</style>\n",
       "<table border=\"1\" class=\"dataframe\">\n",
       "  <thead>\n",
       "    <tr style=\"text-align: right;\">\n",
       "      <th></th>\n",
       "      <th>rank_diff</th>\n",
       "      <th>rank_points_diff</th>\n",
       "    </tr>\n",
       "  </thead>\n",
       "  <tbody>\n",
       "    <tr>\n",
       "      <th>count</th>\n",
       "      <td>7244.000000</td>\n",
       "      <td>7244.000000</td>\n",
       "    </tr>\n",
       "    <tr>\n",
       "      <th>mean</th>\n",
       "      <td>0.006847</td>\n",
       "      <td>-0.010872</td>\n",
       "    </tr>\n",
       "    <tr>\n",
       "      <th>std</th>\n",
       "      <td>0.383569</td>\n",
       "      <td>0.298977</td>\n",
       "    </tr>\n",
       "    <tr>\n",
       "      <th>min</th>\n",
       "      <td>-1.000000</td>\n",
       "      <td>-1.000000</td>\n",
       "    </tr>\n",
       "    <tr>\n",
       "      <th>10%</th>\n",
       "      <td>-0.500000</td>\n",
       "      <td>-0.383039</td>\n",
       "    </tr>\n",
       "    <tr>\n",
       "      <th>20%</th>\n",
       "      <td>-0.333333</td>\n",
       "      <td>-0.244444</td>\n",
       "    </tr>\n",
       "    <tr>\n",
       "      <th>30%</th>\n",
       "      <td>-0.200000</td>\n",
       "      <td>-0.142857</td>\n",
       "    </tr>\n",
       "    <tr>\n",
       "      <th>40%</th>\n",
       "      <td>-0.083333</td>\n",
       "      <td>-0.066667</td>\n",
       "    </tr>\n",
       "    <tr>\n",
       "      <th>50%</th>\n",
       "      <td>0.000000</td>\n",
       "      <td>0.000000</td>\n",
       "    </tr>\n",
       "    <tr>\n",
       "      <th>60%</th>\n",
       "      <td>0.111111</td>\n",
       "      <td>0.053571</td>\n",
       "    </tr>\n",
       "    <tr>\n",
       "      <th>70%</th>\n",
       "      <td>0.222222</td>\n",
       "      <td>0.130435</td>\n",
       "    </tr>\n",
       "    <tr>\n",
       "      <th>80%</th>\n",
       "      <td>0.333333</td>\n",
       "      <td>0.222222</td>\n",
       "    </tr>\n",
       "    <tr>\n",
       "      <th>90%</th>\n",
       "      <td>0.500000</td>\n",
       "      <td>0.355604</td>\n",
       "    </tr>\n",
       "    <tr>\n",
       "      <th>max</th>\n",
       "      <td>1.000000</td>\n",
       "      <td>1.000000</td>\n",
       "    </tr>\n",
       "  </tbody>\n",
       "</table>\n",
       "</div>"
      ],
      "text/plain": [
       "         rank_diff  rank_points_diff\n",
       "count  7244.000000       7244.000000\n",
       "mean      0.006847         -0.010872\n",
       "std       0.383569          0.298977\n",
       "min      -1.000000         -1.000000\n",
       "10%      -0.500000         -0.383039\n",
       "20%      -0.333333         -0.244444\n",
       "30%      -0.200000         -0.142857\n",
       "40%      -0.083333         -0.066667\n",
       "50%       0.000000          0.000000\n",
       "60%       0.111111          0.053571\n",
       "70%       0.222222          0.130435\n",
       "80%       0.333333          0.222222\n",
       "90%       0.500000          0.355604\n",
       "max       1.000000          1.000000"
      ]
     },
     "execution_count": 239,
     "metadata": {},
     "output_type": "execute_result"
    }
   ],
   "source": [
    "df_rank[['rank_diff', 'rank_points_diff']].describe(percentiles=[0.1,0.2,0.3,0.4,0.5,0.6,0.7,0.8,0.9])"
   ]
  },
  {
   "cell_type": "code",
   "execution_count": 241,
   "metadata": {
    "code_folding": [
     0,
     7
    ]
   },
   "outputs": [],
   "source": [
    "df_rank['rank_diff_cat'] = np.select([df_rank['rank_diff']<-0.5, df_rank['rank_diff']<=-0.3, \n",
    "                                     df_rank['rank_diff']<=-0.15, df_rank['rank_diff']<0, df_rank['rank_diff']==0,\n",
    "                                     df_rank['rank_diff']<=0.15, df_rank['rank_diff']<=0.3,\n",
    "                                     df_rank['rank_diff']<=0.5, df_rank['rank_diff']>0.5], \n",
    "                                     ['1. <m50', '2. m50-m30', '3. m30-m15', '4. m15-0', '5. 0', '6. 0-15', \n",
    "                                      '7. 15-30', '8. 30-50', '9. >50'])\n",
    "\n",
    "df_rank['rank_points_diff_cat'] = np.select([df_rank['rank_points_diff']<-0.5, df_rank['rank_points_diff']<=-0.3, \n",
    "                                             df_rank['rank_points_diff']<=-0.15, df_rank['rank_points_diff']<0,\n",
    "                                             df_rank['rank_points_diff']==0,\n",
    "                                             df_rank['rank_points_diff']<=0.15, df_rank['rank_points_diff']<=0.3,\n",
    "                                             df_rank['rank_points_diff']<=0.5, df_rank['rank_points_diff']>0.5], \n",
    "                                             ['1. <m50', '2. m50-m30', '3. m30-m15', '4. m15-0', '5. 0', '6. 0-15', \n",
    "                                              '7. 15-30', '8. 30-50', '9. >50'])"
   ]
  },
  {
   "cell_type": "code",
   "execution_count": 243,
   "metadata": {},
   "outputs": [
    {
     "data": {
      "application/vnd.plotly.v1+json": {
       "config": {
        "plotlyServerURL": "https://plot.ly"
       },
       "data": [
        {
         "alignmentgroup": "True",
         "hovertemplate": "Match Result=Away<br>Difference in Ranking=%{x}<br>Win Rate (%)=%{y}<extra></extra>",
         "legendgroup": "Away",
         "marker": {
          "color": "#636efa"
         },
         "name": "Away",
         "offsetgroup": "Away",
         "orientation": "v",
         "showlegend": true,
         "textposition": "auto",
         "type": "bar",
         "x": [
          "1. <m50",
          "2. m50-m30",
          "3. m30-m15",
          "4. m15-0",
          "5. 0",
          "6. 0-15",
          "7. 15-30",
          "8. 30-50",
          "9. >50"
         ],
         "xaxis": "x",
         "y": [
          14.50381679389313,
          17.32124874118832,
          22.131147540983605,
          24.38070404172099,
          23.817034700315457,
          25.457102672292546,
          30.0768386388584,
          34.45212240868707,
          37.53541076487252
         ],
         "yaxis": "y"
        },
        {
         "alignmentgroup": "True",
         "hovertemplate": "Match Result=Draw<br>Difference in Ranking=%{x}<br>Win Rate (%)=%{y}<extra></extra>",
         "legendgroup": "Draw",
         "marker": {
          "color": "#EF553B"
         },
         "name": "Draw",
         "offsetgroup": "Draw",
         "orientation": "v",
         "showlegend": true,
         "textposition": "auto",
         "type": "bar",
         "x": [
          "1. <m50",
          "2. m50-m30",
          "3. m30-m15",
          "4. m15-0",
          "5. 0",
          "6. 0-15",
          "7. 15-30",
          "8. 30-50",
          "9. >50"
         ],
         "xaxis": "x",
         "y": [
          23.358778625954198,
          28.298086606243704,
          28.454332552693206,
          27.640156453715775,
          30.914826498422716,
          31.08298171589311,
          30.29637760702525,
          30.108588351431393,
          29.320113314447593
         ],
         "yaxis": "y"
        },
        {
         "alignmentgroup": "True",
         "hovertemplate": "Match Result=Home<br>Difference in Ranking=%{x}<br>Win Rate (%)=%{y}<extra></extra>",
         "legendgroup": "Home",
         "marker": {
          "color": "#00cc96"
         },
         "name": "Home",
         "offsetgroup": "Home",
         "orientation": "v",
         "showlegend": true,
         "textposition": "auto",
         "type": "bar",
         "x": [
          "1. <m50",
          "2. m50-m30",
          "3. m30-m15",
          "4. m15-0",
          "5. 0",
          "6. 0-15",
          "7. 15-30",
          "8. 30-50",
          "9. >50"
         ],
         "xaxis": "x",
         "y": [
          62.13740458015267,
          54.38066465256798,
          49.414519906323186,
          47.979139504563236,
          45.268138801261834,
          43.459915611814345,
          39.62678375411636,
          35.43928923988154,
          33.14447592067989
         ],
         "yaxis": "y"
        }
       ],
       "layout": {
        "barmode": "relative",
        "legend": {
         "title": {
          "text": "Match Result"
         },
         "tracegroupgap": 0
        },
        "template": {
         "data": {
          "bar": [
           {
            "error_x": {
             "color": "#2a3f5f"
            },
            "error_y": {
             "color": "#2a3f5f"
            },
            "marker": {
             "line": {
              "color": "#E5ECF6",
              "width": 0.5
             }
            },
            "type": "bar"
           }
          ],
          "barpolar": [
           {
            "marker": {
             "line": {
              "color": "#E5ECF6",
              "width": 0.5
             }
            },
            "type": "barpolar"
           }
          ],
          "carpet": [
           {
            "aaxis": {
             "endlinecolor": "#2a3f5f",
             "gridcolor": "white",
             "linecolor": "white",
             "minorgridcolor": "white",
             "startlinecolor": "#2a3f5f"
            },
            "baxis": {
             "endlinecolor": "#2a3f5f",
             "gridcolor": "white",
             "linecolor": "white",
             "minorgridcolor": "white",
             "startlinecolor": "#2a3f5f"
            },
            "type": "carpet"
           }
          ],
          "choropleth": [
           {
            "colorbar": {
             "outlinewidth": 0,
             "ticks": ""
            },
            "type": "choropleth"
           }
          ],
          "contour": [
           {
            "colorbar": {
             "outlinewidth": 0,
             "ticks": ""
            },
            "colorscale": [
             [
              0,
              "#0d0887"
             ],
             [
              0.1111111111111111,
              "#46039f"
             ],
             [
              0.2222222222222222,
              "#7201a8"
             ],
             [
              0.3333333333333333,
              "#9c179e"
             ],
             [
              0.4444444444444444,
              "#bd3786"
             ],
             [
              0.5555555555555556,
              "#d8576b"
             ],
             [
              0.6666666666666666,
              "#ed7953"
             ],
             [
              0.7777777777777778,
              "#fb9f3a"
             ],
             [
              0.8888888888888888,
              "#fdca26"
             ],
             [
              1,
              "#f0f921"
             ]
            ],
            "type": "contour"
           }
          ],
          "contourcarpet": [
           {
            "colorbar": {
             "outlinewidth": 0,
             "ticks": ""
            },
            "type": "contourcarpet"
           }
          ],
          "heatmap": [
           {
            "colorbar": {
             "outlinewidth": 0,
             "ticks": ""
            },
            "colorscale": [
             [
              0,
              "#0d0887"
             ],
             [
              0.1111111111111111,
              "#46039f"
             ],
             [
              0.2222222222222222,
              "#7201a8"
             ],
             [
              0.3333333333333333,
              "#9c179e"
             ],
             [
              0.4444444444444444,
              "#bd3786"
             ],
             [
              0.5555555555555556,
              "#d8576b"
             ],
             [
              0.6666666666666666,
              "#ed7953"
             ],
             [
              0.7777777777777778,
              "#fb9f3a"
             ],
             [
              0.8888888888888888,
              "#fdca26"
             ],
             [
              1,
              "#f0f921"
             ]
            ],
            "type": "heatmap"
           }
          ],
          "heatmapgl": [
           {
            "colorbar": {
             "outlinewidth": 0,
             "ticks": ""
            },
            "colorscale": [
             [
              0,
              "#0d0887"
             ],
             [
              0.1111111111111111,
              "#46039f"
             ],
             [
              0.2222222222222222,
              "#7201a8"
             ],
             [
              0.3333333333333333,
              "#9c179e"
             ],
             [
              0.4444444444444444,
              "#bd3786"
             ],
             [
              0.5555555555555556,
              "#d8576b"
             ],
             [
              0.6666666666666666,
              "#ed7953"
             ],
             [
              0.7777777777777778,
              "#fb9f3a"
             ],
             [
              0.8888888888888888,
              "#fdca26"
             ],
             [
              1,
              "#f0f921"
             ]
            ],
            "type": "heatmapgl"
           }
          ],
          "histogram": [
           {
            "marker": {
             "colorbar": {
              "outlinewidth": 0,
              "ticks": ""
             }
            },
            "type": "histogram"
           }
          ],
          "histogram2d": [
           {
            "colorbar": {
             "outlinewidth": 0,
             "ticks": ""
            },
            "colorscale": [
             [
              0,
              "#0d0887"
             ],
             [
              0.1111111111111111,
              "#46039f"
             ],
             [
              0.2222222222222222,
              "#7201a8"
             ],
             [
              0.3333333333333333,
              "#9c179e"
             ],
             [
              0.4444444444444444,
              "#bd3786"
             ],
             [
              0.5555555555555556,
              "#d8576b"
             ],
             [
              0.6666666666666666,
              "#ed7953"
             ],
             [
              0.7777777777777778,
              "#fb9f3a"
             ],
             [
              0.8888888888888888,
              "#fdca26"
             ],
             [
              1,
              "#f0f921"
             ]
            ],
            "type": "histogram2d"
           }
          ],
          "histogram2dcontour": [
           {
            "colorbar": {
             "outlinewidth": 0,
             "ticks": ""
            },
            "colorscale": [
             [
              0,
              "#0d0887"
             ],
             [
              0.1111111111111111,
              "#46039f"
             ],
             [
              0.2222222222222222,
              "#7201a8"
             ],
             [
              0.3333333333333333,
              "#9c179e"
             ],
             [
              0.4444444444444444,
              "#bd3786"
             ],
             [
              0.5555555555555556,
              "#d8576b"
             ],
             [
              0.6666666666666666,
              "#ed7953"
             ],
             [
              0.7777777777777778,
              "#fb9f3a"
             ],
             [
              0.8888888888888888,
              "#fdca26"
             ],
             [
              1,
              "#f0f921"
             ]
            ],
            "type": "histogram2dcontour"
           }
          ],
          "mesh3d": [
           {
            "colorbar": {
             "outlinewidth": 0,
             "ticks": ""
            },
            "type": "mesh3d"
           }
          ],
          "parcoords": [
           {
            "line": {
             "colorbar": {
              "outlinewidth": 0,
              "ticks": ""
             }
            },
            "type": "parcoords"
           }
          ],
          "pie": [
           {
            "automargin": true,
            "type": "pie"
           }
          ],
          "scatter": [
           {
            "marker": {
             "colorbar": {
              "outlinewidth": 0,
              "ticks": ""
             }
            },
            "type": "scatter"
           }
          ],
          "scatter3d": [
           {
            "line": {
             "colorbar": {
              "outlinewidth": 0,
              "ticks": ""
             }
            },
            "marker": {
             "colorbar": {
              "outlinewidth": 0,
              "ticks": ""
             }
            },
            "type": "scatter3d"
           }
          ],
          "scattercarpet": [
           {
            "marker": {
             "colorbar": {
              "outlinewidth": 0,
              "ticks": ""
             }
            },
            "type": "scattercarpet"
           }
          ],
          "scattergeo": [
           {
            "marker": {
             "colorbar": {
              "outlinewidth": 0,
              "ticks": ""
             }
            },
            "type": "scattergeo"
           }
          ],
          "scattergl": [
           {
            "marker": {
             "colorbar": {
              "outlinewidth": 0,
              "ticks": ""
             }
            },
            "type": "scattergl"
           }
          ],
          "scattermapbox": [
           {
            "marker": {
             "colorbar": {
              "outlinewidth": 0,
              "ticks": ""
             }
            },
            "type": "scattermapbox"
           }
          ],
          "scatterpolar": [
           {
            "marker": {
             "colorbar": {
              "outlinewidth": 0,
              "ticks": ""
             }
            },
            "type": "scatterpolar"
           }
          ],
          "scatterpolargl": [
           {
            "marker": {
             "colorbar": {
              "outlinewidth": 0,
              "ticks": ""
             }
            },
            "type": "scatterpolargl"
           }
          ],
          "scatterternary": [
           {
            "marker": {
             "colorbar": {
              "outlinewidth": 0,
              "ticks": ""
             }
            },
            "type": "scatterternary"
           }
          ],
          "surface": [
           {
            "colorbar": {
             "outlinewidth": 0,
             "ticks": ""
            },
            "colorscale": [
             [
              0,
              "#0d0887"
             ],
             [
              0.1111111111111111,
              "#46039f"
             ],
             [
              0.2222222222222222,
              "#7201a8"
             ],
             [
              0.3333333333333333,
              "#9c179e"
             ],
             [
              0.4444444444444444,
              "#bd3786"
             ],
             [
              0.5555555555555556,
              "#d8576b"
             ],
             [
              0.6666666666666666,
              "#ed7953"
             ],
             [
              0.7777777777777778,
              "#fb9f3a"
             ],
             [
              0.8888888888888888,
              "#fdca26"
             ],
             [
              1,
              "#f0f921"
             ]
            ],
            "type": "surface"
           }
          ],
          "table": [
           {
            "cells": {
             "fill": {
              "color": "#EBF0F8"
             },
             "line": {
              "color": "white"
             }
            },
            "header": {
             "fill": {
              "color": "#C8D4E3"
             },
             "line": {
              "color": "white"
             }
            },
            "type": "table"
           }
          ]
         },
         "layout": {
          "annotationdefaults": {
           "arrowcolor": "#2a3f5f",
           "arrowhead": 0,
           "arrowwidth": 1
          },
          "autotypenumbers": "strict",
          "coloraxis": {
           "colorbar": {
            "outlinewidth": 0,
            "ticks": ""
           }
          },
          "colorscale": {
           "diverging": [
            [
             0,
             "#8e0152"
            ],
            [
             0.1,
             "#c51b7d"
            ],
            [
             0.2,
             "#de77ae"
            ],
            [
             0.3,
             "#f1b6da"
            ],
            [
             0.4,
             "#fde0ef"
            ],
            [
             0.5,
             "#f7f7f7"
            ],
            [
             0.6,
             "#e6f5d0"
            ],
            [
             0.7,
             "#b8e186"
            ],
            [
             0.8,
             "#7fbc41"
            ],
            [
             0.9,
             "#4d9221"
            ],
            [
             1,
             "#276419"
            ]
           ],
           "sequential": [
            [
             0,
             "#0d0887"
            ],
            [
             0.1111111111111111,
             "#46039f"
            ],
            [
             0.2222222222222222,
             "#7201a8"
            ],
            [
             0.3333333333333333,
             "#9c179e"
            ],
            [
             0.4444444444444444,
             "#bd3786"
            ],
            [
             0.5555555555555556,
             "#d8576b"
            ],
            [
             0.6666666666666666,
             "#ed7953"
            ],
            [
             0.7777777777777778,
             "#fb9f3a"
            ],
            [
             0.8888888888888888,
             "#fdca26"
            ],
            [
             1,
             "#f0f921"
            ]
           ],
           "sequentialminus": [
            [
             0,
             "#0d0887"
            ],
            [
             0.1111111111111111,
             "#46039f"
            ],
            [
             0.2222222222222222,
             "#7201a8"
            ],
            [
             0.3333333333333333,
             "#9c179e"
            ],
            [
             0.4444444444444444,
             "#bd3786"
            ],
            [
             0.5555555555555556,
             "#d8576b"
            ],
            [
             0.6666666666666666,
             "#ed7953"
            ],
            [
             0.7777777777777778,
             "#fb9f3a"
            ],
            [
             0.8888888888888888,
             "#fdca26"
            ],
            [
             1,
             "#f0f921"
            ]
           ]
          },
          "colorway": [
           "#636efa",
           "#EF553B",
           "#00cc96",
           "#ab63fa",
           "#FFA15A",
           "#19d3f3",
           "#FF6692",
           "#B6E880",
           "#FF97FF",
           "#FECB52"
          ],
          "font": {
           "color": "#2a3f5f"
          },
          "geo": {
           "bgcolor": "white",
           "lakecolor": "white",
           "landcolor": "#E5ECF6",
           "showlakes": true,
           "showland": true,
           "subunitcolor": "white"
          },
          "hoverlabel": {
           "align": "left"
          },
          "hovermode": "closest",
          "mapbox": {
           "style": "light"
          },
          "paper_bgcolor": "white",
          "plot_bgcolor": "#E5ECF6",
          "polar": {
           "angularaxis": {
            "gridcolor": "white",
            "linecolor": "white",
            "ticks": ""
           },
           "bgcolor": "#E5ECF6",
           "radialaxis": {
            "gridcolor": "white",
            "linecolor": "white",
            "ticks": ""
           }
          },
          "scene": {
           "xaxis": {
            "backgroundcolor": "#E5ECF6",
            "gridcolor": "white",
            "gridwidth": 2,
            "linecolor": "white",
            "showbackground": true,
            "ticks": "",
            "zerolinecolor": "white"
           },
           "yaxis": {
            "backgroundcolor": "#E5ECF6",
            "gridcolor": "white",
            "gridwidth": 2,
            "linecolor": "white",
            "showbackground": true,
            "ticks": "",
            "zerolinecolor": "white"
           },
           "zaxis": {
            "backgroundcolor": "#E5ECF6",
            "gridcolor": "white",
            "gridwidth": 2,
            "linecolor": "white",
            "showbackground": true,
            "ticks": "",
            "zerolinecolor": "white"
           }
          },
          "shapedefaults": {
           "line": {
            "color": "#2a3f5f"
           }
          },
          "ternary": {
           "aaxis": {
            "gridcolor": "white",
            "linecolor": "white",
            "ticks": ""
           },
           "baxis": {
            "gridcolor": "white",
            "linecolor": "white",
            "ticks": ""
           },
           "bgcolor": "#E5ECF6",
           "caxis": {
            "gridcolor": "white",
            "linecolor": "white",
            "ticks": ""
           }
          },
          "title": {
           "x": 0.05
          },
          "xaxis": {
           "automargin": true,
           "gridcolor": "white",
           "linecolor": "white",
           "ticks": "",
           "title": {
            "standoff": 15
           },
           "zerolinecolor": "white",
           "zerolinewidth": 2
          },
          "yaxis": {
           "automargin": true,
           "gridcolor": "white",
           "linecolor": "white",
           "ticks": "",
           "title": {
            "standoff": 15
           },
           "zerolinecolor": "white",
           "zerolinewidth": 2
          }
         }
        },
        "title": {
         "text": "Win Rate (%) by Difference in Ranking"
        },
        "xaxis": {
         "anchor": "y",
         "domain": [
          0,
          1
         ],
         "title": {
          "text": "Difference in Ranking"
         }
        },
        "yaxis": {
         "anchor": "x",
         "domain": [
          0,
          1
         ],
         "title": {
          "text": "Win Rate (%)"
         }
        }
       }
      },
      "text/html": [
       "<div>                            <div id=\"41ae2ea4-9e07-4f0b-b837-0b413719893e\" class=\"plotly-graph-div\" style=\"height:525px; width:100%;\"></div>            <script type=\"text/javascript\">                require([\"plotly\"], function(Plotly) {                    window.PLOTLYENV=window.PLOTLYENV || {};                                    if (document.getElementById(\"41ae2ea4-9e07-4f0b-b837-0b413719893e\")) {                    Plotly.newPlot(                        \"41ae2ea4-9e07-4f0b-b837-0b413719893e\",                        [{\"alignmentgroup\": \"True\", \"hovertemplate\": \"Match Result=Away<br>Difference in Ranking=%{x}<br>Win Rate (%)=%{y}<extra></extra>\", \"legendgroup\": \"Away\", \"marker\": {\"color\": \"#636efa\"}, \"name\": \"Away\", \"offsetgroup\": \"Away\", \"orientation\": \"v\", \"showlegend\": true, \"textposition\": \"auto\", \"type\": \"bar\", \"x\": [\"1. <m50\", \"2. m50-m30\", \"3. m30-m15\", \"4. m15-0\", \"5. 0\", \"6. 0-15\", \"7. 15-30\", \"8. 30-50\", \"9. >50\"], \"xaxis\": \"x\", \"y\": [14.50381679389313, 17.32124874118832, 22.131147540983605, 24.38070404172099, 23.817034700315457, 25.457102672292546, 30.0768386388584, 34.45212240868707, 37.53541076487252], \"yaxis\": \"y\"}, {\"alignmentgroup\": \"True\", \"hovertemplate\": \"Match Result=Draw<br>Difference in Ranking=%{x}<br>Win Rate (%)=%{y}<extra></extra>\", \"legendgroup\": \"Draw\", \"marker\": {\"color\": \"#EF553B\"}, \"name\": \"Draw\", \"offsetgroup\": \"Draw\", \"orientation\": \"v\", \"showlegend\": true, \"textposition\": \"auto\", \"type\": \"bar\", \"x\": [\"1. <m50\", \"2. m50-m30\", \"3. m30-m15\", \"4. m15-0\", \"5. 0\", \"6. 0-15\", \"7. 15-30\", \"8. 30-50\", \"9. >50\"], \"xaxis\": \"x\", \"y\": [23.358778625954198, 28.298086606243704, 28.454332552693206, 27.640156453715775, 30.914826498422716, 31.08298171589311, 30.29637760702525, 30.108588351431393, 29.320113314447593], \"yaxis\": \"y\"}, {\"alignmentgroup\": \"True\", \"hovertemplate\": \"Match Result=Home<br>Difference in Ranking=%{x}<br>Win Rate (%)=%{y}<extra></extra>\", \"legendgroup\": \"Home\", \"marker\": {\"color\": \"#00cc96\"}, \"name\": \"Home\", \"offsetgroup\": \"Home\", \"orientation\": \"v\", \"showlegend\": true, \"textposition\": \"auto\", \"type\": \"bar\", \"x\": [\"1. <m50\", \"2. m50-m30\", \"3. m30-m15\", \"4. m15-0\", \"5. 0\", \"6. 0-15\", \"7. 15-30\", \"8. 30-50\", \"9. >50\"], \"xaxis\": \"x\", \"y\": [62.13740458015267, 54.38066465256798, 49.414519906323186, 47.979139504563236, 45.268138801261834, 43.459915611814345, 39.62678375411636, 35.43928923988154, 33.14447592067989], \"yaxis\": \"y\"}],                        {\"barmode\": \"relative\", \"legend\": {\"title\": {\"text\": \"Match Result\"}, \"tracegroupgap\": 0}, \"template\": {\"data\": {\"bar\": [{\"error_x\": {\"color\": \"#2a3f5f\"}, \"error_y\": {\"color\": \"#2a3f5f\"}, \"marker\": {\"line\": {\"color\": \"#E5ECF6\", \"width\": 0.5}}, \"type\": \"bar\"}], \"barpolar\": [{\"marker\": {\"line\": {\"color\": \"#E5ECF6\", \"width\": 0.5}}, \"type\": \"barpolar\"}], \"carpet\": [{\"aaxis\": {\"endlinecolor\": \"#2a3f5f\", \"gridcolor\": \"white\", \"linecolor\": \"white\", \"minorgridcolor\": \"white\", \"startlinecolor\": \"#2a3f5f\"}, \"baxis\": {\"endlinecolor\": \"#2a3f5f\", \"gridcolor\": \"white\", \"linecolor\": \"white\", \"minorgridcolor\": \"white\", \"startlinecolor\": \"#2a3f5f\"}, \"type\": \"carpet\"}], \"choropleth\": [{\"colorbar\": {\"outlinewidth\": 0, \"ticks\": \"\"}, \"type\": \"choropleth\"}], \"contour\": [{\"colorbar\": {\"outlinewidth\": 0, \"ticks\": \"\"}, \"colorscale\": [[0.0, \"#0d0887\"], [0.1111111111111111, \"#46039f\"], [0.2222222222222222, \"#7201a8\"], [0.3333333333333333, \"#9c179e\"], [0.4444444444444444, \"#bd3786\"], [0.5555555555555556, \"#d8576b\"], [0.6666666666666666, \"#ed7953\"], [0.7777777777777778, \"#fb9f3a\"], [0.8888888888888888, \"#fdca26\"], [1.0, \"#f0f921\"]], \"type\": \"contour\"}], \"contourcarpet\": [{\"colorbar\": {\"outlinewidth\": 0, \"ticks\": \"\"}, \"type\": \"contourcarpet\"}], \"heatmap\": [{\"colorbar\": {\"outlinewidth\": 0, \"ticks\": \"\"}, \"colorscale\": [[0.0, \"#0d0887\"], [0.1111111111111111, \"#46039f\"], [0.2222222222222222, \"#7201a8\"], [0.3333333333333333, \"#9c179e\"], [0.4444444444444444, \"#bd3786\"], [0.5555555555555556, \"#d8576b\"], [0.6666666666666666, \"#ed7953\"], [0.7777777777777778, \"#fb9f3a\"], [0.8888888888888888, \"#fdca26\"], [1.0, \"#f0f921\"]], \"type\": \"heatmap\"}], \"heatmapgl\": [{\"colorbar\": {\"outlinewidth\": 0, \"ticks\": \"\"}, \"colorscale\": [[0.0, \"#0d0887\"], [0.1111111111111111, \"#46039f\"], [0.2222222222222222, \"#7201a8\"], [0.3333333333333333, \"#9c179e\"], [0.4444444444444444, \"#bd3786\"], [0.5555555555555556, \"#d8576b\"], [0.6666666666666666, \"#ed7953\"], [0.7777777777777778, \"#fb9f3a\"], [0.8888888888888888, \"#fdca26\"], [1.0, \"#f0f921\"]], \"type\": \"heatmapgl\"}], \"histogram\": [{\"marker\": {\"colorbar\": {\"outlinewidth\": 0, \"ticks\": \"\"}}, \"type\": \"histogram\"}], \"histogram2d\": [{\"colorbar\": {\"outlinewidth\": 0, \"ticks\": \"\"}, \"colorscale\": [[0.0, \"#0d0887\"], [0.1111111111111111, \"#46039f\"], [0.2222222222222222, \"#7201a8\"], [0.3333333333333333, \"#9c179e\"], [0.4444444444444444, \"#bd3786\"], [0.5555555555555556, \"#d8576b\"], [0.6666666666666666, \"#ed7953\"], [0.7777777777777778, \"#fb9f3a\"], [0.8888888888888888, \"#fdca26\"], [1.0, \"#f0f921\"]], \"type\": \"histogram2d\"}], \"histogram2dcontour\": [{\"colorbar\": {\"outlinewidth\": 0, \"ticks\": \"\"}, \"colorscale\": [[0.0, \"#0d0887\"], [0.1111111111111111, \"#46039f\"], [0.2222222222222222, \"#7201a8\"], [0.3333333333333333, \"#9c179e\"], [0.4444444444444444, \"#bd3786\"], [0.5555555555555556, \"#d8576b\"], [0.6666666666666666, \"#ed7953\"], [0.7777777777777778, \"#fb9f3a\"], [0.8888888888888888, \"#fdca26\"], [1.0, \"#f0f921\"]], \"type\": \"histogram2dcontour\"}], \"mesh3d\": [{\"colorbar\": {\"outlinewidth\": 0, \"ticks\": \"\"}, \"type\": \"mesh3d\"}], \"parcoords\": [{\"line\": {\"colorbar\": {\"outlinewidth\": 0, \"ticks\": \"\"}}, \"type\": \"parcoords\"}], \"pie\": [{\"automargin\": true, \"type\": \"pie\"}], \"scatter\": [{\"marker\": {\"colorbar\": {\"outlinewidth\": 0, \"ticks\": \"\"}}, \"type\": \"scatter\"}], \"scatter3d\": [{\"line\": {\"colorbar\": {\"outlinewidth\": 0, \"ticks\": \"\"}}, \"marker\": {\"colorbar\": {\"outlinewidth\": 0, \"ticks\": \"\"}}, \"type\": \"scatter3d\"}], \"scattercarpet\": [{\"marker\": {\"colorbar\": {\"outlinewidth\": 0, \"ticks\": \"\"}}, \"type\": \"scattercarpet\"}], \"scattergeo\": [{\"marker\": {\"colorbar\": {\"outlinewidth\": 0, \"ticks\": \"\"}}, \"type\": \"scattergeo\"}], \"scattergl\": [{\"marker\": {\"colorbar\": {\"outlinewidth\": 0, \"ticks\": \"\"}}, \"type\": \"scattergl\"}], \"scattermapbox\": [{\"marker\": {\"colorbar\": {\"outlinewidth\": 0, \"ticks\": \"\"}}, \"type\": \"scattermapbox\"}], \"scatterpolar\": [{\"marker\": {\"colorbar\": {\"outlinewidth\": 0, \"ticks\": \"\"}}, \"type\": \"scatterpolar\"}], \"scatterpolargl\": [{\"marker\": {\"colorbar\": {\"outlinewidth\": 0, \"ticks\": \"\"}}, \"type\": \"scatterpolargl\"}], \"scatterternary\": [{\"marker\": {\"colorbar\": {\"outlinewidth\": 0, \"ticks\": \"\"}}, \"type\": \"scatterternary\"}], \"surface\": [{\"colorbar\": {\"outlinewidth\": 0, \"ticks\": \"\"}, \"colorscale\": [[0.0, \"#0d0887\"], [0.1111111111111111, \"#46039f\"], [0.2222222222222222, \"#7201a8\"], [0.3333333333333333, \"#9c179e\"], [0.4444444444444444, \"#bd3786\"], [0.5555555555555556, \"#d8576b\"], [0.6666666666666666, \"#ed7953\"], [0.7777777777777778, \"#fb9f3a\"], [0.8888888888888888, \"#fdca26\"], [1.0, \"#f0f921\"]], \"type\": \"surface\"}], \"table\": [{\"cells\": {\"fill\": {\"color\": \"#EBF0F8\"}, \"line\": {\"color\": \"white\"}}, \"header\": {\"fill\": {\"color\": \"#C8D4E3\"}, \"line\": {\"color\": \"white\"}}, \"type\": \"table\"}]}, \"layout\": {\"annotationdefaults\": {\"arrowcolor\": \"#2a3f5f\", \"arrowhead\": 0, \"arrowwidth\": 1}, \"autotypenumbers\": \"strict\", \"coloraxis\": {\"colorbar\": {\"outlinewidth\": 0, \"ticks\": \"\"}}, \"colorscale\": {\"diverging\": [[0, \"#8e0152\"], [0.1, \"#c51b7d\"], [0.2, \"#de77ae\"], [0.3, \"#f1b6da\"], [0.4, \"#fde0ef\"], [0.5, \"#f7f7f7\"], [0.6, \"#e6f5d0\"], [0.7, \"#b8e186\"], [0.8, \"#7fbc41\"], [0.9, \"#4d9221\"], [1, \"#276419\"]], \"sequential\": [[0.0, \"#0d0887\"], [0.1111111111111111, \"#46039f\"], [0.2222222222222222, \"#7201a8\"], [0.3333333333333333, \"#9c179e\"], [0.4444444444444444, \"#bd3786\"], [0.5555555555555556, \"#d8576b\"], [0.6666666666666666, \"#ed7953\"], [0.7777777777777778, \"#fb9f3a\"], [0.8888888888888888, \"#fdca26\"], [1.0, \"#f0f921\"]], \"sequentialminus\": [[0.0, \"#0d0887\"], [0.1111111111111111, \"#46039f\"], [0.2222222222222222, \"#7201a8\"], [0.3333333333333333, \"#9c179e\"], [0.4444444444444444, \"#bd3786\"], [0.5555555555555556, \"#d8576b\"], [0.6666666666666666, \"#ed7953\"], [0.7777777777777778, \"#fb9f3a\"], [0.8888888888888888, \"#fdca26\"], [1.0, \"#f0f921\"]]}, \"colorway\": [\"#636efa\", \"#EF553B\", \"#00cc96\", \"#ab63fa\", \"#FFA15A\", \"#19d3f3\", \"#FF6692\", \"#B6E880\", \"#FF97FF\", \"#FECB52\"], \"font\": {\"color\": \"#2a3f5f\"}, \"geo\": {\"bgcolor\": \"white\", \"lakecolor\": \"white\", \"landcolor\": \"#E5ECF6\", \"showlakes\": true, \"showland\": true, \"subunitcolor\": \"white\"}, \"hoverlabel\": {\"align\": \"left\"}, \"hovermode\": \"closest\", \"mapbox\": {\"style\": \"light\"}, \"paper_bgcolor\": \"white\", \"plot_bgcolor\": \"#E5ECF6\", \"polar\": {\"angularaxis\": {\"gridcolor\": \"white\", \"linecolor\": \"white\", \"ticks\": \"\"}, \"bgcolor\": \"#E5ECF6\", \"radialaxis\": {\"gridcolor\": \"white\", \"linecolor\": \"white\", \"ticks\": \"\"}}, \"scene\": {\"xaxis\": {\"backgroundcolor\": \"#E5ECF6\", \"gridcolor\": \"white\", \"gridwidth\": 2, \"linecolor\": \"white\", \"showbackground\": true, \"ticks\": \"\", \"zerolinecolor\": \"white\"}, \"yaxis\": {\"backgroundcolor\": \"#E5ECF6\", \"gridcolor\": \"white\", \"gridwidth\": 2, \"linecolor\": \"white\", \"showbackground\": true, \"ticks\": \"\", \"zerolinecolor\": \"white\"}, \"zaxis\": {\"backgroundcolor\": \"#E5ECF6\", \"gridcolor\": \"white\", \"gridwidth\": 2, \"linecolor\": \"white\", \"showbackground\": true, \"ticks\": \"\", \"zerolinecolor\": \"white\"}}, \"shapedefaults\": {\"line\": {\"color\": \"#2a3f5f\"}}, \"ternary\": {\"aaxis\": {\"gridcolor\": \"white\", \"linecolor\": \"white\", \"ticks\": \"\"}, \"baxis\": {\"gridcolor\": \"white\", \"linecolor\": \"white\", \"ticks\": \"\"}, \"bgcolor\": \"#E5ECF6\", \"caxis\": {\"gridcolor\": \"white\", \"linecolor\": \"white\", \"ticks\": \"\"}}, \"title\": {\"x\": 0.05}, \"xaxis\": {\"automargin\": true, \"gridcolor\": \"white\", \"linecolor\": \"white\", \"ticks\": \"\", \"title\": {\"standoff\": 15}, \"zerolinecolor\": \"white\", \"zerolinewidth\": 2}, \"yaxis\": {\"automargin\": true, \"gridcolor\": \"white\", \"linecolor\": \"white\", \"ticks\": \"\", \"title\": {\"standoff\": 15}, \"zerolinecolor\": \"white\", \"zerolinewidth\": 2}}}, \"title\": {\"text\": \"Win Rate (%) by Difference in Ranking\"}, \"xaxis\": {\"anchor\": \"y\", \"domain\": [0.0, 1.0], \"title\": {\"text\": \"Difference in Ranking\"}}, \"yaxis\": {\"anchor\": \"x\", \"domain\": [0.0, 1.0], \"title\": {\"text\": \"Win Rate (%)\"}}},                        {\"responsive\": true}                    ).then(function(){\n",
       "                            \n",
       "var gd = document.getElementById('41ae2ea4-9e07-4f0b-b837-0b413719893e');\n",
       "var x = new MutationObserver(function (mutations, observer) {{\n",
       "        var display = window.getComputedStyle(gd).display;\n",
       "        if (!display || display === 'none') {{\n",
       "            console.log([gd, 'removed!']);\n",
       "            Plotly.purge(gd);\n",
       "            observer.disconnect();\n",
       "        }}\n",
       "}});\n",
       "\n",
       "// Listen for the removal of the full notebook cells\n",
       "var notebookContainer = gd.closest('#notebook-container');\n",
       "if (notebookContainer) {{\n",
       "    x.observe(notebookContainer, {childList: true});\n",
       "}}\n",
       "\n",
       "// Listen for the clearing of the current output cell\n",
       "var outputEl = gd.closest('.output');\n",
       "if (outputEl) {{\n",
       "    x.observe(outputEl, {childList: true});\n",
       "}}\n",
       "\n",
       "                        })                };                });            </script>        </div>"
      ]
     },
     "metadata": {},
     "output_type": "display_data"
    }
   ],
   "source": [
    "plot_winrate_barplot(df_rank, var_x=\"rank_diff_cat\", label_x=\"Difference in Ranking\")"
   ]
  },
  {
   "cell_type": "code",
   "execution_count": 244,
   "metadata": {},
   "outputs": [
    {
     "name": "stderr",
     "output_type": "stream",
     "text": [
      "C:\\Users\\E0662122\\Anaconda3\\lib\\site-packages\\seaborn\\distributions.py:2551: FutureWarning:\n",
      "\n",
      "`distplot` is a deprecated function and will be removed in a future version. Please adapt your code to use either `displot` (a figure-level function with similar flexibility) or `histplot` (an axes-level function for histograms).\n",
      "\n"
     ]
    },
    {
     "data": {
      "text/plain": [
       "<AxesSubplot:xlabel='rank_diff', ylabel='Density'>"
      ]
     },
     "execution_count": 244,
     "metadata": {},
     "output_type": "execute_result"
    },
    {
     "data": {
      "image/png": "[encoded data removed]",
      "text/plain": [
       "<Figure size 432x288 with 1 Axes>"
      ]
     },
     "metadata": {
      "needs_background": "light"
     },
     "output_type": "display_data"
    }
   ],
   "source": [
    "sns.distplot(df_rank[\"rank_diff\"])"
   ]
  },
  {
   "cell_type": "code",
   "execution_count": 245,
   "metadata": {},
   "outputs": [
    {
     "data": {
      "text/plain": [
       "8. 30-50      0.139840\n",
       "2. m50-m30    0.137079\n",
       "7. 15-30      0.125759\n",
       "3. m30-m15    0.117891\n",
       "4. m15-0      0.105881\n",
       "6. 0-15       0.098150\n",
       "9. >50        0.097460\n",
       "1. <m50       0.090420\n",
       "5. 0          0.087521\n",
       "Name: rank_diff_cat, dtype: float64"
      ]
     },
     "execution_count": 245,
     "metadata": {},
     "output_type": "execute_result"
    }
   ],
   "source": [
    "df_rank[\"rank_diff_cat\"].value_counts(normalize=True)"
   ]
  },
  {
   "cell_type": "code",
   "execution_count": 246,
   "metadata": {},
   "outputs": [
    {
     "data": {
      "application/vnd.plotly.v1+json": {
       "config": {
        "plotlyServerURL": "https://plot.ly"
       },
       "data": [
        {
         "alignmentgroup": "True",
         "hovertemplate": "Match Result=Away<br>Difference in Ranking (Points)=%{x}<br>Win Rate (%)=%{y}<extra></extra>",
         "legendgroup": "Away",
         "marker": {
          "color": "#636efa"
         },
         "name": "Away",
         "offsetgroup": "Away",
         "orientation": "v",
         "showlegend": true,
         "textposition": "auto",
         "type": "bar",
         "x": [
          "1. <m50",
          "2. m50-m30",
          "3. m30-m15",
          "4. m15-0",
          "5. 0",
          "6. 0-15",
          "7. 15-30",
          "8. 30-50",
          "9. >50"
         ],
         "xaxis": "x",
         "y": [
          40.1840490797546,
          36.452004860267316,
          32.593340060544904,
          26.307189542483663,
          24.503311258278146,
          23.338607594936708,
          19.667318982387474,
          15.405405405405407,
          11.600000000000001
         ],
         "yaxis": "y"
        },
        {
         "alignmentgroup": "True",
         "hovertemplate": "Match Result=Draw<br>Difference in Ranking (Points)=%{x}<br>Win Rate (%)=%{y}<extra></extra>",
         "legendgroup": "Draw",
         "marker": {
          "color": "#EF553B"
         },
         "name": "Draw",
         "offsetgroup": "Draw",
         "orientation": "v",
         "showlegend": true,
         "textposition": "auto",
         "type": "bar",
         "x": [
          "1. <m50",
          "2. m50-m30",
          "3. m30-m15",
          "4. m15-0",
          "5. 0",
          "6. 0-15",
          "7. 15-30",
          "8. 30-50",
          "9. >50"
         ],
         "xaxis": "x",
         "y": [
          27.607361963190186,
          30.133657351154312,
          30.171543895055496,
          31.209150326797385,
          29.47019867549669,
          29.03481012658228,
          28.47358121330724,
          25.810810810810807,
          19.2
         ],
         "yaxis": "y"
        },
        {
         "alignmentgroup": "True",
         "hovertemplate": "Match Result=Home<br>Difference in Ranking (Points)=%{x}<br>Win Rate (%)=%{y}<extra></extra>",
         "legendgroup": "Home",
         "marker": {
          "color": "#00cc96"
         },
         "name": "Home",
         "offsetgroup": "Home",
         "orientation": "v",
         "showlegend": true,
         "textposition": "auto",
         "type": "bar",
         "x": [
          "1. <m50",
          "2. m50-m30",
          "3. m30-m15",
          "4. m15-0",
          "5. 0",
          "6. 0-15",
          "7. 15-30",
          "8. 30-50",
          "9. >50"
         ],
         "xaxis": "x",
         "y": [
          32.20858895705521,
          33.41433778857837,
          37.2351160443996,
          42.48366013071895,
          46.026490066225165,
          47.62658227848101,
          51.85909980430529,
          58.78378378378378,
          69.19999999999999
         ],
         "yaxis": "y"
        }
       ],
       "layout": {
        "barmode": "relative",
        "legend": {
         "title": {
          "text": "Match Result"
         },
         "tracegroupgap": 0
        },
        "template": {
         "data": {
          "bar": [
           {
            "error_x": {
             "color": "#2a3f5f"
            },
            "error_y": {
             "color": "#2a3f5f"
            },
            "marker": {
             "line": {
              "color": "#E5ECF6",
              "width": 0.5
             }
            },
            "type": "bar"
           }
          ],
          "barpolar": [
           {
            "marker": {
             "line": {
              "color": "#E5ECF6",
              "width": 0.5
             }
            },
            "type": "barpolar"
           }
          ],
          "carpet": [
           {
            "aaxis": {
             "endlinecolor": "#2a3f5f",
             "gridcolor": "white",
             "linecolor": "white",
             "minorgridcolor": "white",
             "startlinecolor": "#2a3f5f"
            },
            "baxis": {
             "endlinecolor": "#2a3f5f",
             "gridcolor": "white",
             "linecolor": "white",
             "minorgridcolor": "white",
             "startlinecolor": "#2a3f5f"
            },
            "type": "carpet"
           }
          ],
          "choropleth": [
           {
            "colorbar": {
             "outlinewidth": 0,
             "ticks": ""
            },
            "type": "choropleth"
           }
          ],
          "contour": [
           {
            "colorbar": {
             "outlinewidth": 0,
             "ticks": ""
            },
            "colorscale": [
             [
              0,
              "#0d0887"
             ],
             [
              0.1111111111111111,
              "#46039f"
             ],
             [
              0.2222222222222222,
              "#7201a8"
             ],
             [
              0.3333333333333333,
              "#9c179e"
             ],
             [
              0.4444444444444444,
              "#bd3786"
             ],
             [
              0.5555555555555556,
              "#d8576b"
             ],
             [
              0.6666666666666666,
              "#ed7953"
             ],
             [
              0.7777777777777778,
              "#fb9f3a"
             ],
             [
              0.8888888888888888,
              "#fdca26"
             ],
             [
              1,
              "#f0f921"
             ]
            ],
            "type": "contour"
           }
          ],
          "contourcarpet": [
           {
            "colorbar": {
             "outlinewidth": 0,
             "ticks": ""
            },
            "type": "contourcarpet"
           }
          ],
          "heatmap": [
           {
            "colorbar": {
             "outlinewidth": 0,
             "ticks": ""
            },
            "colorscale": [
             [
              0,
              "#0d0887"
             ],
             [
              0.1111111111111111,
              "#46039f"
             ],
             [
              0.2222222222222222,
              "#7201a8"
             ],
             [
              0.3333333333333333,
              "#9c179e"
             ],
             [
              0.4444444444444444,
              "#bd3786"
             ],
             [
              0.5555555555555556,
              "#d8576b"
             ],
             [
              0.6666666666666666,
              "#ed7953"
             ],
             [
              0.7777777777777778,
              "#fb9f3a"
             ],
             [
              0.8888888888888888,
              "#fdca26"
             ],
             [
              1,
              "#f0f921"
             ]
            ],
            "type": "heatmap"
           }
          ],
          "heatmapgl": [
           {
            "colorbar": {
             "outlinewidth": 0,
             "ticks": ""
            },
            "colorscale": [
             [
              0,
              "#0d0887"
             ],
             [
              0.1111111111111111,
              "#46039f"
             ],
             [
              0.2222222222222222,
              "#7201a8"
             ],
             [
              0.3333333333333333,
              "#9c179e"
             ],
             [
              0.4444444444444444,
              "#bd3786"
             ],
             [
              0.5555555555555556,
              "#d8576b"
             ],
             [
              0.6666666666666666,
              "#ed7953"
             ],
             [
              0.7777777777777778,
              "#fb9f3a"
             ],
             [
              0.8888888888888888,
              "#fdca26"
             ],
             [
              1,
              "#f0f921"
             ]
            ],
            "type": "heatmapgl"
           }
          ],
          "histogram": [
           {
            "marker": {
             "colorbar": {
              "outlinewidth": 0,
              "ticks": ""
             }
            },
            "type": "histogram"
           }
          ],
          "histogram2d": [
           {
            "colorbar": {
             "outlinewidth": 0,
             "ticks": ""
            },
            "colorscale": [
             [
              0,
              "#0d0887"
             ],
             [
              0.1111111111111111,
              "#46039f"
             ],
             [
              0.2222222222222222,
              "#7201a8"
             ],
             [
              0.3333333333333333,
              "#9c179e"
             ],
             [
              0.4444444444444444,
              "#bd3786"
             ],
             [
              0.5555555555555556,
              "#d8576b"
             ],
             [
              0.6666666666666666,
              "#ed7953"
             ],
             [
              0.7777777777777778,
              "#fb9f3a"
             ],
             [
              0.8888888888888888,
              "#fdca26"
             ],
             [
              1,
              "#f0f921"
             ]
            ],
            "type": "histogram2d"
           }
          ],
          "histogram2dcontour": [
           {
            "colorbar": {
             "outlinewidth": 0,
             "ticks": ""
            },
            "colorscale": [
             [
              0,
              "#0d0887"
             ],
             [
              0.1111111111111111,
              "#46039f"
             ],
             [
              0.2222222222222222,
              "#7201a8"
             ],
             [
              0.3333333333333333,
              "#9c179e"
             ],
             [
              0.4444444444444444,
              "#bd3786"
             ],
             [
              0.5555555555555556,
              "#d8576b"
             ],
             [
              0.6666666666666666,
              "#ed7953"
             ],
             [
              0.7777777777777778,
              "#fb9f3a"
             ],
             [
              0.8888888888888888,
              "#fdca26"
             ],
             [
              1,
              "#f0f921"
             ]
            ],
            "type": "histogram2dcontour"
           }
          ],
          "mesh3d": [
           {
            "colorbar": {
             "outlinewidth": 0,
             "ticks": ""
            },
            "type": "mesh3d"
           }
          ],
          "parcoords": [
           {
            "line": {
             "colorbar": {
              "outlinewidth": 0,
              "ticks": ""
             }
            },
            "type": "parcoords"
           }
          ],
          "pie": [
           {
            "automargin": true,
            "type": "pie"
           }
          ],
          "scatter": [
           {
            "marker": {
             "colorbar": {
              "outlinewidth": 0,
              "ticks": ""
             }
            },
            "type": "scatter"
           }
          ],
          "scatter3d": [
           {
            "line": {
             "colorbar": {
              "outlinewidth": 0,
              "ticks": ""
             }
            },
            "marker": {
             "colorbar": {
              "outlinewidth": 0,
              "ticks": ""
             }
            },
            "type": "scatter3d"
           }
          ],
          "scattercarpet": [
           {
            "marker": {
             "colorbar": {
              "outlinewidth": 0,
              "ticks": ""
             }
            },
            "type": "scattercarpet"
           }
          ],
          "scattergeo": [
           {
            "marker": {
             "colorbar": {
              "outlinewidth": 0,
              "ticks": ""
             }
            },
            "type": "scattergeo"
           }
          ],
          "scattergl": [
           {
            "marker": {
             "colorbar": {
              "outlinewidth": 0,
              "ticks": ""
             }
            },
            "type": "scattergl"
           }
          ],
          "scattermapbox": [
           {
            "marker": {
             "colorbar": {
              "outlinewidth": 0,
              "ticks": ""
             }
            },
            "type": "scattermapbox"
           }
          ],
          "scatterpolar": [
           {
            "marker": {
             "colorbar": {
              "outlinewidth": 0,
              "ticks": ""
             }
            },
            "type": "scatterpolar"
           }
          ],
          "scatterpolargl": [
           {
            "marker": {
             "colorbar": {
              "outlinewidth": 0,
              "ticks": ""
             }
            },
            "type": "scatterpolargl"
           }
          ],
          "scatterternary": [
           {
            "marker": {
             "colorbar": {
              "outlinewidth": 0,
              "ticks": ""
             }
            },
            "type": "scatterternary"
           }
          ],
          "surface": [
           {
            "colorbar": {
             "outlinewidth": 0,
             "ticks": ""
            },
            "colorscale": [
             [
              0,
              "#0d0887"
             ],
             [
              0.1111111111111111,
              "#46039f"
             ],
             [
              0.2222222222222222,
              "#7201a8"
             ],
             [
              0.3333333333333333,
              "#9c179e"
             ],
             [
              0.4444444444444444,
              "#bd3786"
             ],
             [
              0.5555555555555556,
              "#d8576b"
             ],
             [
              0.6666666666666666,
              "#ed7953"
             ],
             [
              0.7777777777777778,
              "#fb9f3a"
             ],
             [
              0.8888888888888888,
              "#fdca26"
             ],
             [
              1,
              "#f0f921"
             ]
            ],
            "type": "surface"
           }
          ],
          "table": [
           {
            "cells": {
             "fill": {
              "color": "#EBF0F8"
             },
             "line": {
              "color": "white"
             }
            },
            "header": {
             "fill": {
              "color": "#C8D4E3"
             },
             "line": {
              "color": "white"
             }
            },
            "type": "table"
           }
          ]
         },
         "layout": {
          "annotationdefaults": {
           "arrowcolor": "#2a3f5f",
           "arrowhead": 0,
           "arrowwidth": 1
          },
          "autotypenumbers": "strict",
          "coloraxis": {
           "colorbar": {
            "outlinewidth": 0,
            "ticks": ""
           }
          },
          "colorscale": {
           "diverging": [
            [
             0,
             "#8e0152"
            ],
            [
             0.1,
             "#c51b7d"
            ],
            [
             0.2,
             "#de77ae"
            ],
            [
             0.3,
             "#f1b6da"
            ],
            [
             0.4,
             "#fde0ef"
            ],
            [
             0.5,
             "#f7f7f7"
            ],
            [
             0.6,
             "#e6f5d0"
            ],
            [
             0.7,
             "#b8e186"
            ],
            [
             0.8,
             "#7fbc41"
            ],
            [
             0.9,
             "#4d9221"
            ],
            [
             1,
             "#276419"
            ]
           ],
           "sequential": [
            [
             0,
             "#0d0887"
            ],
            [
             0.1111111111111111,
             "#46039f"
            ],
            [
             0.2222222222222222,
             "#7201a8"
            ],
            [
             0.3333333333333333,
             "#9c179e"
            ],
            [
             0.4444444444444444,
             "#bd3786"
            ],
            [
             0.5555555555555556,
             "#d8576b"
            ],
            [
             0.6666666666666666,
             "#ed7953"
            ],
            [
             0.7777777777777778,
             "#fb9f3a"
            ],
            [
             0.8888888888888888,
             "#fdca26"
            ],
            [
             1,
             "#f0f921"
            ]
           ],
           "sequentialminus": [
            [
             0,
             "#0d0887"
            ],
            [
             0.1111111111111111,
             "#46039f"
            ],
            [
             0.2222222222222222,
             "#7201a8"
            ],
            [
             0.3333333333333333,
             "#9c179e"
            ],
            [
             0.4444444444444444,
             "#bd3786"
            ],
            [
             0.5555555555555556,
             "#d8576b"
            ],
            [
             0.6666666666666666,
             "#ed7953"
            ],
            [
             0.7777777777777778,
             "#fb9f3a"
            ],
            [
             0.8888888888888888,
             "#fdca26"
            ],
            [
             1,
             "#f0f921"
            ]
           ]
          },
          "colorway": [
           "#636efa",
           "#EF553B",
           "#00cc96",
           "#ab63fa",
           "#FFA15A",
           "#19d3f3",
           "#FF6692",
           "#B6E880",
           "#FF97FF",
           "#FECB52"
          ],
          "font": {
           "color": "#2a3f5f"
          },
          "geo": {
           "bgcolor": "white",
           "lakecolor": "white",
           "landcolor": "#E5ECF6",
           "showlakes": true,
           "showland": true,
           "subunitcolor": "white"
          },
          "hoverlabel": {
           "align": "left"
          },
          "hovermode": "closest",
          "mapbox": {
           "style": "light"
          },
          "paper_bgcolor": "white",
          "plot_bgcolor": "#E5ECF6",
          "polar": {
           "angularaxis": {
            "gridcolor": "white",
            "linecolor": "white",
            "ticks": ""
           },
           "bgcolor": "#E5ECF6",
           "radialaxis": {
            "gridcolor": "white",
            "linecolor": "white",
            "ticks": ""
           }
          },
          "scene": {
           "xaxis": {
            "backgroundcolor": "#E5ECF6",
            "gridcolor": "white",
            "gridwidth": 2,
            "linecolor": "white",
            "showbackground": true,
            "ticks": "",
            "zerolinecolor": "white"
           },
           "yaxis": {
            "backgroundcolor": "#E5ECF6",
            "gridcolor": "white",
            "gridwidth": 2,
            "linecolor": "white",
            "showbackground": true,
            "ticks": "",
            "zerolinecolor": "white"
           },
           "zaxis": {
            "backgroundcolor": "#E5ECF6",
            "gridcolor": "white",
            "gridwidth": 2,
            "linecolor": "white",
            "showbackground": true,
            "ticks": "",
            "zerolinecolor": "white"
           }
          },
          "shapedefaults": {
           "line": {
            "color": "#2a3f5f"
           }
          },
          "ternary": {
           "aaxis": {
            "gridcolor": "white",
            "linecolor": "white",
            "ticks": ""
           },
           "baxis": {
            "gridcolor": "white",
            "linecolor": "white",
            "ticks": ""
           },
           "bgcolor": "#E5ECF6",
           "caxis": {
            "gridcolor": "white",
            "linecolor": "white",
            "ticks": ""
           }
          },
          "title": {
           "x": 0.05
          },
          "xaxis": {
           "automargin": true,
           "gridcolor": "white",
           "linecolor": "white",
           "ticks": "",
           "title": {
            "standoff": 15
           },
           "zerolinecolor": "white",
           "zerolinewidth": 2
          },
          "yaxis": {
           "automargin": true,
           "gridcolor": "white",
           "linecolor": "white",
           "ticks": "",
           "title": {
            "standoff": 15
           },
           "zerolinecolor": "white",
           "zerolinewidth": 2
          }
         }
        },
        "title": {
         "text": "Win Rate (%) by Difference in Ranking (Points)"
        },
        "xaxis": {
         "anchor": "y",
         "domain": [
          0,
          1
         ],
         "title": {
          "text": "Difference in Ranking (Points)"
         }
        },
        "yaxis": {
         "anchor": "x",
         "domain": [
          0,
          1
         ],
         "title": {
          "text": "Win Rate (%)"
         }
        }
       }
      },
      "text/html": [
       "<div>                            <div id=\"3e7316c4-8681-4322-8acb-ebf37b34af15\" class=\"plotly-graph-div\" style=\"height:525px; width:100%;\"></div>            <script type=\"text/javascript\">                require([\"plotly\"], function(Plotly) {                    window.PLOTLYENV=window.PLOTLYENV || {};                                    if (document.getElementById(\"3e7316c4-8681-4322-8acb-ebf37b34af15\")) {                    Plotly.newPlot(                        \"3e7316c4-8681-4322-8acb-ebf37b34af15\",                        [{\"alignmentgroup\": \"True\", \"hovertemplate\": \"Match Result=Away<br>Difference in Ranking (Points)=%{x}<br>Win Rate (%)=%{y}<extra></extra>\", \"legendgroup\": \"Away\", \"marker\": {\"color\": \"#636efa\"}, \"name\": \"Away\", \"offsetgroup\": \"Away\", \"orientation\": \"v\", \"showlegend\": true, \"textposition\": \"auto\", \"type\": \"bar\", \"x\": [\"1. <m50\", \"2. m50-m30\", \"3. m30-m15\", \"4. m15-0\", \"5. 0\", \"6. 0-15\", \"7. 15-30\", \"8. 30-50\", \"9. >50\"], \"xaxis\": \"x\", \"y\": [40.1840490797546, 36.452004860267316, 32.593340060544904, 26.307189542483663, 24.503311258278146, 23.338607594936708, 19.667318982387474, 15.405405405405407, 11.600000000000001], \"yaxis\": \"y\"}, {\"alignmentgroup\": \"True\", \"hovertemplate\": \"Match Result=Draw<br>Difference in Ranking (Points)=%{x}<br>Win Rate (%)=%{y}<extra></extra>\", \"legendgroup\": \"Draw\", \"marker\": {\"color\": \"#EF553B\"}, \"name\": \"Draw\", \"offsetgroup\": \"Draw\", \"orientation\": \"v\", \"showlegend\": true, \"textposition\": \"auto\", \"type\": \"bar\", \"x\": [\"1. <m50\", \"2. m50-m30\", \"3. m30-m15\", \"4. m15-0\", \"5. 0\", \"6. 0-15\", \"7. 15-30\", \"8. 30-50\", \"9. >50\"], \"xaxis\": \"x\", \"y\": [27.607361963190186, 30.133657351154312, 30.171543895055496, 31.209150326797385, 29.47019867549669, 29.03481012658228, 28.47358121330724, 25.810810810810807, 19.2], \"yaxis\": \"y\"}, {\"alignmentgroup\": \"True\", \"hovertemplate\": \"Match Result=Home<br>Difference in Ranking (Points)=%{x}<br>Win Rate (%)=%{y}<extra></extra>\", \"legendgroup\": \"Home\", \"marker\": {\"color\": \"#00cc96\"}, \"name\": \"Home\", \"offsetgroup\": \"Home\", \"orientation\": \"v\", \"showlegend\": true, \"textposition\": \"auto\", \"type\": \"bar\", \"x\": [\"1. <m50\", \"2. m50-m30\", \"3. m30-m15\", \"4. m15-0\", \"5. 0\", \"6. 0-15\", \"7. 15-30\", \"8. 30-50\", \"9. >50\"], \"xaxis\": \"x\", \"y\": [32.20858895705521, 33.41433778857837, 37.2351160443996, 42.48366013071895, 46.026490066225165, 47.62658227848101, 51.85909980430529, 58.78378378378378, 69.19999999999999], \"yaxis\": \"y\"}],                        {\"barmode\": \"relative\", \"legend\": {\"title\": {\"text\": \"Match Result\"}, \"tracegroupgap\": 0}, \"template\": {\"data\": {\"bar\": [{\"error_x\": {\"color\": \"#2a3f5f\"}, \"error_y\": {\"color\": \"#2a3f5f\"}, \"marker\": {\"line\": {\"color\": \"#E5ECF6\", \"width\": 0.5}}, \"type\": \"bar\"}], \"barpolar\": [{\"marker\": {\"line\": {\"color\": \"#E5ECF6\", \"width\": 0.5}}, \"type\": \"barpolar\"}], \"carpet\": [{\"aaxis\": {\"endlinecolor\": \"#2a3f5f\", \"gridcolor\": \"white\", \"linecolor\": \"white\", \"minorgridcolor\": \"white\", \"startlinecolor\": \"#2a3f5f\"}, \"baxis\": {\"endlinecolor\": \"#2a3f5f\", \"gridcolor\": \"white\", \"linecolor\": \"white\", \"minorgridcolor\": \"white\", \"startlinecolor\": \"#2a3f5f\"}, \"type\": \"carpet\"}], \"choropleth\": [{\"colorbar\": {\"outlinewidth\": 0, \"ticks\": \"\"}, \"type\": \"choropleth\"}], \"contour\": [{\"colorbar\": {\"outlinewidth\": 0, \"ticks\": \"\"}, \"colorscale\": [[0.0, \"#0d0887\"], [0.1111111111111111, \"#46039f\"], [0.2222222222222222, \"#7201a8\"], [0.3333333333333333, \"#9c179e\"], [0.4444444444444444, \"#bd3786\"], [0.5555555555555556, \"#d8576b\"], [0.6666666666666666, \"#ed7953\"], [0.7777777777777778, \"#fb9f3a\"], [0.8888888888888888, \"#fdca26\"], [1.0, \"#f0f921\"]], \"type\": \"contour\"}], \"contourcarpet\": [{\"colorbar\": {\"outlinewidth\": 0, \"ticks\": \"\"}, \"type\": \"contourcarpet\"}], \"heatmap\": [{\"colorbar\": {\"outlinewidth\": 0, \"ticks\": \"\"}, \"colorscale\": [[0.0, \"#0d0887\"], [0.1111111111111111, \"#46039f\"], [0.2222222222222222, \"#7201a8\"], [0.3333333333333333, \"#9c179e\"], [0.4444444444444444, \"#bd3786\"], [0.5555555555555556, \"#d8576b\"], [0.6666666666666666, \"#ed7953\"], [0.7777777777777778, \"#fb9f3a\"], [0.8888888888888888, \"#fdca26\"], [1.0, \"#f0f921\"]], \"type\": \"heatmap\"}], \"heatmapgl\": [{\"colorbar\": {\"outlinewidth\": 0, \"ticks\": \"\"}, \"colorscale\": [[0.0, \"#0d0887\"], [0.1111111111111111, \"#46039f\"], [0.2222222222222222, \"#7201a8\"], [0.3333333333333333, \"#9c179e\"], [0.4444444444444444, \"#bd3786\"], [0.5555555555555556, \"#d8576b\"], [0.6666666666666666, \"#ed7953\"], [0.7777777777777778, \"#fb9f3a\"], [0.8888888888888888, \"#fdca26\"], [1.0, \"#f0f921\"]], \"type\": \"heatmapgl\"}], \"histogram\": [{\"marker\": {\"colorbar\": {\"outlinewidth\": 0, \"ticks\": \"\"}}, \"type\": \"histogram\"}], \"histogram2d\": [{\"colorbar\": {\"outlinewidth\": 0, \"ticks\": \"\"}, \"colorscale\": [[0.0, \"#0d0887\"], [0.1111111111111111, \"#46039f\"], [0.2222222222222222, \"#7201a8\"], [0.3333333333333333, \"#9c179e\"], [0.4444444444444444, \"#bd3786\"], [0.5555555555555556, \"#d8576b\"], [0.6666666666666666, \"#ed7953\"], [0.7777777777777778, \"#fb9f3a\"], [0.8888888888888888, \"#fdca26\"], [1.0, \"#f0f921\"]], \"type\": \"histogram2d\"}], \"histogram2dcontour\": [{\"colorbar\": {\"outlinewidth\": 0, \"ticks\": \"\"}, \"colorscale\": [[0.0, \"#0d0887\"], [0.1111111111111111, \"#46039f\"], [0.2222222222222222, \"#7201a8\"], [0.3333333333333333, \"#9c179e\"], [0.4444444444444444, \"#bd3786\"], [0.5555555555555556, \"#d8576b\"], [0.6666666666666666, \"#ed7953\"], [0.7777777777777778, \"#fb9f3a\"], [0.8888888888888888, \"#fdca26\"], [1.0, \"#f0f921\"]], \"type\": \"histogram2dcontour\"}], \"mesh3d\": [{\"colorbar\": {\"outlinewidth\": 0, \"ticks\": \"\"}, \"type\": \"mesh3d\"}], \"parcoords\": [{\"line\": {\"colorbar\": {\"outlinewidth\": 0, \"ticks\": \"\"}}, \"type\": \"parcoords\"}], \"pie\": [{\"automargin\": true, \"type\": \"pie\"}], \"scatter\": [{\"marker\": {\"colorbar\": {\"outlinewidth\": 0, \"ticks\": \"\"}}, \"type\": \"scatter\"}], \"scatter3d\": [{\"line\": {\"colorbar\": {\"outlinewidth\": 0, \"ticks\": \"\"}}, \"marker\": {\"colorbar\": {\"outlinewidth\": 0, \"ticks\": \"\"}}, \"type\": \"scatter3d\"}], \"scattercarpet\": [{\"marker\": {\"colorbar\": {\"outlinewidth\": 0, \"ticks\": \"\"}}, \"type\": \"scattercarpet\"}], \"scattergeo\": [{\"marker\": {\"colorbar\": {\"outlinewidth\": 0, \"ticks\": \"\"}}, \"type\": \"scattergeo\"}], \"scattergl\": [{\"marker\": {\"colorbar\": {\"outlinewidth\": 0, \"ticks\": \"\"}}, \"type\": \"scattergl\"}], \"scattermapbox\": [{\"marker\": {\"colorbar\": {\"outlinewidth\": 0, \"ticks\": \"\"}}, \"type\": \"scattermapbox\"}], \"scatterpolar\": [{\"marker\": {\"colorbar\": {\"outlinewidth\": 0, \"ticks\": \"\"}}, \"type\": \"scatterpolar\"}], \"scatterpolargl\": [{\"marker\": {\"colorbar\": {\"outlinewidth\": 0, \"ticks\": \"\"}}, \"type\": \"scatterpolargl\"}], \"scatterternary\": [{\"marker\": {\"colorbar\": {\"outlinewidth\": 0, \"ticks\": \"\"}}, \"type\": \"scatterternary\"}], \"surface\": [{\"colorbar\": {\"outlinewidth\": 0, \"ticks\": \"\"}, \"colorscale\": [[0.0, \"#0d0887\"], [0.1111111111111111, \"#46039f\"], [0.2222222222222222, \"#7201a8\"], [0.3333333333333333, \"#9c179e\"], [0.4444444444444444, \"#bd3786\"], [0.5555555555555556, \"#d8576b\"], [0.6666666666666666, \"#ed7953\"], [0.7777777777777778, \"#fb9f3a\"], [0.8888888888888888, \"#fdca26\"], [1.0, \"#f0f921\"]], \"type\": \"surface\"}], \"table\": [{\"cells\": {\"fill\": {\"color\": \"#EBF0F8\"}, \"line\": {\"color\": \"white\"}}, \"header\": {\"fill\": {\"color\": \"#C8D4E3\"}, \"line\": {\"color\": \"white\"}}, \"type\": \"table\"}]}, \"layout\": {\"annotationdefaults\": {\"arrowcolor\": \"#2a3f5f\", \"arrowhead\": 0, \"arrowwidth\": 1}, \"autotypenumbers\": \"strict\", \"coloraxis\": {\"colorbar\": {\"outlinewidth\": 0, \"ticks\": \"\"}}, \"colorscale\": {\"diverging\": [[0, \"#8e0152\"], [0.1, \"#c51b7d\"], [0.2, \"#de77ae\"], [0.3, \"#f1b6da\"], [0.4, \"#fde0ef\"], [0.5, \"#f7f7f7\"], [0.6, \"#e6f5d0\"], [0.7, \"#b8e186\"], [0.8, \"#7fbc41\"], [0.9, \"#4d9221\"], [1, \"#276419\"]], \"sequential\": [[0.0, \"#0d0887\"], [0.1111111111111111, \"#46039f\"], [0.2222222222222222, \"#7201a8\"], [0.3333333333333333, \"#9c179e\"], [0.4444444444444444, \"#bd3786\"], [0.5555555555555556, \"#d8576b\"], [0.6666666666666666, \"#ed7953\"], [0.7777777777777778, \"#fb9f3a\"], [0.8888888888888888, \"#fdca26\"], [1.0, \"#f0f921\"]], \"sequentialminus\": [[0.0, \"#0d0887\"], [0.1111111111111111, \"#46039f\"], [0.2222222222222222, \"#7201a8\"], [0.3333333333333333, \"#9c179e\"], [0.4444444444444444, \"#bd3786\"], [0.5555555555555556, \"#d8576b\"], [0.6666666666666666, \"#ed7953\"], [0.7777777777777778, \"#fb9f3a\"], [0.8888888888888888, \"#fdca26\"], [1.0, \"#f0f921\"]]}, \"colorway\": [\"#636efa\", \"#EF553B\", \"#00cc96\", \"#ab63fa\", \"#FFA15A\", \"#19d3f3\", \"#FF6692\", \"#B6E880\", \"#FF97FF\", \"#FECB52\"], \"font\": {\"color\": \"#2a3f5f\"}, \"geo\": {\"bgcolor\": \"white\", \"lakecolor\": \"white\", \"landcolor\": \"#E5ECF6\", \"showlakes\": true, \"showland\": true, \"subunitcolor\": \"white\"}, \"hoverlabel\": {\"align\": \"left\"}, \"hovermode\": \"closest\", \"mapbox\": {\"style\": \"light\"}, \"paper_bgcolor\": \"white\", \"plot_bgcolor\": \"#E5ECF6\", \"polar\": {\"angularaxis\": {\"gridcolor\": \"white\", \"linecolor\": \"white\", \"ticks\": \"\"}, \"bgcolor\": \"#E5ECF6\", \"radialaxis\": {\"gridcolor\": \"white\", \"linecolor\": \"white\", \"ticks\": \"\"}}, \"scene\": {\"xaxis\": {\"backgroundcolor\": \"#E5ECF6\", \"gridcolor\": \"white\", \"gridwidth\": 2, \"linecolor\": \"white\", \"showbackground\": true, \"ticks\": \"\", \"zerolinecolor\": \"white\"}, \"yaxis\": {\"backgroundcolor\": \"#E5ECF6\", \"gridcolor\": \"white\", \"gridwidth\": 2, \"linecolor\": \"white\", \"showbackground\": true, \"ticks\": \"\", \"zerolinecolor\": \"white\"}, \"zaxis\": {\"backgroundcolor\": \"#E5ECF6\", \"gridcolor\": \"white\", \"gridwidth\": 2, \"linecolor\": \"white\", \"showbackground\": true, \"ticks\": \"\", \"zerolinecolor\": \"white\"}}, \"shapedefaults\": {\"line\": {\"color\": \"#2a3f5f\"}}, \"ternary\": {\"aaxis\": {\"gridcolor\": \"white\", \"linecolor\": \"white\", \"ticks\": \"\"}, \"baxis\": {\"gridcolor\": \"white\", \"linecolor\": \"white\", \"ticks\": \"\"}, \"bgcolor\": \"#E5ECF6\", \"caxis\": {\"gridcolor\": \"white\", \"linecolor\": \"white\", \"ticks\": \"\"}}, \"title\": {\"x\": 0.05}, \"xaxis\": {\"automargin\": true, \"gridcolor\": \"white\", \"linecolor\": \"white\", \"ticks\": \"\", \"title\": {\"standoff\": 15}, \"zerolinecolor\": \"white\", \"zerolinewidth\": 2}, \"yaxis\": {\"automargin\": true, \"gridcolor\": \"white\", \"linecolor\": \"white\", \"ticks\": \"\", \"title\": {\"standoff\": 15}, \"zerolinecolor\": \"white\", \"zerolinewidth\": 2}}}, \"title\": {\"text\": \"Win Rate (%) by Difference in Ranking (Points)\"}, \"xaxis\": {\"anchor\": \"y\", \"domain\": [0.0, 1.0], \"title\": {\"text\": \"Difference in Ranking (Points)\"}}, \"yaxis\": {\"anchor\": \"x\", \"domain\": [0.0, 1.0], \"title\": {\"text\": \"Win Rate (%)\"}}},                        {\"responsive\": true}                    ).then(function(){\n",
       "                            \n",
       "var gd = document.getElementById('3e7316c4-8681-4322-8acb-ebf37b34af15');\n",
       "var x = new MutationObserver(function (mutations, observer) {{\n",
       "        var display = window.getComputedStyle(gd).display;\n",
       "        if (!display || display === 'none') {{\n",
       "            console.log([gd, 'removed!']);\n",
       "            Plotly.purge(gd);\n",
       "            observer.disconnect();\n",
       "        }}\n",
       "}});\n",
       "\n",
       "// Listen for the removal of the full notebook cells\n",
       "var notebookContainer = gd.closest('#notebook-container');\n",
       "if (notebookContainer) {{\n",
       "    x.observe(notebookContainer, {childList: true});\n",
       "}}\n",
       "\n",
       "// Listen for the clearing of the current output cell\n",
       "var outputEl = gd.closest('.output');\n",
       "if (outputEl) {{\n",
       "    x.observe(outputEl, {childList: true});\n",
       "}}\n",
       "\n",
       "                        })                };                });            </script>        </div>"
      ]
     },
     "metadata": {},
     "output_type": "display_data"
    }
   ],
   "source": [
    "plot_winrate_barplot(df_rank, var_x=\"rank_points_diff_cat\", label_x=\"Difference in Ranking (Points)\")"
   ]
  },
  {
   "cell_type": "code",
   "execution_count": 248,
   "metadata": {},
   "outputs": [
    {
     "name": "stderr",
     "output_type": "stream",
     "text": [
      "C:\\Users\\E0662122\\Anaconda3\\lib\\site-packages\\seaborn\\distributions.py:2551: FutureWarning:\n",
      "\n",
      "`distplot` is a deprecated function and will be removed in a future version. Please adapt your code to use either `displot` (a figure-level function with similar flexibility) or `histplot` (an axes-level function for histograms).\n",
      "\n"
     ]
    },
    {
     "data": {
      "text/plain": [
       "<AxesSubplot:xlabel='rank_points_diff', ylabel='Density'>"
      ]
     },
     "execution_count": 248,
     "metadata": {},
     "output_type": "execute_result"
    },
    {
     "data": {
      "image/png": "[encoded data removed]",
      "text/plain": [
       "<Figure size 432x288 with 1 Axes>"
      ]
     },
     "metadata": {
      "needs_background": "light"
     },
     "output_type": "display_data"
    }
   ],
   "source": [
    "sns.distplot(df_rank[\"rank_points_diff\"])"
   ]
  },
  {
   "cell_type": "code",
   "execution_count": 247,
   "metadata": {},
   "outputs": [
    {
     "data": {
      "text/plain": [
       "6. 0-15       0.174489\n",
       "4. m15-0      0.168967\n",
       "7. 15-30      0.141082\n",
       "3. m30-m15    0.136803\n",
       "2. m50-m30    0.113611\n",
       "8. 30-50      0.102154\n",
       "5. 0          0.083379\n",
       "1. <m50       0.045003\n",
       "9. >50        0.034511\n",
       "Name: rank_points_diff_cat, dtype: float64"
      ]
     },
     "execution_count": 247,
     "metadata": {},
     "output_type": "execute_result"
    }
   ],
   "source": [
    "df_rank[\"rank_points_diff_cat\"].value_counts(normalize=True)"
   ]
  },
  {
   "cell_type": "code",
   "execution_count": null,
   "metadata": {},
   "outputs": [],
   "source": []
  }
 ],
 "metadata": {
  "kernelspec": {
   "display_name": "Python 3",
   "language": "python",
   "name": "python3"
  },
  "language_info": {
   "codemirror_mode": {
    "name": "ipython",
    "version": 3
   },
   "file_extension": ".py",
   "mimetype": "text/x-python",
   "name": "python",
   "nbconvert_exporter": "python",
   "pygments_lexer": "ipython3",
   "version": "3.8.5"
  },
  "toc": {
   "base_numbering": 1,
   "nav_menu": {},
   "number_sections": true,
   "sideBar": true,
   "skip_h1_title": false,
   "title_cell": "Table of Contents",
   "title_sidebar": "Contents",
   "toc_cell": false,
   "toc_position": {
    "height": "calc(100% - 180px)",
    "left": "10px",
    "top": "150px",
    "width": "384px"
   },
   "toc_section_display": true,
   "toc_window_display": true
  },
  "varInspector": {
   "cols": {
    "lenName": 16,
    "lenType": 16,
    "lenVar": 40
   },
   "kernels_config": {
    "python": {
     "delete_cmd_postfix": "",
     "delete_cmd_prefix": "del ",
     "library": "var_list.py",
     "varRefreshCmd": "print(var_dic_list())"
    },
    "r": {
     "delete_cmd_postfix": ") ",
     "delete_cmd_prefix": "rm(",
     "library": "var_list.r",
     "varRefreshCmd": "cat(var_dic_list()) "
    }
   },
   "types_to_exclude": [
    "module",
    "function",
    "builtin_function_or_method",
    "instance",
    "_Feature"
   ],
   "window_display": false
  }
 },
 "nbformat": 4,
 "nbformat_minor": 4
}
